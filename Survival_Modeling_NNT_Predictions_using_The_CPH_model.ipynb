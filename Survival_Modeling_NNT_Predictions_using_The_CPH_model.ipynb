{
  "nbformat": 4,
  "nbformat_minor": 0,
  "metadata": {
    "colab": {
      "name": "Survival Modeling- NNT-Predictions using The CPH model.ipynb",
      "provenance": [],
      "authorship_tag": "ABX9TyPs+KLtl17OeOuhwcynCtvY",
      "include_colab_link": true
    },
    "kernelspec": {
      "name": "python3",
      "display_name": "Python 3"
    }
  },
  "cells": [
    {
      "cell_type": "markdown",
      "metadata": {
        "id": "view-in-github",
        "colab_type": "text"
      },
      "source": [
        "<a href=\"https://colab.research.google.com/github/martinpius/Applied-Predictive-Modeling2/blob/master/Survival_Modeling_NNT_Predictions_using_The_CPH_model.ipynb\" target=\"_parent\"><img src=\"https://colab.research.google.com/assets/colab-badge.svg\" alt=\"Open In Colab\"/></a>"
      ]
    },
    {
      "cell_type": "code",
      "metadata": {
        "colab": {
          "base_uri": "https://localhost:8080/"
        },
        "id": "jcNr9Q0M2aLZ",
        "outputId": "e3a11b4a-0c34-49a0-e1ee-ab2ac3927c3e"
      },
      "source": [
        "from google.colab import drive\n",
        "drive.mount(\"/content/drive\", force_remount = True)\n",
        "try:\n",
        "  COLAB = True\n",
        "  import tensorflow as tf\n",
        "  print(f\"You are using Colab with tensoflow version: {tf.__version__}\")\n",
        "except Exception as e:\n",
        "  COLAB = False\n",
        "  print(f\"{type(e)}: {e}\\n...Please Load Your Drive...\")\n",
        "\n",
        "def time_fmt(t):\n",
        "  h = int(t / (60 * 60))\n",
        "  m = int(t % (60 * 60) / 60)\n",
        "  s = int(t % 60)\n",
        "  return f\"{h}: {m:>03}: {s:>05.2f}\"\n",
        "print(f\"test time: {time_fmt(128.1987)}\")"
      ],
      "execution_count": null,
      "outputs": [
        {
          "output_type": "stream",
          "text": [
            "Mounted at /content/drive\n",
            "You are using Colab with tensoflow version: 2.4.1\n",
            "test time: 0: 002: 08.00\n"
          ],
          "name": "stdout"
        }
      ]
    },
    {
      "cell_type": "code",
      "metadata": {
        "colab": {
          "base_uri": "https://localhost:8080/"
        },
        "id": "52wpNC_t5R9u",
        "outputId": "ca0db8b8-1269-4f10-f3da-434c723142c7"
      },
      "source": [
        "!pip install scikit-survival"
      ],
      "execution_count": null,
      "outputs": [
        {
          "output_type": "stream",
          "text": [
            "Collecting scikit-survival\n",
            "\u001b[?25l  Downloading https://files.pythonhosted.org/packages/4d/07/10e960674a7d9660f1b19d206ce37afabba0f443d6c72bcc8945d617d890/scikit-survival-0.14.0.tar.gz (2.3MB)\n",
            "\u001b[K     |████████████████████████████████| 2.3MB 8.2MB/s \n",
            "\u001b[?25h  Installing build dependencies ... \u001b[?25l\u001b[?25hdone\n",
            "  Getting requirements to build wheel ... \u001b[?25l\u001b[?25hdone\n",
            "    Preparing wheel metadata ... \u001b[?25l\u001b[?25hdone\n",
            "Requirement already satisfied: numpy in /usr/local/lib/python3.6/dist-packages (from scikit-survival) (1.19.5)\n",
            "Requirement already satisfied: scikit-learn<0.24,>=0.22.0 in /usr/local/lib/python3.6/dist-packages (from scikit-survival) (0.22.2.post1)\n",
            "Requirement already satisfied: osqp!=0.6.0,!=0.6.1 in /usr/local/lib/python3.6/dist-packages (from scikit-survival) (0.6.2.post0)\n",
            "Requirement already satisfied: cvxpy>=1.0 in /usr/local/lib/python3.6/dist-packages (from scikit-survival) (1.0.31)\n",
            "Requirement already satisfied: pandas>=0.21 in /usr/local/lib/python3.6/dist-packages (from scikit-survival) (1.1.5)\n",
            "Requirement already satisfied: cvxopt in /usr/local/lib/python3.6/dist-packages (from scikit-survival) (1.2.5)\n",
            "Requirement already satisfied: scipy!=1.3.0,>=1.0 in /usr/local/lib/python3.6/dist-packages (from scikit-survival) (1.4.1)\n",
            "Requirement already satisfied: numexpr in /usr/local/lib/python3.6/dist-packages (from scikit-survival) (2.7.2)\n",
            "Requirement already satisfied: joblib in /usr/local/lib/python3.6/dist-packages (from scikit-survival) (1.0.0)\n",
            "Requirement already satisfied: qdldl in /usr/local/lib/python3.6/dist-packages (from osqp!=0.6.0,!=0.6.1->scikit-survival) (0.1.5.post0)\n",
            "Requirement already satisfied: ecos>=2 in /usr/local/lib/python3.6/dist-packages (from cvxpy>=1.0->scikit-survival) (2.0.7.post1)\n",
            "Requirement already satisfied: scs>=1.1.3 in /usr/local/lib/python3.6/dist-packages (from cvxpy>=1.0->scikit-survival) (2.1.2)\n",
            "Requirement already satisfied: multiprocess in /usr/local/lib/python3.6/dist-packages (from cvxpy>=1.0->scikit-survival) (0.70.11.1)\n",
            "Requirement already satisfied: pytz>=2017.2 in /usr/local/lib/python3.6/dist-packages (from pandas>=0.21->scikit-survival) (2018.9)\n",
            "Requirement already satisfied: python-dateutil>=2.7.3 in /usr/local/lib/python3.6/dist-packages (from pandas>=0.21->scikit-survival) (2.8.1)\n",
            "Requirement already satisfied: dill>=0.3.3 in /usr/local/lib/python3.6/dist-packages (from multiprocess->cvxpy>=1.0->scikit-survival) (0.3.3)\n",
            "Requirement already satisfied: six>=1.5 in /usr/local/lib/python3.6/dist-packages (from python-dateutil>=2.7.3->pandas>=0.21->scikit-survival) (1.15.0)\n",
            "Building wheels for collected packages: scikit-survival\n",
            "  Building wheel for scikit-survival (PEP 517) ... \u001b[?25l\u001b[?25hdone\n",
            "  Created wheel for scikit-survival: filename=scikit_survival-0.14.0-cp36-cp36m-linux_x86_64.whl size=4056484 sha256=90d9cd5fe861e2d4cc20bcb3b60f2b5f499a50af2fb2932a240e05b1da55aa9d\n",
            "  Stored in directory: /root/.cache/pip/wheels/f4/af/94/be84d2dc68a947ad2859b1608f1d57a4328465a0b00b0fb4ac\n",
            "Successfully built scikit-survival\n",
            "Installing collected packages: scikit-survival\n",
            "Successfully installed scikit-survival-0.14.0\n"
          ],
          "name": "stdout"
        }
      ]
    },
    {
      "cell_type": "code",
      "metadata": {
        "id": "dGg0aM7g4Udr"
      },
      "source": [
        "import pandas as pd\n",
        "import matplotlib.pyplot as plt\n",
        "import tensorflow as tf\n",
        "import numpy as np\n",
        "from typing import Tuple, Dict, Any, Iterable, Union, Optional\n",
        "from pathlib import Path\n",
        "from sksurv.nonparametric import kaplan_meier_estimator\n",
        "from sklearn.model_selection import train_test_split\n",
        "from sksurv.metrics import concordance_index_censored\n"
      ],
      "execution_count": null,
      "outputs": []
    },
    {
      "cell_type": "code",
      "metadata": {
        "id": "Pue1NmTt6MgY"
      },
      "source": [
        "#Simulation survival data based on mnist images:\n",
        "#We will obtain survival time as random survival scores coresponding to each digits\n",
        "#We will first create the class labels for each digit (0, 1, ..., 9)\n",
        "#Classes will be randomly assigned to four risk groups (0,1,2,3) which discriminate the individual\n",
        " "
      ],
      "execution_count": null,
      "outputs": []
    },
    {
      "cell_type": "code",
      "metadata": {
        "colab": {
          "base_uri": "https://localhost:8080/"
        },
        "id": "Hy01lmgJ_CqA",
        "outputId": "909d7a6f-7982-435d-a12a-1c72ce1b8020"
      },
      "source": [
        "(x_train, y_train), (x_test, y_test) = tf.keras.datasets.mnist.load_data()"
      ],
      "execution_count": null,
      "outputs": [
        {
          "output_type": "stream",
          "text": [
            "Downloading data from https://storage.googleapis.com/tensorflow/tf-keras-datasets/mnist.npz\n",
            "11493376/11490434 [==============================] - 0s 0us/step\n"
          ],
          "name": "stdout"
        }
      ]
    },
    {
      "cell_type": "code",
      "metadata": {
        "id": "gDi4Bsw6_Rh9"
      },
      "source": [
        "#standerdize the data and convert the labels to int:"
      ],
      "execution_count": null,
      "outputs": []
    },
    {
      "cell_type": "code",
      "metadata": {
        "id": "uXArneYp_eHK"
      },
      "source": [
        "x_train, x_test = x_train.astype('float32')/255.0 , x_test.astype('float32')/255.0"
      ],
      "execution_count": null,
      "outputs": []
    },
    {
      "cell_type": "code",
      "metadata": {
        "id": "_7-q0oXX_06O"
      },
      "source": [
        "y_train, y_test = y_train.astype('int32'), y_test.astype('int32')"
      ],
      "execution_count": null,
      "outputs": []
    },
    {
      "cell_type": "code",
      "metadata": {
        "id": "4c1wH_j7__Ih"
      },
      "source": [
        "y = np.concatenate((y_train, y_test)) #Combine the labels"
      ],
      "execution_count": null,
      "outputs": []
    },
    {
      "cell_type": "code",
      "metadata": {
        "id": "nEybXUE1ARTt"
      },
      "source": [
        "#Write a function to create a synthetic survival data based on the labels of mnist data:\n",
        "def create_survival_data(y: np.ndarray,n_groups: int = 4,seed: int = 10)->Tuple[pd.DataFrame, np.array]:\n",
        "  rnd = np.random.RandomState(seed = seed)\n",
        "\n",
        "  #Assign class labels (0, 1 2 ..., 9) to risk groups (0,1,2,3):\n",
        "  classes = np.unique(y) #obtain the unique values for the class variable\n",
        "  grp_assigment = {}\n",
        "  grp_members = {}\n",
        "  groups = rnd.randint(n_groups, size = classes.shape) #First we random Create risk groups (0,1,2,3)\n",
        "  #Assign classes to risk groups (we assign at random classes 0, 1, ...9) to risk groups (0,1,2,3):\n",
        "  for label, group in zip(classes, groups):\n",
        "    grp_assigment[label] = group\n",
        "    grp_members.setdefault(group, []).append(label) #append (labels fallen on same group) to a group\n",
        "\n",
        "  #Create survival time/assign risk score to each class label (0, 1,..., 8, 9)\n",
        "  risk_per_class = {}\n",
        "  for label in classes:\n",
        "    grp_index = grp_assigment[label]\n",
        "    group = grp_members[grp_index]\n",
        "    label_index = group.index(label)\n",
        "    group_size = len(group)\n",
        "    risk_score = np.sqrt(grp_index + 1e-4)*1.75 #Computing the risk score\n",
        "    risk_score-=(label_index - (group_size)//2)/25. #allow the slight variation accross the group-scores\n",
        "    risk_per_class[label] = risk_score #create the risk score corresponding to each label (0, 1 2,..., 8,9)\n",
        "  \n",
        "  assignment = pd.concat((pd.Series(risk_per_class, name = 'risk_per_class'),\n",
        "                          pd.Series(grp_assigment, name = 'risk_groups')),axis = 1).rename_axis('class_label')\n",
        "  risk_scores = np.array([risk_per_class[yy] for yy in y])\n",
        "  return assignment, risk_scores\n"
      ],
      "execution_count": null,
      "outputs": []
    },
    {
      "cell_type": "code",
      "metadata": {
        "id": "0pQLcfQRMxqk"
      },
      "source": [
        "#Create the data by passing the mnist labels:\n",
        "assignment, risk_scores = create_survival_data(y)"
      ],
      "execution_count": null,
      "outputs": []
    },
    {
      "cell_type": "code",
      "metadata": {
        "colab": {
          "base_uri": "https://localhost:8080/",
          "height": 390
        },
        "id": "1PVmX9gdM-yD",
        "outputId": "23b141a7-390d-48fb-ceda-802eaae52405"
      },
      "source": [
        "assignment.round(3)"
      ],
      "execution_count": null,
      "outputs": [
        {
          "output_type": "execute_result",
          "data": {
            "text/html": [
              "<div>\n",
              "<style scoped>\n",
              "    .dataframe tbody tr th:only-of-type {\n",
              "        vertical-align: middle;\n",
              "    }\n",
              "\n",
              "    .dataframe tbody tr th {\n",
              "        vertical-align: top;\n",
              "    }\n",
              "\n",
              "    .dataframe thead th {\n",
              "        text-align: right;\n",
              "    }\n",
              "</style>\n",
              "<table border=\"1\" class=\"dataframe\">\n",
              "  <thead>\n",
              "    <tr style=\"text-align: right;\">\n",
              "      <th></th>\n",
              "      <th>risk_per_class</th>\n",
              "      <th>risk_groups</th>\n",
              "    </tr>\n",
              "    <tr>\n",
              "      <th>class_label</th>\n",
              "      <th></th>\n",
              "      <th></th>\n",
              "    </tr>\n",
              "  </thead>\n",
              "  <tbody>\n",
              "    <tr>\n",
              "      <th>0</th>\n",
              "      <td>1.830</td>\n",
              "      <td>1</td>\n",
              "    </tr>\n",
              "    <tr>\n",
              "      <th>1</th>\n",
              "      <td>1.790</td>\n",
              "      <td>1</td>\n",
              "    </tr>\n",
              "    <tr>\n",
              "      <th>2</th>\n",
              "      <td>0.058</td>\n",
              "      <td>0</td>\n",
              "    </tr>\n",
              "    <tr>\n",
              "      <th>3</th>\n",
              "      <td>3.071</td>\n",
              "      <td>3</td>\n",
              "    </tr>\n",
              "    <tr>\n",
              "      <th>4</th>\n",
              "      <td>0.018</td>\n",
              "      <td>0</td>\n",
              "    </tr>\n",
              "    <tr>\n",
              "      <th>5</th>\n",
              "      <td>1.750</td>\n",
              "      <td>1</td>\n",
              "    </tr>\n",
              "    <tr>\n",
              "      <th>6</th>\n",
              "      <td>3.031</td>\n",
              "      <td>3</td>\n",
              "    </tr>\n",
              "    <tr>\n",
              "      <th>7</th>\n",
              "      <td>-0.022</td>\n",
              "      <td>0</td>\n",
              "    </tr>\n",
              "    <tr>\n",
              "      <th>8</th>\n",
              "      <td>1.710</td>\n",
              "      <td>1</td>\n",
              "    </tr>\n",
              "    <tr>\n",
              "      <th>9</th>\n",
              "      <td>1.670</td>\n",
              "      <td>1</td>\n",
              "    </tr>\n",
              "  </tbody>\n",
              "</table>\n",
              "</div>"
            ],
            "text/plain": [
              "             risk_per_class  risk_groups\n",
              "class_label                             \n",
              "0                     1.830            1\n",
              "1                     1.790            1\n",
              "2                     0.058            0\n",
              "3                     3.071            3\n",
              "4                     0.018            0\n",
              "5                     1.750            1\n",
              "6                     3.031            3\n",
              "7                    -0.022            0\n",
              "8                     1.710            1\n",
              "9                     1.670            1"
            ]
          },
          "metadata": {
            "tags": []
          },
          "execution_count": 29
        }
      ]
    },
    {
      "cell_type": "code",
      "metadata": {
        "id": "ORUro3tgPoka"
      },
      "source": [
        "#We can see that class labels 3 and 6 belongs to higheast risk group 3 while class labels 2, and 7 belongs to the lowest risk group 0"
      ],
      "execution_count": null,
      "outputs": []
    },
    {
      "cell_type": "code",
      "metadata": {
        "id": "oSgsPxwVYxTt"
      },
      "source": [
        "#We can now simulate survival times based on the risk scores and by assuming the simplest case of exponential distribution survival time:\n"
      ],
      "execution_count": null,
      "outputs": []
    },
    {
      "cell_type": "code",
      "metadata": {
        "id": "k0agBl31ZEo7"
      },
      "source": [
        "class SurvTimeGen:\n",
        "  def __init__(self,sample_size: int,mean_surv_time: float,censored_prob: float)->None:\n",
        "    self.sample_size = sample_size\n",
        "    self.mean_surv_time = mean_surv_time\n",
        "    self.censored_prob = censored_prob\n",
        "  \n",
        "  def censored_time_gen(self, risk_score: np.ndarray, seed: int = 11)->Tuple[np.ndarray, np.ndarray]:\n",
        "    '''This function compute censored survival times'''\n",
        "    rnd = np.random.RandomState(seed = seed)\n",
        "    base_hazard = 1.0/self.mean_surv_time\n",
        "    scale = base_hazard * np.exp(risk_score)\n",
        "    u = rnd.uniform(low = 0, high = 1, size = risk_score.shape[0])\n",
        "    t = -np.log(u)/scale #This is the survival time based on exponential distribution\n",
        "    qtl = np.quantile(t, 1.0 - self.censored_prob) \n",
        "    c = rnd.uniform(low = t.min(), high = qtl) #indepently from survival times, we Computing the censored times\n",
        "    #Read the events\n",
        "    obs_event = t<= c\n",
        "    obs_time = np.where(obs_event, t, c)\n",
        "    return obs_time, obs_event\n"
      ],
      "execution_count": null,
      "outputs": []
    },
    {
      "cell_type": "code",
      "metadata": {
        "id": "PyeF95xDj5hM"
      },
      "source": [
        "suv_gen = SurvTimeGen(sample_size = y.shape[0],\n",
        "                      mean_surv_time = 365.0,\n",
        "                      censored_prob = 0.45)"
      ],
      "execution_count": null,
      "outputs": []
    },
    {
      "cell_type": "code",
      "metadata": {
        "id": "GIUtmvqAkQD1"
      },
      "source": [
        "time, events = suv_gen.censored_time_gen(risk_score= risk_scores)"
      ],
      "execution_count": null,
      "outputs": []
    },
    {
      "cell_type": "code",
      "metadata": {
        "id": "G_YlDOOkk42V"
      },
      "source": [
        "time_train = time[: y_train.shape[0]]\n",
        "events_train = events[: y_train.shape[0]]\n",
        "time_eval = time[y_train.shape[0]:]\n",
        "events_eval = events[y_train.shape[0]:]"
      ],
      "execution_count": null,
      "outputs": []
    },
    {
      "cell_type": "code",
      "metadata": {
        "colab": {
          "base_uri": "https://localhost:8080/"
        },
        "id": "dz1TyvNVmD0s",
        "outputId": "43288135-d973-4526-c247-99ec97daee75"
      },
      "source": [
        "print(f\"right censored train event samples: {np.sum(~events_train) * 100. / len(events_train): .2f}%\\nright censored evaluation event samples: {np.sum(~events_eval) * 100. / len(events_eval): .2f}%\")"
      ],
      "execution_count": null,
      "outputs": [
        {
          "output_type": "stream",
          "text": [
            "right censored train event samples:  70.06%\n",
            "right censored evaluation event samples:  70.01%\n"
          ],
          "name": "stdout"
        }
      ]
    },
    {
      "cell_type": "code",
      "metadata": {
        "colab": {
          "base_uri": "https://localhost:8080/",
          "height": 419
        },
        "id": "SQvM_5WAnN-r",
        "outputId": "4a697c9c-ee90-4211-d85d-4838b5061e3c"
      },
      "source": [
        "#Vissualization of the KM survival probabilities with respect to the 4 risks.\n",
        "#We need to see survival distributions per specific risk. We stratify the data according to the risk groups:\n",
        "plt.style.use('ggplot')\n",
        "styles = ('-','-.','--',':')\n",
        "for row in assignment.itertuples():\n",
        "  mask = y_train == row.Index\n",
        "  x_coord, y_coord = kaplan_meier_estimator(events_train[mask], time_train[mask])\n",
        "  ls = styles[row.risk_groups]\n",
        "  plt.step(x_coord, y_coord, where = 'post',label = f\"Class: {row.Index}\", linestyle = ls)\n",
        "plt.ylim(0,1)\n",
        "plt.ylabel('Survival probs')\n",
        "plt.xlabel('Survival time')\n",
        "plt.grid()\n",
        "plt.legend()\n",
        "plt.title('Survival Distribution for the four groups')\n",
        "\n",
        "\n"
      ],
      "execution_count": null,
      "outputs": [
        {
          "output_type": "execute_result",
          "data": {
            "text/plain": [
              "Text(0.5, 1.0, 'Survival Distribution for the four groups')"
            ]
          },
          "metadata": {
            "tags": []
          },
          "execution_count": 62
        },
        {
          "output_type": "display_data",
          "data": {
            "image/png": "[encoded data removed]",
            "text/plain": [
              "<Figure size 576x396 with 1 Axes>"
            ]
          },
          "metadata": {
            "tags": []
          }
        }
      ]
    },
    {
      "cell_type": "code",
      "metadata": {
        "id": "SbgH73emsrxK"
      },
      "source": [
        "#We see group 7 has the highest survival as we expected since the risk scores are minimum"
      ],
      "execution_count": null,
      "outputs": []
    }
  ]
}