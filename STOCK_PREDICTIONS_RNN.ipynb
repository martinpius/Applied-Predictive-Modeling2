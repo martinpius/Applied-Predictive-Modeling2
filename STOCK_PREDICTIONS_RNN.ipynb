{
  "nbformat": 4,
  "nbformat_minor": 0,
  "metadata": {
    "colab": {
      "name": "STOCK PREDICTIONS-RNN.ipynb",
      "provenance": [],
      "authorship_tag": "ABX9TyOxGnk+cImjr7tgySYq16Nk",
      "include_colab_link": true
    },
    "kernelspec": {
      "name": "python3",
      "display_name": "Python 3"
    },
    "accelerator": "GPU"
  },
  "cells": [
    {
      "cell_type": "markdown",
      "metadata": {
        "id": "view-in-github",
        "colab_type": "text"
      },
      "source": [
        "<a href=\"https://colab.research.google.com/github/martinpius/Applied-Predictive-Modeling2/blob/master/STOCK_PREDICTIONS_RNN.ipynb\" target=\"_parent\"><img src=\"https://colab.research.google.com/assets/colab-badge.svg\" alt=\"Open In Colab\"/></a>"
      ]
    },
    {
      "cell_type": "code",
      "metadata": {
        "id": "hdKkKKCAvXdD",
        "outputId": "38d34c31-91b3-4834-b5aa-25e20a4a5077",
        "colab": {
          "base_uri": "https://localhost:8080/"
        }
      },
      "source": [
        "from google.colab import drive\n",
        "try:\n",
        "  drive.mount(\"/content/drive\", force_remount = True)\n",
        "  COLAB = True\n",
        "  import tensorflow\n",
        "  print(f\"You are using Google Colab with tensorflow version: {tensorflow.__version__}\")\n",
        "except:\n",
        "  COLAB = False\n",
        "  pass"
      ],
      "execution_count": 25,
      "outputs": [
        {
          "output_type": "stream",
          "text": [
            "Mounted at /content/drive\n",
            "You are using Google Colab with tensorflow version: 2.3.0\n"
          ],
          "name": "stdout"
        }
      ]
    },
    {
      "cell_type": "code",
      "metadata": {
        "id": "KdWeIgPLwVzG"
      },
      "source": [
        "def time_setter(x):\n",
        "  hours = int(x/(60 * 60))\n",
        "  minutes = int(x%(60 * 60)/60)\n",
        "  seconds = int(x % 60)\n",
        "  return f\"{hours}:{minutes:>02}:{seconds:>05.2f}\""
      ],
      "execution_count": 26,
      "outputs": []
    },
    {
      "cell_type": "code",
      "metadata": {
        "id": "pVRfkclOxEuZ"
      },
      "source": [
        "import pandas_datareader as pdr\n",
        "import tensorflow as tf\n",
        "import numpy as np\n",
        "import os\n",
        "import pandas as pd\n",
        "import time\n",
        "from tensorflow.keras.layers import Dense, BatchNormalization, LSTM, Activation\n",
        "from tensorflow.keras.models import Sequential\n",
        "from tensorflow.keras.preprocessing.text import one_hot\n",
        "from tensorflow.keras.optimizers import Adam\n",
        "from tensorflow.keras.callbacks import EarlyStopping\n",
        "from tensorflow.keras.layers import Dropout\n",
        "from sklearn import metrics\n",
        "from sklearn.preprocessing import MinMaxScaler"
      ],
      "execution_count": 27,
      "outputs": []
    },
    {
      "cell_type": "code",
      "metadata": {
        "id": "fxlZH23ryMDf"
      },
      "source": [
        "#Pool data from the web\n",
        "key = '82fb91fcd8a2a58207051b9ce67986fb06df5a9499999fg3898rr'\n",
        "data = pdr.get_data_tiingo('AAPL', api_key = key)\n",
        "data.to_csv('AAPL.csv')"
      ],
      "execution_count": 28,
      "outputs": []
    },
    {
      "cell_type": "code",
      "metadata": {
        "id": "TdY5nWA6zARd"
      },
      "source": [
        "mydata = pd.read_csv('AAPL.csv', na_values = ['NA','?'])"
      ],
      "execution_count": 29,
      "outputs": []
    },
    {
      "cell_type": "code",
      "metadata": {
        "id": "b_8jY4UlzL2P",
        "outputId": "6f9cdf6c-367e-4e0f-88c7-63c3fc0292f0",
        "colab": {
          "base_uri": "https://localhost:8080/",
          "height": 359
        }
      },
      "source": [
        "display(mydata.head(10))"
      ],
      "execution_count": 30,
      "outputs": [
        {
          "output_type": "display_data",
          "data": {
            "text/html": [
              "<div>\n",
              "<style scoped>\n",
              "    .dataframe tbody tr th:only-of-type {\n",
              "        vertical-align: middle;\n",
              "    }\n",
              "\n",
              "    .dataframe tbody tr th {\n",
              "        vertical-align: top;\n",
              "    }\n",
              "\n",
              "    .dataframe thead th {\n",
              "        text-align: right;\n",
              "    }\n",
              "</style>\n",
              "<table border=\"1\" class=\"dataframe\">\n",
              "  <thead>\n",
              "    <tr style=\"text-align: right;\">\n",
              "      <th></th>\n",
              "      <th>symbol</th>\n",
              "      <th>date</th>\n",
              "      <th>close</th>\n",
              "      <th>high</th>\n",
              "      <th>low</th>\n",
              "      <th>open</th>\n",
              "      <th>volume</th>\n",
              "      <th>adjClose</th>\n",
              "      <th>adjHigh</th>\n",
              "      <th>adjLow</th>\n",
              "      <th>adjOpen</th>\n",
              "      <th>adjVolume</th>\n",
              "      <th>divCash</th>\n",
              "      <th>splitFactor</th>\n",
              "    </tr>\n",
              "  </thead>\n",
              "  <tbody>\n",
              "    <tr>\n",
              "      <th>0</th>\n",
              "      <td>AAPL</td>\n",
              "      <td>2015-11-02 00:00:00+00:00</td>\n",
              "      <td>121.18</td>\n",
              "      <td>121.36</td>\n",
              "      <td>119.610</td>\n",
              "      <td>119.87</td>\n",
              "      <td>32203267</td>\n",
              "      <td>27.992000</td>\n",
              "      <td>28.033579</td>\n",
              "      <td>27.629338</td>\n",
              "      <td>27.689396</td>\n",
              "      <td>128813068</td>\n",
              "      <td>0.00</td>\n",
              "      <td>1.0</td>\n",
              "    </tr>\n",
              "    <tr>\n",
              "      <th>1</th>\n",
              "      <td>AAPL</td>\n",
              "      <td>2015-11-03 00:00:00+00:00</td>\n",
              "      <td>122.57</td>\n",
              "      <td>123.49</td>\n",
              "      <td>120.700</td>\n",
              "      <td>120.79</td>\n",
              "      <td>45518976</td>\n",
              "      <td>28.313084</td>\n",
              "      <td>28.525599</td>\n",
              "      <td>27.881122</td>\n",
              "      <td>27.901912</td>\n",
              "      <td>182075904</td>\n",
              "      <td>0.00</td>\n",
              "      <td>1.0</td>\n",
              "    </tr>\n",
              "    <tr>\n",
              "      <th>2</th>\n",
              "      <td>AAPL</td>\n",
              "      <td>2015-11-04 00:00:00+00:00</td>\n",
              "      <td>122.00</td>\n",
              "      <td>123.82</td>\n",
              "      <td>121.620</td>\n",
              "      <td>123.13</td>\n",
              "      <td>44886050</td>\n",
              "      <td>28.181416</td>\n",
              "      <td>28.601828</td>\n",
              "      <td>28.093638</td>\n",
              "      <td>28.442441</td>\n",
              "      <td>179544200</td>\n",
              "      <td>0.00</td>\n",
              "      <td>1.0</td>\n",
              "    </tr>\n",
              "    <tr>\n",
              "      <th>3</th>\n",
              "      <td>AAPL</td>\n",
              "      <td>2015-11-05 00:00:00+00:00</td>\n",
              "      <td>120.92</td>\n",
              "      <td>122.69</td>\n",
              "      <td>120.180</td>\n",
              "      <td>121.85</td>\n",
              "      <td>39552680</td>\n",
              "      <td>28.052059</td>\n",
              "      <td>28.462679</td>\n",
              "      <td>27.880387</td>\n",
              "      <td>28.267808</td>\n",
              "      <td>158210720</td>\n",
              "      <td>0.52</td>\n",
              "      <td>1.0</td>\n",
              "    </tr>\n",
              "    <tr>\n",
              "      <th>4</th>\n",
              "      <td>AAPL</td>\n",
              "      <td>2015-11-06 00:00:00+00:00</td>\n",
              "      <td>121.06</td>\n",
              "      <td>121.81</td>\n",
              "      <td>120.620</td>\n",
              "      <td>121.11</td>\n",
              "      <td>33042283</td>\n",
              "      <td>28.084537</td>\n",
              "      <td>28.258529</td>\n",
              "      <td>27.982462</td>\n",
              "      <td>28.096137</td>\n",
              "      <td>132169132</td>\n",
              "      <td>0.00</td>\n",
              "      <td>1.0</td>\n",
              "    </tr>\n",
              "    <tr>\n",
              "      <th>5</th>\n",
              "      <td>AAPL</td>\n",
              "      <td>2015-11-09 00:00:00+00:00</td>\n",
              "      <td>120.57</td>\n",
              "      <td>121.81</td>\n",
              "      <td>120.050</td>\n",
              "      <td>120.96</td>\n",
              "      <td>33871405</td>\n",
              "      <td>27.970863</td>\n",
              "      <td>28.258529</td>\n",
              "      <td>27.850229</td>\n",
              "      <td>28.061338</td>\n",
              "      <td>135485620</td>\n",
              "      <td>0.00</td>\n",
              "      <td>1.0</td>\n",
              "    </tr>\n",
              "    <tr>\n",
              "      <th>6</th>\n",
              "      <td>AAPL</td>\n",
              "      <td>2015-11-10 00:00:00+00:00</td>\n",
              "      <td>116.77</td>\n",
              "      <td>118.07</td>\n",
              "      <td>116.061</td>\n",
              "      <td>116.90</td>\n",
              "      <td>59127931</td>\n",
              "      <td>27.089306</td>\n",
              "      <td>27.390891</td>\n",
              "      <td>26.924826</td>\n",
              "      <td>27.119465</td>\n",
              "      <td>236511724</td>\n",
              "      <td>0.00</td>\n",
              "      <td>1.0</td>\n",
              "    </tr>\n",
              "    <tr>\n",
              "      <th>7</th>\n",
              "      <td>AAPL</td>\n",
              "      <td>2015-11-11 00:00:00+00:00</td>\n",
              "      <td>116.11</td>\n",
              "      <td>117.42</td>\n",
              "      <td>115.210</td>\n",
              "      <td>116.37</td>\n",
              "      <td>45217971</td>\n",
              "      <td>26.936194</td>\n",
              "      <td>27.240099</td>\n",
              "      <td>26.727404</td>\n",
              "      <td>26.996511</td>\n",
              "      <td>180871884</td>\n",
              "      <td>0.00</td>\n",
              "      <td>1.0</td>\n",
              "    </tr>\n",
              "    <tr>\n",
              "      <th>8</th>\n",
              "      <td>AAPL</td>\n",
              "      <td>2015-11-12 00:00:00+00:00</td>\n",
              "      <td>115.72</td>\n",
              "      <td>116.82</td>\n",
              "      <td>115.650</td>\n",
              "      <td>116.26</td>\n",
              "      <td>32525579</td>\n",
              "      <td>26.845718</td>\n",
              "      <td>27.100906</td>\n",
              "      <td>26.829479</td>\n",
              "      <td>26.970992</td>\n",
              "      <td>130102316</td>\n",
              "      <td>0.00</td>\n",
              "      <td>1.0</td>\n",
              "    </tr>\n",
              "    <tr>\n",
              "      <th>9</th>\n",
              "      <td>AAPL</td>\n",
              "      <td>2015-11-13 00:00:00+00:00</td>\n",
              "      <td>112.34</td>\n",
              "      <td>115.57</td>\n",
              "      <td>112.270</td>\n",
              "      <td>115.20</td>\n",
              "      <td>45812403</td>\n",
              "      <td>26.061597</td>\n",
              "      <td>26.810920</td>\n",
              "      <td>26.045358</td>\n",
              "      <td>26.725084</td>\n",
              "      <td>183249612</td>\n",
              "      <td>0.00</td>\n",
              "      <td>1.0</td>\n",
              "    </tr>\n",
              "  </tbody>\n",
              "</table>\n",
              "</div>"
            ],
            "text/plain": [
              "  symbol                       date   close  ...  adjVolume  divCash  splitFactor\n",
              "0   AAPL  2015-11-02 00:00:00+00:00  121.18  ...  128813068     0.00          1.0\n",
              "1   AAPL  2015-11-03 00:00:00+00:00  122.57  ...  182075904     0.00          1.0\n",
              "2   AAPL  2015-11-04 00:00:00+00:00  122.00  ...  179544200     0.00          1.0\n",
              "3   AAPL  2015-11-05 00:00:00+00:00  120.92  ...  158210720     0.52          1.0\n",
              "4   AAPL  2015-11-06 00:00:00+00:00  121.06  ...  132169132     0.00          1.0\n",
              "5   AAPL  2015-11-09 00:00:00+00:00  120.57  ...  135485620     0.00          1.0\n",
              "6   AAPL  2015-11-10 00:00:00+00:00  116.77  ...  236511724     0.00          1.0\n",
              "7   AAPL  2015-11-11 00:00:00+00:00  116.11  ...  180871884     0.00          1.0\n",
              "8   AAPL  2015-11-12 00:00:00+00:00  115.72  ...  130102316     0.00          1.0\n",
              "9   AAPL  2015-11-13 00:00:00+00:00  112.34  ...  183249612     0.00          1.0\n",
              "\n",
              "[10 rows x 14 columns]"
            ]
          },
          "metadata": {
            "tags": []
          }
        }
      ]
    },
    {
      "cell_type": "code",
      "metadata": {
        "id": "PwhUDF1rzVfh"
      },
      "source": [
        "import matplotlib.pyplot as plt\n",
        "plt.style.use('fivethirtyeight')\n",
        "%matplotlib inline"
      ],
      "execution_count": 31,
      "outputs": []
    },
    {
      "cell_type": "code",
      "metadata": {
        "id": "0Llm1zLZ0E6I",
        "outputId": "5450c227-dd04-4ea3-ac52-59c4259aa266",
        "colab": {
          "base_uri": "https://localhost:8080/",
          "height": 279
        }
      },
      "source": [
        "mydata['close'].plot()"
      ],
      "execution_count": 32,
      "outputs": [
        {
          "output_type": "execute_result",
          "data": {
            "text/plain": [
              "<matplotlib.axes._subplots.AxesSubplot at 0x7f41669749b0>"
            ]
          },
          "metadata": {
            "tags": []
          },
          "execution_count": 32
        },
        {
          "output_type": "display_data",
          "data": {
            "image/png": "[encoded data removed]",
            "text/plain": [
              "<Figure size 432x288 with 1 Axes>"
            ]
          },
          "metadata": {
            "tags": [],
            "needs_background": "light"
          }
        }
      ]
    },
    {
      "cell_type": "code",
      "metadata": {
        "id": "gmBCvZKt0LRP"
      },
      "source": [
        "closeP = mydata['close']"
      ],
      "execution_count": 33,
      "outputs": []
    },
    {
      "cell_type": "code",
      "metadata": {
        "id": "ylcZUV8W0vV3"
      },
      "source": [
        "closeP = np.array(closeP)"
      ],
      "execution_count": 34,
      "outputs": []
    },
    {
      "cell_type": "code",
      "metadata": {
        "id": "5MfR5-ra05zU"
      },
      "source": [
        "scaler = MinMaxScaler(feature_range=(0,1))\n",
        "closeP = scaler.fit_transform(closeP.reshape(-1,1))"
      ],
      "execution_count": 35,
      "outputs": []
    },
    {
      "cell_type": "code",
      "metadata": {
        "id": "o2h-nd4n1pKL",
        "outputId": "df797053-c9f7-42e3-c734-f332548029db",
        "colab": {
          "base_uri": "https://localhost:8080/"
        }
      },
      "source": [
        "closeP"
      ],
      "execution_count": 36,
      "outputs": [
        {
          "output_type": "execute_result",
          "data": {
            "text/plain": [
              "array([[0.07417919],\n",
              "       [0.07752255],\n",
              "       [0.07615153],\n",
              "       ...,\n",
              "       [0.06316296],\n",
              "       [0.05017438],\n",
              "       [0.06008419]])"
            ]
          },
          "metadata": {
            "tags": []
          },
          "execution_count": 36
        }
      ]
    },
    {
      "cell_type": "code",
      "metadata": {
        "id": "kbt0r5DQ1qwA"
      },
      "source": [
        "size_train = int(len(closeP)*0.80) #80% training examples\n",
        "size_test = len(closeP) - size_train"
      ],
      "execution_count": 37,
      "outputs": []
    },
    {
      "cell_type": "code",
      "metadata": {
        "id": "tjbYCzMJ2a1u"
      },
      "source": [
        "train = closeP[0:size_train,:]\n",
        "test = closeP[size_train:len(closeP),:1]"
      ],
      "execution_count": 38,
      "outputs": []
    },
    {
      "cell_type": "code",
      "metadata": {
        "id": "sq0zqkXh26Yt",
        "outputId": "1a9e8d46-fb6a-4d5c-9cb8-bcba069902dd",
        "colab": {
          "base_uri": "https://localhost:8080/"
        }
      },
      "source": [
        "train[0:4]"
      ],
      "execution_count": 39,
      "outputs": [
        {
          "output_type": "execute_result",
          "data": {
            "text/plain": [
              "array([[0.07417919],\n",
              "       [0.07752255],\n",
              "       [0.07615153],\n",
              "       [0.07355382]])"
            ]
          },
          "metadata": {
            "tags": []
          },
          "execution_count": 39
        }
      ]
    },
    {
      "cell_type": "code",
      "metadata": {
        "id": "qOHcQnUb3CxC",
        "outputId": "a807574a-d680-48dc-8265-8d0c181e80c0",
        "colab": {
          "base_uri": "https://localhost:8080/"
        }
      },
      "source": [
        "test[0:5]"
      ],
      "execution_count": 40,
      "outputs": [
        {
          "output_type": "execute_result",
          "data": {
            "text/plain": [
              "array([[0.3810463 ],\n",
              "       [0.39802766],\n",
              "       [0.40206855],\n",
              "       [0.40117859],\n",
              "       [0.40144317]])"
            ]
          },
          "metadata": {
            "tags": []
          },
          "execution_count": 40
        }
      ]
    },
    {
      "cell_type": "code",
      "metadata": {
        "id": "RcOekhgF3FaA"
      },
      "source": [
        "#Create the lists of sequences:\n",
        "def data_maker(dfm, time_step = 1):\n",
        "  X, Y = [], []\n",
        "  for i in range(len(dfm)-time_step -1):\n",
        "    a = dfm[i:(i+time_step),0]\n",
        "    X.append(a)\n",
        "    Y.append(dfm[i+time_step, 0])\n",
        "  return np.array(X), np.array(Y)"
      ],
      "execution_count": 46,
      "outputs": []
    },
    {
      "cell_type": "code",
      "metadata": {
        "id": "dT_5lsOmA_8V"
      },
      "source": [
        "time_step = 100\n",
        "x_train, y_train = data_maker(train, time_step)\n",
        "x_test, y_test = data_maker(test, time_step)"
      ],
      "execution_count": 54,
      "outputs": []
    },
    {
      "cell_type": "code",
      "metadata": {
        "id": "azwSZ0wkCyzo"
      },
      "source": [
        "#Reshaping the data\n",
        "x_train = x_train.reshape(x_train.shape[0], x_train.shape[1],1)\n",
        "x_test = x_test.reshape(x_test.shape[0],x_test.shape[1],1)"
      ],
      "execution_count": 55,
      "outputs": []
    },
    {
      "cell_type": "code",
      "metadata": {
        "id": "c-YHEycFDKQ6",
        "outputId": "41640d75-5a87-4b67-dad9-a5e021808253",
        "colab": {
          "base_uri": "https://localhost:8080/"
        }
      },
      "source": [
        "print(f\"X_train_shape: {x_train.shape}\\nX_test_shape: {x_test.shape}\")"
      ],
      "execution_count": 56,
      "outputs": [
        {
          "output_type": "stream",
          "text": [
            "X_train_shape: (905, 100, 1)\n",
            "X_test_shape: (151, 100, 1)\n"
          ],
          "name": "stdout"
        }
      ]
    },
    {
      "cell_type": "code",
      "metadata": {
        "id": "z-nsKSdxDltb",
        "outputId": "02378511-b30f-449c-ce7f-974c52a2a054",
        "colab": {
          "base_uri": "https://localhost:8080/"
        }
      },
      "source": [
        "#Building stacked LSTM for closed price data.\n",
        "model = Sequential()\n",
        "model.add(LSTM(units = 256, return_sequences=True, dropout=0.2, recurrent_dropout=0.2, input_shape = (100,1)))\n",
        "model.add(BatchNormalization())\n",
        "model.add(Dropout(0.2))\n",
        "model.add(LSTM(units = 50, return_sequences=True, dropout=0.1, recurrent_dropout=0.1))\n",
        "model.add(LSTM(50))\n",
        "model.add(Dense(1))\n",
        "model.compile(loss = 'mean_squared_error', optimizer = 'Adam')\n",
        "model.summary()"
      ],
      "execution_count": 57,
      "outputs": [
        {
          "output_type": "stream",
          "text": [
            "WARNING:tensorflow:Layer lstm will not use cuDNN kernel since it doesn't meet the cuDNN kernel criteria. It will use generic GPU kernel as fallback when running on GPU\n",
            "WARNING:tensorflow:Layer lstm_1 will not use cuDNN kernel since it doesn't meet the cuDNN kernel criteria. It will use generic GPU kernel as fallback when running on GPU\n",
            "Model: \"sequential\"\n",
            "_________________________________________________________________\n",
            "Layer (type)                 Output Shape              Param #   \n",
            "=================================================================\n",
            "lstm (LSTM)                  (None, 100, 256)          264192    \n",
            "_________________________________________________________________\n",
            "batch_normalization (BatchNo (None, 100, 256)          1024      \n",
            "_________________________________________________________________\n",
            "dropout (Dropout)            (None, 100, 256)          0         \n",
            "_________________________________________________________________\n",
            "lstm_1 (LSTM)                (None, 100, 50)           61400     \n",
            "_________________________________________________________________\n",
            "lstm_2 (LSTM)                (None, 50)                20200     \n",
            "_________________________________________________________________\n",
            "dense (Dense)                (None, 1)                 51        \n",
            "=================================================================\n",
            "Total params: 346,867\n",
            "Trainable params: 346,355\n",
            "Non-trainable params: 512\n",
            "_________________________________________________________________\n"
          ],
          "name": "stdout"
        }
      ]
    },
    {
      "cell_type": "code",
      "metadata": {
        "id": "AV-WZeXKE_ws",
        "outputId": "bdfce038-b3c4-43e2-e669-3141d821e3c9",
        "colab": {
          "base_uri": "https://localhost:8080/"
        }
      },
      "source": [
        "info = EarlyStopping(monitor = 'val_loss', patience = 5, restore_best_weights = True, verbose = 1, mode = 'auto', min_delta = 1e-3)\n",
        "model.fit(x_train, y_train, validation_data = (x_test, y_test), verbose = 2, callbacks =[info], epochs = 100,batch_size = 64)"
      ],
      "execution_count": 58,
      "outputs": [
        {
          "output_type": "stream",
          "text": [
            "Epoch 1/100\n",
            "15/15 - 11s - loss: 0.0219 - val_loss: 0.1637\n",
            "Epoch 2/100\n",
            "15/15 - 10s - loss: 0.0022 - val_loss: 0.1598\n",
            "Epoch 3/100\n",
            "15/15 - 10s - loss: 0.0011 - val_loss: 0.1657\n",
            "Epoch 4/100\n",
            "15/15 - 10s - loss: 9.6257e-04 - val_loss: 0.1709\n",
            "Epoch 5/100\n",
            "15/15 - 10s - loss: 9.0401e-04 - val_loss: 0.1708\n",
            "Epoch 6/100\n",
            "15/15 - 10s - loss: 0.0011 - val_loss: 0.1729\n",
            "Epoch 7/100\n",
            "Restoring model weights from the end of the best epoch.\n",
            "15/15 - 10s - loss: 9.0431e-04 - val_loss: 0.1722\n",
            "Epoch 00007: early stopping\n"
          ],
          "name": "stdout"
        },
        {
          "output_type": "execute_result",
          "data": {
            "text/plain": [
              "<tensorflow.python.keras.callbacks.History at 0x7f41667dd630>"
            ]
          },
          "metadata": {
            "tags": []
          },
          "execution_count": 58
        }
      ]
    },
    {
      "cell_type": "code",
      "metadata": {
        "id": "7QDeQcJZGEdl"
      },
      "source": [
        "pred = model.predict(x_test)\n",
        "pred = scaler.inverse_transform(pred) #Restore the previous format"
      ],
      "execution_count": 67,
      "outputs": []
    },
    {
      "cell_type": "code",
      "metadata": {
        "id": "gt_rQY1nHqFv"
      },
      "source": [
        "mse = np.sqrt(metrics.mean_squared_error(y_test, pred))"
      ],
      "execution_count": 68,
      "outputs": []
    },
    {
      "cell_type": "code",
      "metadata": {
        "id": "LjGywGjKH-lb",
        "outputId": "aafbc592-3c61-45f5-bb89-5a2953261f3d",
        "colab": {
          "base_uri": "https://localhost:8080/"
        }
      },
      "source": [
        "mse"
      ],
      "execution_count": 69,
      "outputs": [
        {
          "output_type": "execute_result",
          "data": {
            "text/plain": [
              "167.75942682627866"
            ]
          },
          "metadata": {
            "tags": []
          },
          "execution_count": 69
        }
      ]
    },
    {
      "cell_type": "code",
      "metadata": {
        "id": "PDRw3cV4H_eH"
      },
      "source": [
        ""
      ],
      "execution_count": null,
      "outputs": []
    }
  ]
}