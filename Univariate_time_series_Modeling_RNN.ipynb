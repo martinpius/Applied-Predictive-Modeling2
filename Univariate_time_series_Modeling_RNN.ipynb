{
  "nbformat": 4,
  "nbformat_minor": 0,
  "metadata": {
    "colab": {
      "name": "Univariate time series Modeling-RNN.ipynb",
      "provenance": [],
      "authorship_tag": "ABX9TyOX63xDl0YsfFLFMNiCTGAQ",
      "include_colab_link": true
    },
    "kernelspec": {
      "name": "python3",
      "display_name": "Python 3"
    },
    "accelerator": "GPU"
  },
  "cells": [
    {
      "cell_type": "markdown",
      "metadata": {
        "id": "view-in-github",
        "colab_type": "text"
      },
      "source": [
        "<a href=\"https://colab.research.google.com/github/martinpius/Applied-Predictive-Modeling2/blob/master/Univariate_time_series_Modeling_RNN.ipynb\" target=\"_parent\"><img src=\"https://colab.research.google.com/assets/colab-badge.svg\" alt=\"Open In Colab\"/></a>"
      ]
    },
    {
      "cell_type": "code",
      "metadata": {
        "id": "QPsWeN5_1qNA",
        "outputId": "a5008e48-e392-4114-c180-4071f55e63c9",
        "colab": {
          "base_uri": "https://localhost:8080/"
        }
      },
      "source": [
        "from google.colab import drive\n",
        "try:\n",
        "  drive.mount(\"/content/drive/\", force_remount = True)\n",
        "  COLAB = True\n",
        "  import tensorflow\n",
        "  print(f\"You are using google colab with tensorflow version: {tensorflow.__version__}\")\n",
        "except:\n",
        "  COLAB = False\n",
        "  print(\"You are not using Colab!!!\")\n",
        "  "
      ],
      "execution_count": 1,
      "outputs": [
        {
          "output_type": "stream",
          "text": [
            "Mounted at /content/drive/\n",
            "You are using google colab with tensorflow version: 2.3.0\n"
          ],
          "name": "stdout"
        }
      ]
    },
    {
      "cell_type": "code",
      "metadata": {
        "id": "v1IXQfMz2axb"
      },
      "source": [
        "def time_setter(x):\n",
        "  hours = int(x/(60 * 60))\n",
        "  minutes = int(x%(60*60)/60)\n",
        "  seconds = int(x%60)\n",
        "  return f\"{hours}: {minutes:>02}: {seconds:>05.2f}\""
      ],
      "execution_count": 2,
      "outputs": []
    },
    {
      "cell_type": "code",
      "metadata": {
        "id": "f4XigCcF3LID"
      },
      "source": [
        "#A function to creating time stamps for univariate time series data.\n",
        "def time_stamp_gen(data, time_stamps=1):\n",
        "  x, y = [], []\n",
        "  for i in range(len(data)):\n",
        "    index = i + time_stamps\n",
        "    if index > len(data) - 1:\n",
        "      break\n",
        "    x1, y1 = data[i:index], data[index]\n",
        "    x.append(x1)\n",
        "    y.append(y1)\n",
        "  return np.array(x), np.array(y)"
      ],
      "execution_count": 6,
      "outputs": []
    },
    {
      "cell_type": "code",
      "metadata": {
        "id": "754S7BK94rNZ"
      },
      "source": [
        "#Testing the function\n",
        "stock = [123,124,122,178,223,327,234,345,343,333,433]\n",
        "x, y = time_stamp_gen(stock, 3)"
      ],
      "execution_count": 7,
      "outputs": []
    },
    {
      "cell_type": "code",
      "metadata": {
        "id": "-kM-d2ws5EoQ",
        "outputId": "b4cdee84-8b36-4571-9e58-c05b55ef3a00",
        "colab": {
          "base_uri": "https://localhost:8080/"
        }
      },
      "source": [
        "(x, y)"
      ],
      "execution_count": 8,
      "outputs": [
        {
          "output_type": "execute_result",
          "data": {
            "text/plain": [
              "(array([[123, 124, 122],\n",
              "        [124, 122, 178],\n",
              "        [122, 178, 223],\n",
              "        [178, 223, 327],\n",
              "        [223, 327, 234],\n",
              "        [327, 234, 345],\n",
              "        [234, 345, 343],\n",
              "        [345, 343, 333]]), array([178, 223, 327, 234, 345, 343, 333, 433]))"
            ]
          },
          "metadata": {
            "tags": []
          },
          "execution_count": 8
        }
      ]
    },
    {
      "cell_type": "code",
      "metadata": {
        "id": "lB9jh3iO5KJm"
      },
      "source": [
        "#Importing the necessary packages\n",
        "import time, os\n",
        "import numpy as np\n",
        "import pandas as pd\n",
        "import matplotlib.pyplot as plt\n",
        "import tensorflow as tf\n",
        "from tensorflow.keras.layers import Dense, Activation, Dropout, BatchNormalization, LSTM, Bidirectional,Input\n",
        "from tensorflow.keras.callbacks import EarlyStopping\n",
        "from tensorflow.keras.models import Sequential\n",
        "from tensorflow.keras.optimizers import RMSprop\n",
        "from sklearn import metrics\n",
        "from sklearn.model_selection import train_test_split\n",
        "\n",
        "plt.style.use('fivethirtyeight')\n",
        "%matplotlib inline\n"
      ],
      "execution_count": 9,
      "outputs": []
    },
    {
      "cell_type": "code",
      "metadata": {
        "id": "WBstFTSp6b5T"
      },
      "source": [
        "#Create fake data\n",
        "stock = np.empty(10000)\n",
        "for i in range(10000):\n",
        "  stock[i] = np.random.random()\n",
        "    "
      ],
      "execution_count": 11,
      "outputs": []
    },
    {
      "cell_type": "code",
      "metadata": {
        "id": "EFVPu2oU7wJS"
      },
      "source": [
        "stock  = list(stock)"
      ],
      "execution_count": 12,
      "outputs": []
    },
    {
      "cell_type": "code",
      "metadata": {
        "id": "LfhF09Yo76sC"
      },
      "source": [
        "#Get the time stamps from our data\n",
        "x, y = time_stamp_gen(stock,3)"
      ],
      "execution_count": 13,
      "outputs": []
    },
    {
      "cell_type": "code",
      "metadata": {
        "id": "8QE49Xkr_KTx",
        "outputId": "06e078b7-c987-4de5-b946-59c23b87526a",
        "colab": {
          "base_uri": "https://localhost:8080/"
        }
      },
      "source": [
        "x[0:10]"
      ],
      "execution_count": 14,
      "outputs": [
        {
          "output_type": "execute_result",
          "data": {
            "text/plain": [
              "array([[0.46330715, 0.49381954, 0.84259213],\n",
              "       [0.49381954, 0.84259213, 0.32133481],\n",
              "       [0.84259213, 0.32133481, 0.67212836],\n",
              "       [0.32133481, 0.67212836, 0.82126932],\n",
              "       [0.67212836, 0.82126932, 0.09141631],\n",
              "       [0.82126932, 0.09141631, 0.38799846],\n",
              "       [0.09141631, 0.38799846, 0.26093111],\n",
              "       [0.38799846, 0.26093111, 0.30749462],\n",
              "       [0.26093111, 0.30749462, 0.70747326],\n",
              "       [0.30749462, 0.70747326, 0.12794051]])"
            ]
          },
          "metadata": {
            "tags": []
          },
          "execution_count": 14
        }
      ]
    },
    {
      "cell_type": "code",
      "metadata": {
        "id": "nDTEvgHT_Lv4",
        "outputId": "1cb6d6fd-80d9-4fa3-b1a9-59f374c5cf46",
        "colab": {
          "base_uri": "https://localhost:8080/"
        }
      },
      "source": [
        "y[0:10]"
      ],
      "execution_count": 15,
      "outputs": [
        {
          "output_type": "execute_result",
          "data": {
            "text/plain": [
              "array([0.32133481, 0.67212836, 0.82126932, 0.09141631, 0.38799846,\n",
              "       0.26093111, 0.30749462, 0.70747326, 0.12794051, 0.14301224])"
            ]
          },
          "metadata": {
            "tags": []
          },
          "execution_count": 15
        }
      ]
    },
    {
      "cell_type": "code",
      "metadata": {
        "id": "WzDfjsx8BKYd"
      },
      "source": [
        "#Reshape the data into appropriate input for rnn\n",
        "x = x.reshape(x.shape[0],x.shape[1],1)\n"
      ],
      "execution_count": 16,
      "outputs": []
    },
    {
      "cell_type": "code",
      "metadata": {
        "id": "fUxhEuVpCtDt",
        "outputId": "7326369d-1dd3-4483-c6da-38226ffc61ab",
        "colab": {
          "base_uri": "https://localhost:8080/"
        }
      },
      "source": [
        "x.shape"
      ],
      "execution_count": 17,
      "outputs": [
        {
          "output_type": "execute_result",
          "data": {
            "text/plain": [
              "(9997, 3, 1)"
            ]
          },
          "metadata": {
            "tags": []
          },
          "execution_count": 17
        }
      ]
    },
    {
      "cell_type": "code",
      "metadata": {
        "id": "RGWXMIYkEAPB",
        "outputId": "dd06104f-55b1-4ea2-a0e1-f93f384d1aed",
        "colab": {
          "base_uri": "https://localhost:8080/"
        }
      },
      "source": [
        "y.shape"
      ],
      "execution_count": 18,
      "outputs": [
        {
          "output_type": "execute_result",
          "data": {
            "text/plain": [
              "(9997,)"
            ]
          },
          "metadata": {
            "tags": []
          },
          "execution_count": 18
        }
      ]
    },
    {
      "cell_type": "code",
      "metadata": {
        "id": "ojiElyZLECrl"
      },
      "source": [
        "#Splitting the data into train-validation\n",
        "x_train,x_test, y_train, y_test = train_test_split(x,y, test_size = 0.2, random_state = 123)"
      ],
      "execution_count": 19,
      "outputs": []
    },
    {
      "cell_type": "code",
      "metadata": {
        "id": "q8QvzYMREUCh",
        "outputId": "5ddbbf36-a1f0-4325-8f2f-169de6c60653",
        "colab": {
          "base_uri": "https://localhost:8080/"
        }
      },
      "source": [
        "print(f\"train_shape: {x_train.shape}\\n y_train_shape: {y_train.shape}\\nx_test_shape: {x_test.shape}\\ntest_y_shape: {y_test.shape}\")"
      ],
      "execution_count": 20,
      "outputs": [
        {
          "output_type": "stream",
          "text": [
            "train_shape: (7997, 3, 1)\n",
            " y_train_shape: (7997,)\n",
            "x_test_shape: (2000, 3, 1)\n",
            "test_y_shape: (2000,)\n"
          ],
          "name": "stdout"
        }
      ]
    },
    {
      "cell_type": "code",
      "metadata": {
        "id": "lT90pvvtFBr7",
        "outputId": "a5205c45-7e38-487a-f822-cbb930c824c9",
        "colab": {
          "base_uri": "https://localhost:8080/"
        }
      },
      "source": [
        "#Building the model\n",
        "model = Sequential()\n",
        "model.add(Input(shape = (3,1)))\n",
        "model.add(Bidirectional(LSTM(units = 256, dropout=0.2,activation = 'relu',recurrent_dropout= 0.2,return_sequences= True)))\n",
        "model.add(BatchNormalization())\n",
        "model.add(Dropout(0.25))\n",
        "model.add(LSTM(units =128, dropout = 0.2, activation = 'relu',recurrent_dropout= 0.2, return_sequences= True))\n",
        "model.add(BatchNormalization())\n",
        "model.add(Dropout(0.2))\n",
        "model.add(Dense(1))\n",
        "model.compile(loss ='mean_squared_error', optimizer='RMSprop')\n",
        "model.summary()"
      ],
      "execution_count": 22,
      "outputs": [
        {
          "output_type": "stream",
          "text": [
            "WARNING:tensorflow:Layer lstm will not use cuDNN kernel since it doesn't meet the cuDNN kernel criteria. It will use generic GPU kernel as fallback when running on GPU\n",
            "WARNING:tensorflow:Layer lstm will not use cuDNN kernel since it doesn't meet the cuDNN kernel criteria. It will use generic GPU kernel as fallback when running on GPU\n",
            "WARNING:tensorflow:Layer lstm will not use cuDNN kernel since it doesn't meet the cuDNN kernel criteria. It will use generic GPU kernel as fallback when running on GPU\n",
            "WARNING:tensorflow:Layer lstm_1 will not use cuDNN kernel since it doesn't meet the cuDNN kernel criteria. It will use generic GPU kernel as fallback when running on GPU\n",
            "Model: \"sequential\"\n",
            "_________________________________________________________________\n",
            "Layer (type)                 Output Shape              Param #   \n",
            "=================================================================\n",
            "bidirectional (Bidirectional (None, 3, 512)            528384    \n",
            "_________________________________________________________________\n",
            "batch_normalization (BatchNo (None, 3, 512)            2048      \n",
            "_________________________________________________________________\n",
            "dropout (Dropout)            (None, 3, 512)            0         \n",
            "_________________________________________________________________\n",
            "lstm_1 (LSTM)                (None, 3, 128)            328192    \n",
            "_________________________________________________________________\n",
            "batch_normalization_1 (Batch (None, 3, 128)            512       \n",
            "_________________________________________________________________\n",
            "dropout_1 (Dropout)          (None, 3, 128)            0         \n",
            "_________________________________________________________________\n",
            "dense (Dense)                (None, 3, 1)              129       \n",
            "=================================================================\n",
            "Total params: 859,265\n",
            "Trainable params: 857,985\n",
            "Non-trainable params: 1,280\n",
            "_________________________________________________________________\n"
          ],
          "name": "stdout"
        }
      ]
    },
    {
      "cell_type": "code",
      "metadata": {
        "id": "e3ZE0sYxGmVd"
      },
      "source": [
        "info = EarlyStopping(monitor = 'val_loss', min_delta = 1e-3, verbose = 1, patience = 100,restore_best_weights=True, mode = 'auto')"
      ],
      "execution_count": 23,
      "outputs": []
    },
    {
      "cell_type": "code",
      "metadata": {
        "id": "cXrJRiqJJHdA",
        "outputId": "83216540-a55f-4318-ef5f-70f1ed878016",
        "colab": {
          "base_uri": "https://localhost:8080/"
        }
      },
      "source": [
        "model.fit(x_train, y_train,validation_data=(x_test,y_test), epochs = 1000, verbose = 2, callbacks=[info], batch_size= 64)"
      ],
      "execution_count": 24,
      "outputs": [
        {
          "output_type": "stream",
          "text": [
            "Epoch 1/1000\n",
            "125/125 - 5s - loss: 0.4991 - val_loss: 0.0851\n",
            "Epoch 2/1000\n",
            "125/125 - 5s - loss: 0.0855 - val_loss: 0.0848\n",
            "Epoch 3/1000\n",
            "125/125 - 5s - loss: 0.0837 - val_loss: 0.0846\n",
            "Epoch 4/1000\n",
            "125/125 - 4s - loss: 0.0836 - val_loss: 0.0849\n",
            "Epoch 5/1000\n",
            "125/125 - 4s - loss: 0.0836 - val_loss: 0.0846\n",
            "Epoch 6/1000\n",
            "125/125 - 5s - loss: 0.0834 - val_loss: 0.0846\n",
            "Epoch 7/1000\n",
            "125/125 - 4s - loss: 0.0834 - val_loss: 0.0851\n",
            "Epoch 8/1000\n",
            "125/125 - 5s - loss: 0.0834 - val_loss: 0.0847\n",
            "Epoch 9/1000\n",
            "125/125 - 4s - loss: 0.0832 - val_loss: 0.0846\n",
            "Epoch 10/1000\n",
            "125/125 - 4s - loss: 0.0833 - val_loss: 0.0846\n",
            "Epoch 11/1000\n",
            "125/125 - 5s - loss: 0.0833 - val_loss: 0.0857\n",
            "Epoch 12/1000\n",
            "125/125 - 4s - loss: 0.0834 - val_loss: 0.0847\n",
            "Epoch 13/1000\n",
            "125/125 - 4s - loss: 0.0832 - val_loss: 0.0851\n",
            "Epoch 14/1000\n",
            "125/125 - 4s - loss: 0.0833 - val_loss: 0.0846\n",
            "Epoch 15/1000\n",
            "125/125 - 4s - loss: 0.0832 - val_loss: 0.0849\n",
            "Epoch 16/1000\n",
            "125/125 - 4s - loss: 0.0833 - val_loss: 0.0846\n",
            "Epoch 17/1000\n",
            "125/125 - 4s - loss: 0.0833 - val_loss: 0.0846\n",
            "Epoch 18/1000\n",
            "125/125 - 5s - loss: 0.0831 - val_loss: 0.0848\n",
            "Epoch 19/1000\n",
            "125/125 - 5s - loss: 0.0832 - val_loss: 0.0846\n",
            "Epoch 20/1000\n",
            "125/125 - 4s - loss: 0.0832 - val_loss: 0.0847\n",
            "Epoch 21/1000\n",
            "125/125 - 5s - loss: 0.0831 - val_loss: 0.0856\n",
            "Epoch 22/1000\n",
            "125/125 - 5s - loss: 0.0831 - val_loss: 0.0849\n",
            "Epoch 23/1000\n",
            "125/125 - 5s - loss: 0.0830 - val_loss: 0.0847\n",
            "Epoch 24/1000\n",
            "125/125 - 5s - loss: 0.0832 - val_loss: 0.0848\n",
            "Epoch 25/1000\n",
            "125/125 - 4s - loss: 0.0831 - val_loss: 0.0848\n",
            "Epoch 26/1000\n",
            "125/125 - 4s - loss: 0.0831 - val_loss: 0.0846\n",
            "Epoch 27/1000\n",
            "125/125 - 4s - loss: 0.0831 - val_loss: 0.0846\n",
            "Epoch 28/1000\n",
            "125/125 - 5s - loss: 0.0831 - val_loss: 0.0847\n",
            "Epoch 29/1000\n",
            "125/125 - 4s - loss: 0.0831 - val_loss: 0.0847\n",
            "Epoch 30/1000\n",
            "125/125 - 4s - loss: 0.0833 - val_loss: 0.0849\n",
            "Epoch 31/1000\n",
            "125/125 - 4s - loss: 0.0831 - val_loss: 0.0851\n",
            "Epoch 32/1000\n",
            "125/125 - 5s - loss: 0.0830 - val_loss: 0.0861\n",
            "Epoch 33/1000\n",
            "125/125 - 4s - loss: 0.0831 - val_loss: 0.0860\n",
            "Epoch 34/1000\n",
            "125/125 - 5s - loss: 0.0831 - val_loss: 0.0861\n",
            "Epoch 35/1000\n",
            "125/125 - 4s - loss: 0.0832 - val_loss: 0.0848\n",
            "Epoch 36/1000\n",
            "125/125 - 4s - loss: 0.0830 - val_loss: 0.0856\n",
            "Epoch 37/1000\n",
            "125/125 - 5s - loss: 0.0833 - val_loss: 0.0846\n",
            "Epoch 38/1000\n",
            "125/125 - 4s - loss: 0.0831 - val_loss: 0.0846\n",
            "Epoch 39/1000\n",
            "125/125 - 5s - loss: 0.0830 - val_loss: 0.0848\n",
            "Epoch 40/1000\n",
            "125/125 - 4s - loss: 0.0832 - val_loss: 0.0846\n",
            "Epoch 41/1000\n",
            "125/125 - 5s - loss: 0.0829 - val_loss: 0.0850\n",
            "Epoch 42/1000\n",
            "125/125 - 5s - loss: 0.0831 - val_loss: 0.0847\n",
            "Epoch 43/1000\n",
            "125/125 - 5s - loss: 0.0830 - val_loss: 0.0846\n",
            "Epoch 44/1000\n",
            "125/125 - 4s - loss: 0.0832 - val_loss: 0.0846\n",
            "Epoch 45/1000\n",
            "125/125 - 4s - loss: 0.0831 - val_loss: 0.0846\n",
            "Epoch 46/1000\n",
            "125/125 - 4s - loss: 0.0830 - val_loss: 0.0847\n",
            "Epoch 47/1000\n",
            "125/125 - 4s - loss: 0.0830 - val_loss: 0.0848\n",
            "Epoch 48/1000\n",
            "125/125 - 5s - loss: 0.0830 - val_loss: 0.0847\n",
            "Epoch 49/1000\n",
            "125/125 - 5s - loss: 0.0831 - val_loss: 0.0846\n",
            "Epoch 50/1000\n",
            "125/125 - 5s - loss: 0.0831 - val_loss: 0.0852\n",
            "Epoch 51/1000\n",
            "125/125 - 5s - loss: 0.0831 - val_loss: 0.0847\n",
            "Epoch 52/1000\n",
            "125/125 - 5s - loss: 0.0831 - val_loss: 0.0851\n",
            "Epoch 53/1000\n",
            "125/125 - 5s - loss: 0.0830 - val_loss: 0.0846\n",
            "Epoch 54/1000\n",
            "125/125 - 4s - loss: 0.0830 - val_loss: 0.0847\n",
            "Epoch 55/1000\n",
            "125/125 - 5s - loss: 0.0830 - val_loss: 0.0847\n",
            "Epoch 56/1000\n",
            "125/125 - 5s - loss: 0.0830 - val_loss: 0.0854\n",
            "Epoch 57/1000\n",
            "125/125 - 5s - loss: 0.0830 - val_loss: 0.0848\n",
            "Epoch 58/1000\n",
            "125/125 - 5s - loss: 0.0829 - val_loss: 0.0852\n",
            "Epoch 59/1000\n",
            "125/125 - 5s - loss: 0.0830 - val_loss: 0.0847\n",
            "Epoch 60/1000\n",
            "125/125 - 4s - loss: 0.0831 - val_loss: 0.0848\n",
            "Epoch 61/1000\n",
            "125/125 - 5s - loss: 0.0831 - val_loss: 0.0849\n",
            "Epoch 62/1000\n",
            "125/125 - 4s - loss: 0.0830 - val_loss: 0.0846\n",
            "Epoch 63/1000\n",
            "125/125 - 5s - loss: 0.0828 - val_loss: 0.0847\n",
            "Epoch 64/1000\n",
            "125/125 - 5s - loss: 0.0830 - val_loss: 0.0848\n",
            "Epoch 65/1000\n",
            "125/125 - 4s - loss: 0.0829 - val_loss: 0.0846\n",
            "Epoch 66/1000\n",
            "125/125 - 4s - loss: 0.0829 - val_loss: 0.0846\n",
            "Epoch 67/1000\n",
            "125/125 - 4s - loss: 0.0831 - val_loss: 0.0846\n",
            "Epoch 68/1000\n",
            "125/125 - 5s - loss: 0.0830 - val_loss: 0.0853\n",
            "Epoch 69/1000\n",
            "125/125 - 4s - loss: 0.0829 - val_loss: 0.0855\n",
            "Epoch 70/1000\n",
            "125/125 - 5s - loss: 0.0829 - val_loss: 0.0846\n",
            "Epoch 71/1000\n",
            "125/125 - 5s - loss: 0.0829 - val_loss: 0.0850\n",
            "Epoch 72/1000\n",
            "125/125 - 4s - loss: 0.0829 - val_loss: 0.0847\n",
            "Epoch 73/1000\n",
            "125/125 - 4s - loss: 0.0829 - val_loss: 0.0847\n",
            "Epoch 74/1000\n",
            "125/125 - 5s - loss: 0.0831 - val_loss: 0.0851\n",
            "Epoch 75/1000\n",
            "125/125 - 4s - loss: 0.0829 - val_loss: 0.0848\n",
            "Epoch 76/1000\n",
            "125/125 - 5s - loss: 0.0829 - val_loss: 0.0846\n",
            "Epoch 77/1000\n",
            "125/125 - 5s - loss: 0.0828 - val_loss: 0.0846\n",
            "Epoch 78/1000\n",
            "125/125 - 4s - loss: 0.0829 - val_loss: 0.0849\n",
            "Epoch 79/1000\n",
            "125/125 - 5s - loss: 0.0828 - val_loss: 0.0846\n",
            "Epoch 80/1000\n",
            "125/125 - 4s - loss: 0.0829 - val_loss: 0.0848\n",
            "Epoch 81/1000\n",
            "125/125 - 4s - loss: 0.0830 - val_loss: 0.0847\n",
            "Epoch 82/1000\n",
            "125/125 - 5s - loss: 0.0830 - val_loss: 0.0846\n",
            "Epoch 83/1000\n",
            "125/125 - 5s - loss: 0.0829 - val_loss: 0.0846\n",
            "Epoch 84/1000\n",
            "125/125 - 5s - loss: 0.0829 - val_loss: 0.0849\n",
            "Epoch 85/1000\n",
            "125/125 - 5s - loss: 0.0829 - val_loss: 0.0848\n",
            "Epoch 86/1000\n",
            "125/125 - 5s - loss: 0.0828 - val_loss: 0.0847\n",
            "Epoch 87/1000\n",
            "125/125 - 4s - loss: 0.0828 - val_loss: 0.0849\n",
            "Epoch 88/1000\n",
            "125/125 - 4s - loss: 0.0829 - val_loss: 0.0847\n",
            "Epoch 89/1000\n",
            "125/125 - 5s - loss: 0.0829 - val_loss: 0.0846\n",
            "Epoch 90/1000\n",
            "125/125 - 5s - loss: 0.0828 - val_loss: 0.0846\n",
            "Epoch 91/1000\n",
            "125/125 - 4s - loss: 0.0829 - val_loss: 0.0847\n",
            "Epoch 92/1000\n",
            "125/125 - 4s - loss: 0.0828 - val_loss: 0.0850\n",
            "Epoch 93/1000\n",
            "125/125 - 4s - loss: 0.0829 - val_loss: 0.0846\n",
            "Epoch 94/1000\n",
            "125/125 - 5s - loss: 0.0830 - val_loss: 0.0847\n",
            "Epoch 95/1000\n",
            "125/125 - 4s - loss: 0.0829 - val_loss: 0.0848\n",
            "Epoch 96/1000\n",
            "125/125 - 4s - loss: 0.0827 - val_loss: 0.0846\n",
            "Epoch 97/1000\n",
            "125/125 - 4s - loss: 0.0829 - val_loss: 0.0848\n",
            "Epoch 98/1000\n",
            "125/125 - 4s - loss: 0.0828 - val_loss: 0.0846\n",
            "Epoch 99/1000\n",
            "125/125 - 4s - loss: 0.0829 - val_loss: 0.0856\n",
            "Epoch 100/1000\n",
            "125/125 - 5s - loss: 0.0827 - val_loss: 0.0850\n",
            "Epoch 101/1000\n",
            "Restoring model weights from the end of the best epoch.\n",
            "125/125 - 4s - loss: 0.0828 - val_loss: 0.0847\n",
            "Epoch 00101: early stopping\n"
          ],
          "name": "stdout"
        },
        {
          "output_type": "execute_result",
          "data": {
            "text/plain": [
              "<tensorflow.python.keras.callbacks.History at 0x7efc1a26e5c0>"
            ]
          },
          "metadata": {
            "tags": []
          },
          "execution_count": 24
        }
      ]
    },
    {
      "cell_type": "code",
      "metadata": {
        "id": "k0stFrJfJb0J"
      },
      "source": [
        ""
      ],
      "execution_count": null,
      "outputs": []
    }
  ]
}