{
  "nbformat": 4,
  "nbformat_minor": 0,
  "metadata": {
    "colab": {
      "name": "Sequence-Sequence_Translation.ipynb",
      "provenance": [],
      "collapsed_sections": [],
      "authorship_tag": "ABX9TyPLGrrn2QsAVj2vHCZZM2c9",
      "include_colab_link": true
    },
    "kernelspec": {
      "name": "python3",
      "display_name": "Python 3"
    },
    "accelerator": "GPU"
  },
  "cells": [
    {
      "cell_type": "markdown",
      "metadata": {
        "id": "view-in-github",
        "colab_type": "text"
      },
      "source": [
        "<a href=\"https://colab.research.google.com/github/martinpius/Applied-Predictive-Modeling2/blob/master/Language_Model_English_French_Translation.ipynb\" target=\"_parent\"><img src=\"https://colab.research.google.com/assets/colab-badge.svg\" alt=\"Open In Colab\"/></a>"
      ]
    },
    {
      "cell_type": "code",
      "metadata": {
        "id": "pgJM1c6ARhV3",
        "outputId": "7aa8154f-b621-42f8-f9bb-ff7fc110f95a",
        "colab": {
          "base_uri": "https://localhost:8080/"
        }
      },
      "source": [
        "from google.colab import drive\n",
        "try:\n",
        "  drive.mount(\"/content/drive\", force_remount = True)\n",
        "  import tensorflow\n",
        "  COLAB = True\n",
        "  print(f\"You are using Goole colab with tensorflow version: {tensorflow.__version__}\")\n",
        "except:\n",
        "  COLAB = False\n",
        "  print(\"Not connected!\")\n",
        "  "
      ],
      "execution_count": 1,
      "outputs": [
        {
          "output_type": "stream",
          "text": [
            "Mounted at /content/drive\n",
            "You are using Goole colab with tensorflow version: 2.3.0\n"
          ],
          "name": "stdout"
        }
      ]
    },
    {
      "cell_type": "code",
      "metadata": {
        "id": "WnJUqBc8SOHT"
      },
      "source": [
        "def time_set(x):\n",
        "  h = int(x/(60*60))\n",
        "  m = int(x%(60*60)/60)\n",
        "  s = int(x%60)\n",
        "  return f\"{h}: {m:>03}: {s:>05.2f}\""
      ],
      "execution_count": 2,
      "outputs": []
    },
    {
      "cell_type": "code",
      "metadata": {
        "id": "8iYbCWYCS2kC"
      },
      "source": [
        "#Machine translation of english sentences into french sentence (short senteces)\n",
        "#This is an encoder-decoder LSTM\n",
        "#We start with the encoder LSTM without outputs at each time step but last\n",
        "#The final time step will rerults into a vector of context for the whole sentence\n",
        "#Decoder takes the context vector as input and output probabilities of each possible letter\n",
        "#Maximum probable letter is selected for the firt entry in the decoder\n",
        "#This also is fed to the next time step as an input conditional to the context vectors\n",
        "#The procedure repeats until the last letter of the decoder network is met.\n"
      ],
      "execution_count": 3,
      "outputs": []
    },
    {
      "cell_type": "code",
      "metadata": {
        "id": "2QMiLScIUGNc"
      },
      "source": [
        "import numpy as np\n",
        "import time\n",
        "import os\n",
        "import tensorflow as tf\n",
        "from tensorflow import keras"
      ],
      "execution_count": 4,
      "outputs": []
    },
    {
      "cell_type": "code",
      "metadata": {
        "id": "8vuJ9x2hUkNt",
        "outputId": "21e13b3d-9998-43b6-981a-a3a230aaaaed",
        "colab": {
          "base_uri": "https://localhost:8080/"
        }
      },
      "source": [
        "#Download the dataset\n",
        "!!curl -O http://www.manythings.org/anki/fra-eng.zip\n",
        "!!unzip fra-eng.zip\n",
        "\n"
      ],
      "execution_count": 5,
      "outputs": [
        {
          "output_type": "execute_result",
          "data": {
            "text/plain": [
              "['Archive:  fra-eng.zip',\n",
              " '  inflating: _about.txt              ',\n",
              " '  inflating: fra.txt                 ']"
            ]
          },
          "metadata": {
            "tags": []
          },
          "execution_count": 5
        }
      ]
    },
    {
      "cell_type": "code",
      "metadata": {
        "id": "tk-3erpbVbxa"
      },
      "source": [
        "#Setting the hyperparameters\n",
        "epochs = 100\n",
        "batch = 64\n",
        "latent_dim = 256\n",
        "num_sample = 10000\n",
        "path = 'fra.txt'\n"
      ],
      "execution_count": 6,
      "outputs": []
    },
    {
      "cell_type": "code",
      "metadata": {
        "id": "vaQjhs2bWX_1",
        "outputId": "14aa3682-f632-4205-f80e-a5b7a1edfa8a",
        "colab": {
          "base_uri": "https://localhost:8080/"
        }
      },
      "source": [
        "#Data pre-processing\n",
        "input_texts = []\n",
        "target_texts = []\n",
        "input_chars = set()\n",
        "output_chars = set()\n",
        "with open(path, 'r', encoding = 'utf-8') as f:\n",
        "  lines = f.read().split('\\n')\n",
        "  #Building the data by iterating over each line and each word within each line\n",
        "for line in lines[:min(num_sample,len(lines)-1)]:\n",
        "  input_text, target_text, _ = line.split('\\t')\n",
        "  target_text = '\\t' + target_text +'\\n'\n",
        "  input_texts.append(input_text)\n",
        "  target_texts.append(target_text)\n",
        "  for char in input_text:\n",
        "    if char not in input_chars:\n",
        "      input_chars.add(char)\n",
        "  for char in target_text:\n",
        "    if char not in output_chars:\n",
        "      output_chars.add(char)\n",
        "\n",
        "input_chars = sorted(list(input_chars))\n",
        "output_chars = sorted(list(output_chars))\n",
        "num_encoder_tokens = len(input_chars)\n",
        "num_decoder_tokens = len(output_chars)\n",
        "max_encoder_seq_len = max([len(text) for text in input_texts])\n",
        "max_decoder_seq_len = max([len(text) for text in target_texts])\n",
        "\n",
        "print(f\"Sample size: {len(input_texts)}\\n num_unique_input_tokens: {len(input_chars)}\\n num_unique_output_tokens: {len(output_chars)}\\n maximum seq_len for input: {max_encoder_seq_len}\\n maximum seq_len for decoder: {max_decoder_seq_len}\")\n",
        "\n",
        "input_token_index = dict([(char,i) for i, char in enumerate(input_chars)])\n",
        "target_token_index = dict([(char,i) for i,char in enumerate(output_chars)])\n",
        "#create numpy arrays containers for the data\n",
        "\n",
        "encoder_input_data = np.zeros((\n",
        "    len(input_texts),max_encoder_seq_len, len(input_chars)), dtype = 'float32'\n",
        ")\n",
        "decoder_input_data = np.zeros((\n",
        "    len(input_texts), max_decoder_seq_len, len(output_chars)), dtype = 'float32'\n",
        "    )\n",
        "target_output_data = np.zeros((len(input_texts), max_decoder_seq_len, len(output_chars)),\n",
        "                               dtype ='float32')\n",
        "\n",
        "for i,(input_text, target_text) in enumerate(zip(input_texts, target_texts)):\n",
        "  for t, char in enumerate(input_text):\n",
        "    encoder_input_data[i,t,input_token_index[char]]= 1.0\n",
        "  encoder_input_data[i,t+1:input_token_index[\" \"]] = 1.0\n",
        "  for t, char in enumerate(target_text):\n",
        "    decoder_input_data[i,t,target_token_index[char]] = 1.0\n",
        "    if t>0:\n",
        "      target_output_data[i, t-1, target_token_index[char]] = 1.0\n",
        "  decoder_input_data[i,t+1:,target_token_index[\" \"]] = 1.0\n",
        "  target_output_data[i,t:,target_token_index[\" \"]] = 1.0\n",
        "\n"
      ],
      "execution_count": 7,
      "outputs": [
        {
          "output_type": "stream",
          "text": [
            "Sample size: 10000\n",
            " num_unique_input_tokens: 71\n",
            " num_unique_output_tokens: 93\n",
            " maximum seq_len for input: 15\n",
            " maximum seq_len for decoder: 59\n"
          ],
          "name": "stdout"
        }
      ]
    },
    {
      "cell_type": "code",
      "metadata": {
        "id": "a_Wz45P-phlu"
      },
      "source": [
        "#Encoder Model\n",
        "encoder_input = keras.Input(shape = (None, num_encoder_tokens))\n",
        "encoder_lstm = keras.layers.LSTM(units = latent_dim, return_state=True)\n",
        "encoder_out, state_h, state_c = encoder_lstm(encoder_input)\n",
        "encoder_states = [state_h, state_c] #Grabs the states without the output for the encoder\n",
        "#Decoder Model\n",
        "decoder_input = keras.Input(shape = (None, num_decoder_tokens))\n",
        "decoder_lstm = keras.layers.LSTM(units = latent_dim, return_state=True, return_sequences= True)\n",
        "decoder_out,_,_ = decoder_lstm(decoder_input, initial_state = encoder_states)\n",
        "decoder_dense = keras.layers.Dense(units = num_decoder_tokens, activation = 'softmax')#Get the probabilities for each possible letter\n",
        "decoder_out = decoder_dense(decoder_out)\n",
        "model = keras.Model(inputs = [encoder_input, decoder_input], outputs = decoder_out)#Merge the encoder and decoder models\n"
      ],
      "execution_count": 8,
      "outputs": []
    },
    {
      "cell_type": "code",
      "metadata": {
        "id": "LU9p2y0zTpqc",
        "outputId": "b0d6b8af-01fb-448a-945f-631b29b62591",
        "colab": {
          "base_uri": "https://localhost:8080/"
        }
      },
      "source": [
        "model.summary()"
      ],
      "execution_count": 9,
      "outputs": [
        {
          "output_type": "stream",
          "text": [
            "Model: \"functional_1\"\n",
            "__________________________________________________________________________________________________\n",
            "Layer (type)                    Output Shape         Param #     Connected to                     \n",
            "==================================================================================================\n",
            "input_1 (InputLayer)            [(None, None, 71)]   0                                            \n",
            "__________________________________________________________________________________________________\n",
            "input_2 (InputLayer)            [(None, None, 93)]   0                                            \n",
            "__________________________________________________________________________________________________\n",
            "lstm (LSTM)                     [(None, 256), (None, 335872      input_1[0][0]                    \n",
            "__________________________________________________________________________________________________\n",
            "lstm_1 (LSTM)                   [(None, None, 256),  358400      input_2[0][0]                    \n",
            "                                                                 lstm[0][1]                       \n",
            "                                                                 lstm[0][2]                       \n",
            "__________________________________________________________________________________________________\n",
            "dense (Dense)                   (None, None, 93)     23901       lstm_1[0][0]                     \n",
            "==================================================================================================\n",
            "Total params: 718,173\n",
            "Trainable params: 718,173\n",
            "Non-trainable params: 0\n",
            "__________________________________________________________________________________________________\n"
          ],
          "name": "stdout"
        }
      ]
    },
    {
      "cell_type": "code",
      "metadata": {
        "id": "MEGzYpOPWciD",
        "outputId": "0a41ec17-9dc9-4c53-c9b2-2c84922ee077",
        "colab": {
          "base_uri": "https://localhost:8080/"
        }
      },
      "source": [
        "#Train the model\n",
        "model.compile(loss = 'categorical_crossentropy', optimizer= 'Adam', metrics = ['accuracy'])\n",
        "model.fit([encoder_input_data, decoder_input_data], target_output_data, epochs = epochs, verbose = 2, batch_size=batch, validation_split=0.2)\n",
        "model.save('LanguageModel')\n"
      ],
      "execution_count": 10,
      "outputs": [
        {
          "output_type": "stream",
          "text": [
            "Epoch 1/100\n",
            "125/125 - 2s - loss: 1.3963 - accuracy: 0.7123 - val_loss: 1.1357 - val_accuracy: 0.6913\n",
            "Epoch 2/100\n",
            "125/125 - 1s - loss: 0.9368 - accuracy: 0.7419 - val_loss: 0.9703 - val_accuracy: 0.7328\n",
            "Epoch 3/100\n",
            "125/125 - 1s - loss: 0.7982 - accuracy: 0.7842 - val_loss: 0.8280 - val_accuracy: 0.7705\n",
            "Epoch 4/100\n",
            "125/125 - 1s - loss: 0.6810 - accuracy: 0.8092 - val_loss: 0.7272 - val_accuracy: 0.7910\n",
            "Epoch 5/100\n",
            "125/125 - 1s - loss: 0.6133 - accuracy: 0.8252 - val_loss: 0.6730 - val_accuracy: 0.8052\n",
            "Epoch 6/100\n",
            "125/125 - 1s - loss: 0.5738 - accuracy: 0.8341 - val_loss: 0.6398 - val_accuracy: 0.8142\n",
            "Epoch 7/100\n",
            "125/125 - 1s - loss: 0.5427 - accuracy: 0.8427 - val_loss: 0.6176 - val_accuracy: 0.8198\n",
            "Epoch 8/100\n",
            "125/125 - 1s - loss: 0.5193 - accuracy: 0.8480 - val_loss: 0.5978 - val_accuracy: 0.8236\n",
            "Epoch 9/100\n",
            "125/125 - 1s - loss: 0.5003 - accuracy: 0.8533 - val_loss: 0.5853 - val_accuracy: 0.8259\n",
            "Epoch 10/100\n",
            "125/125 - 1s - loss: 0.4839 - accuracy: 0.8574 - val_loss: 0.5655 - val_accuracy: 0.8333\n",
            "Epoch 11/100\n",
            "125/125 - 1s - loss: 0.4697 - accuracy: 0.8615 - val_loss: 0.5560 - val_accuracy: 0.8351\n",
            "Epoch 12/100\n",
            "125/125 - 1s - loss: 0.4571 - accuracy: 0.8650 - val_loss: 0.5476 - val_accuracy: 0.8383\n",
            "Epoch 13/100\n",
            "125/125 - 1s - loss: 0.4451 - accuracy: 0.8682 - val_loss: 0.5365 - val_accuracy: 0.8413\n",
            "Epoch 14/100\n",
            "125/125 - 1s - loss: 0.4344 - accuracy: 0.8711 - val_loss: 0.5260 - val_accuracy: 0.8447\n",
            "Epoch 15/100\n",
            "125/125 - 1s - loss: 0.4234 - accuracy: 0.8741 - val_loss: 0.5208 - val_accuracy: 0.8455\n",
            "Epoch 16/100\n",
            "125/125 - 1s - loss: 0.4142 - accuracy: 0.8770 - val_loss: 0.5107 - val_accuracy: 0.8489\n",
            "Epoch 17/100\n",
            "125/125 - 1s - loss: 0.4037 - accuracy: 0.8799 - val_loss: 0.5021 - val_accuracy: 0.8510\n",
            "Epoch 18/100\n",
            "125/125 - 1s - loss: 0.3947 - accuracy: 0.8824 - val_loss: 0.4969 - val_accuracy: 0.8537\n",
            "Epoch 19/100\n",
            "125/125 - 1s - loss: 0.3853 - accuracy: 0.8850 - val_loss: 0.4918 - val_accuracy: 0.8556\n",
            "Epoch 20/100\n",
            "125/125 - 1s - loss: 0.3761 - accuracy: 0.8878 - val_loss: 0.4840 - val_accuracy: 0.8564\n",
            "Epoch 21/100\n",
            "125/125 - 1s - loss: 0.3675 - accuracy: 0.8900 - val_loss: 0.4774 - val_accuracy: 0.8588\n",
            "Epoch 22/100\n",
            "125/125 - 1s - loss: 0.3587 - accuracy: 0.8927 - val_loss: 0.4750 - val_accuracy: 0.8603\n",
            "Epoch 23/100\n",
            "125/125 - 1s - loss: 0.3493 - accuracy: 0.8954 - val_loss: 0.4701 - val_accuracy: 0.8612\n",
            "Epoch 24/100\n",
            "125/125 - 1s - loss: 0.3402 - accuracy: 0.8980 - val_loss: 0.4679 - val_accuracy: 0.8625\n",
            "Epoch 25/100\n",
            "125/125 - 1s - loss: 0.3316 - accuracy: 0.9006 - val_loss: 0.4633 - val_accuracy: 0.8633\n",
            "Epoch 26/100\n",
            "125/125 - 1s - loss: 0.3239 - accuracy: 0.9027 - val_loss: 0.4575 - val_accuracy: 0.8653\n",
            "Epoch 27/100\n",
            "125/125 - 1s - loss: 0.3149 - accuracy: 0.9054 - val_loss: 0.4557 - val_accuracy: 0.8653\n",
            "Epoch 28/100\n",
            "125/125 - 1s - loss: 0.3077 - accuracy: 0.9073 - val_loss: 0.4524 - val_accuracy: 0.8682\n",
            "Epoch 29/100\n",
            "125/125 - 1s - loss: 0.2994 - accuracy: 0.9098 - val_loss: 0.4503 - val_accuracy: 0.8687\n",
            "Epoch 30/100\n",
            "125/125 - 1s - loss: 0.2912 - accuracy: 0.9125 - val_loss: 0.4473 - val_accuracy: 0.8700\n",
            "Epoch 31/100\n",
            "125/125 - 1s - loss: 0.2835 - accuracy: 0.9147 - val_loss: 0.4493 - val_accuracy: 0.8703\n",
            "Epoch 32/100\n",
            "125/125 - 1s - loss: 0.2758 - accuracy: 0.9171 - val_loss: 0.4503 - val_accuracy: 0.8702\n",
            "Epoch 33/100\n",
            "125/125 - 1s - loss: 0.2719 - accuracy: 0.9183 - val_loss: 0.6354 - val_accuracy: 0.8429\n",
            "Epoch 34/100\n",
            "125/125 - 1s - loss: 0.3666 - accuracy: 0.8908 - val_loss: 0.4530 - val_accuracy: 0.8675\n",
            "Epoch 35/100\n",
            "125/125 - 1s - loss: 0.2857 - accuracy: 0.9142 - val_loss: 0.4454 - val_accuracy: 0.8711\n",
            "Epoch 36/100\n",
            "125/125 - 1s - loss: 0.2663 - accuracy: 0.9198 - val_loss: 0.4438 - val_accuracy: 0.8723\n",
            "Epoch 37/100\n",
            "125/125 - 1s - loss: 0.2553 - accuracy: 0.9234 - val_loss: 0.4415 - val_accuracy: 0.8727\n",
            "Epoch 38/100\n",
            "125/125 - 1s - loss: 0.2467 - accuracy: 0.9259 - val_loss: 0.4426 - val_accuracy: 0.8736\n",
            "Epoch 39/100\n",
            "125/125 - 1s - loss: 0.2385 - accuracy: 0.9279 - val_loss: 0.4446 - val_accuracy: 0.8736\n",
            "Epoch 40/100\n",
            "125/125 - 1s - loss: 0.2319 - accuracy: 0.9300 - val_loss: 0.4435 - val_accuracy: 0.8740\n",
            "Epoch 41/100\n",
            "125/125 - 1s - loss: 0.2265 - accuracy: 0.9314 - val_loss: 0.4454 - val_accuracy: 0.8741\n",
            "Epoch 42/100\n",
            "125/125 - 1s - loss: 0.2196 - accuracy: 0.9336 - val_loss: 0.4473 - val_accuracy: 0.8748\n",
            "Epoch 43/100\n",
            "125/125 - 1s - loss: 0.2135 - accuracy: 0.9354 - val_loss: 0.4521 - val_accuracy: 0.8739\n",
            "Epoch 44/100\n",
            "125/125 - 1s - loss: 0.2076 - accuracy: 0.9369 - val_loss: 0.4533 - val_accuracy: 0.8736\n",
            "Epoch 45/100\n",
            "125/125 - 1s - loss: 0.2025 - accuracy: 0.9386 - val_loss: 0.4521 - val_accuracy: 0.8739\n",
            "Epoch 46/100\n",
            "125/125 - 1s - loss: 0.1965 - accuracy: 0.9400 - val_loss: 0.4550 - val_accuracy: 0.8743\n",
            "Epoch 47/100\n",
            "125/125 - 1s - loss: 0.1905 - accuracy: 0.9421 - val_loss: 0.4604 - val_accuracy: 0.8742\n",
            "Epoch 48/100\n",
            "125/125 - 1s - loss: 0.1861 - accuracy: 0.9433 - val_loss: 0.4608 - val_accuracy: 0.8745\n",
            "Epoch 49/100\n",
            "125/125 - 1s - loss: 0.1789 - accuracy: 0.9458 - val_loss: 0.4635 - val_accuracy: 0.8748\n",
            "Epoch 50/100\n",
            "125/125 - 1s - loss: 0.1737 - accuracy: 0.9470 - val_loss: 0.4706 - val_accuracy: 0.8746\n",
            "Epoch 51/100\n",
            "125/125 - 1s - loss: 0.1685 - accuracy: 0.9487 - val_loss: 0.4741 - val_accuracy: 0.8745\n",
            "Epoch 52/100\n",
            "125/125 - 1s - loss: 0.1635 - accuracy: 0.9501 - val_loss: 0.4782 - val_accuracy: 0.8741\n",
            "Epoch 53/100\n",
            "125/125 - 1s - loss: 0.1583 - accuracy: 0.9515 - val_loss: 0.4782 - val_accuracy: 0.8749\n",
            "Epoch 54/100\n",
            "125/125 - 1s - loss: 0.1539 - accuracy: 0.9527 - val_loss: 0.4873 - val_accuracy: 0.8747\n",
            "Epoch 55/100\n",
            "125/125 - 1s - loss: 0.1492 - accuracy: 0.9543 - val_loss: 0.4868 - val_accuracy: 0.8740\n",
            "Epoch 56/100\n",
            "125/125 - 1s - loss: 0.1441 - accuracy: 0.9557 - val_loss: 0.4916 - val_accuracy: 0.8745\n",
            "Epoch 57/100\n",
            "125/125 - 1s - loss: 0.1391 - accuracy: 0.9574 - val_loss: 0.4978 - val_accuracy: 0.8740\n",
            "Epoch 58/100\n",
            "125/125 - 1s - loss: 0.1353 - accuracy: 0.9583 - val_loss: 0.5021 - val_accuracy: 0.8744\n",
            "Epoch 59/100\n",
            "125/125 - 1s - loss: 0.1309 - accuracy: 0.9595 - val_loss: 0.5104 - val_accuracy: 0.8728\n",
            "Epoch 60/100\n",
            "125/125 - 1s - loss: 0.1266 - accuracy: 0.9609 - val_loss: 0.5086 - val_accuracy: 0.8743\n",
            "Epoch 61/100\n",
            "125/125 - 1s - loss: 0.1234 - accuracy: 0.9618 - val_loss: 0.5195 - val_accuracy: 0.8734\n",
            "Epoch 62/100\n",
            "125/125 - 1s - loss: 0.1201 - accuracy: 0.9627 - val_loss: 0.5233 - val_accuracy: 0.8736\n",
            "Epoch 63/100\n",
            "125/125 - 1s - loss: 0.1178 - accuracy: 0.9635 - val_loss: 0.5269 - val_accuracy: 0.8732\n",
            "Epoch 64/100\n",
            "125/125 - 1s - loss: 0.1119 - accuracy: 0.9651 - val_loss: 0.5363 - val_accuracy: 0.8723\n",
            "Epoch 65/100\n",
            "125/125 - 1s - loss: 0.1092 - accuracy: 0.9660 - val_loss: 0.5361 - val_accuracy: 0.8741\n",
            "Epoch 66/100\n",
            "125/125 - 1s - loss: 0.1054 - accuracy: 0.9674 - val_loss: 0.5411 - val_accuracy: 0.8729\n",
            "Epoch 67/100\n",
            "125/125 - 1s - loss: 0.1020 - accuracy: 0.9683 - val_loss: 0.5486 - val_accuracy: 0.8731\n",
            "Epoch 68/100\n",
            "125/125 - 1s - loss: 0.0990 - accuracy: 0.9691 - val_loss: 0.5554 - val_accuracy: 0.8731\n",
            "Epoch 69/100\n",
            "125/125 - 1s - loss: 0.0959 - accuracy: 0.9701 - val_loss: 0.5638 - val_accuracy: 0.8714\n",
            "Epoch 70/100\n",
            "125/125 - 1s - loss: 0.0928 - accuracy: 0.9709 - val_loss: 0.5656 - val_accuracy: 0.8714\n",
            "Epoch 71/100\n",
            "125/125 - 1s - loss: 0.0897 - accuracy: 0.9720 - val_loss: 0.5757 - val_accuracy: 0.8715\n",
            "Epoch 72/100\n",
            "125/125 - 1s - loss: 0.0873 - accuracy: 0.9726 - val_loss: 0.5815 - val_accuracy: 0.8723\n",
            "Epoch 73/100\n",
            "125/125 - 1s - loss: 0.0857 - accuracy: 0.9730 - val_loss: 0.5820 - val_accuracy: 0.8712\n",
            "Epoch 74/100\n",
            "125/125 - 1s - loss: 0.0829 - accuracy: 0.9737 - val_loss: 0.5917 - val_accuracy: 0.8722\n",
            "Epoch 75/100\n",
            "125/125 - 1s - loss: 0.0798 - accuracy: 0.9750 - val_loss: 0.6003 - val_accuracy: 0.8716\n",
            "Epoch 76/100\n",
            "125/125 - 1s - loss: 0.0777 - accuracy: 0.9753 - val_loss: 0.6011 - val_accuracy: 0.8716\n",
            "Epoch 77/100\n",
            "125/125 - 1s - loss: 0.0768 - accuracy: 0.9755 - val_loss: 0.6078 - val_accuracy: 0.8712\n",
            "Epoch 78/100\n",
            "125/125 - 1s - loss: 0.0740 - accuracy: 0.9765 - val_loss: 0.6139 - val_accuracy: 0.8702\n",
            "Epoch 79/100\n",
            "125/125 - 1s - loss: 0.0722 - accuracy: 0.9769 - val_loss: 0.6116 - val_accuracy: 0.8713\n",
            "Epoch 80/100\n",
            "125/125 - 1s - loss: 0.0700 - accuracy: 0.9776 - val_loss: 0.6188 - val_accuracy: 0.8711\n",
            "Epoch 81/100\n",
            "125/125 - 1s - loss: 0.0674 - accuracy: 0.9783 - val_loss: 0.6339 - val_accuracy: 0.8705\n",
            "Epoch 82/100\n",
            "125/125 - 1s - loss: 0.0661 - accuracy: 0.9789 - val_loss: 0.6329 - val_accuracy: 0.8696\n",
            "Epoch 83/100\n",
            "125/125 - 1s - loss: 0.0656 - accuracy: 0.9788 - val_loss: 0.6430 - val_accuracy: 0.8699\n",
            "Epoch 84/100\n",
            "125/125 - 1s - loss: 0.0622 - accuracy: 0.9798 - val_loss: 0.6471 - val_accuracy: 0.8700\n",
            "Epoch 85/100\n",
            "125/125 - 1s - loss: 0.0626 - accuracy: 0.9799 - val_loss: 0.6497 - val_accuracy: 0.8701\n",
            "Epoch 86/100\n",
            "125/125 - 1s - loss: 0.0606 - accuracy: 0.9803 - val_loss: 0.6535 - val_accuracy: 0.8704\n",
            "Epoch 87/100\n",
            "125/125 - 1s - loss: 0.0580 - accuracy: 0.9812 - val_loss: 0.6612 - val_accuracy: 0.8700\n",
            "Epoch 88/100\n",
            "125/125 - 1s - loss: 0.0566 - accuracy: 0.9816 - val_loss: 0.6590 - val_accuracy: 0.8705\n",
            "Epoch 89/100\n",
            "125/125 - 1s - loss: 0.0562 - accuracy: 0.9814 - val_loss: 0.6663 - val_accuracy: 0.8702\n",
            "Epoch 90/100\n",
            "125/125 - 1s - loss: 0.0556 - accuracy: 0.9818 - val_loss: 0.6725 - val_accuracy: 0.8706\n",
            "Epoch 91/100\n",
            "125/125 - 1s - loss: 0.0554 - accuracy: 0.9818 - val_loss: 0.6832 - val_accuracy: 0.8697\n",
            "Epoch 92/100\n",
            "125/125 - 1s - loss: 0.0526 - accuracy: 0.9826 - val_loss: 0.6801 - val_accuracy: 0.8708\n",
            "Epoch 93/100\n",
            "125/125 - 1s - loss: 0.0512 - accuracy: 0.9831 - val_loss: 0.6903 - val_accuracy: 0.8706\n",
            "Epoch 94/100\n",
            "125/125 - 1s - loss: 0.0501 - accuracy: 0.9834 - val_loss: 0.6963 - val_accuracy: 0.8698\n",
            "Epoch 95/100\n",
            "125/125 - 1s - loss: 0.0492 - accuracy: 0.9834 - val_loss: 0.6912 - val_accuracy: 0.8704\n",
            "Epoch 96/100\n",
            "125/125 - 1s - loss: 0.0472 - accuracy: 0.9841 - val_loss: 0.6964 - val_accuracy: 0.8693\n",
            "Epoch 97/100\n",
            "125/125 - 1s - loss: 0.0473 - accuracy: 0.9842 - val_loss: 0.7073 - val_accuracy: 0.8692\n",
            "Epoch 98/100\n",
            "125/125 - 1s - loss: 0.0464 - accuracy: 0.9842 - val_loss: 0.7144 - val_accuracy: 0.8688\n",
            "Epoch 99/100\n",
            "125/125 - 1s - loss: 0.0465 - accuracy: 0.9843 - val_loss: 0.7095 - val_accuracy: 0.8688\n",
            "Epoch 100/100\n",
            "125/125 - 1s - loss: 0.0456 - accuracy: 0.9844 - val_loss: 0.7178 - val_accuracy: 0.8691\n",
            "WARNING:tensorflow:From /usr/local/lib/python3.6/dist-packages/tensorflow/python/training/tracking/tracking.py:111: Model.state_updates (from tensorflow.python.keras.engine.training) is deprecated and will be removed in a future version.\n",
            "Instructions for updating:\n",
            "This property should not be used in TensorFlow 2.0, as updates are applied automatically.\n",
            "WARNING:tensorflow:From /usr/local/lib/python3.6/dist-packages/tensorflow/python/training/tracking/tracking.py:111: Layer.updates (from tensorflow.python.keras.engine.base_layer) is deprecated and will be removed in a future version.\n",
            "Instructions for updating:\n",
            "This property should not be used in TensorFlow 2.0, as updates are applied automatically.\n",
            "INFO:tensorflow:Assets written to: LanguageModel/assets\n"
          ],
          "name": "stdout"
        }
      ]
    },
    {
      "cell_type": "code",
      "metadata": {
        "id": "WTXNiZvvYJNd"
      },
      "source": [
        "#The above model is overfit and great improvement can be made by regularization\n",
        "#Predictions\n",
        "mymodel = keras.models.load_model('LanguageModel')#Load the saved model from disk/drive\n",
        "encoder_inputs = mymodel.input[0] #Retrieve the first input (lstm_encoder's input)\n",
        "encoder_outputs, state_h_enc, state_c_enc = mymodel.layers[2].output #From the encoder LSTM (3rd layer is the output layer)\n",
        "encoder_states1 = [state_h_enc, state_c_enc] #Grabs the input for the decoder in the 2nd lstm model\n",
        "encoder_model = keras.Model(inputs = encoder_inputs, outputs = encoder_states1) #Get the context for the decoder\n",
        "### do similar for the decoder...retrieves the layers and fit \n",
        "decoder_inputs = mymodel.input[1]#grab the inputs for the 2nd lstm\n",
        "decoder_input_state_h = keras.Input(shape = (latent_dim,), name = 'input_3')\n",
        "decoder_input_state_c = keras.Input(shape = (latent_dim,), name = 'input_4')\n",
        "decoder_states_inputs = [decoder_input_state_h, decoder_input_state_c]\n",
        "decoder_lstm1 = mymodel.layers[3] #grab the lstm layer for the decoder\n",
        "decoder_outputs, decoder_state_h, decoder_state_c =decoder_lstm1(decoder_inputs, initial_state = decoder_states_inputs)\n",
        "decoder_states = [decoder_state_h, decoder_state_c]\n",
        "decoder_dense = mymodel.layers[4]\n",
        "decoder_outputs = decoder_dense(decoder_outputs)\n",
        "decoder_model = keras.Model([decoder_inputs]+decoder_states_inputs, [decoder_outputs]+decoder_states)\n",
        "\n",
        "#Re-index the sequences to obtain meaningful sentences\n",
        "reverse_input_char_index = dict((i, char) for char, i in input_token_index.items())\n",
        "reverse_target_char_index = dict((i, char) for char, i in target_token_index.items())\n",
        "\n",
        "\n",
        "def decode_sequence(input_seq):\n",
        "    # Encode the input as state vectors.\n",
        "    states_value = encoder_model.predict(input_seq)\n",
        "\n",
        "    # Generate empty target sequence of length 1.\n",
        "    target_seq = np.zeros((1, 1, num_decoder_tokens))\n",
        "    # Populate the first character of target sequence with the start character.\n",
        "    target_seq[0, 0, target_token_index[\"\\t\"]] = 1.0\n",
        "\n",
        "    # Sampling loop for a batch of sequences\n",
        "    # (to simplify, here we assume a batch of size 1).\n",
        "    stop_condition = False\n",
        "    decoded_sentence = \"\"\n",
        "    while not stop_condition:\n",
        "        output_tokens, h, c = decoder_model.predict([target_seq] + states_value)\n",
        "\n",
        "        # Sample a token\n",
        "        sampled_token_index = np.argmax(output_tokens[0, -1, :])\n",
        "        sampled_char = reverse_target_char_index[sampled_token_index]\n",
        "        decoded_sentence += sampled_char\n",
        "\n",
        "        # Exit condition: either hit max length\n",
        "        # or find stop character.\n",
        "        if sampled_char == \"\\n\" or len(decoded_sentence) > max_decoder_seq_len:\n",
        "            stop_condition = True\n",
        "\n",
        "        # Update the target sequence (of length 1).\n",
        "        target_seq = np.zeros((1, 1, num_decoder_tokens))\n",
        "        target_seq[0, 0, sampled_token_index] = 1.0\n",
        "\n",
        "        # Update states\n",
        "        states_value = [h, c]\n",
        "    return decoded_sentence\n",
        "\n",
        "\n",
        "\n",
        "\n"
      ],
      "execution_count": 14,
      "outputs": []
    },
    {
      "cell_type": "code",
      "metadata": {
        "id": "WTiARFIjkO1D",
        "outputId": "099da29e-ef18-4d5a-917b-c743c00b403c",
        "colab": {
          "base_uri": "https://localhost:8080/"
        }
      },
      "source": [
        "decoder_model.summary()"
      ],
      "execution_count": 15,
      "outputs": [
        {
          "output_type": "stream",
          "text": [
            "Model: \"functional_7\"\n",
            "__________________________________________________________________________________________________\n",
            "Layer (type)                    Output Shape         Param #     Connected to                     \n",
            "==================================================================================================\n",
            "input_2 (InputLayer)            [(None, None, 93)]   0                                            \n",
            "__________________________________________________________________________________________________\n",
            "input_3 (InputLayer)            [(None, 256)]        0                                            \n",
            "__________________________________________________________________________________________________\n",
            "input_4 (InputLayer)            [(None, 256)]        0                                            \n",
            "__________________________________________________________________________________________________\n",
            "lstm_1 (LSTM)                   [(None, None, 256),  358400      input_2[0][0]                    \n",
            "                                                                 input_3[0][0]                    \n",
            "                                                                 input_4[0][0]                    \n",
            "__________________________________________________________________________________________________\n",
            "dense (Dense)                   (None, None, 93)     23901       lstm_1[1][0]                     \n",
            "==================================================================================================\n",
            "Total params: 382,301\n",
            "Trainable params: 382,301\n",
            "Non-trainable params: 0\n",
            "__________________________________________________________________________________________________\n"
          ],
          "name": "stdout"
        }
      ]
    },
    {
      "cell_type": "code",
      "metadata": {
        "id": "2-BG9bsB87cR",
        "outputId": "52dcce97-13ee-4b5a-f589-9d9fc7127447",
        "colab": {
          "base_uri": "https://localhost:8080/"
        }
      },
      "source": [
        "encoder_model.summary()"
      ],
      "execution_count": 16,
      "outputs": [
        {
          "output_type": "stream",
          "text": [
            "Model: \"functional_5\"\n",
            "_________________________________________________________________\n",
            "Layer (type)                 Output Shape              Param #   \n",
            "=================================================================\n",
            "input_1 (InputLayer)         [(None, None, 71)]        0         \n",
            "_________________________________________________________________\n",
            "lstm (LSTM)                  [(None, 256), (None, 256) 335872    \n",
            "=================================================================\n",
            "Total params: 335,872\n",
            "Trainable params: 335,872\n",
            "Non-trainable params: 0\n",
            "_________________________________________________________________\n"
          ],
          "name": "stdout"
        }
      ]
    },
    {
      "cell_type": "code",
      "metadata": {
        "id": "nLOHC6Mp-YuS",
        "outputId": "2b39e8e7-e49c-4924-b297-8dff3e1a22e3",
        "colab": {
          "base_uri": "https://localhost:8080/"
        }
      },
      "source": [
        "#Generating the predicted sentences(Decoded)\n",
        "for seq_index in range(20):\n",
        "    # Take one sequence (part of the training set)\n",
        "    # for trying out decoding.\n",
        "    input_seq = encoder_input_data[seq_index : seq_index + 1]\n",
        "    decoded_sentence = decode_sequence(input_seq)\n",
        "    print(\"-----------*----------\")\n",
        "    print(\"English sentence:\", input_texts[seq_index])\n",
        "    print(\"French sentence:\", decoded_sentence)"
      ],
      "execution_count": 19,
      "outputs": [
        {
          "output_type": "stream",
          "text": [
            "-----------*----------\n",
            "English sentence: Go.\n",
            "French sentence: Va !\n",
            "\n",
            "-----------*----------\n",
            "English sentence: Hi.\n",
            "French sentence: Salut !\n",
            "\n",
            "-----------*----------\n",
            "English sentence: Hi.\n",
            "French sentence: Salut !\n",
            "\n",
            "-----------*----------\n",
            "English sentence: Run!\n",
            "French sentence: Courez !\n",
            "\n",
            "-----------*----------\n",
            "English sentence: Run!\n",
            "French sentence: Courez !\n",
            "\n",
            "-----------*----------\n",
            "English sentence: Who?\n",
            "French sentence: Qui ?\n",
            "\n",
            "-----------*----------\n",
            "English sentence: Wow!\n",
            "French sentence: Ça alors !\n",
            "\n",
            "-----------*----------\n",
            "English sentence: Fire!\n",
            "French sentence: Au feu !\n",
            "\n",
            "-----------*----------\n",
            "English sentence: Help!\n",
            "French sentence: À l'aide !\n",
            "\n",
            "-----------*----------\n",
            "English sentence: Jump.\n",
            "French sentence: Saute.\n",
            "\n",
            "-----------*----------\n",
            "English sentence: Stop!\n",
            "French sentence: Ça suffit !\n",
            "\n",
            "-----------*----------\n",
            "English sentence: Stop!\n",
            "French sentence: Ça suffit !\n",
            "\n",
            "-----------*----------\n",
            "English sentence: Stop!\n",
            "French sentence: Ça suffit !\n",
            "\n",
            "-----------*----------\n",
            "English sentence: Wait!\n",
            "French sentence: Attendez !\n",
            "\n",
            "-----------*----------\n",
            "English sentence: Wait!\n",
            "French sentence: Attendez !\n",
            "\n",
            "-----------*----------\n",
            "English sentence: Go on.\n",
            "French sentence: Continuez.\n",
            "\n",
            "-----------*----------\n",
            "English sentence: Go on.\n",
            "French sentence: Continuez.\n",
            "\n",
            "-----------*----------\n",
            "English sentence: Go on.\n",
            "French sentence: Continuez.\n",
            "\n",
            "-----------*----------\n",
            "English sentence: Hello!\n",
            "French sentence: Salut !\n",
            "\n",
            "-----------*----------\n",
            "English sentence: Hello!\n",
            "French sentence: Salut !\n",
            "\n"
          ],
          "name": "stdout"
        }
      ]
    },
    {
      "cell_type": "code",
      "metadata": {
        "id": "9e4yI0cB-v9C"
      },
      "source": [
        ""
      ],
      "execution_count": null,
      "outputs": []
    }
  ]
}