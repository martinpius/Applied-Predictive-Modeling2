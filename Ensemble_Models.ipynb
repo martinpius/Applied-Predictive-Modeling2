{
  "nbformat": 4,
  "nbformat_minor": 0,
  "metadata": {
    "colab": {
      "name": "Ensemble Models.ipynb",
      "provenance": [],
      "authorship_tag": "ABX9TyOARNW1qzgEHF5I2HMJ4e+m",
      "include_colab_link": true
    },
    "kernelspec": {
      "name": "python3",
      "display_name": "Python 3"
    },
    "accelerator": "GPU"
  },
  "cells": [
    {
      "cell_type": "markdown",
      "metadata": {
        "id": "view-in-github",
        "colab_type": "text"
      },
      "source": [
        "<a href=\"https://colab.research.google.com/github/martinpius/Applied-Predictive-Modeling2/blob/master/Ensemble_Models.ipynb\" target=\"_parent\"><img src=\"https://colab.research.google.com/assets/colab-badge.svg\" alt=\"Open In Colab\"/></a>"
      ]
    },
    {
      "cell_type": "code",
      "metadata": {
        "id": "iNwOXmS5B6YS"
      },
      "source": [
        "#Print the correct tensorflow version "
      ],
      "execution_count": 1,
      "outputs": []
    },
    {
      "cell_type": "code",
      "metadata": {
        "id": "xy9-AcPXCiTa",
        "outputId": "2ca97fde-c3ab-4436-80ea-d0a178fe253d",
        "colab": {
          "base_uri": "https://localhost:8080/",
          "height": 51
        }
      },
      "source": [
        "from google.colab import drive\n",
        "try:\n",
        "  drive.mount('/content/drive/',force_remount = True)\n",
        "  COLAB = True\n",
        "  print(\"Google colab is on\")\n",
        "  %tensorflow_version 2.x\n",
        "except:\n",
        "  COLAB = False\n",
        "  print(\"Not using Google Colab\")"
      ],
      "execution_count": 1,
      "outputs": [
        {
          "output_type": "stream",
          "text": [
            "Mounted at /content/drive/\n",
            "Google colab is on\n"
          ],
          "name": "stdout"
        }
      ]
    },
    {
      "cell_type": "code",
      "metadata": {
        "id": "V8st7ZYrEPjZ"
      },
      "source": [
        "#Time formatter\n",
        "def time_fmt(secs):\n",
        "  hours = int(secs/(60*60))\n",
        "  minutes = int(secs%(60*60)/60)\n",
        "  seconds = int(secs%60)\n",
        "  return f\"{hours}:{minutes:>02}:{seconds:>05.2f}\""
      ],
      "execution_count": 135,
      "outputs": []
    },
    {
      "cell_type": "code",
      "metadata": {
        "id": "NEN4Gj5CFKCr"
      },
      "source": [
        "#Pertubation implementation to variable importance for NNT"
      ],
      "execution_count": 3,
      "outputs": []
    },
    {
      "cell_type": "code",
      "metadata": {
        "id": "D9rYndBhIomj"
      },
      "source": [
        "import scipy as sc\n",
        "import numpy as np\n",
        "from sklearn import metrics\n",
        "import math\n",
        "import pandas as pd\n"
      ],
      "execution_count": 136,
      "outputs": []
    },
    {
      "cell_type": "code",
      "metadata": {
        "id": "_myYYLgdMf1s"
      },
      "source": [
        "#This function will compute the loss for a regression and classification model\n",
        "#To provide usefull information in computing variable's importance\n",
        "#First we select all columns from a test dataset\n",
        "#Second we randomly shuffles every columns to distort any parttern\n",
        "#If the fitted model is a regression we compute MSE otherwise we compute log-loss\n",
        "#We compute variable importance by take the ratio of individual error vs maximum error\n",
        "#We prepare a results dictionary which is finaly conveted to a dataframe."
      ],
      "execution_count": 137,
      "outputs": []
    },
    {
      "cell_type": "code",
      "metadata": {
        "id": "msA56q1aJBzV"
      },
      "source": [
        "def var_rank(model, x, y, names, regression):\n",
        "  errors = []\n",
        "  for i in range(x.shape[1]):\n",
        "    hold = np.array(x[:,i])\n",
        "    np.random.shuffle(x[:,i])\n",
        "    if regression:\n",
        "      pred = model.predict(x)\n",
        "      err = metrics.mean_squared_error(y,pred)\n",
        "    else:\n",
        "      pred = model.predict_proba(x)\n",
        "      err = metrics.log_loss(y, pred)\n",
        "    errors.append(err)\n",
        "    x[:,i] = hold\n",
        "  e_max = np.max(errors) \n",
        "  importance = [e/e_max for e in errors]\n",
        "  data = {'names': names,'errors': errors, 'importance': importance}\n",
        "  out = pd.DataFrame(data, columns = ['names', 'errors', 'importance'])\n",
        "  out.sort_values(by = ['importance'], ascending = [0],inplace = True)\n",
        "  out.reset_index(inplace = True, drop = True)\n",
        "  return out\n",
        "\n",
        "\n"
      ],
      "execution_count": 161,
      "outputs": []
    },
    {
      "cell_type": "code",
      "metadata": {
        "id": "4HAXyp2ENzv8"
      },
      "source": [
        "#Build a Keras Sequential model for classification using Iris dataset"
      ],
      "execution_count": 139,
      "outputs": []
    },
    {
      "cell_type": "code",
      "metadata": {
        "id": "-FtI76BNbYUo"
      },
      "source": [
        "#Loading the packages\n",
        "import numpy as np\n",
        "import matplotlib.pyplot as plt\n",
        "import os\n",
        "import time\n",
        "import tensorflow as tf\n",
        "from tensorflow.keras.layers import Dense, Activation\n",
        "from tensorflow.keras.models import Sequential\n",
        "from sklearn import metrics\n",
        "from tensorflow.keras.callbacks import EarlyStopping\n",
        "from sklearn.model_selection import train_test_split\n",
        "from scipy.stats import zscore\n",
        "import pandas as pd\n"
      ],
      "execution_count": 140,
      "outputs": []
    },
    {
      "cell_type": "code",
      "metadata": {
        "id": "5Sq8HwPCcc23"
      },
      "source": [
        "iris = pd.read_csv(\"https://data.heatonresearch.com/data/t81-558/iris.csv\",\n",
        "                   na_values = ['NA','?'])"
      ],
      "execution_count": 141,
      "outputs": []
    },
    {
      "cell_type": "code",
      "metadata": {
        "id": "WK-2Wycfc72Q",
        "outputId": "4d11dc88-ccd5-4765-8419-e8d82daee7d3",
        "colab": {
          "base_uri": "https://localhost:8080/",
          "height": 359
        }
      },
      "source": [
        "display(iris.head(10))"
      ],
      "execution_count": 142,
      "outputs": [
        {
          "output_type": "display_data",
          "data": {
            "text/html": [
              "<div>\n",
              "<style scoped>\n",
              "    .dataframe tbody tr th:only-of-type {\n",
              "        vertical-align: middle;\n",
              "    }\n",
              "\n",
              "    .dataframe tbody tr th {\n",
              "        vertical-align: top;\n",
              "    }\n",
              "\n",
              "    .dataframe thead th {\n",
              "        text-align: right;\n",
              "    }\n",
              "</style>\n",
              "<table border=\"1\" class=\"dataframe\">\n",
              "  <thead>\n",
              "    <tr style=\"text-align: right;\">\n",
              "      <th></th>\n",
              "      <th>sepal_l</th>\n",
              "      <th>sepal_w</th>\n",
              "      <th>petal_l</th>\n",
              "      <th>petal_w</th>\n",
              "      <th>species</th>\n",
              "    </tr>\n",
              "  </thead>\n",
              "  <tbody>\n",
              "    <tr>\n",
              "      <th>0</th>\n",
              "      <td>5.1</td>\n",
              "      <td>3.5</td>\n",
              "      <td>1.4</td>\n",
              "      <td>0.2</td>\n",
              "      <td>Iris-setosa</td>\n",
              "    </tr>\n",
              "    <tr>\n",
              "      <th>1</th>\n",
              "      <td>4.9</td>\n",
              "      <td>3.0</td>\n",
              "      <td>1.4</td>\n",
              "      <td>0.2</td>\n",
              "      <td>Iris-setosa</td>\n",
              "    </tr>\n",
              "    <tr>\n",
              "      <th>2</th>\n",
              "      <td>4.7</td>\n",
              "      <td>3.2</td>\n",
              "      <td>1.3</td>\n",
              "      <td>0.2</td>\n",
              "      <td>Iris-setosa</td>\n",
              "    </tr>\n",
              "    <tr>\n",
              "      <th>3</th>\n",
              "      <td>4.6</td>\n",
              "      <td>3.1</td>\n",
              "      <td>1.5</td>\n",
              "      <td>0.2</td>\n",
              "      <td>Iris-setosa</td>\n",
              "    </tr>\n",
              "    <tr>\n",
              "      <th>4</th>\n",
              "      <td>5.0</td>\n",
              "      <td>3.6</td>\n",
              "      <td>1.4</td>\n",
              "      <td>0.2</td>\n",
              "      <td>Iris-setosa</td>\n",
              "    </tr>\n",
              "    <tr>\n",
              "      <th>5</th>\n",
              "      <td>5.4</td>\n",
              "      <td>3.9</td>\n",
              "      <td>1.7</td>\n",
              "      <td>0.4</td>\n",
              "      <td>Iris-setosa</td>\n",
              "    </tr>\n",
              "    <tr>\n",
              "      <th>6</th>\n",
              "      <td>4.6</td>\n",
              "      <td>3.4</td>\n",
              "      <td>1.4</td>\n",
              "      <td>0.3</td>\n",
              "      <td>Iris-setosa</td>\n",
              "    </tr>\n",
              "    <tr>\n",
              "      <th>7</th>\n",
              "      <td>5.0</td>\n",
              "      <td>3.4</td>\n",
              "      <td>1.5</td>\n",
              "      <td>0.2</td>\n",
              "      <td>Iris-setosa</td>\n",
              "    </tr>\n",
              "    <tr>\n",
              "      <th>8</th>\n",
              "      <td>4.4</td>\n",
              "      <td>2.9</td>\n",
              "      <td>1.4</td>\n",
              "      <td>0.2</td>\n",
              "      <td>Iris-setosa</td>\n",
              "    </tr>\n",
              "    <tr>\n",
              "      <th>9</th>\n",
              "      <td>4.9</td>\n",
              "      <td>3.1</td>\n",
              "      <td>1.5</td>\n",
              "      <td>0.1</td>\n",
              "      <td>Iris-setosa</td>\n",
              "    </tr>\n",
              "  </tbody>\n",
              "</table>\n",
              "</div>"
            ],
            "text/plain": [
              "   sepal_l  sepal_w  petal_l  petal_w      species\n",
              "0      5.1      3.5      1.4      0.2  Iris-setosa\n",
              "1      4.9      3.0      1.4      0.2  Iris-setosa\n",
              "2      4.7      3.2      1.3      0.2  Iris-setosa\n",
              "3      4.6      3.1      1.5      0.2  Iris-setosa\n",
              "4      5.0      3.6      1.4      0.2  Iris-setosa\n",
              "5      5.4      3.9      1.7      0.4  Iris-setosa\n",
              "6      4.6      3.4      1.4      0.3  Iris-setosa\n",
              "7      5.0      3.4      1.5      0.2  Iris-setosa\n",
              "8      4.4      2.9      1.4      0.2  Iris-setosa\n",
              "9      4.9      3.1      1.5      0.1  Iris-setosa"
            ]
          },
          "metadata": {
            "tags": []
          }
        }
      ]
    },
    {
      "cell_type": "code",
      "metadata": {
        "id": "Y0ZmARMTdBxO",
        "outputId": "abc5c544-cccf-4ecb-c5e5-e6fc8c6cfb2c",
        "colab": {
          "base_uri": "https://localhost:8080/",
          "height": 68
        }
      },
      "source": [
        "iris.isna().value_counts()"
      ],
      "execution_count": 143,
      "outputs": [
        {
          "output_type": "execute_result",
          "data": {
            "text/plain": [
              "sepal_l  sepal_w  petal_l  petal_w  species\n",
              "False    False    False    False    False      150\n",
              "dtype: int64"
            ]
          },
          "metadata": {
            "tags": []
          },
          "execution_count": 143
        }
      ]
    },
    {
      "cell_type": "code",
      "metadata": {
        "id": "L0oZ0CG6hs_g"
      },
      "source": [
        "dummies = pd.get_dummies(iris['species'])\n",
        "y = dummies.values\n",
        "\n"
      ],
      "execution_count": 108,
      "outputs": []
    },
    {
      "cell_type": "code",
      "metadata": {
        "id": "gnGuAxAUdnS8"
      },
      "source": [
        "x = iris.drop(columns = ['species'],axis = 1)"
      ],
      "execution_count": 144,
      "outputs": []
    },
    {
      "cell_type": "code",
      "metadata": {
        "id": "ppWEVc3regJ1",
        "outputId": "b7d34a36-fb68-44cb-e337-43c442137191",
        "colab": {
          "base_uri": "https://localhost:8080/",
          "height": 204
        }
      },
      "source": [
        "x.head()"
      ],
      "execution_count": 145,
      "outputs": [
        {
          "output_type": "execute_result",
          "data": {
            "text/html": [
              "<div>\n",
              "<style scoped>\n",
              "    .dataframe tbody tr th:only-of-type {\n",
              "        vertical-align: middle;\n",
              "    }\n",
              "\n",
              "    .dataframe tbody tr th {\n",
              "        vertical-align: top;\n",
              "    }\n",
              "\n",
              "    .dataframe thead th {\n",
              "        text-align: right;\n",
              "    }\n",
              "</style>\n",
              "<table border=\"1\" class=\"dataframe\">\n",
              "  <thead>\n",
              "    <tr style=\"text-align: right;\">\n",
              "      <th></th>\n",
              "      <th>sepal_l</th>\n",
              "      <th>sepal_w</th>\n",
              "      <th>petal_l</th>\n",
              "      <th>petal_w</th>\n",
              "    </tr>\n",
              "  </thead>\n",
              "  <tbody>\n",
              "    <tr>\n",
              "      <th>0</th>\n",
              "      <td>5.1</td>\n",
              "      <td>3.5</td>\n",
              "      <td>1.4</td>\n",
              "      <td>0.2</td>\n",
              "    </tr>\n",
              "    <tr>\n",
              "      <th>1</th>\n",
              "      <td>4.9</td>\n",
              "      <td>3.0</td>\n",
              "      <td>1.4</td>\n",
              "      <td>0.2</td>\n",
              "    </tr>\n",
              "    <tr>\n",
              "      <th>2</th>\n",
              "      <td>4.7</td>\n",
              "      <td>3.2</td>\n",
              "      <td>1.3</td>\n",
              "      <td>0.2</td>\n",
              "    </tr>\n",
              "    <tr>\n",
              "      <th>3</th>\n",
              "      <td>4.6</td>\n",
              "      <td>3.1</td>\n",
              "      <td>1.5</td>\n",
              "      <td>0.2</td>\n",
              "    </tr>\n",
              "    <tr>\n",
              "      <th>4</th>\n",
              "      <td>5.0</td>\n",
              "      <td>3.6</td>\n",
              "      <td>1.4</td>\n",
              "      <td>0.2</td>\n",
              "    </tr>\n",
              "  </tbody>\n",
              "</table>\n",
              "</div>"
            ],
            "text/plain": [
              "   sepal_l  sepal_w  petal_l  petal_w\n",
              "0      5.1      3.5      1.4      0.2\n",
              "1      4.9      3.0      1.4      0.2\n",
              "2      4.7      3.2      1.3      0.2\n",
              "3      4.6      3.1      1.5      0.2\n",
              "4      5.0      3.6      1.4      0.2"
            ]
          },
          "metadata": {
            "tags": []
          },
          "execution_count": 145
        }
      ]
    },
    {
      "cell_type": "code",
      "metadata": {
        "id": "U3aS4FrIe0Jt",
        "outputId": "413ce989-7c1d-4d56-d6b5-3e7ab9110156",
        "colab": {
          "base_uri": "https://localhost:8080/",
          "height": 51
        }
      },
      "source": [
        "x = x.values\n",
        "x[0:2]"
      ],
      "execution_count": 146,
      "outputs": [
        {
          "output_type": "execute_result",
          "data": {
            "text/plain": [
              "array([[5.1, 3.5, 1.4, 0.2],\n",
              "       [4.9, 3. , 1.4, 0.2]])"
            ]
          },
          "metadata": {
            "tags": []
          },
          "execution_count": 146
        }
      ]
    },
    {
      "cell_type": "code",
      "metadata": {
        "id": "askSfU8qe9Js"
      },
      "source": [
        "#Split the data into train and test sets"
      ],
      "execution_count": 147,
      "outputs": []
    },
    {
      "cell_type": "code",
      "metadata": {
        "id": "nJKMwDsofSO9"
      },
      "source": [
        "x_train, x_test, y_train,y_test = train_test_split(x,y, test_size = 0.25, random_state = 42)"
      ],
      "execution_count": 148,
      "outputs": []
    },
    {
      "cell_type": "code",
      "metadata": {
        "id": "DJNy0u-bflFZ",
        "outputId": "7a940379-b6fe-45a3-9968-4f47e2baab92",
        "colab": {
          "base_uri": "https://localhost:8080/",
          "height": 51
        }
      },
      "source": [
        "x_train[0:2]"
      ],
      "execution_count": 149,
      "outputs": [
        {
          "output_type": "execute_result",
          "data": {
            "text/plain": [
              "array([[5. , 3.6, 1.4, 0.2],\n",
              "       [5.2, 4.1, 1.5, 0.1]])"
            ]
          },
          "metadata": {
            "tags": []
          },
          "execution_count": 149
        }
      ]
    },
    {
      "cell_type": "code",
      "metadata": {
        "id": "_b6xjtF8fqB8",
        "outputId": "bfddcd14-b6db-46a3-8427-396137856684",
        "colab": {
          "base_uri": "https://localhost:8080/",
          "height": 51
        }
      },
      "source": [
        "y_train[0:2]"
      ],
      "execution_count": 150,
      "outputs": [
        {
          "output_type": "execute_result",
          "data": {
            "text/plain": [
              "array([[1, 0, 0],\n",
              "       [1, 0, 0]], dtype=uint8)"
            ]
          },
          "metadata": {
            "tags": []
          },
          "execution_count": 150
        }
      ]
    },
    {
      "cell_type": "code",
      "metadata": {
        "id": "w0GPmXZbf2Pz",
        "outputId": "64d1a90d-2b0c-429f-f709-34750cbd38ee",
        "colab": {
          "base_uri": "https://localhost:8080/",
          "height": 1000
        }
      },
      "source": [
        "#Building keras Sequential NNT for classifying Iris flowers\n",
        "model = Sequential()\n",
        "model.add(Dense(50, input_dim = x.shape[1], activation = 'relu',kernel_initializer = 'random_normal'))\n",
        "model.add(Dense(25, activation = 'relu', kernel_initializer = 'random_normal'))\n",
        "model.add(Dense(y.shape[1], activation = 'softmax'))\n",
        "model.compile(loss = 'categorical_crossentropy', optimizer = 'adam')\n",
        "#info = EarlyStopping(monitor = 'val_loss',min_delta = 1e-3,patience = 5,verbose = 1, restore_best_weights = True)\n",
        "model.fit(x_train, y_train, validation_data = (x_test, y_test), verbose = 2, epochs = 100)"
      ],
      "execution_count": 151,
      "outputs": [
        {
          "output_type": "stream",
          "text": [
            "Epoch 1/100\n",
            "4/4 - 0s - loss: 1.1338 - val_loss: 1.1061\n",
            "Epoch 2/100\n",
            "4/4 - 0s - loss: 1.0979 - val_loss: 1.0848\n",
            "Epoch 3/100\n",
            "4/4 - 0s - loss: 1.0865 - val_loss: 1.0755\n",
            "Epoch 4/100\n",
            "4/4 - 0s - loss: 1.0782 - val_loss: 1.0684\n",
            "Epoch 5/100\n",
            "4/4 - 0s - loss: 1.0708 - val_loss: 1.0595\n",
            "Epoch 6/100\n",
            "4/4 - 0s - loss: 1.0641 - val_loss: 1.0509\n",
            "Epoch 7/100\n",
            "4/4 - 0s - loss: 1.0572 - val_loss: 1.0416\n",
            "Epoch 8/100\n",
            "4/4 - 0s - loss: 1.0506 - val_loss: 1.0333\n",
            "Epoch 9/100\n",
            "4/4 - 0s - loss: 1.0419 - val_loss: 1.0220\n",
            "Epoch 10/100\n",
            "4/4 - 0s - loss: 1.0334 - val_loss: 1.0108\n",
            "Epoch 11/100\n",
            "4/4 - 0s - loss: 1.0240 - val_loss: 0.9985\n",
            "Epoch 12/100\n",
            "4/4 - 0s - loss: 1.0130 - val_loss: 0.9850\n",
            "Epoch 13/100\n",
            "4/4 - 0s - loss: 1.0027 - val_loss: 0.9699\n",
            "Epoch 14/100\n",
            "4/4 - 0s - loss: 0.9895 - val_loss: 0.9553\n",
            "Epoch 15/100\n",
            "4/4 - 0s - loss: 0.9759 - val_loss: 0.9386\n",
            "Epoch 16/100\n",
            "4/4 - 0s - loss: 0.9630 - val_loss: 0.9198\n",
            "Epoch 17/100\n",
            "4/4 - 0s - loss: 0.9479 - val_loss: 0.9021\n",
            "Epoch 18/100\n",
            "4/4 - 0s - loss: 0.9324 - val_loss: 0.8830\n",
            "Epoch 19/100\n",
            "4/4 - 0s - loss: 0.9162 - val_loss: 0.8636\n",
            "Epoch 20/100\n",
            "4/4 - 0s - loss: 0.8998 - val_loss: 0.8437\n",
            "Epoch 21/100\n",
            "4/4 - 0s - loss: 0.8828 - val_loss: 0.8239\n",
            "Epoch 22/100\n",
            "4/4 - 0s - loss: 0.8658 - val_loss: 0.8036\n",
            "Epoch 23/100\n",
            "4/4 - 0s - loss: 0.8479 - val_loss: 0.7811\n",
            "Epoch 24/100\n",
            "4/4 - 0s - loss: 0.8271 - val_loss: 0.7571\n",
            "Epoch 25/100\n",
            "4/4 - 0s - loss: 0.8065 - val_loss: 0.7329\n",
            "Epoch 26/100\n",
            "4/4 - 0s - loss: 0.7849 - val_loss: 0.7096\n",
            "Epoch 27/100\n",
            "4/4 - 0s - loss: 0.7633 - val_loss: 0.6876\n",
            "Epoch 28/100\n",
            "4/4 - 0s - loss: 0.7416 - val_loss: 0.6658\n",
            "Epoch 29/100\n",
            "4/4 - 0s - loss: 0.7209 - val_loss: 0.6436\n",
            "Epoch 30/100\n",
            "4/4 - 0s - loss: 0.6993 - val_loss: 0.6213\n",
            "Epoch 31/100\n",
            "4/4 - 0s - loss: 0.6762 - val_loss: 0.5983\n",
            "Epoch 32/100\n",
            "4/4 - 0s - loss: 0.6552 - val_loss: 0.5760\n",
            "Epoch 33/100\n",
            "4/4 - 0s - loss: 0.6347 - val_loss: 0.5561\n",
            "Epoch 34/100\n",
            "4/4 - 0s - loss: 0.6096 - val_loss: 0.5324\n",
            "Epoch 35/100\n",
            "4/4 - 0s - loss: 0.5868 - val_loss: 0.5118\n",
            "Epoch 36/100\n",
            "4/4 - 0s - loss: 0.5658 - val_loss: 0.4912\n",
            "Epoch 37/100\n",
            "4/4 - 0s - loss: 0.5424 - val_loss: 0.4728\n",
            "Epoch 38/100\n",
            "4/4 - 0s - loss: 0.5200 - val_loss: 0.4519\n",
            "Epoch 39/100\n",
            "4/4 - 0s - loss: 0.4987 - val_loss: 0.4328\n",
            "Epoch 40/100\n",
            "4/4 - 0s - loss: 0.4801 - val_loss: 0.4162\n",
            "Epoch 41/100\n",
            "4/4 - 0s - loss: 0.4614 - val_loss: 0.4004\n",
            "Epoch 42/100\n",
            "4/4 - 0s - loss: 0.4442 - val_loss: 0.3855\n",
            "Epoch 43/100\n",
            "4/4 - 0s - loss: 0.4287 - val_loss: 0.3726\n",
            "Epoch 44/100\n",
            "4/4 - 0s - loss: 0.4142 - val_loss: 0.3586\n",
            "Epoch 45/100\n",
            "4/4 - 0s - loss: 0.4008 - val_loss: 0.3465\n",
            "Epoch 46/100\n",
            "4/4 - 0s - loss: 0.3891 - val_loss: 0.3355\n",
            "Epoch 47/100\n",
            "4/4 - 0s - loss: 0.3768 - val_loss: 0.3279\n",
            "Epoch 48/100\n",
            "4/4 - 0s - loss: 0.3654 - val_loss: 0.3161\n",
            "Epoch 49/100\n",
            "4/4 - 0s - loss: 0.3550 - val_loss: 0.3060\n",
            "Epoch 50/100\n",
            "4/4 - 0s - loss: 0.3434 - val_loss: 0.2968\n",
            "Epoch 51/100\n",
            "4/4 - 0s - loss: 0.3354 - val_loss: 0.2884\n",
            "Epoch 52/100\n",
            "4/4 - 0s - loss: 0.3260 - val_loss: 0.2819\n",
            "Epoch 53/100\n",
            "4/4 - 0s - loss: 0.3169 - val_loss: 0.2770\n",
            "Epoch 54/100\n",
            "4/4 - 0s - loss: 0.3103 - val_loss: 0.2683\n",
            "Epoch 55/100\n",
            "4/4 - 0s - loss: 0.3000 - val_loss: 0.2575\n",
            "Epoch 56/100\n",
            "4/4 - 0s - loss: 0.2924 - val_loss: 0.2511\n",
            "Epoch 57/100\n",
            "4/4 - 0s - loss: 0.2889 - val_loss: 0.2447\n",
            "Epoch 58/100\n",
            "4/4 - 0s - loss: 0.2775 - val_loss: 0.2394\n",
            "Epoch 59/100\n",
            "4/4 - 0s - loss: 0.2721 - val_loss: 0.2329\n",
            "Epoch 60/100\n",
            "4/4 - 0s - loss: 0.2656 - val_loss: 0.2277\n",
            "Epoch 61/100\n",
            "4/4 - 0s - loss: 0.2583 - val_loss: 0.2205\n",
            "Epoch 62/100\n",
            "4/4 - 0s - loss: 0.2514 - val_loss: 0.2149\n",
            "Epoch 63/100\n",
            "4/4 - 0s - loss: 0.2469 - val_loss: 0.2099\n",
            "Epoch 64/100\n",
            "4/4 - 0s - loss: 0.2373 - val_loss: 0.2063\n",
            "Epoch 65/100\n",
            "4/4 - 0s - loss: 0.2403 - val_loss: 0.2031\n",
            "Epoch 66/100\n",
            "4/4 - 0s - loss: 0.2295 - val_loss: 0.1962\n",
            "Epoch 67/100\n",
            "4/4 - 0s - loss: 0.2238 - val_loss: 0.1920\n",
            "Epoch 68/100\n",
            "4/4 - 0s - loss: 0.2185 - val_loss: 0.1859\n",
            "Epoch 69/100\n",
            "4/4 - 0s - loss: 0.2150 - val_loss: 0.1823\n",
            "Epoch 70/100\n",
            "4/4 - 0s - loss: 0.2063 - val_loss: 0.1782\n",
            "Epoch 71/100\n",
            "4/4 - 0s - loss: 0.2069 - val_loss: 0.1797\n",
            "Epoch 72/100\n",
            "4/4 - 0s - loss: 0.2021 - val_loss: 0.1709\n",
            "Epoch 73/100\n",
            "4/4 - 0s - loss: 0.1930 - val_loss: 0.1690\n",
            "Epoch 74/100\n",
            "4/4 - 0s - loss: 0.1928 - val_loss: 0.1651\n",
            "Epoch 75/100\n",
            "4/4 - 0s - loss: 0.1852 - val_loss: 0.1607\n",
            "Epoch 76/100\n",
            "4/4 - 0s - loss: 0.1860 - val_loss: 0.1623\n",
            "Epoch 77/100\n",
            "4/4 - 0s - loss: 0.1805 - val_loss: 0.1539\n",
            "Epoch 78/100\n",
            "4/4 - 0s - loss: 0.1748 - val_loss: 0.1518\n",
            "Epoch 79/100\n",
            "4/4 - 0s - loss: 0.1735 - val_loss: 0.1487\n",
            "Epoch 80/100\n",
            "4/4 - 0s - loss: 0.1685 - val_loss: 0.1454\n",
            "Epoch 81/100\n",
            "4/4 - 0s - loss: 0.1650 - val_loss: 0.1449\n",
            "Epoch 82/100\n",
            "4/4 - 0s - loss: 0.1625 - val_loss: 0.1400\n",
            "Epoch 83/100\n",
            "4/4 - 0s - loss: 0.1581 - val_loss: 0.1373\n",
            "Epoch 84/100\n",
            "4/4 - 0s - loss: 0.1576 - val_loss: 0.1353\n",
            "Epoch 85/100\n",
            "4/4 - 0s - loss: 0.1543 - val_loss: 0.1327\n",
            "Epoch 86/100\n",
            "4/4 - 0s - loss: 0.1499 - val_loss: 0.1316\n",
            "Epoch 87/100\n",
            "4/4 - 0s - loss: 0.1483 - val_loss: 0.1288\n",
            "Epoch 88/100\n",
            "4/4 - 0s - loss: 0.1452 - val_loss: 0.1258\n",
            "Epoch 89/100\n",
            "4/4 - 0s - loss: 0.1433 - val_loss: 0.1238\n",
            "Epoch 90/100\n",
            "4/4 - 0s - loss: 0.1398 - val_loss: 0.1243\n",
            "Epoch 91/100\n",
            "4/4 - 0s - loss: 0.1393 - val_loss: 0.1220\n",
            "Epoch 92/100\n",
            "4/4 - 0s - loss: 0.1368 - val_loss: 0.1193\n",
            "Epoch 93/100\n",
            "4/4 - 0s - loss: 0.1354 - val_loss: 0.1164\n",
            "Epoch 94/100\n",
            "4/4 - 0s - loss: 0.1325 - val_loss: 0.1166\n",
            "Epoch 95/100\n",
            "4/4 - 0s - loss: 0.1303 - val_loss: 0.1140\n",
            "Epoch 96/100\n",
            "4/4 - 0s - loss: 0.1291 - val_loss: 0.1114\n",
            "Epoch 97/100\n",
            "4/4 - 0s - loss: 0.1288 - val_loss: 0.1099\n",
            "Epoch 98/100\n",
            "4/4 - 0s - loss: 0.1258 - val_loss: 0.1095\n",
            "Epoch 99/100\n",
            "4/4 - 0s - loss: 0.1232 - val_loss: 0.1092\n",
            "Epoch 100/100\n",
            "4/4 - 0s - loss: 0.1225 - val_loss: 0.1079\n"
          ],
          "name": "stdout"
        },
        {
          "output_type": "execute_result",
          "data": {
            "text/plain": [
              "<tensorflow.python.keras.callbacks.History at 0x7f1a84005588>"
            ]
          },
          "metadata": {
            "tags": []
          },
          "execution_count": 151
        }
      ]
    },
    {
      "cell_type": "code",
      "metadata": {
        "id": "9qbrjUrRiuig"
      },
      "source": [
        "preds = model.predict(x_test)"
      ],
      "execution_count": 152,
      "outputs": []
    },
    {
      "cell_type": "code",
      "metadata": {
        "id": "w6yT0M2ZjAUw"
      },
      "source": [
        "preds = np.argmax(preds, axis = 1)"
      ],
      "execution_count": 153,
      "outputs": []
    },
    {
      "cell_type": "code",
      "metadata": {
        "id": "K1T0-0HljGNh"
      },
      "source": [
        "expected = np.argmax(y_test, axis = 1)"
      ],
      "execution_count": 154,
      "outputs": []
    },
    {
      "cell_type": "code",
      "metadata": {
        "id": "8USxiSJjjMzB",
        "outputId": "f45cb054-2759-4665-94f2-6b7b91c8d1dc",
        "colab": {
          "base_uri": "https://localhost:8080/",
          "height": 34
        }
      },
      "source": [
        "accuracy_score = metrics.accuracy_score(preds, expected)\n",
        "accuracy_score"
      ],
      "execution_count": 155,
      "outputs": [
        {
          "output_type": "execute_result",
          "data": {
            "text/plain": [
              "0.9736842105263158"
            ]
          },
          "metadata": {
            "tags": []
          },
          "execution_count": 155
        }
      ]
    },
    {
      "cell_type": "code",
      "metadata": {
        "id": "np1TtUiYjcq2"
      },
      "source": [
        "#Get the variable importance from the above `NNT\n",
        "names = list(iris.columns)"
      ],
      "execution_count": 156,
      "outputs": []
    },
    {
      "cell_type": "code",
      "metadata": {
        "id": "0GtVGy2kmW5x"
      },
      "source": [
        " names.remove('species')"
      ],
      "execution_count": 157,
      "outputs": []
    },
    {
      "cell_type": "code",
      "metadata": {
        "id": "A7kvzS7EnASB"
      },
      "source": [
        "from IPython.display import display, HTML\n",
        "\n",
        "\n",
        "VarImp = var_rank(model, x_test,y_test,names, False)"
      ],
      "execution_count": 162,
      "outputs": []
    },
    {
      "cell_type": "code",
      "metadata": {
        "id": "-thvAK_cnso3",
        "outputId": "1d63f24c-635c-4c04-913c-ff8123008467",
        "colab": {
          "base_uri": "https://localhost:8080/",
          "height": 173
        }
      },
      "source": [
        "VarImp"
      ],
      "execution_count": 163,
      "outputs": [
        {
          "output_type": "execute_result",
          "data": {
            "text/html": [
              "<div>\n",
              "<style scoped>\n",
              "    .dataframe tbody tr th:only-of-type {\n",
              "        vertical-align: middle;\n",
              "    }\n",
              "\n",
              "    .dataframe tbody tr th {\n",
              "        vertical-align: top;\n",
              "    }\n",
              "\n",
              "    .dataframe thead th {\n",
              "        text-align: right;\n",
              "    }\n",
              "</style>\n",
              "<table border=\"1\" class=\"dataframe\">\n",
              "  <thead>\n",
              "    <tr style=\"text-align: right;\">\n",
              "      <th></th>\n",
              "      <th>names</th>\n",
              "      <th>errors</th>\n",
              "      <th>importance</th>\n",
              "    </tr>\n",
              "  </thead>\n",
              "  <tbody>\n",
              "    <tr>\n",
              "      <th>0</th>\n",
              "      <td>petal_l</td>\n",
              "      <td>2.358871</td>\n",
              "      <td>1.000000</td>\n",
              "    </tr>\n",
              "    <tr>\n",
              "      <th>1</th>\n",
              "      <td>petal_w</td>\n",
              "      <td>0.829603</td>\n",
              "      <td>0.351695</td>\n",
              "    </tr>\n",
              "    <tr>\n",
              "      <th>2</th>\n",
              "      <td>sepal_l</td>\n",
              "      <td>0.156032</td>\n",
              "      <td>0.066147</td>\n",
              "    </tr>\n",
              "    <tr>\n",
              "      <th>3</th>\n",
              "      <td>sepal_w</td>\n",
              "      <td>0.119048</td>\n",
              "      <td>0.050468</td>\n",
              "    </tr>\n",
              "  </tbody>\n",
              "</table>\n",
              "</div>"
            ],
            "text/plain": [
              "     names    errors  importance\n",
              "0  petal_l  2.358871    1.000000\n",
              "1  petal_w  0.829603    0.351695\n",
              "2  sepal_l  0.156032    0.066147\n",
              "3  sepal_w  0.119048    0.050468"
            ]
          },
          "metadata": {
            "tags": []
          },
          "execution_count": 163
        }
      ]
    },
    {
      "cell_type": "code",
      "metadata": {
        "id": "StpxNRAn0IkC"
      },
      "source": [
        ""
      ],
      "execution_count": null,
      "outputs": []
    }
  ]
}