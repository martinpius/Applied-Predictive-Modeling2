{
  "nbformat": 4,
  "nbformat_minor": 0,
  "metadata": {
    "colab": {
      "name": "Ensemble Models.ipynb",
      "provenance": [],
      "authorship_tag": "ABX9TyMOj8XJPfT9trE0zu/gDyFd",
      "include_colab_link": true
    },
    "kernelspec": {
      "name": "python3",
      "display_name": "Python 3"
    },
    "accelerator": "GPU"
  },
  "cells": [
    {
      "cell_type": "markdown",
      "metadata": {
        "id": "view-in-github",
        "colab_type": "text"
      },
      "source": [
        "<a href=\"https://colab.research.google.com/github/martinpius/Applied-Predictive-Modeling2/blob/master/Ensemble_Models.ipynb\" target=\"_parent\"><img src=\"https://colab.research.google.com/assets/colab-badge.svg\" alt=\"Open In Colab\"/></a>"
      ]
    },
    {
      "cell_type": "code",
      "metadata": {
        "id": "iNwOXmS5B6YS"
      },
      "source": [
        "#Print the correct tensorflow version "
      ],
      "execution_count": 1,
      "outputs": []
    },
    {
      "cell_type": "code",
      "metadata": {
        "id": "xy9-AcPXCiTa",
        "outputId": "62273e99-3793-4441-e9fe-582138969157",
        "colab": {
          "base_uri": "https://localhost:8080/",
          "height": 51
        }
      },
      "source": [
        "from google.colab import drive\n",
        "try:\n",
        "  drive.mount('/content/drive/',force_remount = True)\n",
        "  COLAB = True\n",
        "  print(\"Google colab is on\")\n",
        "  %tensorflow_version 2.x\n",
        "except:\n",
        "  COLAB = False\n",
        "  print(\"Not using Google Colab\")"
      ],
      "execution_count": 1,
      "outputs": [
        {
          "output_type": "stream",
          "text": [
            "Mounted at /content/drive/\n",
            "Google colab is on\n"
          ],
          "name": "stdout"
        }
      ]
    },
    {
      "cell_type": "code",
      "metadata": {
        "id": "V8st7ZYrEPjZ"
      },
      "source": [
        "#Time formatter\n",
        "def time_fmt(secs):\n",
        "  hours = int(secs/(60*60))\n",
        "  minutes = int(secs%(60*60)/60)\n",
        "  seconds = int(secs%60)\n",
        "  return f\"{hours}:{minutes:>02}:{seconds:>05.2f}\""
      ],
      "execution_count": 135,
      "outputs": []
    },
    {
      "cell_type": "code",
      "metadata": {
        "id": "NEN4Gj5CFKCr"
      },
      "source": [
        "#Pertubation implementation to variable importance for NNT"
      ],
      "execution_count": 3,
      "outputs": []
    },
    {
      "cell_type": "code",
      "metadata": {
        "id": "D9rYndBhIomj"
      },
      "source": [
        "import scipy as sc\n",
        "import numpy as np\n",
        "from sklearn import metrics\n",
        "import math\n",
        "import pandas as pd\n"
      ],
      "execution_count": 121,
      "outputs": []
    },
    {
      "cell_type": "code",
      "metadata": {
        "id": "_myYYLgdMf1s"
      },
      "source": [
        "#This function will compute the loss for a regression and classification model\n",
        "#To provide usefull information in computing variable's importance\n",
        "#First we select all columns from a test dataset\n",
        "#Second we randomly shuffles every columns to distort any parttern\n",
        "#If the fitted model is a regression we compute MSE otherwise we compute log-loss\n",
        "#We compute variable importance by take the ratio of individual error vs maximum error\n",
        "#We prepare a results dictionary which is finaly conveted to a dataframe."
      ],
      "execution_count": 137,
      "outputs": []
    },
    {
      "cell_type": "code",
      "metadata": {
        "id": "msA56q1aJBzV"
      },
      "source": [
        "def var_rank(model, x, y, names, regression):\n",
        "  errors = []\n",
        "  for i in range(x.shape[1]):\n",
        "    hold = np.array(x[:,i])\n",
        "    np.random.shuffle(x[:,i])\n",
        "    if regression:\n",
        "      pred = model.predict(x)\n",
        "      err = metrics.mean_squared_error(y,pred)\n",
        "    else:\n",
        "      pred = model.predict_proba(x)\n",
        "      err = metrics.log_loss(y, pred)\n",
        "    errors.append(err)\n",
        "    x[:,i] = hold\n",
        "  e_max = np.max(errors) \n",
        "  importance = [e/e_max for e in errors]\n",
        "  data = {'names': names,'errors': errors, 'importance': importance}\n",
        "  out = pd.DataFrame(data, columns = ['names', 'errors', 'importance'])\n",
        "  out.sort_values(by = ['importance'], ascending = [0],inplace = True)\n",
        "  out.reset_index(inplace = True, drop = True)\n",
        "  return out\n",
        "\n",
        "\n"
      ],
      "execution_count": 122,
      "outputs": []
    },
    {
      "cell_type": "code",
      "metadata": {
        "id": "4HAXyp2ENzv8"
      },
      "source": [
        "#Build a Keras Sequential model for classification using Iris dataset"
      ],
      "execution_count": 139,
      "outputs": []
    },
    {
      "cell_type": "code",
      "metadata": {
        "id": "-FtI76BNbYUo"
      },
      "source": [
        "#Loading the packages\n",
        "import numpy as np\n",
        "import matplotlib.pyplot as plt\n",
        "import os\n",
        "import time\n",
        "import tensorflow as tf\n",
        "from tensorflow.keras.layers import Dense, Activation\n",
        "from tensorflow.keras.models import Sequential\n",
        "from sklearn import metrics\n",
        "from tensorflow.keras.callbacks import EarlyStopping\n",
        "from sklearn.model_selection import train_test_split\n",
        "from scipy.stats import zscore\n",
        "import pandas as pd\n"
      ],
      "execution_count": 140,
      "outputs": []
    },
    {
      "cell_type": "code",
      "metadata": {
        "id": "5Sq8HwPCcc23"
      },
      "source": [
        "iris = pd.read_csv(\"https://data.heatonresearch.com/data/t81-558/iris.csv\",\n",
        "                   na_values = ['NA','?'])"
      ],
      "execution_count": 141,
      "outputs": []
    },
    {
      "cell_type": "code",
      "metadata": {
        "id": "WK-2Wycfc72Q",
        "outputId": "4d11dc88-ccd5-4765-8419-e8d82daee7d3",
        "colab": {
          "base_uri": "https://localhost:8080/",
          "height": 359
        }
      },
      "source": [
        "display(iris.head(10))"
      ],
      "execution_count": 142,
      "outputs": [
        {
          "output_type": "display_data",
          "data": {
            "text/html": [
              "<div>\n",
              "<style scoped>\n",
              "    .dataframe tbody tr th:only-of-type {\n",
              "        vertical-align: middle;\n",
              "    }\n",
              "\n",
              "    .dataframe tbody tr th {\n",
              "        vertical-align: top;\n",
              "    }\n",
              "\n",
              "    .dataframe thead th {\n",
              "        text-align: right;\n",
              "    }\n",
              "</style>\n",
              "<table border=\"1\" class=\"dataframe\">\n",
              "  <thead>\n",
              "    <tr style=\"text-align: right;\">\n",
              "      <th></th>\n",
              "      <th>sepal_l</th>\n",
              "      <th>sepal_w</th>\n",
              "      <th>petal_l</th>\n",
              "      <th>petal_w</th>\n",
              "      <th>species</th>\n",
              "    </tr>\n",
              "  </thead>\n",
              "  <tbody>\n",
              "    <tr>\n",
              "      <th>0</th>\n",
              "      <td>5.1</td>\n",
              "      <td>3.5</td>\n",
              "      <td>1.4</td>\n",
              "      <td>0.2</td>\n",
              "      <td>Iris-setosa</td>\n",
              "    </tr>\n",
              "    <tr>\n",
              "      <th>1</th>\n",
              "      <td>4.9</td>\n",
              "      <td>3.0</td>\n",
              "      <td>1.4</td>\n",
              "      <td>0.2</td>\n",
              "      <td>Iris-setosa</td>\n",
              "    </tr>\n",
              "    <tr>\n",
              "      <th>2</th>\n",
              "      <td>4.7</td>\n",
              "      <td>3.2</td>\n",
              "      <td>1.3</td>\n",
              "      <td>0.2</td>\n",
              "      <td>Iris-setosa</td>\n",
              "    </tr>\n",
              "    <tr>\n",
              "      <th>3</th>\n",
              "      <td>4.6</td>\n",
              "      <td>3.1</td>\n",
              "      <td>1.5</td>\n",
              "      <td>0.2</td>\n",
              "      <td>Iris-setosa</td>\n",
              "    </tr>\n",
              "    <tr>\n",
              "      <th>4</th>\n",
              "      <td>5.0</td>\n",
              "      <td>3.6</td>\n",
              "      <td>1.4</td>\n",
              "      <td>0.2</td>\n",
              "      <td>Iris-setosa</td>\n",
              "    </tr>\n",
              "    <tr>\n",
              "      <th>5</th>\n",
              "      <td>5.4</td>\n",
              "      <td>3.9</td>\n",
              "      <td>1.7</td>\n",
              "      <td>0.4</td>\n",
              "      <td>Iris-setosa</td>\n",
              "    </tr>\n",
              "    <tr>\n",
              "      <th>6</th>\n",
              "      <td>4.6</td>\n",
              "      <td>3.4</td>\n",
              "      <td>1.4</td>\n",
              "      <td>0.3</td>\n",
              "      <td>Iris-setosa</td>\n",
              "    </tr>\n",
              "    <tr>\n",
              "      <th>7</th>\n",
              "      <td>5.0</td>\n",
              "      <td>3.4</td>\n",
              "      <td>1.5</td>\n",
              "      <td>0.2</td>\n",
              "      <td>Iris-setosa</td>\n",
              "    </tr>\n",
              "    <tr>\n",
              "      <th>8</th>\n",
              "      <td>4.4</td>\n",
              "      <td>2.9</td>\n",
              "      <td>1.4</td>\n",
              "      <td>0.2</td>\n",
              "      <td>Iris-setosa</td>\n",
              "    </tr>\n",
              "    <tr>\n",
              "      <th>9</th>\n",
              "      <td>4.9</td>\n",
              "      <td>3.1</td>\n",
              "      <td>1.5</td>\n",
              "      <td>0.1</td>\n",
              "      <td>Iris-setosa</td>\n",
              "    </tr>\n",
              "  </tbody>\n",
              "</table>\n",
              "</div>"
            ],
            "text/plain": [
              "   sepal_l  sepal_w  petal_l  petal_w      species\n",
              "0      5.1      3.5      1.4      0.2  Iris-setosa\n",
              "1      4.9      3.0      1.4      0.2  Iris-setosa\n",
              "2      4.7      3.2      1.3      0.2  Iris-setosa\n",
              "3      4.6      3.1      1.5      0.2  Iris-setosa\n",
              "4      5.0      3.6      1.4      0.2  Iris-setosa\n",
              "5      5.4      3.9      1.7      0.4  Iris-setosa\n",
              "6      4.6      3.4      1.4      0.3  Iris-setosa\n",
              "7      5.0      3.4      1.5      0.2  Iris-setosa\n",
              "8      4.4      2.9      1.4      0.2  Iris-setosa\n",
              "9      4.9      3.1      1.5      0.1  Iris-setosa"
            ]
          },
          "metadata": {
            "tags": []
          }
        }
      ]
    },
    {
      "cell_type": "code",
      "metadata": {
        "id": "Y0ZmARMTdBxO",
        "outputId": "abc5c544-cccf-4ecb-c5e5-e6fc8c6cfb2c",
        "colab": {
          "base_uri": "https://localhost:8080/",
          "height": 68
        }
      },
      "source": [
        "iris.isna().value_counts()"
      ],
      "execution_count": 143,
      "outputs": [
        {
          "output_type": "execute_result",
          "data": {
            "text/plain": [
              "sepal_l  sepal_w  petal_l  petal_w  species\n",
              "False    False    False    False    False      150\n",
              "dtype: int64"
            ]
          },
          "metadata": {
            "tags": []
          },
          "execution_count": 143
        }
      ]
    },
    {
      "cell_type": "code",
      "metadata": {
        "id": "L0oZ0CG6hs_g"
      },
      "source": [
        "dummies = pd.get_dummies(iris['species'])\n",
        "y = dummies.values\n",
        "\n"
      ],
      "execution_count": 108,
      "outputs": []
    },
    {
      "cell_type": "code",
      "metadata": {
        "id": "gnGuAxAUdnS8"
      },
      "source": [
        "x = iris.drop(columns = ['species'],axis = 1)"
      ],
      "execution_count": 144,
      "outputs": []
    },
    {
      "cell_type": "code",
      "metadata": {
        "id": "ppWEVc3regJ1",
        "outputId": "b7d34a36-fb68-44cb-e337-43c442137191",
        "colab": {
          "base_uri": "https://localhost:8080/",
          "height": 204
        }
      },
      "source": [
        "x.head()"
      ],
      "execution_count": 145,
      "outputs": [
        {
          "output_type": "execute_result",
          "data": {
            "text/html": [
              "<div>\n",
              "<style scoped>\n",
              "    .dataframe tbody tr th:only-of-type {\n",
              "        vertical-align: middle;\n",
              "    }\n",
              "\n",
              "    .dataframe tbody tr th {\n",
              "        vertical-align: top;\n",
              "    }\n",
              "\n",
              "    .dataframe thead th {\n",
              "        text-align: right;\n",
              "    }\n",
              "</style>\n",
              "<table border=\"1\" class=\"dataframe\">\n",
              "  <thead>\n",
              "    <tr style=\"text-align: right;\">\n",
              "      <th></th>\n",
              "      <th>sepal_l</th>\n",
              "      <th>sepal_w</th>\n",
              "      <th>petal_l</th>\n",
              "      <th>petal_w</th>\n",
              "    </tr>\n",
              "  </thead>\n",
              "  <tbody>\n",
              "    <tr>\n",
              "      <th>0</th>\n",
              "      <td>5.1</td>\n",
              "      <td>3.5</td>\n",
              "      <td>1.4</td>\n",
              "      <td>0.2</td>\n",
              "    </tr>\n",
              "    <tr>\n",
              "      <th>1</th>\n",
              "      <td>4.9</td>\n",
              "      <td>3.0</td>\n",
              "      <td>1.4</td>\n",
              "      <td>0.2</td>\n",
              "    </tr>\n",
              "    <tr>\n",
              "      <th>2</th>\n",
              "      <td>4.7</td>\n",
              "      <td>3.2</td>\n",
              "      <td>1.3</td>\n",
              "      <td>0.2</td>\n",
              "    </tr>\n",
              "    <tr>\n",
              "      <th>3</th>\n",
              "      <td>4.6</td>\n",
              "      <td>3.1</td>\n",
              "      <td>1.5</td>\n",
              "      <td>0.2</td>\n",
              "    </tr>\n",
              "    <tr>\n",
              "      <th>4</th>\n",
              "      <td>5.0</td>\n",
              "      <td>3.6</td>\n",
              "      <td>1.4</td>\n",
              "      <td>0.2</td>\n",
              "    </tr>\n",
              "  </tbody>\n",
              "</table>\n",
              "</div>"
            ],
            "text/plain": [
              "   sepal_l  sepal_w  petal_l  petal_w\n",
              "0      5.1      3.5      1.4      0.2\n",
              "1      4.9      3.0      1.4      0.2\n",
              "2      4.7      3.2      1.3      0.2\n",
              "3      4.6      3.1      1.5      0.2\n",
              "4      5.0      3.6      1.4      0.2"
            ]
          },
          "metadata": {
            "tags": []
          },
          "execution_count": 145
        }
      ]
    },
    {
      "cell_type": "code",
      "metadata": {
        "id": "U3aS4FrIe0Jt",
        "outputId": "413ce989-7c1d-4d56-d6b5-3e7ab9110156",
        "colab": {
          "base_uri": "https://localhost:8080/",
          "height": 51
        }
      },
      "source": [
        "x = x.values\n",
        "x[0:2]"
      ],
      "execution_count": 146,
      "outputs": [
        {
          "output_type": "execute_result",
          "data": {
            "text/plain": [
              "array([[5.1, 3.5, 1.4, 0.2],\n",
              "       [4.9, 3. , 1.4, 0.2]])"
            ]
          },
          "metadata": {
            "tags": []
          },
          "execution_count": 146
        }
      ]
    },
    {
      "cell_type": "code",
      "metadata": {
        "id": "askSfU8qe9Js"
      },
      "source": [
        "#Split the data into train and test sets"
      ],
      "execution_count": 147,
      "outputs": []
    },
    {
      "cell_type": "code",
      "metadata": {
        "id": "nJKMwDsofSO9"
      },
      "source": [
        "x_train, x_test, y_train,y_test = train_test_split(x,y, test_size = 0.25, random_state = 42)"
      ],
      "execution_count": 148,
      "outputs": []
    },
    {
      "cell_type": "code",
      "metadata": {
        "id": "DJNy0u-bflFZ",
        "outputId": "7a940379-b6fe-45a3-9968-4f47e2baab92",
        "colab": {
          "base_uri": "https://localhost:8080/",
          "height": 51
        }
      },
      "source": [
        "x_train[0:2]"
      ],
      "execution_count": 149,
      "outputs": [
        {
          "output_type": "execute_result",
          "data": {
            "text/plain": [
              "array([[5. , 3.6, 1.4, 0.2],\n",
              "       [5.2, 4.1, 1.5, 0.1]])"
            ]
          },
          "metadata": {
            "tags": []
          },
          "execution_count": 149
        }
      ]
    },
    {
      "cell_type": "code",
      "metadata": {
        "id": "_b6xjtF8fqB8",
        "outputId": "bfddcd14-b6db-46a3-8427-396137856684",
        "colab": {
          "base_uri": "https://localhost:8080/",
          "height": 51
        }
      },
      "source": [
        "y_train[0:2]"
      ],
      "execution_count": 150,
      "outputs": [
        {
          "output_type": "execute_result",
          "data": {
            "text/plain": [
              "array([[1, 0, 0],\n",
              "       [1, 0, 0]], dtype=uint8)"
            ]
          },
          "metadata": {
            "tags": []
          },
          "execution_count": 150
        }
      ]
    },
    {
      "cell_type": "code",
      "metadata": {
        "id": "w0GPmXZbf2Pz",
        "outputId": "64d1a90d-2b0c-429f-f709-34750cbd38ee",
        "colab": {
          "base_uri": "https://localhost:8080/",
          "height": 1000
        }
      },
      "source": [
        "#Building keras Sequential NNT for classifying Iris flowers\n",
        "model = Sequential()\n",
        "model.add(Dense(50, input_dim = x.shape[1], activation = 'relu',kernel_initializer = 'random_normal'))\n",
        "model.add(Dense(25, activation = 'relu', kernel_initializer = 'random_normal'))\n",
        "model.add(Dense(y.shape[1], activation = 'softmax'))\n",
        "model.compile(loss = 'categorical_crossentropy', optimizer = 'adam')\n",
        "#info = EarlyStopping(monitor = 'val_loss',min_delta = 1e-3,patience = 5,verbose = 1, restore_best_weights = True)\n",
        "model.fit(x_train, y_train, validation_data = (x_test, y_test), verbose = 2, epochs = 100)"
      ],
      "execution_count": 151,
      "outputs": [
        {
          "output_type": "stream",
          "text": [
            "Epoch 1/100\n",
            "4/4 - 0s - loss: 1.1338 - val_loss: 1.1061\n",
            "Epoch 2/100\n",
            "4/4 - 0s - loss: 1.0979 - val_loss: 1.0848\n",
            "Epoch 3/100\n",
            "4/4 - 0s - loss: 1.0865 - val_loss: 1.0755\n",
            "Epoch 4/100\n",
            "4/4 - 0s - loss: 1.0782 - val_loss: 1.0684\n",
            "Epoch 5/100\n",
            "4/4 - 0s - loss: 1.0708 - val_loss: 1.0595\n",
            "Epoch 6/100\n",
            "4/4 - 0s - loss: 1.0641 - val_loss: 1.0509\n",
            "Epoch 7/100\n",
            "4/4 - 0s - loss: 1.0572 - val_loss: 1.0416\n",
            "Epoch 8/100\n",
            "4/4 - 0s - loss: 1.0506 - val_loss: 1.0333\n",
            "Epoch 9/100\n",
            "4/4 - 0s - loss: 1.0419 - val_loss: 1.0220\n",
            "Epoch 10/100\n",
            "4/4 - 0s - loss: 1.0334 - val_loss: 1.0108\n",
            "Epoch 11/100\n",
            "4/4 - 0s - loss: 1.0240 - val_loss: 0.9985\n",
            "Epoch 12/100\n",
            "4/4 - 0s - loss: 1.0130 - val_loss: 0.9850\n",
            "Epoch 13/100\n",
            "4/4 - 0s - loss: 1.0027 - val_loss: 0.9699\n",
            "Epoch 14/100\n",
            "4/4 - 0s - loss: 0.9895 - val_loss: 0.9553\n",
            "Epoch 15/100\n",
            "4/4 - 0s - loss: 0.9759 - val_loss: 0.9386\n",
            "Epoch 16/100\n",
            "4/4 - 0s - loss: 0.9630 - val_loss: 0.9198\n",
            "Epoch 17/100\n",
            "4/4 - 0s - loss: 0.9479 - val_loss: 0.9021\n",
            "Epoch 18/100\n",
            "4/4 - 0s - loss: 0.9324 - val_loss: 0.8830\n",
            "Epoch 19/100\n",
            "4/4 - 0s - loss: 0.9162 - val_loss: 0.8636\n",
            "Epoch 20/100\n",
            "4/4 - 0s - loss: 0.8998 - val_loss: 0.8437\n",
            "Epoch 21/100\n",
            "4/4 - 0s - loss: 0.8828 - val_loss: 0.8239\n",
            "Epoch 22/100\n",
            "4/4 - 0s - loss: 0.8658 - val_loss: 0.8036\n",
            "Epoch 23/100\n",
            "4/4 - 0s - loss: 0.8479 - val_loss: 0.7811\n",
            "Epoch 24/100\n",
            "4/4 - 0s - loss: 0.8271 - val_loss: 0.7571\n",
            "Epoch 25/100\n",
            "4/4 - 0s - loss: 0.8065 - val_loss: 0.7329\n",
            "Epoch 26/100\n",
            "4/4 - 0s - loss: 0.7849 - val_loss: 0.7096\n",
            "Epoch 27/100\n",
            "4/4 - 0s - loss: 0.7633 - val_loss: 0.6876\n",
            "Epoch 28/100\n",
            "4/4 - 0s - loss: 0.7416 - val_loss: 0.6658\n",
            "Epoch 29/100\n",
            "4/4 - 0s - loss: 0.7209 - val_loss: 0.6436\n",
            "Epoch 30/100\n",
            "4/4 - 0s - loss: 0.6993 - val_loss: 0.6213\n",
            "Epoch 31/100\n",
            "4/4 - 0s - loss: 0.6762 - val_loss: 0.5983\n",
            "Epoch 32/100\n",
            "4/4 - 0s - loss: 0.6552 - val_loss: 0.5760\n",
            "Epoch 33/100\n",
            "4/4 - 0s - loss: 0.6347 - val_loss: 0.5561\n",
            "Epoch 34/100\n",
            "4/4 - 0s - loss: 0.6096 - val_loss: 0.5324\n",
            "Epoch 35/100\n",
            "4/4 - 0s - loss: 0.5868 - val_loss: 0.5118\n",
            "Epoch 36/100\n",
            "4/4 - 0s - loss: 0.5658 - val_loss: 0.4912\n",
            "Epoch 37/100\n",
            "4/4 - 0s - loss: 0.5424 - val_loss: 0.4728\n",
            "Epoch 38/100\n",
            "4/4 - 0s - loss: 0.5200 - val_loss: 0.4519\n",
            "Epoch 39/100\n",
            "4/4 - 0s - loss: 0.4987 - val_loss: 0.4328\n",
            "Epoch 40/100\n",
            "4/4 - 0s - loss: 0.4801 - val_loss: 0.4162\n",
            "Epoch 41/100\n",
            "4/4 - 0s - loss: 0.4614 - val_loss: 0.4004\n",
            "Epoch 42/100\n",
            "4/4 - 0s - loss: 0.4442 - val_loss: 0.3855\n",
            "Epoch 43/100\n",
            "4/4 - 0s - loss: 0.4287 - val_loss: 0.3726\n",
            "Epoch 44/100\n",
            "4/4 - 0s - loss: 0.4142 - val_loss: 0.3586\n",
            "Epoch 45/100\n",
            "4/4 - 0s - loss: 0.4008 - val_loss: 0.3465\n",
            "Epoch 46/100\n",
            "4/4 - 0s - loss: 0.3891 - val_loss: 0.3355\n",
            "Epoch 47/100\n",
            "4/4 - 0s - loss: 0.3768 - val_loss: 0.3279\n",
            "Epoch 48/100\n",
            "4/4 - 0s - loss: 0.3654 - val_loss: 0.3161\n",
            "Epoch 49/100\n",
            "4/4 - 0s - loss: 0.3550 - val_loss: 0.3060\n",
            "Epoch 50/100\n",
            "4/4 - 0s - loss: 0.3434 - val_loss: 0.2968\n",
            "Epoch 51/100\n",
            "4/4 - 0s - loss: 0.3354 - val_loss: 0.2884\n",
            "Epoch 52/100\n",
            "4/4 - 0s - loss: 0.3260 - val_loss: 0.2819\n",
            "Epoch 53/100\n",
            "4/4 - 0s - loss: 0.3169 - val_loss: 0.2770\n",
            "Epoch 54/100\n",
            "4/4 - 0s - loss: 0.3103 - val_loss: 0.2683\n",
            "Epoch 55/100\n",
            "4/4 - 0s - loss: 0.3000 - val_loss: 0.2575\n",
            "Epoch 56/100\n",
            "4/4 - 0s - loss: 0.2924 - val_loss: 0.2511\n",
            "Epoch 57/100\n",
            "4/4 - 0s - loss: 0.2889 - val_loss: 0.2447\n",
            "Epoch 58/100\n",
            "4/4 - 0s - loss: 0.2775 - val_loss: 0.2394\n",
            "Epoch 59/100\n",
            "4/4 - 0s - loss: 0.2721 - val_loss: 0.2329\n",
            "Epoch 60/100\n",
            "4/4 - 0s - loss: 0.2656 - val_loss: 0.2277\n",
            "Epoch 61/100\n",
            "4/4 - 0s - loss: 0.2583 - val_loss: 0.2205\n",
            "Epoch 62/100\n",
            "4/4 - 0s - loss: 0.2514 - val_loss: 0.2149\n",
            "Epoch 63/100\n",
            "4/4 - 0s - loss: 0.2469 - val_loss: 0.2099\n",
            "Epoch 64/100\n",
            "4/4 - 0s - loss: 0.2373 - val_loss: 0.2063\n",
            "Epoch 65/100\n",
            "4/4 - 0s - loss: 0.2403 - val_loss: 0.2031\n",
            "Epoch 66/100\n",
            "4/4 - 0s - loss: 0.2295 - val_loss: 0.1962\n",
            "Epoch 67/100\n",
            "4/4 - 0s - loss: 0.2238 - val_loss: 0.1920\n",
            "Epoch 68/100\n",
            "4/4 - 0s - loss: 0.2185 - val_loss: 0.1859\n",
            "Epoch 69/100\n",
            "4/4 - 0s - loss: 0.2150 - val_loss: 0.1823\n",
            "Epoch 70/100\n",
            "4/4 - 0s - loss: 0.2063 - val_loss: 0.1782\n",
            "Epoch 71/100\n",
            "4/4 - 0s - loss: 0.2069 - val_loss: 0.1797\n",
            "Epoch 72/100\n",
            "4/4 - 0s - loss: 0.2021 - val_loss: 0.1709\n",
            "Epoch 73/100\n",
            "4/4 - 0s - loss: 0.1930 - val_loss: 0.1690\n",
            "Epoch 74/100\n",
            "4/4 - 0s - loss: 0.1928 - val_loss: 0.1651\n",
            "Epoch 75/100\n",
            "4/4 - 0s - loss: 0.1852 - val_loss: 0.1607\n",
            "Epoch 76/100\n",
            "4/4 - 0s - loss: 0.1860 - val_loss: 0.1623\n",
            "Epoch 77/100\n",
            "4/4 - 0s - loss: 0.1805 - val_loss: 0.1539\n",
            "Epoch 78/100\n",
            "4/4 - 0s - loss: 0.1748 - val_loss: 0.1518\n",
            "Epoch 79/100\n",
            "4/4 - 0s - loss: 0.1735 - val_loss: 0.1487\n",
            "Epoch 80/100\n",
            "4/4 - 0s - loss: 0.1685 - val_loss: 0.1454\n",
            "Epoch 81/100\n",
            "4/4 - 0s - loss: 0.1650 - val_loss: 0.1449\n",
            "Epoch 82/100\n",
            "4/4 - 0s - loss: 0.1625 - val_loss: 0.1400\n",
            "Epoch 83/100\n",
            "4/4 - 0s - loss: 0.1581 - val_loss: 0.1373\n",
            "Epoch 84/100\n",
            "4/4 - 0s - loss: 0.1576 - val_loss: 0.1353\n",
            "Epoch 85/100\n",
            "4/4 - 0s - loss: 0.1543 - val_loss: 0.1327\n",
            "Epoch 86/100\n",
            "4/4 - 0s - loss: 0.1499 - val_loss: 0.1316\n",
            "Epoch 87/100\n",
            "4/4 - 0s - loss: 0.1483 - val_loss: 0.1288\n",
            "Epoch 88/100\n",
            "4/4 - 0s - loss: 0.1452 - val_loss: 0.1258\n",
            "Epoch 89/100\n",
            "4/4 - 0s - loss: 0.1433 - val_loss: 0.1238\n",
            "Epoch 90/100\n",
            "4/4 - 0s - loss: 0.1398 - val_loss: 0.1243\n",
            "Epoch 91/100\n",
            "4/4 - 0s - loss: 0.1393 - val_loss: 0.1220\n",
            "Epoch 92/100\n",
            "4/4 - 0s - loss: 0.1368 - val_loss: 0.1193\n",
            "Epoch 93/100\n",
            "4/4 - 0s - loss: 0.1354 - val_loss: 0.1164\n",
            "Epoch 94/100\n",
            "4/4 - 0s - loss: 0.1325 - val_loss: 0.1166\n",
            "Epoch 95/100\n",
            "4/4 - 0s - loss: 0.1303 - val_loss: 0.1140\n",
            "Epoch 96/100\n",
            "4/4 - 0s - loss: 0.1291 - val_loss: 0.1114\n",
            "Epoch 97/100\n",
            "4/4 - 0s - loss: 0.1288 - val_loss: 0.1099\n",
            "Epoch 98/100\n",
            "4/4 - 0s - loss: 0.1258 - val_loss: 0.1095\n",
            "Epoch 99/100\n",
            "4/4 - 0s - loss: 0.1232 - val_loss: 0.1092\n",
            "Epoch 100/100\n",
            "4/4 - 0s - loss: 0.1225 - val_loss: 0.1079\n"
          ],
          "name": "stdout"
        },
        {
          "output_type": "execute_result",
          "data": {
            "text/plain": [
              "<tensorflow.python.keras.callbacks.History at 0x7f1a84005588>"
            ]
          },
          "metadata": {
            "tags": []
          },
          "execution_count": 151
        }
      ]
    },
    {
      "cell_type": "code",
      "metadata": {
        "id": "9qbrjUrRiuig"
      },
      "source": [
        "preds = model.predict(x_test)"
      ],
      "execution_count": 152,
      "outputs": []
    },
    {
      "cell_type": "code",
      "metadata": {
        "id": "w6yT0M2ZjAUw"
      },
      "source": [
        "preds = np.argmax(preds, axis = 1)"
      ],
      "execution_count": 153,
      "outputs": []
    },
    {
      "cell_type": "code",
      "metadata": {
        "id": "K1T0-0HljGNh"
      },
      "source": [
        "expected = np.argmax(y_test, axis = 1)"
      ],
      "execution_count": 154,
      "outputs": []
    },
    {
      "cell_type": "code",
      "metadata": {
        "id": "8USxiSJjjMzB",
        "outputId": "f45cb054-2759-4665-94f2-6b7b91c8d1dc",
        "colab": {
          "base_uri": "https://localhost:8080/",
          "height": 34
        }
      },
      "source": [
        "accuracy_score = metrics.accuracy_score(preds, expected)\n",
        "accuracy_score"
      ],
      "execution_count": 155,
      "outputs": [
        {
          "output_type": "execute_result",
          "data": {
            "text/plain": [
              "0.9736842105263158"
            ]
          },
          "metadata": {
            "tags": []
          },
          "execution_count": 155
        }
      ]
    },
    {
      "cell_type": "code",
      "metadata": {
        "id": "np1TtUiYjcq2"
      },
      "source": [
        "#Get the variable importance from the above `NNT\n",
        "names = list(iris.columns)"
      ],
      "execution_count": 156,
      "outputs": []
    },
    {
      "cell_type": "code",
      "metadata": {
        "id": "0GtVGy2kmW5x"
      },
      "source": [
        " names.remove('species')"
      ],
      "execution_count": 157,
      "outputs": []
    },
    {
      "cell_type": "code",
      "metadata": {
        "id": "A7kvzS7EnASB"
      },
      "source": [
        "from IPython.display import display, HTML\n",
        "\n",
        "\n",
        "VarImp = var_rank(model, x_test,y_test,names, False)"
      ],
      "execution_count": 162,
      "outputs": []
    },
    {
      "cell_type": "code",
      "metadata": {
        "id": "-thvAK_cnso3",
        "outputId": "1d63f24c-635c-4c04-913c-ff8123008467",
        "colab": {
          "base_uri": "https://localhost:8080/",
          "height": 173
        }
      },
      "source": [
        "VarImp"
      ],
      "execution_count": 163,
      "outputs": [
        {
          "output_type": "execute_result",
          "data": {
            "text/html": [
              "<div>\n",
              "<style scoped>\n",
              "    .dataframe tbody tr th:only-of-type {\n",
              "        vertical-align: middle;\n",
              "    }\n",
              "\n",
              "    .dataframe tbody tr th {\n",
              "        vertical-align: top;\n",
              "    }\n",
              "\n",
              "    .dataframe thead th {\n",
              "        text-align: right;\n",
              "    }\n",
              "</style>\n",
              "<table border=\"1\" class=\"dataframe\">\n",
              "  <thead>\n",
              "    <tr style=\"text-align: right;\">\n",
              "      <th></th>\n",
              "      <th>names</th>\n",
              "      <th>errors</th>\n",
              "      <th>importance</th>\n",
              "    </tr>\n",
              "  </thead>\n",
              "  <tbody>\n",
              "    <tr>\n",
              "      <th>0</th>\n",
              "      <td>petal_l</td>\n",
              "      <td>2.358871</td>\n",
              "      <td>1.000000</td>\n",
              "    </tr>\n",
              "    <tr>\n",
              "      <th>1</th>\n",
              "      <td>petal_w</td>\n",
              "      <td>0.829603</td>\n",
              "      <td>0.351695</td>\n",
              "    </tr>\n",
              "    <tr>\n",
              "      <th>2</th>\n",
              "      <td>sepal_l</td>\n",
              "      <td>0.156032</td>\n",
              "      <td>0.066147</td>\n",
              "    </tr>\n",
              "    <tr>\n",
              "      <th>3</th>\n",
              "      <td>sepal_w</td>\n",
              "      <td>0.119048</td>\n",
              "      <td>0.050468</td>\n",
              "    </tr>\n",
              "  </tbody>\n",
              "</table>\n",
              "</div>"
            ],
            "text/plain": [
              "     names    errors  importance\n",
              "0  petal_l  2.358871    1.000000\n",
              "1  petal_w  0.829603    0.351695\n",
              "2  sepal_l  0.156032    0.066147\n",
              "3  sepal_w  0.119048    0.050468"
            ]
          },
          "metadata": {
            "tags": []
          },
          "execution_count": 163
        }
      ]
    },
    {
      "cell_type": "code",
      "metadata": {
        "id": "StpxNRAn0IkC"
      },
      "source": [
        "\n",
        "#NNT variable importance for regression\n",
        "cars = pd.read_csv(\"https://data.heatonresearch.com/data/t81-558/auto-mpg.csv\", na_values = ['NA','?'])"
      ],
      "execution_count": 206,
      "outputs": []
    },
    {
      "cell_type": "code",
      "metadata": {
        "id": "ysJGIXR_2k4q",
        "outputId": "a4d4436b-4c0e-4ec0-bf97-ba2cb4a3bad7",
        "colab": {
          "base_uri": "https://localhost:8080/",
          "height": 204
        }
      },
      "source": [
        "display(cars.head(5))"
      ],
      "execution_count": 207,
      "outputs": [
        {
          "output_type": "display_data",
          "data": {
            "text/html": [
              "<div>\n",
              "<style scoped>\n",
              "    .dataframe tbody tr th:only-of-type {\n",
              "        vertical-align: middle;\n",
              "    }\n",
              "\n",
              "    .dataframe tbody tr th {\n",
              "        vertical-align: top;\n",
              "    }\n",
              "\n",
              "    .dataframe thead th {\n",
              "        text-align: right;\n",
              "    }\n",
              "</style>\n",
              "<table border=\"1\" class=\"dataframe\">\n",
              "  <thead>\n",
              "    <tr style=\"text-align: right;\">\n",
              "      <th></th>\n",
              "      <th>mpg</th>\n",
              "      <th>cylinders</th>\n",
              "      <th>displacement</th>\n",
              "      <th>horsepower</th>\n",
              "      <th>weight</th>\n",
              "      <th>acceleration</th>\n",
              "      <th>year</th>\n",
              "      <th>origin</th>\n",
              "      <th>name</th>\n",
              "    </tr>\n",
              "  </thead>\n",
              "  <tbody>\n",
              "    <tr>\n",
              "      <th>0</th>\n",
              "      <td>18.0</td>\n",
              "      <td>8</td>\n",
              "      <td>307.0</td>\n",
              "      <td>130.0</td>\n",
              "      <td>3504</td>\n",
              "      <td>12.0</td>\n",
              "      <td>70</td>\n",
              "      <td>1</td>\n",
              "      <td>chevrolet chevelle malibu</td>\n",
              "    </tr>\n",
              "    <tr>\n",
              "      <th>1</th>\n",
              "      <td>15.0</td>\n",
              "      <td>8</td>\n",
              "      <td>350.0</td>\n",
              "      <td>165.0</td>\n",
              "      <td>3693</td>\n",
              "      <td>11.5</td>\n",
              "      <td>70</td>\n",
              "      <td>1</td>\n",
              "      <td>buick skylark 320</td>\n",
              "    </tr>\n",
              "    <tr>\n",
              "      <th>2</th>\n",
              "      <td>18.0</td>\n",
              "      <td>8</td>\n",
              "      <td>318.0</td>\n",
              "      <td>150.0</td>\n",
              "      <td>3436</td>\n",
              "      <td>11.0</td>\n",
              "      <td>70</td>\n",
              "      <td>1</td>\n",
              "      <td>plymouth satellite</td>\n",
              "    </tr>\n",
              "    <tr>\n",
              "      <th>3</th>\n",
              "      <td>16.0</td>\n",
              "      <td>8</td>\n",
              "      <td>304.0</td>\n",
              "      <td>150.0</td>\n",
              "      <td>3433</td>\n",
              "      <td>12.0</td>\n",
              "      <td>70</td>\n",
              "      <td>1</td>\n",
              "      <td>amc rebel sst</td>\n",
              "    </tr>\n",
              "    <tr>\n",
              "      <th>4</th>\n",
              "      <td>17.0</td>\n",
              "      <td>8</td>\n",
              "      <td>302.0</td>\n",
              "      <td>140.0</td>\n",
              "      <td>3449</td>\n",
              "      <td>10.5</td>\n",
              "      <td>70</td>\n",
              "      <td>1</td>\n",
              "      <td>ford torino</td>\n",
              "    </tr>\n",
              "  </tbody>\n",
              "</table>\n",
              "</div>"
            ],
            "text/plain": [
              "    mpg  cylinders  displacement  ...  year  origin                       name\n",
              "0  18.0          8         307.0  ...    70       1  chevrolet chevelle malibu\n",
              "1  15.0          8         350.0  ...    70       1          buick skylark 320\n",
              "2  18.0          8         318.0  ...    70       1         plymouth satellite\n",
              "3  16.0          8         304.0  ...    70       1              amc rebel sst\n",
              "4  17.0          8         302.0  ...    70       1                ford torino\n",
              "\n",
              "[5 rows x 9 columns]"
            ]
          },
          "metadata": {
            "tags": []
          }
        }
      ]
    },
    {
      "cell_type": "code",
      "metadata": {
        "id": "W8tuZiE62ppe",
        "outputId": "a365e858-6937-455b-a1ea-82ed338ebe43",
        "colab": {
          "base_uri": "https://localhost:8080/",
          "height": 34
        }
      },
      "source": [
        "cars.isna().sum()\n",
        "cars['year'].unique()"
      ],
      "execution_count": 208,
      "outputs": [
        {
          "output_type": "execute_result",
          "data": {
            "text/plain": [
              "array([70, 71, 72, 73, 74, 75, 76, 77, 78, 79, 80, 81, 82])"
            ]
          },
          "metadata": {
            "tags": []
          },
          "execution_count": 208
        }
      ]
    },
    {
      "cell_type": "code",
      "metadata": {
        "id": "wdgMDTvg2svk"
      },
      "source": [
        "#Data cleaning and preprocess\n",
        "#Fill the missing values for horsepower by the median value\n",
        "cars['horsepower'] = cars['horsepower'].fillna(cars['horsepower'].median())"
      ],
      "execution_count": 209,
      "outputs": []
    },
    {
      "cell_type": "code",
      "metadata": {
        "id": "hG2kw9gk3QPj"
      },
      "source": [
        "#Create dummies for the categorical variables\n",
        "clyd = pd.get_dummies(cars['cylinders'],prefix ='cylinder')\n",
        "origind = pd.get_dummies(cars['origin'],prefix='origin')\n",
        "yearsd = pd.get_dummies(cars['year'], prefix='year')"
      ],
      "execution_count": 210,
      "outputs": []
    },
    {
      "cell_type": "code",
      "metadata": {
        "id": "UHn_O2Ho4INi"
      },
      "source": [
        "#Get the target variable\n",
        "y = cars['mpg']"
      ],
      "execution_count": 211,
      "outputs": []
    },
    {
      "cell_type": "code",
      "metadata": {
        "id": "eLG56AqJ4aQe"
      },
      "source": [
        "x = cars.drop(columns = ['cylinders','year','origin','name','mpg'], axis = 1)"
      ],
      "execution_count": 212,
      "outputs": []
    },
    {
      "cell_type": "code",
      "metadata": {
        "id": "APIakJIn4ufi",
        "outputId": "6d47062e-ffca-4a77-e07f-b3b49b5d365b",
        "colab": {
          "base_uri": "https://localhost:8080/",
          "height": 204
        }
      },
      "source": [
        "display(x.head())"
      ],
      "execution_count": 213,
      "outputs": [
        {
          "output_type": "display_data",
          "data": {
            "text/html": [
              "<div>\n",
              "<style scoped>\n",
              "    .dataframe tbody tr th:only-of-type {\n",
              "        vertical-align: middle;\n",
              "    }\n",
              "\n",
              "    .dataframe tbody tr th {\n",
              "        vertical-align: top;\n",
              "    }\n",
              "\n",
              "    .dataframe thead th {\n",
              "        text-align: right;\n",
              "    }\n",
              "</style>\n",
              "<table border=\"1\" class=\"dataframe\">\n",
              "  <thead>\n",
              "    <tr style=\"text-align: right;\">\n",
              "      <th></th>\n",
              "      <th>displacement</th>\n",
              "      <th>horsepower</th>\n",
              "      <th>weight</th>\n",
              "      <th>acceleration</th>\n",
              "    </tr>\n",
              "  </thead>\n",
              "  <tbody>\n",
              "    <tr>\n",
              "      <th>0</th>\n",
              "      <td>307.0</td>\n",
              "      <td>130.0</td>\n",
              "      <td>3504</td>\n",
              "      <td>12.0</td>\n",
              "    </tr>\n",
              "    <tr>\n",
              "      <th>1</th>\n",
              "      <td>350.0</td>\n",
              "      <td>165.0</td>\n",
              "      <td>3693</td>\n",
              "      <td>11.5</td>\n",
              "    </tr>\n",
              "    <tr>\n",
              "      <th>2</th>\n",
              "      <td>318.0</td>\n",
              "      <td>150.0</td>\n",
              "      <td>3436</td>\n",
              "      <td>11.0</td>\n",
              "    </tr>\n",
              "    <tr>\n",
              "      <th>3</th>\n",
              "      <td>304.0</td>\n",
              "      <td>150.0</td>\n",
              "      <td>3433</td>\n",
              "      <td>12.0</td>\n",
              "    </tr>\n",
              "    <tr>\n",
              "      <th>4</th>\n",
              "      <td>302.0</td>\n",
              "      <td>140.0</td>\n",
              "      <td>3449</td>\n",
              "      <td>10.5</td>\n",
              "    </tr>\n",
              "  </tbody>\n",
              "</table>\n",
              "</div>"
            ],
            "text/plain": [
              "   displacement  horsepower  weight  acceleration\n",
              "0         307.0       130.0    3504          12.0\n",
              "1         350.0       165.0    3693          11.5\n",
              "2         318.0       150.0    3436          11.0\n",
              "3         304.0       150.0    3433          12.0\n",
              "4         302.0       140.0    3449          10.5"
            ]
          },
          "metadata": {
            "tags": []
          }
        }
      ]
    },
    {
      "cell_type": "code",
      "metadata": {
        "id": "NZcRYlGb4yib"
      },
      "source": [
        "#Standerdize the data into z-scores\n",
        "cols = list(x.columns)"
      ],
      "execution_count": 214,
      "outputs": []
    },
    {
      "cell_type": "code",
      "metadata": {
        "id": "MKqMyL_S5VeJ"
      },
      "source": [
        "for col in cols:\n",
        "  x[col] = zscore(x[col])"
      ],
      "execution_count": 215,
      "outputs": []
    },
    {
      "cell_type": "code",
      "metadata": {
        "id": "b-JNqtlt5c_2",
        "outputId": "7f005d94-012f-4ef3-ab95-2bd01e2b3bc3",
        "colab": {
          "base_uri": "https://localhost:8080/",
          "height": 204
        }
      },
      "source": [
        "display(x.head())"
      ],
      "execution_count": 216,
      "outputs": [
        {
          "output_type": "display_data",
          "data": {
            "text/html": [
              "<div>\n",
              "<style scoped>\n",
              "    .dataframe tbody tr th:only-of-type {\n",
              "        vertical-align: middle;\n",
              "    }\n",
              "\n",
              "    .dataframe tbody tr th {\n",
              "        vertical-align: top;\n",
              "    }\n",
              "\n",
              "    .dataframe thead th {\n",
              "        text-align: right;\n",
              "    }\n",
              "</style>\n",
              "<table border=\"1\" class=\"dataframe\">\n",
              "  <thead>\n",
              "    <tr style=\"text-align: right;\">\n",
              "      <th></th>\n",
              "      <th>displacement</th>\n",
              "      <th>horsepower</th>\n",
              "      <th>weight</th>\n",
              "      <th>acceleration</th>\n",
              "    </tr>\n",
              "  </thead>\n",
              "  <tbody>\n",
              "    <tr>\n",
              "      <th>0</th>\n",
              "      <td>1.090604</td>\n",
              "      <td>0.673118</td>\n",
              "      <td>0.630870</td>\n",
              "      <td>-1.295498</td>\n",
              "    </tr>\n",
              "    <tr>\n",
              "      <th>1</th>\n",
              "      <td>1.503514</td>\n",
              "      <td>1.589958</td>\n",
              "      <td>0.854333</td>\n",
              "      <td>-1.477038</td>\n",
              "    </tr>\n",
              "    <tr>\n",
              "      <th>2</th>\n",
              "      <td>1.196232</td>\n",
              "      <td>1.197027</td>\n",
              "      <td>0.550470</td>\n",
              "      <td>-1.658577</td>\n",
              "    </tr>\n",
              "    <tr>\n",
              "      <th>3</th>\n",
              "      <td>1.061796</td>\n",
              "      <td>1.197027</td>\n",
              "      <td>0.546923</td>\n",
              "      <td>-1.295498</td>\n",
              "    </tr>\n",
              "    <tr>\n",
              "      <th>4</th>\n",
              "      <td>1.042591</td>\n",
              "      <td>0.935072</td>\n",
              "      <td>0.565841</td>\n",
              "      <td>-1.840117</td>\n",
              "    </tr>\n",
              "  </tbody>\n",
              "</table>\n",
              "</div>"
            ],
            "text/plain": [
              "   displacement  horsepower    weight  acceleration\n",
              "0      1.090604    0.673118  0.630870     -1.295498\n",
              "1      1.503514    1.589958  0.854333     -1.477038\n",
              "2      1.196232    1.197027  0.550470     -1.658577\n",
              "3      1.061796    1.197027  0.546923     -1.295498\n",
              "4      1.042591    0.935072  0.565841     -1.840117"
            ]
          },
          "metadata": {
            "tags": []
          }
        }
      ]
    },
    {
      "cell_type": "code",
      "metadata": {
        "id": "BZIY7nKr5gQ4"
      },
      "source": [
        "#add the dummies columns to our final predictors\n",
        "x = pd.concat([x,clyd, yearsd, origind], axis = 1)"
      ],
      "execution_count": 217,
      "outputs": []
    },
    {
      "cell_type": "code",
      "metadata": {
        "id": "RgYVE4mk53sv",
        "outputId": "a2445fbe-7c39-4956-f1b0-c05aa2d06512",
        "colab": {
          "base_uri": "https://localhost:8080/",
          "height": 224
        }
      },
      "source": [
        "display(x.head())"
      ],
      "execution_count": 218,
      "outputs": [
        {
          "output_type": "display_data",
          "data": {
            "text/html": [
              "<div>\n",
              "<style scoped>\n",
              "    .dataframe tbody tr th:only-of-type {\n",
              "        vertical-align: middle;\n",
              "    }\n",
              "\n",
              "    .dataframe tbody tr th {\n",
              "        vertical-align: top;\n",
              "    }\n",
              "\n",
              "    .dataframe thead th {\n",
              "        text-align: right;\n",
              "    }\n",
              "</style>\n",
              "<table border=\"1\" class=\"dataframe\">\n",
              "  <thead>\n",
              "    <tr style=\"text-align: right;\">\n",
              "      <th></th>\n",
              "      <th>displacement</th>\n",
              "      <th>horsepower</th>\n",
              "      <th>weight</th>\n",
              "      <th>acceleration</th>\n",
              "      <th>cylinder_3</th>\n",
              "      <th>cylinder_4</th>\n",
              "      <th>cylinder_5</th>\n",
              "      <th>cylinder_6</th>\n",
              "      <th>cylinder_8</th>\n",
              "      <th>year_70</th>\n",
              "      <th>year_71</th>\n",
              "      <th>year_72</th>\n",
              "      <th>year_73</th>\n",
              "      <th>year_74</th>\n",
              "      <th>year_75</th>\n",
              "      <th>year_76</th>\n",
              "      <th>year_77</th>\n",
              "      <th>year_78</th>\n",
              "      <th>year_79</th>\n",
              "      <th>year_80</th>\n",
              "      <th>year_81</th>\n",
              "      <th>year_82</th>\n",
              "      <th>origin_1</th>\n",
              "      <th>origin_2</th>\n",
              "      <th>origin_3</th>\n",
              "    </tr>\n",
              "  </thead>\n",
              "  <tbody>\n",
              "    <tr>\n",
              "      <th>0</th>\n",
              "      <td>1.090604</td>\n",
              "      <td>0.673118</td>\n",
              "      <td>0.630870</td>\n",
              "      <td>-1.295498</td>\n",
              "      <td>0</td>\n",
              "      <td>0</td>\n",
              "      <td>0</td>\n",
              "      <td>0</td>\n",
              "      <td>1</td>\n",
              "      <td>1</td>\n",
              "      <td>0</td>\n",
              "      <td>0</td>\n",
              "      <td>0</td>\n",
              "      <td>0</td>\n",
              "      <td>0</td>\n",
              "      <td>0</td>\n",
              "      <td>0</td>\n",
              "      <td>0</td>\n",
              "      <td>0</td>\n",
              "      <td>0</td>\n",
              "      <td>0</td>\n",
              "      <td>0</td>\n",
              "      <td>1</td>\n",
              "      <td>0</td>\n",
              "      <td>0</td>\n",
              "    </tr>\n",
              "    <tr>\n",
              "      <th>1</th>\n",
              "      <td>1.503514</td>\n",
              "      <td>1.589958</td>\n",
              "      <td>0.854333</td>\n",
              "      <td>-1.477038</td>\n",
              "      <td>0</td>\n",
              "      <td>0</td>\n",
              "      <td>0</td>\n",
              "      <td>0</td>\n",
              "      <td>1</td>\n",
              "      <td>1</td>\n",
              "      <td>0</td>\n",
              "      <td>0</td>\n",
              "      <td>0</td>\n",
              "      <td>0</td>\n",
              "      <td>0</td>\n",
              "      <td>0</td>\n",
              "      <td>0</td>\n",
              "      <td>0</td>\n",
              "      <td>0</td>\n",
              "      <td>0</td>\n",
              "      <td>0</td>\n",
              "      <td>0</td>\n",
              "      <td>1</td>\n",
              "      <td>0</td>\n",
              "      <td>0</td>\n",
              "    </tr>\n",
              "    <tr>\n",
              "      <th>2</th>\n",
              "      <td>1.196232</td>\n",
              "      <td>1.197027</td>\n",
              "      <td>0.550470</td>\n",
              "      <td>-1.658577</td>\n",
              "      <td>0</td>\n",
              "      <td>0</td>\n",
              "      <td>0</td>\n",
              "      <td>0</td>\n",
              "      <td>1</td>\n",
              "      <td>1</td>\n",
              "      <td>0</td>\n",
              "      <td>0</td>\n",
              "      <td>0</td>\n",
              "      <td>0</td>\n",
              "      <td>0</td>\n",
              "      <td>0</td>\n",
              "      <td>0</td>\n",
              "      <td>0</td>\n",
              "      <td>0</td>\n",
              "      <td>0</td>\n",
              "      <td>0</td>\n",
              "      <td>0</td>\n",
              "      <td>1</td>\n",
              "      <td>0</td>\n",
              "      <td>0</td>\n",
              "    </tr>\n",
              "    <tr>\n",
              "      <th>3</th>\n",
              "      <td>1.061796</td>\n",
              "      <td>1.197027</td>\n",
              "      <td>0.546923</td>\n",
              "      <td>-1.295498</td>\n",
              "      <td>0</td>\n",
              "      <td>0</td>\n",
              "      <td>0</td>\n",
              "      <td>0</td>\n",
              "      <td>1</td>\n",
              "      <td>1</td>\n",
              "      <td>0</td>\n",
              "      <td>0</td>\n",
              "      <td>0</td>\n",
              "      <td>0</td>\n",
              "      <td>0</td>\n",
              "      <td>0</td>\n",
              "      <td>0</td>\n",
              "      <td>0</td>\n",
              "      <td>0</td>\n",
              "      <td>0</td>\n",
              "      <td>0</td>\n",
              "      <td>0</td>\n",
              "      <td>1</td>\n",
              "      <td>0</td>\n",
              "      <td>0</td>\n",
              "    </tr>\n",
              "    <tr>\n",
              "      <th>4</th>\n",
              "      <td>1.042591</td>\n",
              "      <td>0.935072</td>\n",
              "      <td>0.565841</td>\n",
              "      <td>-1.840117</td>\n",
              "      <td>0</td>\n",
              "      <td>0</td>\n",
              "      <td>0</td>\n",
              "      <td>0</td>\n",
              "      <td>1</td>\n",
              "      <td>1</td>\n",
              "      <td>0</td>\n",
              "      <td>0</td>\n",
              "      <td>0</td>\n",
              "      <td>0</td>\n",
              "      <td>0</td>\n",
              "      <td>0</td>\n",
              "      <td>0</td>\n",
              "      <td>0</td>\n",
              "      <td>0</td>\n",
              "      <td>0</td>\n",
              "      <td>0</td>\n",
              "      <td>0</td>\n",
              "      <td>1</td>\n",
              "      <td>0</td>\n",
              "      <td>0</td>\n",
              "    </tr>\n",
              "  </tbody>\n",
              "</table>\n",
              "</div>"
            ],
            "text/plain": [
              "   displacement  horsepower    weight  ...  origin_1  origin_2  origin_3\n",
              "0      1.090604    0.673118  0.630870  ...         1         0         0\n",
              "1      1.503514    1.589958  0.854333  ...         1         0         0\n",
              "2      1.196232    1.197027  0.550470  ...         1         0         0\n",
              "3      1.061796    1.197027  0.546923  ...         1         0         0\n",
              "4      1.042591    0.935072  0.565841  ...         1         0         0\n",
              "\n",
              "[5 rows x 25 columns]"
            ]
          },
          "metadata": {
            "tags": []
          }
        }
      ]
    },
    {
      "cell_type": "code",
      "metadata": {
        "id": "0fjlsbyw6_bX",
        "outputId": "3b4904ca-95d5-42e6-ef3c-0b5495bf0c8c",
        "colab": {
          "base_uri": "https://localhost:8080/",
          "height": 527
        }
      },
      "source": [
        "names1 = list(x.columns)\n",
        "\n",
        "x = x.values\n",
        "x[0:6]"
      ],
      "execution_count": 219,
      "outputs": [
        {
          "output_type": "execute_result",
          "data": {
            "text/plain": [
              "array([[ 1.0906037 ,  0.67311762,  0.63086987, -1.29549834,  0.        ,\n",
              "         0.        ,  0.        ,  0.        ,  1.        ,  1.        ,\n",
              "         0.        ,  0.        ,  0.        ,  0.        ,  0.        ,\n",
              "         0.        ,  0.        ,  0.        ,  0.        ,  0.        ,\n",
              "         0.        ,  0.        ,  1.        ,  0.        ,  0.        ],\n",
              "       [ 1.5035143 ,  1.58995818,  0.85433297, -1.47703779,  0.        ,\n",
              "         0.        ,  0.        ,  0.        ,  1.        ,  1.        ,\n",
              "         0.        ,  0.        ,  0.        ,  0.        ,  0.        ,\n",
              "         0.        ,  0.        ,  0.        ,  0.        ,  0.        ,\n",
              "         0.        ,  0.        ,  1.        ,  0.        ,  0.        ],\n",
              "       [ 1.19623199,  1.19702651,  0.55047045, -1.65857724,  0.        ,\n",
              "         0.        ,  0.        ,  0.        ,  1.        ,  1.        ,\n",
              "         0.        ,  0.        ,  0.        ,  0.        ,  0.        ,\n",
              "         0.        ,  0.        ,  0.        ,  0.        ,  0.        ,\n",
              "         0.        ,  0.        ,  1.        ,  0.        ,  0.        ],\n",
              "       [ 1.06179598,  1.19702651,  0.54692342, -1.29549834,  0.        ,\n",
              "         0.        ,  0.        ,  0.        ,  1.        ,  1.        ,\n",
              "         0.        ,  0.        ,  0.        ,  0.        ,  0.        ,\n",
              "         0.        ,  0.        ,  0.        ,  0.        ,  0.        ,\n",
              "         0.        ,  0.        ,  1.        ,  0.        ,  0.        ],\n",
              "       [ 1.04259084,  0.93507207,  0.56584093, -1.84011669,  0.        ,\n",
              "         0.        ,  0.        ,  0.        ,  1.        ,  1.        ,\n",
              "         0.        ,  0.        ,  0.        ,  0.        ,  0.        ,\n",
              "         0.        ,  0.        ,  0.        ,  0.        ,  0.        ,\n",
              "         0.        ,  0.        ,  1.        ,  0.        ,  0.        ],\n",
              "       [ 2.26211751,  2.45440785,  1.62049216, -2.02165614,  0.        ,\n",
              "         0.        ,  0.        ,  0.        ,  1.        ,  1.        ,\n",
              "         0.        ,  0.        ,  0.        ,  0.        ,  0.        ,\n",
              "         0.        ,  0.        ,  0.        ,  0.        ,  0.        ,\n",
              "         0.        ,  0.        ,  1.        ,  0.        ,  0.        ]])"
            ]
          },
          "metadata": {
            "tags": []
          },
          "execution_count": 219
        }
      ]
    },
    {
      "cell_type": "code",
      "metadata": {
        "id": "uWxt8HKR57Fo"
      },
      "source": [
        "#standerdize the target\n",
        "y = zscore(y)"
      ],
      "execution_count": 220,
      "outputs": []
    },
    {
      "cell_type": "code",
      "metadata": {
        "id": "mO0k7Jst6mDA",
        "outputId": "924c20af-50e2-4df7-a5c7-b488b5ab5273",
        "colab": {
          "base_uri": "https://localhost:8080/",
          "height": 51
        }
      },
      "source": [
        "y[0:6]"
      ],
      "execution_count": 221,
      "outputs": [
        {
          "output_type": "execute_result",
          "data": {
            "text/plain": [
              "array([-0.7064387 , -1.09075062, -0.7064387 , -0.96264665, -0.83454267,\n",
              "       -1.09075062])"
            ]
          },
          "metadata": {
            "tags": []
          },
          "execution_count": 221
        }
      ]
    },
    {
      "cell_type": "code",
      "metadata": {
        "id": "j0GujMWP6o9e"
      },
      "source": [
        "#Spliting the data into training and testing sets\n",
        "x_train, x_test, y_train, y_test = train_test_split(x, y, test_size = 0.25, random_state = 123)"
      ],
      "execution_count": 222,
      "outputs": []
    },
    {
      "cell_type": "code",
      "metadata": {
        "id": "oU7HsuDb7Zpn",
        "outputId": "2a482280-4cd2-49d0-a25b-2b8335f0c4f3",
        "colab": {
          "base_uri": "https://localhost:8080/",
          "height": 646
        }
      },
      "source": [
        "#MLP NNT for regression\n",
        "model = Sequential()\n",
        "model.add(Dense(60, input_dim = x.shape[1], activation = 'relu', kernel_initializer = 'random_normal'))\n",
        "model.add(Dense(30, activation = 'relu', kernel_initializer='random_normal'))\n",
        "model.add(Dense(1))\n",
        "info = EarlyStopping(monitor = 'val_loss', min_delta =1e-3, patience = 5, verbose = 1, restore_best_weights=True)\n",
        "model.compile(loss = 'mean_squared_error', optimizer = 'adam')\n",
        "model.fit(x_train, y_train, validation_data = (x_test, y_test), callbacks = [info], verbose = 2, epochs = 1000)\n"
      ],
      "execution_count": 223,
      "outputs": [
        {
          "output_type": "stream",
          "text": [
            "Epoch 1/1000\n",
            "10/10 - 0s - loss: 0.9023 - val_loss: 0.7440\n",
            "Epoch 2/1000\n",
            "10/10 - 0s - loss: 0.6841 - val_loss: 0.5400\n",
            "Epoch 3/1000\n",
            "10/10 - 0s - loss: 0.4582 - val_loss: 0.3687\n",
            "Epoch 4/1000\n",
            "10/10 - 0s - loss: 0.3062 - val_loss: 0.3105\n",
            "Epoch 5/1000\n",
            "10/10 - 0s - loss: 0.2473 - val_loss: 0.2703\n",
            "Epoch 6/1000\n",
            "10/10 - 0s - loss: 0.2017 - val_loss: 0.2399\n",
            "Epoch 7/1000\n",
            "10/10 - 0s - loss: 0.1733 - val_loss: 0.2158\n",
            "Epoch 8/1000\n",
            "10/10 - 0s - loss: 0.1498 - val_loss: 0.1910\n",
            "Epoch 9/1000\n",
            "10/10 - 0s - loss: 0.1272 - val_loss: 0.1756\n",
            "Epoch 10/1000\n",
            "10/10 - 0s - loss: 0.1114 - val_loss: 0.1586\n",
            "Epoch 11/1000\n",
            "10/10 - 0s - loss: 0.1002 - val_loss: 0.1506\n",
            "Epoch 12/1000\n",
            "10/10 - 0s - loss: 0.0921 - val_loss: 0.1477\n",
            "Epoch 13/1000\n",
            "10/10 - 0s - loss: 0.0888 - val_loss: 0.1490\n",
            "Epoch 14/1000\n",
            "10/10 - 0s - loss: 0.0854 - val_loss: 0.1500\n",
            "Epoch 15/1000\n",
            "10/10 - 0s - loss: 0.0832 - val_loss: 0.1508\n",
            "Epoch 16/1000\n",
            "10/10 - 0s - loss: 0.0810 - val_loss: 0.1478\n",
            "Epoch 17/1000\n",
            "Restoring model weights from the end of the best epoch.\n",
            "10/10 - 0s - loss: 0.0816 - val_loss: 0.1500\n",
            "Epoch 00017: early stopping\n"
          ],
          "name": "stdout"
        },
        {
          "output_type": "execute_result",
          "data": {
            "text/plain": [
              "<tensorflow.python.keras.callbacks.History at 0x7f1a7afc0668>"
            ]
          },
          "metadata": {
            "tags": []
          },
          "execution_count": 223
        }
      ]
    },
    {
      "cell_type": "code",
      "metadata": {
        "id": "P4fa6E3g8y7D"
      },
      "source": [
        "pred = model.predict(x_test)"
      ],
      "execution_count": 224,
      "outputs": []
    },
    {
      "cell_type": "code",
      "metadata": {
        "id": "LCgMd0TA8-vO",
        "outputId": "ed8ddfb2-c30e-4850-e461-7837f8de3ebf",
        "colab": {
          "base_uri": "https://localhost:8080/",
          "height": 34
        }
      },
      "source": [
        "mse = metrics.mean_squared_error(y_test, pred)\n",
        "mse"
      ],
      "execution_count": 225,
      "outputs": [
        {
          "output_type": "execute_result",
          "data": {
            "text/plain": [
              "0.1477069796815034"
            ]
          },
          "metadata": {
            "tags": []
          },
          "execution_count": 225
        }
      ]
    },
    {
      "cell_type": "code",
      "metadata": {
        "id": "TOirqEPC9JWO"
      },
      "source": [
        "#Variable importance\n",
        "Variables_ranks = var_rank(model,x_test,y_test,names1, True)"
      ],
      "execution_count": 227,
      "outputs": []
    },
    {
      "cell_type": "code",
      "metadata": {
        "id": "yf8rwryW93-j",
        "outputId": "7bead78c-0b24-4083-cf7f-5ad68e1cb197",
        "colab": {
          "base_uri": "https://localhost:8080/",
          "height": 824
        }
      },
      "source": [
        "Variables_ranks"
      ],
      "execution_count": 228,
      "outputs": [
        {
          "output_type": "execute_result",
          "data": {
            "text/html": [
              "<div>\n",
              "<style scoped>\n",
              "    .dataframe tbody tr th:only-of-type {\n",
              "        vertical-align: middle;\n",
              "    }\n",
              "\n",
              "    .dataframe tbody tr th {\n",
              "        vertical-align: top;\n",
              "    }\n",
              "\n",
              "    .dataframe thead th {\n",
              "        text-align: right;\n",
              "    }\n",
              "</style>\n",
              "<table border=\"1\" class=\"dataframe\">\n",
              "  <thead>\n",
              "    <tr style=\"text-align: right;\">\n",
              "      <th></th>\n",
              "      <th>names</th>\n",
              "      <th>errors</th>\n",
              "      <th>importance</th>\n",
              "    </tr>\n",
              "  </thead>\n",
              "  <tbody>\n",
              "    <tr>\n",
              "      <th>0</th>\n",
              "      <td>weight</td>\n",
              "      <td>0.346180</td>\n",
              "      <td>1.000000</td>\n",
              "    </tr>\n",
              "    <tr>\n",
              "      <th>1</th>\n",
              "      <td>horsepower</td>\n",
              "      <td>0.304949</td>\n",
              "      <td>0.880896</td>\n",
              "    </tr>\n",
              "    <tr>\n",
              "      <th>2</th>\n",
              "      <td>displacement</td>\n",
              "      <td>0.226458</td>\n",
              "      <td>0.654162</td>\n",
              "    </tr>\n",
              "    <tr>\n",
              "      <th>3</th>\n",
              "      <td>year_72</td>\n",
              "      <td>0.187361</td>\n",
              "      <td>0.541225</td>\n",
              "    </tr>\n",
              "    <tr>\n",
              "      <th>4</th>\n",
              "      <td>year_82</td>\n",
              "      <td>0.183443</td>\n",
              "      <td>0.529907</td>\n",
              "    </tr>\n",
              "    <tr>\n",
              "      <th>5</th>\n",
              "      <td>year_73</td>\n",
              "      <td>0.177232</td>\n",
              "      <td>0.511964</td>\n",
              "    </tr>\n",
              "    <tr>\n",
              "      <th>6</th>\n",
              "      <td>year_80</td>\n",
              "      <td>0.171281</td>\n",
              "      <td>0.494775</td>\n",
              "    </tr>\n",
              "    <tr>\n",
              "      <th>7</th>\n",
              "      <td>year_75</td>\n",
              "      <td>0.170051</td>\n",
              "      <td>0.491221</td>\n",
              "    </tr>\n",
              "    <tr>\n",
              "      <th>8</th>\n",
              "      <td>year_74</td>\n",
              "      <td>0.167942</td>\n",
              "      <td>0.485130</td>\n",
              "    </tr>\n",
              "    <tr>\n",
              "      <th>9</th>\n",
              "      <td>year_71</td>\n",
              "      <td>0.161770</td>\n",
              "      <td>0.467300</td>\n",
              "    </tr>\n",
              "    <tr>\n",
              "      <th>10</th>\n",
              "      <td>year_76</td>\n",
              "      <td>0.160539</td>\n",
              "      <td>0.463745</td>\n",
              "    </tr>\n",
              "    <tr>\n",
              "      <th>11</th>\n",
              "      <td>year_81</td>\n",
              "      <td>0.158873</td>\n",
              "      <td>0.458932</td>\n",
              "    </tr>\n",
              "    <tr>\n",
              "      <th>12</th>\n",
              "      <td>year_70</td>\n",
              "      <td>0.158782</td>\n",
              "      <td>0.458668</td>\n",
              "    </tr>\n",
              "    <tr>\n",
              "      <th>13</th>\n",
              "      <td>year_79</td>\n",
              "      <td>0.157701</td>\n",
              "      <td>0.455546</td>\n",
              "    </tr>\n",
              "    <tr>\n",
              "      <th>14</th>\n",
              "      <td>cylinder_8</td>\n",
              "      <td>0.153620</td>\n",
              "      <td>0.443759</td>\n",
              "    </tr>\n",
              "    <tr>\n",
              "      <th>15</th>\n",
              "      <td>cylinder_4</td>\n",
              "      <td>0.153327</td>\n",
              "      <td>0.442913</td>\n",
              "    </tr>\n",
              "    <tr>\n",
              "      <th>16</th>\n",
              "      <td>acceleration</td>\n",
              "      <td>0.152566</td>\n",
              "      <td>0.440714</td>\n",
              "    </tr>\n",
              "    <tr>\n",
              "      <th>17</th>\n",
              "      <td>year_77</td>\n",
              "      <td>0.150309</td>\n",
              "      <td>0.434194</td>\n",
              "    </tr>\n",
              "    <tr>\n",
              "      <th>18</th>\n",
              "      <td>origin_3</td>\n",
              "      <td>0.147987</td>\n",
              "      <td>0.427486</td>\n",
              "    </tr>\n",
              "    <tr>\n",
              "      <th>19</th>\n",
              "      <td>origin_2</td>\n",
              "      <td>0.147771</td>\n",
              "      <td>0.426862</td>\n",
              "    </tr>\n",
              "    <tr>\n",
              "      <th>20</th>\n",
              "      <td>cylinder_3</td>\n",
              "      <td>0.147707</td>\n",
              "      <td>0.426677</td>\n",
              "    </tr>\n",
              "    <tr>\n",
              "      <th>21</th>\n",
              "      <td>year_78</td>\n",
              "      <td>0.146065</td>\n",
              "      <td>0.421933</td>\n",
              "    </tr>\n",
              "    <tr>\n",
              "      <th>22</th>\n",
              "      <td>cylinder_5</td>\n",
              "      <td>0.144637</td>\n",
              "      <td>0.417809</td>\n",
              "    </tr>\n",
              "    <tr>\n",
              "      <th>23</th>\n",
              "      <td>cylinder_6</td>\n",
              "      <td>0.143028</td>\n",
              "      <td>0.413162</td>\n",
              "    </tr>\n",
              "    <tr>\n",
              "      <th>24</th>\n",
              "      <td>origin_1</td>\n",
              "      <td>0.139308</td>\n",
              "      <td>0.402416</td>\n",
              "    </tr>\n",
              "  </tbody>\n",
              "</table>\n",
              "</div>"
            ],
            "text/plain": [
              "           names    errors  importance\n",
              "0         weight  0.346180    1.000000\n",
              "1     horsepower  0.304949    0.880896\n",
              "2   displacement  0.226458    0.654162\n",
              "3        year_72  0.187361    0.541225\n",
              "4        year_82  0.183443    0.529907\n",
              "5        year_73  0.177232    0.511964\n",
              "6        year_80  0.171281    0.494775\n",
              "7        year_75  0.170051    0.491221\n",
              "8        year_74  0.167942    0.485130\n",
              "9        year_71  0.161770    0.467300\n",
              "10       year_76  0.160539    0.463745\n",
              "11       year_81  0.158873    0.458932\n",
              "12       year_70  0.158782    0.458668\n",
              "13       year_79  0.157701    0.455546\n",
              "14    cylinder_8  0.153620    0.443759\n",
              "15    cylinder_4  0.153327    0.442913\n",
              "16  acceleration  0.152566    0.440714\n",
              "17       year_77  0.150309    0.434194\n",
              "18      origin_3  0.147987    0.427486\n",
              "19      origin_2  0.147771    0.426862\n",
              "20    cylinder_3  0.147707    0.426677\n",
              "21       year_78  0.146065    0.421933\n",
              "22    cylinder_5  0.144637    0.417809\n",
              "23    cylinder_6  0.143028    0.413162\n",
              "24      origin_1  0.139308    0.402416"
            ]
          },
          "metadata": {
            "tags": []
          },
          "execution_count": 228
        }
      ]
    },
    {
      "cell_type": "code",
      "metadata": {
        "id": "xSoM8G0y-g3e"
      },
      "source": [
        "import matplotlib.pyplot as plt\n",
        "#plt.style.use()\n",
        "import matplotlib as mpl\n",
        "\n",
        "mpl.rcParams['figure.figsize'] = (20,20)\n"
      ],
      "execution_count": 266,
      "outputs": []
    },
    {
      "cell_type": "code",
      "metadata": {
        "id": "qXeS-gXn_QKg",
        "outputId": "2aef4f58-fc31-47ae-aeb0-45ec56b0427b",
        "colab": {
          "base_uri": "https://localhost:8080/",
          "height": 415
        }
      },
      "source": [
        "plt.style.use('seaborn')\n",
        "Variables_ranks.sort_values(by = ['importance'], ascending= [1], inplace = True)\n",
        "#Variables_ranks.importance\n",
        "\n",
        "plt.barh(Variables_ranks['names'], Variables_ranks.importance,color = 'magenta')\n",
        "plt.title('Ranks for the variable importance in a regression model')\n",
        "plt.xlabel('Importance')\n",
        "plt.ylabel('Variable_name')"
      ],
      "execution_count": 267,
      "outputs": [
        {
          "output_type": "execute_result",
          "data": {
            "text/plain": [
              "Text(0, 0.5, 'Variable_name')"
            ]
          },
          "metadata": {
            "tags": []
          },
          "execution_count": 267
        },
        {
          "output_type": "display_data",
          "data": {
            "image/png": "[encoded data removed]",
            "text/plain": [
              "<Figure size 576x396 with 1 Axes>"
            ]
          },
          "metadata": {
            "tags": []
          }
        }
      ]
    },
    {
      "cell_type": "code",
      "metadata": {
        "id": "lDxXeQFjAMq9"
      },
      "source": [
        "#Variable importance through perturbation is usefull when working with big data such as biological data(Genes expression)\n",
        "#We can applie this method to improve the accuracy of the trained algorithim by using the most important features\n",
        "#We now predict a biological characteristic of a sample using dataset with bunch of columns\n",
        "#This was a kaggle competion, A file to be submitted will be constructed at the end"
      ],
      "execution_count": 2,
      "outputs": []
    },
    {
      "cell_type": "code",
      "metadata": {
        "id": "kluWujS3qA-u"
      },
      "source": [
        "import pandas as pd\n",
        "import os\n",
        "from IPython.display import display, HTML\n",
        "from scipy.stats import zscore\n",
        "from sklearn import metrics\n",
        "from sklearn.model_selection import KFold\n",
        "import matplotlib.pyplot as plt\n",
        "import numpy as np\n",
        "import tensorflow as tf\n",
        "from tensorflow.keras.models import Sequential\n",
        "from tensorflow.keras.layers import Dense, Activation,BatchNormalization\n",
        "from tensorflow.keras.callbacks import EarlyStopping\n",
        "from sklearn.model_selection import train_test_split\n",
        "\n"
      ],
      "execution_count": 44,
      "outputs": []
    },
    {
      "cell_type": "code",
      "metadata": {
        "id": "0r-WqGJgrZ80"
      },
      "source": [
        "#Get the path for the data\n",
        "if COLAB:\n",
        "  path = \"/content/drive/My Drive/bioresponse\"\n",
        "else:\n",
        "  path = \"./bioresponse\"\n",
        "train_path = os.path.join(path, 'train.csv')\n",
        "test_path = os.path.join(path, 'test.csv')\n",
        "submit_path = os.path.join(path,'svm_benchmark.csv')\n",
        "train_data = pd.read_csv(train_path, na_values = ['NA','?'])\n",
        "test_data = pd.read_csv(test_path, na_values = ['NA','?'])"
      ],
      "execution_count": 98,
      "outputs": []
    },
    {
      "cell_type": "code",
      "metadata": {
        "id": "9OyEwomLtSlH",
        "outputId": "1d64a7fb-e1a2-49e4-f79f-9db80e518213",
        "colab": {
          "base_uri": "https://localhost:8080/",
          "height": 253
        }
      },
      "source": [
        "display(train_data.head())"
      ],
      "execution_count": 99,
      "outputs": [
        {
          "output_type": "display_data",
          "data": {
            "text/html": [
              "<div>\n",
              "<style scoped>\n",
              "    .dataframe tbody tr th:only-of-type {\n",
              "        vertical-align: middle;\n",
              "    }\n",
              "\n",
              "    .dataframe tbody tr th {\n",
              "        vertical-align: top;\n",
              "    }\n",
              "\n",
              "    .dataframe thead th {\n",
              "        text-align: right;\n",
              "    }\n",
              "</style>\n",
              "<table border=\"1\" class=\"dataframe\">\n",
              "  <thead>\n",
              "    <tr style=\"text-align: right;\">\n",
              "      <th></th>\n",
              "      <th>Activity</th>\n",
              "      <th>D1</th>\n",
              "      <th>D2</th>\n",
              "      <th>D3</th>\n",
              "      <th>D4</th>\n",
              "      <th>D5</th>\n",
              "      <th>D6</th>\n",
              "      <th>D7</th>\n",
              "      <th>D8</th>\n",
              "      <th>D9</th>\n",
              "      <th>D10</th>\n",
              "      <th>D11</th>\n",
              "      <th>D12</th>\n",
              "      <th>D13</th>\n",
              "      <th>D14</th>\n",
              "      <th>D15</th>\n",
              "      <th>D16</th>\n",
              "      <th>D17</th>\n",
              "      <th>D18</th>\n",
              "      <th>D19</th>\n",
              "      <th>D20</th>\n",
              "      <th>D21</th>\n",
              "      <th>D22</th>\n",
              "      <th>D23</th>\n",
              "      <th>D24</th>\n",
              "      <th>D25</th>\n",
              "      <th>D26</th>\n",
              "      <th>D27</th>\n",
              "      <th>D28</th>\n",
              "      <th>D29</th>\n",
              "      <th>D30</th>\n",
              "      <th>D31</th>\n",
              "      <th>D32</th>\n",
              "      <th>D33</th>\n",
              "      <th>D34</th>\n",
              "      <th>D35</th>\n",
              "      <th>D36</th>\n",
              "      <th>D37</th>\n",
              "      <th>D38</th>\n",
              "      <th>D39</th>\n",
              "      <th>...</th>\n",
              "      <th>D1737</th>\n",
              "      <th>D1738</th>\n",
              "      <th>D1739</th>\n",
              "      <th>D1740</th>\n",
              "      <th>D1741</th>\n",
              "      <th>D1742</th>\n",
              "      <th>D1743</th>\n",
              "      <th>D1744</th>\n",
              "      <th>D1745</th>\n",
              "      <th>D1746</th>\n",
              "      <th>D1747</th>\n",
              "      <th>D1748</th>\n",
              "      <th>D1749</th>\n",
              "      <th>D1750</th>\n",
              "      <th>D1751</th>\n",
              "      <th>D1752</th>\n",
              "      <th>D1753</th>\n",
              "      <th>D1754</th>\n",
              "      <th>D1755</th>\n",
              "      <th>D1756</th>\n",
              "      <th>D1757</th>\n",
              "      <th>D1758</th>\n",
              "      <th>D1759</th>\n",
              "      <th>D1760</th>\n",
              "      <th>D1761</th>\n",
              "      <th>D1762</th>\n",
              "      <th>D1763</th>\n",
              "      <th>D1764</th>\n",
              "      <th>D1765</th>\n",
              "      <th>D1766</th>\n",
              "      <th>D1767</th>\n",
              "      <th>D1768</th>\n",
              "      <th>D1769</th>\n",
              "      <th>D1770</th>\n",
              "      <th>D1771</th>\n",
              "      <th>D1772</th>\n",
              "      <th>D1773</th>\n",
              "      <th>D1774</th>\n",
              "      <th>D1775</th>\n",
              "      <th>D1776</th>\n",
              "    </tr>\n",
              "  </thead>\n",
              "  <tbody>\n",
              "    <tr>\n",
              "      <th>0</th>\n",
              "      <td>1</td>\n",
              "      <td>0.000000</td>\n",
              "      <td>0.497009</td>\n",
              "      <td>0.10</td>\n",
              "      <td>0.0</td>\n",
              "      <td>0.132956</td>\n",
              "      <td>0.678031</td>\n",
              "      <td>0.273166</td>\n",
              "      <td>0.585445</td>\n",
              "      <td>0.743663</td>\n",
              "      <td>0.243144</td>\n",
              "      <td>0.187856</td>\n",
              "      <td>0.0000</td>\n",
              "      <td>0.000000</td>\n",
              "      <td>0.069000</td>\n",
              "      <td>0.362012</td>\n",
              "      <td>0.301773</td>\n",
              "      <td>0.597930</td>\n",
              "      <td>0.190813</td>\n",
              "      <td>0.107219</td>\n",
              "      <td>0.070500</td>\n",
              "      <td>0.00717</td>\n",
              "      <td>0.137931</td>\n",
              "      <td>1</td>\n",
              "      <td>0.00</td>\n",
              "      <td>0.496683</td>\n",
              "      <td>0.753131</td>\n",
              "      <td>1</td>\n",
              "      <td>1</td>\n",
              "      <td>0.000000</td>\n",
              "      <td>0.262919</td>\n",
              "      <td>0.077200</td>\n",
              "      <td>0.082700</td>\n",
              "      <td>0.200590</td>\n",
              "      <td>0.00000</td>\n",
              "      <td>0.000000</td>\n",
              "      <td>0.0</td>\n",
              "      <td>0.0</td>\n",
              "      <td>0.162383</td>\n",
              "      <td>0.150153</td>\n",
              "      <td>...</td>\n",
              "      <td>0</td>\n",
              "      <td>0</td>\n",
              "      <td>0</td>\n",
              "      <td>0</td>\n",
              "      <td>0</td>\n",
              "      <td>0</td>\n",
              "      <td>0</td>\n",
              "      <td>0</td>\n",
              "      <td>0</td>\n",
              "      <td>0</td>\n",
              "      <td>0</td>\n",
              "      <td>0</td>\n",
              "      <td>0</td>\n",
              "      <td>0</td>\n",
              "      <td>0</td>\n",
              "      <td>0</td>\n",
              "      <td>0</td>\n",
              "      <td>0</td>\n",
              "      <td>0</td>\n",
              "      <td>0</td>\n",
              "      <td>0</td>\n",
              "      <td>0</td>\n",
              "      <td>0</td>\n",
              "      <td>0</td>\n",
              "      <td>0</td>\n",
              "      <td>0</td>\n",
              "      <td>0</td>\n",
              "      <td>0</td>\n",
              "      <td>0</td>\n",
              "      <td>0</td>\n",
              "      <td>0</td>\n",
              "      <td>0</td>\n",
              "      <td>0</td>\n",
              "      <td>0</td>\n",
              "      <td>0</td>\n",
              "      <td>0</td>\n",
              "      <td>0</td>\n",
              "      <td>0</td>\n",
              "      <td>0</td>\n",
              "      <td>0</td>\n",
              "    </tr>\n",
              "    <tr>\n",
              "      <th>1</th>\n",
              "      <td>1</td>\n",
              "      <td>0.366667</td>\n",
              "      <td>0.606291</td>\n",
              "      <td>0.05</td>\n",
              "      <td>0.0</td>\n",
              "      <td>0.111209</td>\n",
              "      <td>0.803455</td>\n",
              "      <td>0.106105</td>\n",
              "      <td>0.411754</td>\n",
              "      <td>0.836582</td>\n",
              "      <td>0.106480</td>\n",
              "      <td>0.101382</td>\n",
              "      <td>0.1875</td>\n",
              "      <td>0.193548</td>\n",
              "      <td>0.131001</td>\n",
              "      <td>0.350206</td>\n",
              "      <td>0.187419</td>\n",
              "      <td>0.762669</td>\n",
              "      <td>0.180473</td>\n",
              "      <td>0.329962</td>\n",
              "      <td>0.107681</td>\n",
              "      <td>0.01950</td>\n",
              "      <td>0.206897</td>\n",
              "      <td>0</td>\n",
              "      <td>0.75</td>\n",
              "      <td>0.449869</td>\n",
              "      <td>0.720484</td>\n",
              "      <td>0</td>\n",
              "      <td>0</td>\n",
              "      <td>0.666667</td>\n",
              "      <td>0.099400</td>\n",
              "      <td>0.289240</td>\n",
              "      <td>0.216710</td>\n",
              "      <td>0.100295</td>\n",
              "      <td>0.16958</td>\n",
              "      <td>0.235294</td>\n",
              "      <td>0.0</td>\n",
              "      <td>0.0</td>\n",
              "      <td>0.119104</td>\n",
              "      <td>0.075100</td>\n",
              "      <td>...</td>\n",
              "      <td>0</td>\n",
              "      <td>1</td>\n",
              "      <td>1</td>\n",
              "      <td>0</td>\n",
              "      <td>0</td>\n",
              "      <td>0</td>\n",
              "      <td>1</td>\n",
              "      <td>1</td>\n",
              "      <td>0</td>\n",
              "      <td>1</td>\n",
              "      <td>0</td>\n",
              "      <td>0</td>\n",
              "      <td>1</td>\n",
              "      <td>0</td>\n",
              "      <td>1</td>\n",
              "      <td>1</td>\n",
              "      <td>1</td>\n",
              "      <td>0</td>\n",
              "      <td>0</td>\n",
              "      <td>0</td>\n",
              "      <td>1</td>\n",
              "      <td>0</td>\n",
              "      <td>0</td>\n",
              "      <td>0</td>\n",
              "      <td>1</td>\n",
              "      <td>0</td>\n",
              "      <td>1</td>\n",
              "      <td>1</td>\n",
              "      <td>0</td>\n",
              "      <td>0</td>\n",
              "      <td>1</td>\n",
              "      <td>1</td>\n",
              "      <td>1</td>\n",
              "      <td>1</td>\n",
              "      <td>0</td>\n",
              "      <td>1</td>\n",
              "      <td>0</td>\n",
              "      <td>0</td>\n",
              "      <td>1</td>\n",
              "      <td>0</td>\n",
              "    </tr>\n",
              "    <tr>\n",
              "      <th>2</th>\n",
              "      <td>1</td>\n",
              "      <td>0.033300</td>\n",
              "      <td>0.480124</td>\n",
              "      <td>0.00</td>\n",
              "      <td>0.0</td>\n",
              "      <td>0.209791</td>\n",
              "      <td>0.610350</td>\n",
              "      <td>0.356453</td>\n",
              "      <td>0.517720</td>\n",
              "      <td>0.679051</td>\n",
              "      <td>0.352308</td>\n",
              "      <td>0.193548</td>\n",
              "      <td>0.1250</td>\n",
              "      <td>0.000000</td>\n",
              "      <td>0.068900</td>\n",
              "      <td>0.574628</td>\n",
              "      <td>0.283327</td>\n",
              "      <td>0.510633</td>\n",
              "      <td>0.184480</td>\n",
              "      <td>0.073300</td>\n",
              "      <td>0.061600</td>\n",
              "      <td>0.00566</td>\n",
              "      <td>0.000000</td>\n",
              "      <td>1</td>\n",
              "      <td>0.00</td>\n",
              "      <td>0.486610</td>\n",
              "      <td>0.803577</td>\n",
              "      <td>0</td>\n",
              "      <td>1</td>\n",
              "      <td>0.000000</td>\n",
              "      <td>0.428659</td>\n",
              "      <td>0.032400</td>\n",
              "      <td>0.072400</td>\n",
              "      <td>0.000000</td>\n",
              "      <td>0.03930</td>\n",
              "      <td>0.000000</td>\n",
              "      <td>0.0</td>\n",
              "      <td>0.0</td>\n",
              "      <td>0.076100</td>\n",
              "      <td>0.225229</td>\n",
              "      <td>...</td>\n",
              "      <td>0</td>\n",
              "      <td>0</td>\n",
              "      <td>0</td>\n",
              "      <td>0</td>\n",
              "      <td>0</td>\n",
              "      <td>0</td>\n",
              "      <td>0</td>\n",
              "      <td>0</td>\n",
              "      <td>0</td>\n",
              "      <td>0</td>\n",
              "      <td>0</td>\n",
              "      <td>0</td>\n",
              "      <td>0</td>\n",
              "      <td>0</td>\n",
              "      <td>0</td>\n",
              "      <td>0</td>\n",
              "      <td>0</td>\n",
              "      <td>0</td>\n",
              "      <td>0</td>\n",
              "      <td>0</td>\n",
              "      <td>0</td>\n",
              "      <td>0</td>\n",
              "      <td>0</td>\n",
              "      <td>0</td>\n",
              "      <td>0</td>\n",
              "      <td>0</td>\n",
              "      <td>0</td>\n",
              "      <td>0</td>\n",
              "      <td>0</td>\n",
              "      <td>0</td>\n",
              "      <td>0</td>\n",
              "      <td>0</td>\n",
              "      <td>0</td>\n",
              "      <td>0</td>\n",
              "      <td>0</td>\n",
              "      <td>0</td>\n",
              "      <td>0</td>\n",
              "      <td>0</td>\n",
              "      <td>0</td>\n",
              "      <td>0</td>\n",
              "    </tr>\n",
              "    <tr>\n",
              "      <th>3</th>\n",
              "      <td>1</td>\n",
              "      <td>0.000000</td>\n",
              "      <td>0.538825</td>\n",
              "      <td>0.00</td>\n",
              "      <td>0.5</td>\n",
              "      <td>0.196344</td>\n",
              "      <td>0.724230</td>\n",
              "      <td>0.235606</td>\n",
              "      <td>0.288764</td>\n",
              "      <td>0.805110</td>\n",
              "      <td>0.208989</td>\n",
              "      <td>0.000000</td>\n",
              "      <td>0.0000</td>\n",
              "      <td>0.000000</td>\n",
              "      <td>0.145947</td>\n",
              "      <td>0.584688</td>\n",
              "      <td>0.325247</td>\n",
              "      <td>0.496745</td>\n",
              "      <td>0.242288</td>\n",
              "      <td>0.087700</td>\n",
              "      <td>0.075300</td>\n",
              "      <td>0.01680</td>\n",
              "      <td>0.000000</td>\n",
              "      <td>1</td>\n",
              "      <td>0.00</td>\n",
              "      <td>0.459122</td>\n",
              "      <td>0.829482</td>\n",
              "      <td>0</td>\n",
              "      <td>1</td>\n",
              "      <td>0.000000</td>\n",
              "      <td>0.435410</td>\n",
              "      <td>0.118562</td>\n",
              "      <td>0.000000</td>\n",
              "      <td>0.000000</td>\n",
              "      <td>0.00000</td>\n",
              "      <td>0.000000</td>\n",
              "      <td>0.0</td>\n",
              "      <td>0.0</td>\n",
              "      <td>0.068900</td>\n",
              "      <td>0.000000</td>\n",
              "      <td>...</td>\n",
              "      <td>0</td>\n",
              "      <td>0</td>\n",
              "      <td>0</td>\n",
              "      <td>0</td>\n",
              "      <td>0</td>\n",
              "      <td>0</td>\n",
              "      <td>0</td>\n",
              "      <td>0</td>\n",
              "      <td>0</td>\n",
              "      <td>0</td>\n",
              "      <td>0</td>\n",
              "      <td>0</td>\n",
              "      <td>0</td>\n",
              "      <td>0</td>\n",
              "      <td>0</td>\n",
              "      <td>0</td>\n",
              "      <td>0</td>\n",
              "      <td>0</td>\n",
              "      <td>0</td>\n",
              "      <td>0</td>\n",
              "      <td>0</td>\n",
              "      <td>0</td>\n",
              "      <td>0</td>\n",
              "      <td>0</td>\n",
              "      <td>0</td>\n",
              "      <td>0</td>\n",
              "      <td>0</td>\n",
              "      <td>0</td>\n",
              "      <td>0</td>\n",
              "      <td>0</td>\n",
              "      <td>0</td>\n",
              "      <td>0</td>\n",
              "      <td>0</td>\n",
              "      <td>0</td>\n",
              "      <td>0</td>\n",
              "      <td>0</td>\n",
              "      <td>0</td>\n",
              "      <td>0</td>\n",
              "      <td>0</td>\n",
              "      <td>0</td>\n",
              "    </tr>\n",
              "    <tr>\n",
              "      <th>4</th>\n",
              "      <td>0</td>\n",
              "      <td>0.100000</td>\n",
              "      <td>0.517794</td>\n",
              "      <td>0.00</td>\n",
              "      <td>0.0</td>\n",
              "      <td>0.494734</td>\n",
              "      <td>0.781422</td>\n",
              "      <td>0.154361</td>\n",
              "      <td>0.303809</td>\n",
              "      <td>0.812646</td>\n",
              "      <td>0.125177</td>\n",
              "      <td>0.532258</td>\n",
              "      <td>0.0000</td>\n",
              "      <td>0.000000</td>\n",
              "      <td>0.094900</td>\n",
              "      <td>0.540323</td>\n",
              "      <td>0.116775</td>\n",
              "      <td>0.552982</td>\n",
              "      <td>0.167897</td>\n",
              "      <td>0.116140</td>\n",
              "      <td>0.054200</td>\n",
              "      <td>0.01350</td>\n",
              "      <td>0.103448</td>\n",
              "      <td>1</td>\n",
              "      <td>0.00</td>\n",
              "      <td>0.381883</td>\n",
              "      <td>0.913374</td>\n",
              "      <td>0</td>\n",
              "      <td>1</td>\n",
              "      <td>0.000000</td>\n",
              "      <td>0.305333</td>\n",
              "      <td>0.054100</td>\n",
              "      <td>0.170822</td>\n",
              "      <td>0.000000</td>\n",
              "      <td>0.00000</td>\n",
              "      <td>0.176471</td>\n",
              "      <td>0.0</td>\n",
              "      <td>0.0</td>\n",
              "      <td>0.019900</td>\n",
              "      <td>0.057400</td>\n",
              "      <td>...</td>\n",
              "      <td>0</td>\n",
              "      <td>0</td>\n",
              "      <td>0</td>\n",
              "      <td>0</td>\n",
              "      <td>0</td>\n",
              "      <td>0</td>\n",
              "      <td>0</td>\n",
              "      <td>0</td>\n",
              "      <td>0</td>\n",
              "      <td>0</td>\n",
              "      <td>0</td>\n",
              "      <td>0</td>\n",
              "      <td>0</td>\n",
              "      <td>0</td>\n",
              "      <td>0</td>\n",
              "      <td>0</td>\n",
              "      <td>0</td>\n",
              "      <td>0</td>\n",
              "      <td>0</td>\n",
              "      <td>0</td>\n",
              "      <td>0</td>\n",
              "      <td>0</td>\n",
              "      <td>0</td>\n",
              "      <td>0</td>\n",
              "      <td>0</td>\n",
              "      <td>0</td>\n",
              "      <td>0</td>\n",
              "      <td>0</td>\n",
              "      <td>0</td>\n",
              "      <td>0</td>\n",
              "      <td>0</td>\n",
              "      <td>0</td>\n",
              "      <td>0</td>\n",
              "      <td>0</td>\n",
              "      <td>0</td>\n",
              "      <td>0</td>\n",
              "      <td>0</td>\n",
              "      <td>0</td>\n",
              "      <td>0</td>\n",
              "      <td>0</td>\n",
              "    </tr>\n",
              "  </tbody>\n",
              "</table>\n",
              "<p>5 rows × 1777 columns</p>\n",
              "</div>"
            ],
            "text/plain": [
              "   Activity        D1        D2    D3   D4  ...  D1772  D1773  D1774  D1775  D1776\n",
              "0         1  0.000000  0.497009  0.10  0.0  ...      0      0      0      0      0\n",
              "1         1  0.366667  0.606291  0.05  0.0  ...      1      0      0      1      0\n",
              "2         1  0.033300  0.480124  0.00  0.0  ...      0      0      0      0      0\n",
              "3         1  0.000000  0.538825  0.00  0.5  ...      0      0      0      0      0\n",
              "4         0  0.100000  0.517794  0.00  0.0  ...      0      0      0      0      0\n",
              "\n",
              "[5 rows x 1777 columns]"
            ]
          },
          "metadata": {
            "tags": []
          }
        }
      ]
    },
    {
      "cell_type": "code",
      "metadata": {
        "id": "3Ub-DSRDtZN3",
        "outputId": "cb0e820f-838a-4a9a-a5db-46688b4912f8",
        "colab": {
          "base_uri": "https://localhost:8080/",
          "height": 51
        }
      },
      "source": [
        "print(f\"Train_shape: {train_data.shape}\\n Test_shape :{test_data.shape}\")"
      ],
      "execution_count": 100,
      "outputs": [
        {
          "output_type": "stream",
          "text": [
            "Train_shape: (3751, 1777)\n",
            " Test_shape :(2501, 1776)\n"
          ],
          "name": "stdout"
        }
      ]
    },
    {
      "cell_type": "code",
      "metadata": {
        "id": "wvZt4C0-t2jp"
      },
      "source": [
        "label = train_data['Activity']"
      ],
      "execution_count": 101,
      "outputs": []
    },
    {
      "cell_type": "code",
      "metadata": {
        "id": "OfLzTK0XvjRb",
        "outputId": "9f89bdb2-e553-4b39-cf67-541a5026122a",
        "colab": {
          "base_uri": "https://localhost:8080/",
          "height": 221
        }
      },
      "source": [
        "train_data.isna().sum()"
      ],
      "execution_count": 102,
      "outputs": [
        {
          "output_type": "execute_result",
          "data": {
            "text/plain": [
              "Activity    0\n",
              "D1          0\n",
              "D2          0\n",
              "D3          0\n",
              "D4          0\n",
              "           ..\n",
              "D1772       0\n",
              "D1773       0\n",
              "D1774       0\n",
              "D1775       0\n",
              "D1776       0\n",
              "Length: 1777, dtype: int64"
            ]
          },
          "metadata": {
            "tags": []
          },
          "execution_count": 102
        }
      ]
    },
    {
      "cell_type": "code",
      "metadata": {
        "id": "C3fqVvFfvx7x",
        "outputId": "cbae4a87-c4de-4b20-8eb3-5e13ec955ee6",
        "colab": {
          "base_uri": "https://localhost:8080/",
          "height": 253
        }
      },
      "source": [
        "#Data encoding for NNT\n",
        "x_train1 = train_data.drop('Activity', axis = 1)\n",
        "x_train1.head()"
      ],
      "execution_count": 104,
      "outputs": [
        {
          "output_type": "execute_result",
          "data": {
            "text/html": [
              "<div>\n",
              "<style scoped>\n",
              "    .dataframe tbody tr th:only-of-type {\n",
              "        vertical-align: middle;\n",
              "    }\n",
              "\n",
              "    .dataframe tbody tr th {\n",
              "        vertical-align: top;\n",
              "    }\n",
              "\n",
              "    .dataframe thead th {\n",
              "        text-align: right;\n",
              "    }\n",
              "</style>\n",
              "<table border=\"1\" class=\"dataframe\">\n",
              "  <thead>\n",
              "    <tr style=\"text-align: right;\">\n",
              "      <th></th>\n",
              "      <th>D1</th>\n",
              "      <th>D2</th>\n",
              "      <th>D3</th>\n",
              "      <th>D4</th>\n",
              "      <th>D5</th>\n",
              "      <th>D6</th>\n",
              "      <th>D7</th>\n",
              "      <th>D8</th>\n",
              "      <th>D9</th>\n",
              "      <th>D10</th>\n",
              "      <th>D11</th>\n",
              "      <th>D12</th>\n",
              "      <th>D13</th>\n",
              "      <th>D14</th>\n",
              "      <th>D15</th>\n",
              "      <th>D16</th>\n",
              "      <th>D17</th>\n",
              "      <th>D18</th>\n",
              "      <th>D19</th>\n",
              "      <th>D20</th>\n",
              "      <th>D21</th>\n",
              "      <th>D22</th>\n",
              "      <th>D23</th>\n",
              "      <th>D24</th>\n",
              "      <th>D25</th>\n",
              "      <th>D26</th>\n",
              "      <th>D27</th>\n",
              "      <th>D28</th>\n",
              "      <th>D29</th>\n",
              "      <th>D30</th>\n",
              "      <th>D31</th>\n",
              "      <th>D32</th>\n",
              "      <th>D33</th>\n",
              "      <th>D34</th>\n",
              "      <th>D35</th>\n",
              "      <th>D36</th>\n",
              "      <th>D37</th>\n",
              "      <th>D38</th>\n",
              "      <th>D39</th>\n",
              "      <th>D40</th>\n",
              "      <th>...</th>\n",
              "      <th>D1737</th>\n",
              "      <th>D1738</th>\n",
              "      <th>D1739</th>\n",
              "      <th>D1740</th>\n",
              "      <th>D1741</th>\n",
              "      <th>D1742</th>\n",
              "      <th>D1743</th>\n",
              "      <th>D1744</th>\n",
              "      <th>D1745</th>\n",
              "      <th>D1746</th>\n",
              "      <th>D1747</th>\n",
              "      <th>D1748</th>\n",
              "      <th>D1749</th>\n",
              "      <th>D1750</th>\n",
              "      <th>D1751</th>\n",
              "      <th>D1752</th>\n",
              "      <th>D1753</th>\n",
              "      <th>D1754</th>\n",
              "      <th>D1755</th>\n",
              "      <th>D1756</th>\n",
              "      <th>D1757</th>\n",
              "      <th>D1758</th>\n",
              "      <th>D1759</th>\n",
              "      <th>D1760</th>\n",
              "      <th>D1761</th>\n",
              "      <th>D1762</th>\n",
              "      <th>D1763</th>\n",
              "      <th>D1764</th>\n",
              "      <th>D1765</th>\n",
              "      <th>D1766</th>\n",
              "      <th>D1767</th>\n",
              "      <th>D1768</th>\n",
              "      <th>D1769</th>\n",
              "      <th>D1770</th>\n",
              "      <th>D1771</th>\n",
              "      <th>D1772</th>\n",
              "      <th>D1773</th>\n",
              "      <th>D1774</th>\n",
              "      <th>D1775</th>\n",
              "      <th>D1776</th>\n",
              "    </tr>\n",
              "  </thead>\n",
              "  <tbody>\n",
              "    <tr>\n",
              "      <th>0</th>\n",
              "      <td>0.000000</td>\n",
              "      <td>0.497009</td>\n",
              "      <td>0.10</td>\n",
              "      <td>0.0</td>\n",
              "      <td>0.132956</td>\n",
              "      <td>0.678031</td>\n",
              "      <td>0.273166</td>\n",
              "      <td>0.585445</td>\n",
              "      <td>0.743663</td>\n",
              "      <td>0.243144</td>\n",
              "      <td>0.187856</td>\n",
              "      <td>0.0000</td>\n",
              "      <td>0.000000</td>\n",
              "      <td>0.069000</td>\n",
              "      <td>0.362012</td>\n",
              "      <td>0.301773</td>\n",
              "      <td>0.597930</td>\n",
              "      <td>0.190813</td>\n",
              "      <td>0.107219</td>\n",
              "      <td>0.070500</td>\n",
              "      <td>0.00717</td>\n",
              "      <td>0.137931</td>\n",
              "      <td>1</td>\n",
              "      <td>0.00</td>\n",
              "      <td>0.496683</td>\n",
              "      <td>0.753131</td>\n",
              "      <td>1</td>\n",
              "      <td>1</td>\n",
              "      <td>0.000000</td>\n",
              "      <td>0.262919</td>\n",
              "      <td>0.077200</td>\n",
              "      <td>0.082700</td>\n",
              "      <td>0.200590</td>\n",
              "      <td>0.00000</td>\n",
              "      <td>0.000000</td>\n",
              "      <td>0.0</td>\n",
              "      <td>0.0</td>\n",
              "      <td>0.162383</td>\n",
              "      <td>0.150153</td>\n",
              "      <td>0.000000</td>\n",
              "      <td>...</td>\n",
              "      <td>0</td>\n",
              "      <td>0</td>\n",
              "      <td>0</td>\n",
              "      <td>0</td>\n",
              "      <td>0</td>\n",
              "      <td>0</td>\n",
              "      <td>0</td>\n",
              "      <td>0</td>\n",
              "      <td>0</td>\n",
              "      <td>0</td>\n",
              "      <td>0</td>\n",
              "      <td>0</td>\n",
              "      <td>0</td>\n",
              "      <td>0</td>\n",
              "      <td>0</td>\n",
              "      <td>0</td>\n",
              "      <td>0</td>\n",
              "      <td>0</td>\n",
              "      <td>0</td>\n",
              "      <td>0</td>\n",
              "      <td>0</td>\n",
              "      <td>0</td>\n",
              "      <td>0</td>\n",
              "      <td>0</td>\n",
              "      <td>0</td>\n",
              "      <td>0</td>\n",
              "      <td>0</td>\n",
              "      <td>0</td>\n",
              "      <td>0</td>\n",
              "      <td>0</td>\n",
              "      <td>0</td>\n",
              "      <td>0</td>\n",
              "      <td>0</td>\n",
              "      <td>0</td>\n",
              "      <td>0</td>\n",
              "      <td>0</td>\n",
              "      <td>0</td>\n",
              "      <td>0</td>\n",
              "      <td>0</td>\n",
              "      <td>0</td>\n",
              "    </tr>\n",
              "    <tr>\n",
              "      <th>1</th>\n",
              "      <td>0.366667</td>\n",
              "      <td>0.606291</td>\n",
              "      <td>0.05</td>\n",
              "      <td>0.0</td>\n",
              "      <td>0.111209</td>\n",
              "      <td>0.803455</td>\n",
              "      <td>0.106105</td>\n",
              "      <td>0.411754</td>\n",
              "      <td>0.836582</td>\n",
              "      <td>0.106480</td>\n",
              "      <td>0.101382</td>\n",
              "      <td>0.1875</td>\n",
              "      <td>0.193548</td>\n",
              "      <td>0.131001</td>\n",
              "      <td>0.350206</td>\n",
              "      <td>0.187419</td>\n",
              "      <td>0.762669</td>\n",
              "      <td>0.180473</td>\n",
              "      <td>0.329962</td>\n",
              "      <td>0.107681</td>\n",
              "      <td>0.01950</td>\n",
              "      <td>0.206897</td>\n",
              "      <td>0</td>\n",
              "      <td>0.75</td>\n",
              "      <td>0.449869</td>\n",
              "      <td>0.720484</td>\n",
              "      <td>0</td>\n",
              "      <td>0</td>\n",
              "      <td>0.666667</td>\n",
              "      <td>0.099400</td>\n",
              "      <td>0.289240</td>\n",
              "      <td>0.216710</td>\n",
              "      <td>0.100295</td>\n",
              "      <td>0.16958</td>\n",
              "      <td>0.235294</td>\n",
              "      <td>0.0</td>\n",
              "      <td>0.0</td>\n",
              "      <td>0.119104</td>\n",
              "      <td>0.075100</td>\n",
              "      <td>0.000000</td>\n",
              "      <td>...</td>\n",
              "      <td>0</td>\n",
              "      <td>1</td>\n",
              "      <td>1</td>\n",
              "      <td>0</td>\n",
              "      <td>0</td>\n",
              "      <td>0</td>\n",
              "      <td>1</td>\n",
              "      <td>1</td>\n",
              "      <td>0</td>\n",
              "      <td>1</td>\n",
              "      <td>0</td>\n",
              "      <td>0</td>\n",
              "      <td>1</td>\n",
              "      <td>0</td>\n",
              "      <td>1</td>\n",
              "      <td>1</td>\n",
              "      <td>1</td>\n",
              "      <td>0</td>\n",
              "      <td>0</td>\n",
              "      <td>0</td>\n",
              "      <td>1</td>\n",
              "      <td>0</td>\n",
              "      <td>0</td>\n",
              "      <td>0</td>\n",
              "      <td>1</td>\n",
              "      <td>0</td>\n",
              "      <td>1</td>\n",
              "      <td>1</td>\n",
              "      <td>0</td>\n",
              "      <td>0</td>\n",
              "      <td>1</td>\n",
              "      <td>1</td>\n",
              "      <td>1</td>\n",
              "      <td>1</td>\n",
              "      <td>0</td>\n",
              "      <td>1</td>\n",
              "      <td>0</td>\n",
              "      <td>0</td>\n",
              "      <td>1</td>\n",
              "      <td>0</td>\n",
              "    </tr>\n",
              "    <tr>\n",
              "      <th>2</th>\n",
              "      <td>0.033300</td>\n",
              "      <td>0.480124</td>\n",
              "      <td>0.00</td>\n",
              "      <td>0.0</td>\n",
              "      <td>0.209791</td>\n",
              "      <td>0.610350</td>\n",
              "      <td>0.356453</td>\n",
              "      <td>0.517720</td>\n",
              "      <td>0.679051</td>\n",
              "      <td>0.352308</td>\n",
              "      <td>0.193548</td>\n",
              "      <td>0.1250</td>\n",
              "      <td>0.000000</td>\n",
              "      <td>0.068900</td>\n",
              "      <td>0.574628</td>\n",
              "      <td>0.283327</td>\n",
              "      <td>0.510633</td>\n",
              "      <td>0.184480</td>\n",
              "      <td>0.073300</td>\n",
              "      <td>0.061600</td>\n",
              "      <td>0.00566</td>\n",
              "      <td>0.000000</td>\n",
              "      <td>1</td>\n",
              "      <td>0.00</td>\n",
              "      <td>0.486610</td>\n",
              "      <td>0.803577</td>\n",
              "      <td>0</td>\n",
              "      <td>1</td>\n",
              "      <td>0.000000</td>\n",
              "      <td>0.428659</td>\n",
              "      <td>0.032400</td>\n",
              "      <td>0.072400</td>\n",
              "      <td>0.000000</td>\n",
              "      <td>0.03930</td>\n",
              "      <td>0.000000</td>\n",
              "      <td>0.0</td>\n",
              "      <td>0.0</td>\n",
              "      <td>0.076100</td>\n",
              "      <td>0.225229</td>\n",
              "      <td>0.000000</td>\n",
              "      <td>...</td>\n",
              "      <td>0</td>\n",
              "      <td>0</td>\n",
              "      <td>0</td>\n",
              "      <td>0</td>\n",
              "      <td>0</td>\n",
              "      <td>0</td>\n",
              "      <td>0</td>\n",
              "      <td>0</td>\n",
              "      <td>0</td>\n",
              "      <td>0</td>\n",
              "      <td>0</td>\n",
              "      <td>0</td>\n",
              "      <td>0</td>\n",
              "      <td>0</td>\n",
              "      <td>0</td>\n",
              "      <td>0</td>\n",
              "      <td>0</td>\n",
              "      <td>0</td>\n",
              "      <td>0</td>\n",
              "      <td>0</td>\n",
              "      <td>0</td>\n",
              "      <td>0</td>\n",
              "      <td>0</td>\n",
              "      <td>0</td>\n",
              "      <td>0</td>\n",
              "      <td>0</td>\n",
              "      <td>0</td>\n",
              "      <td>0</td>\n",
              "      <td>0</td>\n",
              "      <td>0</td>\n",
              "      <td>0</td>\n",
              "      <td>0</td>\n",
              "      <td>0</td>\n",
              "      <td>0</td>\n",
              "      <td>0</td>\n",
              "      <td>0</td>\n",
              "      <td>0</td>\n",
              "      <td>0</td>\n",
              "      <td>0</td>\n",
              "      <td>0</td>\n",
              "    </tr>\n",
              "    <tr>\n",
              "      <th>3</th>\n",
              "      <td>0.000000</td>\n",
              "      <td>0.538825</td>\n",
              "      <td>0.00</td>\n",
              "      <td>0.5</td>\n",
              "      <td>0.196344</td>\n",
              "      <td>0.724230</td>\n",
              "      <td>0.235606</td>\n",
              "      <td>0.288764</td>\n",
              "      <td>0.805110</td>\n",
              "      <td>0.208989</td>\n",
              "      <td>0.000000</td>\n",
              "      <td>0.0000</td>\n",
              "      <td>0.000000</td>\n",
              "      <td>0.145947</td>\n",
              "      <td>0.584688</td>\n",
              "      <td>0.325247</td>\n",
              "      <td>0.496745</td>\n",
              "      <td>0.242288</td>\n",
              "      <td>0.087700</td>\n",
              "      <td>0.075300</td>\n",
              "      <td>0.01680</td>\n",
              "      <td>0.000000</td>\n",
              "      <td>1</td>\n",
              "      <td>0.00</td>\n",
              "      <td>0.459122</td>\n",
              "      <td>0.829482</td>\n",
              "      <td>0</td>\n",
              "      <td>1</td>\n",
              "      <td>0.000000</td>\n",
              "      <td>0.435410</td>\n",
              "      <td>0.118562</td>\n",
              "      <td>0.000000</td>\n",
              "      <td>0.000000</td>\n",
              "      <td>0.00000</td>\n",
              "      <td>0.000000</td>\n",
              "      <td>0.0</td>\n",
              "      <td>0.0</td>\n",
              "      <td>0.068900</td>\n",
              "      <td>0.000000</td>\n",
              "      <td>0.148444</td>\n",
              "      <td>...</td>\n",
              "      <td>0</td>\n",
              "      <td>0</td>\n",
              "      <td>0</td>\n",
              "      <td>0</td>\n",
              "      <td>0</td>\n",
              "      <td>0</td>\n",
              "      <td>0</td>\n",
              "      <td>0</td>\n",
              "      <td>0</td>\n",
              "      <td>0</td>\n",
              "      <td>0</td>\n",
              "      <td>0</td>\n",
              "      <td>0</td>\n",
              "      <td>0</td>\n",
              "      <td>0</td>\n",
              "      <td>0</td>\n",
              "      <td>0</td>\n",
              "      <td>0</td>\n",
              "      <td>0</td>\n",
              "      <td>0</td>\n",
              "      <td>0</td>\n",
              "      <td>0</td>\n",
              "      <td>0</td>\n",
              "      <td>0</td>\n",
              "      <td>0</td>\n",
              "      <td>0</td>\n",
              "      <td>0</td>\n",
              "      <td>0</td>\n",
              "      <td>0</td>\n",
              "      <td>0</td>\n",
              "      <td>0</td>\n",
              "      <td>0</td>\n",
              "      <td>0</td>\n",
              "      <td>0</td>\n",
              "      <td>0</td>\n",
              "      <td>0</td>\n",
              "      <td>0</td>\n",
              "      <td>0</td>\n",
              "      <td>0</td>\n",
              "      <td>0</td>\n",
              "    </tr>\n",
              "    <tr>\n",
              "      <th>4</th>\n",
              "      <td>0.100000</td>\n",
              "      <td>0.517794</td>\n",
              "      <td>0.00</td>\n",
              "      <td>0.0</td>\n",
              "      <td>0.494734</td>\n",
              "      <td>0.781422</td>\n",
              "      <td>0.154361</td>\n",
              "      <td>0.303809</td>\n",
              "      <td>0.812646</td>\n",
              "      <td>0.125177</td>\n",
              "      <td>0.532258</td>\n",
              "      <td>0.0000</td>\n",
              "      <td>0.000000</td>\n",
              "      <td>0.094900</td>\n",
              "      <td>0.540323</td>\n",
              "      <td>0.116775</td>\n",
              "      <td>0.552982</td>\n",
              "      <td>0.167897</td>\n",
              "      <td>0.116140</td>\n",
              "      <td>0.054200</td>\n",
              "      <td>0.01350</td>\n",
              "      <td>0.103448</td>\n",
              "      <td>1</td>\n",
              "      <td>0.00</td>\n",
              "      <td>0.381883</td>\n",
              "      <td>0.913374</td>\n",
              "      <td>0</td>\n",
              "      <td>1</td>\n",
              "      <td>0.000000</td>\n",
              "      <td>0.305333</td>\n",
              "      <td>0.054100</td>\n",
              "      <td>0.170822</td>\n",
              "      <td>0.000000</td>\n",
              "      <td>0.00000</td>\n",
              "      <td>0.176471</td>\n",
              "      <td>0.0</td>\n",
              "      <td>0.0</td>\n",
              "      <td>0.019900</td>\n",
              "      <td>0.057400</td>\n",
              "      <td>0.000000</td>\n",
              "      <td>...</td>\n",
              "      <td>0</td>\n",
              "      <td>0</td>\n",
              "      <td>0</td>\n",
              "      <td>0</td>\n",
              "      <td>0</td>\n",
              "      <td>0</td>\n",
              "      <td>0</td>\n",
              "      <td>0</td>\n",
              "      <td>0</td>\n",
              "      <td>0</td>\n",
              "      <td>0</td>\n",
              "      <td>0</td>\n",
              "      <td>0</td>\n",
              "      <td>0</td>\n",
              "      <td>0</td>\n",
              "      <td>0</td>\n",
              "      <td>0</td>\n",
              "      <td>0</td>\n",
              "      <td>0</td>\n",
              "      <td>0</td>\n",
              "      <td>0</td>\n",
              "      <td>0</td>\n",
              "      <td>0</td>\n",
              "      <td>0</td>\n",
              "      <td>0</td>\n",
              "      <td>0</td>\n",
              "      <td>0</td>\n",
              "      <td>0</td>\n",
              "      <td>0</td>\n",
              "      <td>0</td>\n",
              "      <td>0</td>\n",
              "      <td>0</td>\n",
              "      <td>0</td>\n",
              "      <td>0</td>\n",
              "      <td>0</td>\n",
              "      <td>0</td>\n",
              "      <td>0</td>\n",
              "      <td>0</td>\n",
              "      <td>0</td>\n",
              "      <td>0</td>\n",
              "    </tr>\n",
              "  </tbody>\n",
              "</table>\n",
              "<p>5 rows × 1776 columns</p>\n",
              "</div>"
            ],
            "text/plain": [
              "         D1        D2    D3   D4        D5  ...  D1772  D1773  D1774  D1775  D1776\n",
              "0  0.000000  0.497009  0.10  0.0  0.132956  ...      0      0      0      0      0\n",
              "1  0.366667  0.606291  0.05  0.0  0.111209  ...      1      0      0      1      0\n",
              "2  0.033300  0.480124  0.00  0.0  0.209791  ...      0      0      0      0      0\n",
              "3  0.000000  0.538825  0.00  0.5  0.196344  ...      0      0      0      0      0\n",
              "4  0.100000  0.517794  0.00  0.0  0.494734  ...      0      0      0      0      0\n",
              "\n",
              "[5 rows x 1776 columns]"
            ]
          },
          "metadata": {
            "tags": []
          },
          "execution_count": 104
        }
      ]
    },
    {
      "cell_type": "code",
      "metadata": {
        "id": "yGYfoKMK7Yc9"
      },
      "source": [
        "\n",
        "x_train = x_train1.values"
      ],
      "execution_count": 105,
      "outputs": []
    },
    {
      "cell_type": "code",
      "metadata": {
        "id": "Bzgq9nDJwzNX",
        "outputId": "62ae7bf9-0b8f-4eda-acc4-3a5295bd3235",
        "colab": {
          "base_uri": "https://localhost:8080/",
          "height": 204
        }
      },
      "source": [
        "label[0:10]"
      ],
      "execution_count": 12,
      "outputs": [
        {
          "output_type": "execute_result",
          "data": {
            "text/plain": [
              "0    1\n",
              "1    1\n",
              "2    1\n",
              "3    1\n",
              "4    0\n",
              "5    0\n",
              "6    1\n",
              "7    1\n",
              "8    1\n",
              "9    0\n",
              "Name: Activity, dtype: int64"
            ]
          },
          "metadata": {
            "tags": []
          },
          "execution_count": 12
        }
      ]
    },
    {
      "cell_type": "code",
      "metadata": {
        "id": "Akv1bt3uw7D1"
      },
      "source": [
        "y_train = label.values"
      ],
      "execution_count": 106,
      "outputs": []
    },
    {
      "cell_type": "code",
      "metadata": {
        "id": "kIJpZt_-xBzt",
        "outputId": "dc45a70b-1d2f-4fe7-8e73-4b384f37c841",
        "colab": {
          "base_uri": "https://localhost:8080/",
          "height": 34
        }
      },
      "source": [
        "y_train[0:10]"
      ],
      "execution_count": 107,
      "outputs": [
        {
          "output_type": "execute_result",
          "data": {
            "text/plain": [
              "array([1, 1, 1, 1, 0, 0, 1, 1, 1, 0])"
            ]
          },
          "metadata": {
            "tags": []
          },
          "execution_count": 107
        }
      ]
    },
    {
      "cell_type": "code",
      "metadata": {
        "id": "yGVxlv5EBvy5",
        "outputId": "d4a14b80-70a5-4772-ba7d-b6f46ae44b2a",
        "colab": {
          "base_uri": "https://localhost:8080/",
          "height": 253
        }
      },
      "source": [
        "display(test_data.head())"
      ],
      "execution_count": 108,
      "outputs": [
        {
          "output_type": "display_data",
          "data": {
            "text/html": [
              "<div>\n",
              "<style scoped>\n",
              "    .dataframe tbody tr th:only-of-type {\n",
              "        vertical-align: middle;\n",
              "    }\n",
              "\n",
              "    .dataframe tbody tr th {\n",
              "        vertical-align: top;\n",
              "    }\n",
              "\n",
              "    .dataframe thead th {\n",
              "        text-align: right;\n",
              "    }\n",
              "</style>\n",
              "<table border=\"1\" class=\"dataframe\">\n",
              "  <thead>\n",
              "    <tr style=\"text-align: right;\">\n",
              "      <th></th>\n",
              "      <th>D1</th>\n",
              "      <th>D2</th>\n",
              "      <th>D3</th>\n",
              "      <th>D4</th>\n",
              "      <th>D5</th>\n",
              "      <th>D6</th>\n",
              "      <th>D7</th>\n",
              "      <th>D8</th>\n",
              "      <th>D9</th>\n",
              "      <th>D10</th>\n",
              "      <th>D11</th>\n",
              "      <th>D12</th>\n",
              "      <th>D13</th>\n",
              "      <th>D14</th>\n",
              "      <th>D15</th>\n",
              "      <th>D16</th>\n",
              "      <th>D17</th>\n",
              "      <th>D18</th>\n",
              "      <th>D19</th>\n",
              "      <th>D20</th>\n",
              "      <th>D21</th>\n",
              "      <th>D22</th>\n",
              "      <th>D23</th>\n",
              "      <th>D24</th>\n",
              "      <th>D25</th>\n",
              "      <th>D26</th>\n",
              "      <th>D27</th>\n",
              "      <th>D28</th>\n",
              "      <th>D29</th>\n",
              "      <th>D30</th>\n",
              "      <th>D31</th>\n",
              "      <th>D32</th>\n",
              "      <th>D33</th>\n",
              "      <th>D34</th>\n",
              "      <th>D35</th>\n",
              "      <th>D36</th>\n",
              "      <th>D37</th>\n",
              "      <th>D38</th>\n",
              "      <th>D39</th>\n",
              "      <th>D40</th>\n",
              "      <th>...</th>\n",
              "      <th>D1737</th>\n",
              "      <th>D1738</th>\n",
              "      <th>D1739</th>\n",
              "      <th>D1740</th>\n",
              "      <th>D1741</th>\n",
              "      <th>D1742</th>\n",
              "      <th>D1743</th>\n",
              "      <th>D1744</th>\n",
              "      <th>D1745</th>\n",
              "      <th>D1746</th>\n",
              "      <th>D1747</th>\n",
              "      <th>D1748</th>\n",
              "      <th>D1749</th>\n",
              "      <th>D1750</th>\n",
              "      <th>D1751</th>\n",
              "      <th>D1752</th>\n",
              "      <th>D1753</th>\n",
              "      <th>D1754</th>\n",
              "      <th>D1755</th>\n",
              "      <th>D1756</th>\n",
              "      <th>D1757</th>\n",
              "      <th>D1758</th>\n",
              "      <th>D1759</th>\n",
              "      <th>D1760</th>\n",
              "      <th>D1761</th>\n",
              "      <th>D1762</th>\n",
              "      <th>D1763</th>\n",
              "      <th>D1764</th>\n",
              "      <th>D1765</th>\n",
              "      <th>D1766</th>\n",
              "      <th>D1767</th>\n",
              "      <th>D1768</th>\n",
              "      <th>D1769</th>\n",
              "      <th>D1770</th>\n",
              "      <th>D1771</th>\n",
              "      <th>D1772</th>\n",
              "      <th>D1773</th>\n",
              "      <th>D1774</th>\n",
              "      <th>D1775</th>\n",
              "      <th>D1776</th>\n",
              "    </tr>\n",
              "  </thead>\n",
              "  <tbody>\n",
              "    <tr>\n",
              "      <th>0</th>\n",
              "      <td>0.366667</td>\n",
              "      <td>0.611765</td>\n",
              "      <td>0.05</td>\n",
              "      <td>0.0</td>\n",
              "      <td>0.110435</td>\n",
              "      <td>0.803973</td>\n",
              "      <td>0.106075</td>\n",
              "      <td>0.473965</td>\n",
              "      <td>0.835617</td>\n",
              "      <td>0.106452</td>\n",
              "      <td>0.103855</td>\n",
              "      <td>0.1875</td>\n",
              "      <td>0.0</td>\n",
              "      <td>0.135949</td>\n",
              "      <td>0.350206</td>\n",
              "      <td>0.187419</td>\n",
              "      <td>0.756282</td>\n",
              "      <td>0.201911</td>\n",
              "      <td>0.316854</td>\n",
              "      <td>0.104583</td>\n",
              "      <td>0.01870</td>\n",
              "      <td>0.241379</td>\n",
              "      <td>0</td>\n",
              "      <td>0.75</td>\n",
              "      <td>0.423439</td>\n",
              "      <td>0.732260</td>\n",
              "      <td>0</td>\n",
              "      <td>0</td>\n",
              "      <td>0.666667</td>\n",
              "      <td>0.096500</td>\n",
              "      <td>0.199044</td>\n",
              "      <td>0.190843</td>\n",
              "      <td>0.187285</td>\n",
              "      <td>0.16958</td>\n",
              "      <td>0.294118</td>\n",
              "      <td>0.0000</td>\n",
              "      <td>0.000000</td>\n",
              "      <td>0.04800</td>\n",
              "      <td>0.150153</td>\n",
              "      <td>0.0000</td>\n",
              "      <td>...</td>\n",
              "      <td>0</td>\n",
              "      <td>1</td>\n",
              "      <td>1</td>\n",
              "      <td>0</td>\n",
              "      <td>0</td>\n",
              "      <td>0</td>\n",
              "      <td>0</td>\n",
              "      <td>1</td>\n",
              "      <td>0</td>\n",
              "      <td>1</td>\n",
              "      <td>0</td>\n",
              "      <td>0</td>\n",
              "      <td>1</td>\n",
              "      <td>0</td>\n",
              "      <td>1</td>\n",
              "      <td>1</td>\n",
              "      <td>1</td>\n",
              "      <td>0</td>\n",
              "      <td>0</td>\n",
              "      <td>0</td>\n",
              "      <td>1</td>\n",
              "      <td>0</td>\n",
              "      <td>0</td>\n",
              "      <td>0</td>\n",
              "      <td>1</td>\n",
              "      <td>0</td>\n",
              "      <td>1</td>\n",
              "      <td>1</td>\n",
              "      <td>0</td>\n",
              "      <td>0</td>\n",
              "      <td>1</td>\n",
              "      <td>1</td>\n",
              "      <td>1</td>\n",
              "      <td>1</td>\n",
              "      <td>0</td>\n",
              "      <td>1</td>\n",
              "      <td>0</td>\n",
              "      <td>0</td>\n",
              "      <td>1</td>\n",
              "      <td>0</td>\n",
              "    </tr>\n",
              "    <tr>\n",
              "      <th>1</th>\n",
              "      <td>0.100000</td>\n",
              "      <td>0.758175</td>\n",
              "      <td>0.30</td>\n",
              "      <td>0.0</td>\n",
              "      <td>0.180128</td>\n",
              "      <td>0.621378</td>\n",
              "      <td>0.287144</td>\n",
              "      <td>0.503919</td>\n",
              "      <td>0.674919</td>\n",
              "      <td>0.403616</td>\n",
              "      <td>0.125237</td>\n",
              "      <td>0.0625</td>\n",
              "      <td>0.0</td>\n",
              "      <td>0.183958</td>\n",
              "      <td>0.359572</td>\n",
              "      <td>0.372014</td>\n",
              "      <td>0.508107</td>\n",
              "      <td>0.276535</td>\n",
              "      <td>0.101973</td>\n",
              "      <td>0.049800</td>\n",
              "      <td>0.00548</td>\n",
              "      <td>0.137931</td>\n",
              "      <td>1</td>\n",
              "      <td>0.00</td>\n",
              "      <td>0.360849</td>\n",
              "      <td>0.701909</td>\n",
              "      <td>1</td>\n",
              "      <td>1</td>\n",
              "      <td>0.166667</td>\n",
              "      <td>0.168664</td>\n",
              "      <td>0.031100</td>\n",
              "      <td>0.050400</td>\n",
              "      <td>0.200590</td>\n",
              "      <td>0.00000</td>\n",
              "      <td>0.242456</td>\n",
              "      <td>0.0958</td>\n",
              "      <td>0.220103</td>\n",
              "      <td>0.00923</td>\n",
              "      <td>0.000000</td>\n",
              "      <td>0.0000</td>\n",
              "      <td>...</td>\n",
              "      <td>0</td>\n",
              "      <td>0</td>\n",
              "      <td>0</td>\n",
              "      <td>0</td>\n",
              "      <td>0</td>\n",
              "      <td>0</td>\n",
              "      <td>0</td>\n",
              "      <td>0</td>\n",
              "      <td>0</td>\n",
              "      <td>0</td>\n",
              "      <td>0</td>\n",
              "      <td>0</td>\n",
              "      <td>0</td>\n",
              "      <td>0</td>\n",
              "      <td>0</td>\n",
              "      <td>0</td>\n",
              "      <td>0</td>\n",
              "      <td>0</td>\n",
              "      <td>0</td>\n",
              "      <td>0</td>\n",
              "      <td>0</td>\n",
              "      <td>0</td>\n",
              "      <td>0</td>\n",
              "      <td>0</td>\n",
              "      <td>0</td>\n",
              "      <td>0</td>\n",
              "      <td>0</td>\n",
              "      <td>0</td>\n",
              "      <td>0</td>\n",
              "      <td>0</td>\n",
              "      <td>0</td>\n",
              "      <td>0</td>\n",
              "      <td>0</td>\n",
              "      <td>0</td>\n",
              "      <td>0</td>\n",
              "      <td>0</td>\n",
              "      <td>0</td>\n",
              "      <td>0</td>\n",
              "      <td>0</td>\n",
              "      <td>0</td>\n",
              "    </tr>\n",
              "    <tr>\n",
              "      <th>2</th>\n",
              "      <td>0.100000</td>\n",
              "      <td>0.658812</td>\n",
              "      <td>0.10</td>\n",
              "      <td>0.0</td>\n",
              "      <td>0.243421</td>\n",
              "      <td>0.640959</td>\n",
              "      <td>0.312765</td>\n",
              "      <td>0.279784</td>\n",
              "      <td>0.686775</td>\n",
              "      <td>0.280301</td>\n",
              "      <td>0.266129</td>\n",
              "      <td>0.0625</td>\n",
              "      <td>0.0</td>\n",
              "      <td>0.122230</td>\n",
              "      <td>0.586479</td>\n",
              "      <td>0.227994</td>\n",
              "      <td>0.368400</td>\n",
              "      <td>0.107220</td>\n",
              "      <td>0.043600</td>\n",
              "      <td>0.068400</td>\n",
              "      <td>0.00776</td>\n",
              "      <td>0.034500</td>\n",
              "      <td>1</td>\n",
              "      <td>0.00</td>\n",
              "      <td>0.367166</td>\n",
              "      <td>0.917836</td>\n",
              "      <td>0</td>\n",
              "      <td>1</td>\n",
              "      <td>0.000000</td>\n",
              "      <td>0.510178</td>\n",
              "      <td>0.032400</td>\n",
              "      <td>0.052700</td>\n",
              "      <td>0.000000</td>\n",
              "      <td>0.00000</td>\n",
              "      <td>0.058800</td>\n",
              "      <td>0.0000</td>\n",
              "      <td>0.000000</td>\n",
              "      <td>0.07650</td>\n",
              "      <td>0.000000</td>\n",
              "      <td>0.0000</td>\n",
              "      <td>...</td>\n",
              "      <td>0</td>\n",
              "      <td>0</td>\n",
              "      <td>0</td>\n",
              "      <td>0</td>\n",
              "      <td>0</td>\n",
              "      <td>0</td>\n",
              "      <td>0</td>\n",
              "      <td>0</td>\n",
              "      <td>0</td>\n",
              "      <td>0</td>\n",
              "      <td>0</td>\n",
              "      <td>0</td>\n",
              "      <td>0</td>\n",
              "      <td>0</td>\n",
              "      <td>0</td>\n",
              "      <td>0</td>\n",
              "      <td>0</td>\n",
              "      <td>0</td>\n",
              "      <td>0</td>\n",
              "      <td>0</td>\n",
              "      <td>0</td>\n",
              "      <td>0</td>\n",
              "      <td>0</td>\n",
              "      <td>0</td>\n",
              "      <td>0</td>\n",
              "      <td>0</td>\n",
              "      <td>0</td>\n",
              "      <td>0</td>\n",
              "      <td>0</td>\n",
              "      <td>0</td>\n",
              "      <td>0</td>\n",
              "      <td>0</td>\n",
              "      <td>0</td>\n",
              "      <td>0</td>\n",
              "      <td>0</td>\n",
              "      <td>0</td>\n",
              "      <td>0</td>\n",
              "      <td>0</td>\n",
              "      <td>0</td>\n",
              "      <td>0</td>\n",
              "    </tr>\n",
              "    <tr>\n",
              "      <th>3</th>\n",
              "      <td>0.100000</td>\n",
              "      <td>0.655752</td>\n",
              "      <td>0.10</td>\n",
              "      <td>0.0</td>\n",
              "      <td>0.226978</td>\n",
              "      <td>0.776996</td>\n",
              "      <td>0.150657</td>\n",
              "      <td>0.336948</td>\n",
              "      <td>0.802121</td>\n",
              "      <td>0.125608</td>\n",
              "      <td>0.118280</td>\n",
              "      <td>0.0625</td>\n",
              "      <td>0.0</td>\n",
              "      <td>0.126692</td>\n",
              "      <td>0.527341</td>\n",
              "      <td>0.122608</td>\n",
              "      <td>0.530575</td>\n",
              "      <td>0.159911</td>\n",
              "      <td>0.071800</td>\n",
              "      <td>0.042500</td>\n",
              "      <td>0.00589</td>\n",
              "      <td>0.034500</td>\n",
              "      <td>1</td>\n",
              "      <td>0.00</td>\n",
              "      <td>0.396976</td>\n",
              "      <td>0.896885</td>\n",
              "      <td>1</td>\n",
              "      <td>1</td>\n",
              "      <td>0.000000</td>\n",
              "      <td>0.495344</td>\n",
              "      <td>0.110121</td>\n",
              "      <td>0.099100</td>\n",
              "      <td>0.000000</td>\n",
              "      <td>0.00000</td>\n",
              "      <td>0.058800</td>\n",
              "      <td>0.0000</td>\n",
              "      <td>0.000000</td>\n",
              "      <td>0.03990</td>\n",
              "      <td>0.000000</td>\n",
              "      <td>0.0637</td>\n",
              "      <td>...</td>\n",
              "      <td>0</td>\n",
              "      <td>0</td>\n",
              "      <td>0</td>\n",
              "      <td>0</td>\n",
              "      <td>0</td>\n",
              "      <td>0</td>\n",
              "      <td>0</td>\n",
              "      <td>0</td>\n",
              "      <td>0</td>\n",
              "      <td>0</td>\n",
              "      <td>0</td>\n",
              "      <td>0</td>\n",
              "      <td>0</td>\n",
              "      <td>0</td>\n",
              "      <td>0</td>\n",
              "      <td>0</td>\n",
              "      <td>0</td>\n",
              "      <td>0</td>\n",
              "      <td>0</td>\n",
              "      <td>0</td>\n",
              "      <td>0</td>\n",
              "      <td>0</td>\n",
              "      <td>0</td>\n",
              "      <td>0</td>\n",
              "      <td>0</td>\n",
              "      <td>0</td>\n",
              "      <td>0</td>\n",
              "      <td>0</td>\n",
              "      <td>0</td>\n",
              "      <td>0</td>\n",
              "      <td>0</td>\n",
              "      <td>0</td>\n",
              "      <td>0</td>\n",
              "      <td>0</td>\n",
              "      <td>0</td>\n",
              "      <td>0</td>\n",
              "      <td>0</td>\n",
              "      <td>0</td>\n",
              "      <td>0</td>\n",
              "      <td>0</td>\n",
              "    </tr>\n",
              "    <tr>\n",
              "      <th>4</th>\n",
              "      <td>0.000000</td>\n",
              "      <td>0.484851</td>\n",
              "      <td>0.00</td>\n",
              "      <td>0.0</td>\n",
              "      <td>0.561200</td>\n",
              "      <td>0.771463</td>\n",
              "      <td>0.244287</td>\n",
              "      <td>0.293096</td>\n",
              "      <td>0.717575</td>\n",
              "      <td>0.230842</td>\n",
              "      <td>0.000000</td>\n",
              "      <td>0.0000</td>\n",
              "      <td>0.0</td>\n",
              "      <td>0.443063</td>\n",
              "      <td>0.546064</td>\n",
              "      <td>0.401079</td>\n",
              "      <td>0.415092</td>\n",
              "      <td>0.003930</td>\n",
              "      <td>0.112314</td>\n",
              "      <td>0.071400</td>\n",
              "      <td>0.00663</td>\n",
              "      <td>0.000000</td>\n",
              "      <td>1</td>\n",
              "      <td>0.00</td>\n",
              "      <td>0.474608</td>\n",
              "      <td>0.809131</td>\n",
              "      <td>0</td>\n",
              "      <td>1</td>\n",
              "      <td>0.000000</td>\n",
              "      <td>0.184156</td>\n",
              "      <td>0.000000</td>\n",
              "      <td>0.010300</td>\n",
              "      <td>0.000000</td>\n",
              "      <td>0.00000</td>\n",
              "      <td>0.000000</td>\n",
              "      <td>0.0620</td>\n",
              "      <td>0.307492</td>\n",
              "      <td>0.00000</td>\n",
              "      <td>0.000000</td>\n",
              "      <td>0.0000</td>\n",
              "      <td>...</td>\n",
              "      <td>0</td>\n",
              "      <td>0</td>\n",
              "      <td>0</td>\n",
              "      <td>0</td>\n",
              "      <td>0</td>\n",
              "      <td>0</td>\n",
              "      <td>0</td>\n",
              "      <td>0</td>\n",
              "      <td>0</td>\n",
              "      <td>0</td>\n",
              "      <td>0</td>\n",
              "      <td>0</td>\n",
              "      <td>0</td>\n",
              "      <td>0</td>\n",
              "      <td>0</td>\n",
              "      <td>0</td>\n",
              "      <td>0</td>\n",
              "      <td>0</td>\n",
              "      <td>0</td>\n",
              "      <td>0</td>\n",
              "      <td>0</td>\n",
              "      <td>0</td>\n",
              "      <td>0</td>\n",
              "      <td>0</td>\n",
              "      <td>0</td>\n",
              "      <td>0</td>\n",
              "      <td>0</td>\n",
              "      <td>0</td>\n",
              "      <td>0</td>\n",
              "      <td>0</td>\n",
              "      <td>0</td>\n",
              "      <td>0</td>\n",
              "      <td>0</td>\n",
              "      <td>0</td>\n",
              "      <td>0</td>\n",
              "      <td>0</td>\n",
              "      <td>0</td>\n",
              "      <td>0</td>\n",
              "      <td>0</td>\n",
              "      <td>0</td>\n",
              "    </tr>\n",
              "  </tbody>\n",
              "</table>\n",
              "<p>5 rows × 1776 columns</p>\n",
              "</div>"
            ],
            "text/plain": [
              "         D1        D2    D3   D4        D5  ...  D1772  D1773  D1774  D1775  D1776\n",
              "0  0.366667  0.611765  0.05  0.0  0.110435  ...      1      0      0      1      0\n",
              "1  0.100000  0.758175  0.30  0.0  0.180128  ...      0      0      0      0      0\n",
              "2  0.100000  0.658812  0.10  0.0  0.243421  ...      0      0      0      0      0\n",
              "3  0.100000  0.655752  0.10  0.0  0.226978  ...      0      0      0      0      0\n",
              "4  0.000000  0.484851  0.00  0.0  0.561200  ...      0      0      0      0      0\n",
              "\n",
              "[5 rows x 1776 columns]"
            ]
          },
          "metadata": {
            "tags": []
          }
        }
      ]
    },
    {
      "cell_type": "code",
      "metadata": {
        "id": "hNMCASBAxGEH"
      },
      "source": [
        "cols = train_data.drop('Activity',axis = 1).columns\n",
        "cols\n",
        "\n",
        "\n",
        "\n",
        "x_submit = test_data[cols].values.astype(np.float32)\n"
      ],
      "execution_count": 109,
      "outputs": []
    },
    {
      "cell_type": "code",
      "metadata": {
        "id": "t1b225mdyUh9",
        "outputId": "d0930386-c521-4eaf-ddbb-b2e1ec70510e",
        "colab": {
          "base_uri": "https://localhost:8080/",
          "height": 85
        }
      },
      "source": [
        "x_submit[0:2]"
      ],
      "execution_count": 110,
      "outputs": [
        {
          "output_type": "execute_result",
          "data": {
            "text/plain": [
              "array([[0.36666667, 0.6117645 , 0.05      , ..., 0.        , 1.        ,\n",
              "        0.        ],\n",
              "       [0.1       , 0.7581746 , 0.3       , ..., 0.        , 0.        ,\n",
              "        0.        ]], dtype=float32)"
            ]
          },
          "metadata": {
            "tags": []
          },
          "execution_count": 110
        }
      ]
    },
    {
      "cell_type": "code",
      "metadata": {
        "id": "8j4axb0Cz8FH"
      },
      "source": [
        "x_tr, x_ts, y_tr, y_ts = train_test_split(x_train, y_train, test_size = 0.25, random_state = 1234)"
      ],
      "execution_count": 111,
      "outputs": []
    },
    {
      "cell_type": "code",
      "metadata": {
        "id": "exSD2Uch0go0",
        "outputId": "7d09e5ae-2384-4169-b670-eeb6a370da5d",
        "colab": {
          "base_uri": "https://localhost:8080/",
          "height": 306
        }
      },
      "source": [
        "#Building the model\n",
        "model = Sequential()\n",
        "model.add(Dense(50, \n",
        "                input_dim = x_train1.shape[1], \n",
        "                activation = 'relu',kernel_initializer = 'random_normal'))\n",
        "model.add(Dense(25, activation = 'relu', kernel_initializer='random_normal'))\n",
        "model.add(Dense(1, activation = 'sigmoid'))\n",
        "model.compile(loss = 'binary_crossentropy', optimizer = 'adam')\n",
        "info = EarlyStopping(monitor = 'val_loss', min_delta = 1e-3, mode ='auto',\n",
        "                    verbose = 1, patience = 5, restore_best_weights = True)\n",
        "model.fit(x_tr, y_tr, validation_data = (x_ts, y_ts), callbacks = [info],\n",
        "          verbose = 2, epochs = 1000)\n"
      ],
      "execution_count": 112,
      "outputs": [
        {
          "output_type": "stream",
          "text": [
            "Epoch 1/1000\n",
            "88/88 - 0s - loss: 0.6165 - val_loss: 0.5641\n",
            "Epoch 2/1000\n",
            "88/88 - 0s - loss: 0.4930 - val_loss: 0.5252\n",
            "Epoch 3/1000\n",
            "88/88 - 0s - loss: 0.4543 - val_loss: 0.5508\n",
            "Epoch 4/1000\n",
            "88/88 - 0s - loss: 0.4111 - val_loss: 0.5539\n",
            "Epoch 5/1000\n",
            "88/88 - 0s - loss: 0.3818 - val_loss: 0.5324\n",
            "Epoch 6/1000\n",
            "88/88 - 0s - loss: 0.3643 - val_loss: 0.5332\n",
            "Epoch 7/1000\n",
            "Restoring model weights from the end of the best epoch.\n",
            "88/88 - 0s - loss: 0.3440 - val_loss: 0.5537\n",
            "Epoch 00007: early stopping\n"
          ],
          "name": "stdout"
        },
        {
          "output_type": "execute_result",
          "data": {
            "text/plain": [
              "<tensorflow.python.keras.callbacks.History at 0x7efe5d68b978>"
            ]
          },
          "metadata": {
            "tags": []
          },
          "execution_count": 112
        }
      ]
    },
    {
      "cell_type": "code",
      "metadata": {
        "id": "_K6kffbi3tPq"
      },
      "source": [
        "pred = model.predict(x_ts).flatten()"
      ],
      "execution_count": 113,
      "outputs": []
    },
    {
      "cell_type": "code",
      "metadata": {
        "id": "NJiUOqrF4FcU"
      },
      "source": [
        "pred = np.clip(pred, a_min = 1e-6, a_max = (1 - 1e-6))\n"
      ],
      "execution_count": 114,
      "outputs": []
    },
    {
      "cell_type": "code",
      "metadata": {
        "id": "_LzmDsnV4g6o",
        "outputId": "ebb889e1-edb7-4828-b6a0-96d6e04cd1f8",
        "colab": {
          "base_uri": "https://localhost:8080/",
          "height": 34
        }
      },
      "source": [
        "loss_score = metrics.log_loss(y_ts, pred)\n",
        "loss_score"
      ],
      "execution_count": 115,
      "outputs": [
        {
          "output_type": "execute_result",
          "data": {
            "text/plain": [
              "0.5252314124540336"
            ]
          },
          "metadata": {
            "tags": []
          },
          "execution_count": 115
        }
      ]
    },
    {
      "cell_type": "code",
      "metadata": {
        "id": "NQ__UzQq5Sft",
        "outputId": "07a4ca14-8a59-497b-bb37-a05970e86e52",
        "colab": {
          "base_uri": "https://localhost:8080/",
          "height": 34
        }
      },
      "source": [
        "pred = pred > 0.5\n",
        "acc_score = metrics.accuracy_score(y_ts, pred)\n",
        "acc_score"
      ],
      "execution_count": 116,
      "outputs": [
        {
          "output_type": "execute_result",
          "data": {
            "text/plain": [
              "0.7409381663113006"
            ]
          },
          "metadata": {
            "tags": []
          },
          "execution_count": 116
        }
      ]
    },
    {
      "cell_type": "code",
      "metadata": {
        "id": "0dKNB868_4Cv"
      },
      "source": [
        "# Building a file to submit\n",
        "pred_sbt = model.predict(x_submit)\n",
        "\n",
        "# Clip so that min is never exactly 0, max never 1 (would be a NaN score)\n",
        "pred = np.clip(pred,a_min=1e-6,a_max=(1-1e-6)) \n",
        "submit_df = pd.DataFrame({'MoleculeId':[x+1 for x \\\n",
        "        in range(len(pred_sbt))],'PredictedProbability':\\\n",
        "                          pred_sbt.flatten()})\n",
        "submit_df.to_csv(submit_path, index=False)"
      ],
      "execution_count": 118,
      "outputs": []
    },
    {
      "cell_type": "code",
      "metadata": {
        "id": "pG-u7We8DazT"
      },
      "source": [
        "#Get the list of important variable\n",
        "colms = list(train_data)\n",
        "colms.remove('Activity')\n",
        "\n"
      ],
      "execution_count": 119,
      "outputs": []
    },
    {
      "cell_type": "code",
      "metadata": {
        "id": "2H8Ty1vCEXrz",
        "outputId": "a9b55ce4-f13a-4699-f2c9-b002f6ac77c1",
        "colab": {
          "base_uri": "https://localhost:8080/",
          "height": 359
        }
      },
      "source": [
        "variables_rank = var_rank(model,x_ts, y_ts,colms, False)\n",
        "display(variables_rank[0:10])"
      ],
      "execution_count": 124,
      "outputs": [
        {
          "output_type": "display_data",
          "data": {
            "text/html": [
              "<div>\n",
              "<style scoped>\n",
              "    .dataframe tbody tr th:only-of-type {\n",
              "        vertical-align: middle;\n",
              "    }\n",
              "\n",
              "    .dataframe tbody tr th {\n",
              "        vertical-align: top;\n",
              "    }\n",
              "\n",
              "    .dataframe thead th {\n",
              "        text-align: right;\n",
              "    }\n",
              "</style>\n",
              "<table border=\"1\" class=\"dataframe\">\n",
              "  <thead>\n",
              "    <tr style=\"text-align: right;\">\n",
              "      <th></th>\n",
              "      <th>names</th>\n",
              "      <th>errors</th>\n",
              "      <th>importance</th>\n",
              "    </tr>\n",
              "  </thead>\n",
              "  <tbody>\n",
              "    <tr>\n",
              "      <th>0</th>\n",
              "      <td>D27</td>\n",
              "      <td>0.562518</td>\n",
              "      <td>1.000000</td>\n",
              "    </tr>\n",
              "    <tr>\n",
              "      <th>1</th>\n",
              "      <td>D1036</td>\n",
              "      <td>0.528453</td>\n",
              "      <td>0.939443</td>\n",
              "    </tr>\n",
              "    <tr>\n",
              "      <th>2</th>\n",
              "      <td>D1159</td>\n",
              "      <td>0.528207</td>\n",
              "      <td>0.939004</td>\n",
              "    </tr>\n",
              "    <tr>\n",
              "      <th>3</th>\n",
              "      <td>D1271</td>\n",
              "      <td>0.527971</td>\n",
              "      <td>0.938585</td>\n",
              "    </tr>\n",
              "    <tr>\n",
              "      <th>4</th>\n",
              "      <td>D1052</td>\n",
              "      <td>0.527684</td>\n",
              "      <td>0.938076</td>\n",
              "    </tr>\n",
              "    <tr>\n",
              "      <th>5</th>\n",
              "      <td>D1100</td>\n",
              "      <td>0.527556</td>\n",
              "      <td>0.937847</td>\n",
              "    </tr>\n",
              "    <tr>\n",
              "      <th>6</th>\n",
              "      <td>D998</td>\n",
              "      <td>0.527483</td>\n",
              "      <td>0.937718</td>\n",
              "    </tr>\n",
              "    <tr>\n",
              "      <th>7</th>\n",
              "      <td>D211</td>\n",
              "      <td>0.527454</td>\n",
              "      <td>0.937666</td>\n",
              "    </tr>\n",
              "    <tr>\n",
              "      <th>8</th>\n",
              "      <td>D961</td>\n",
              "      <td>0.527420</td>\n",
              "      <td>0.937605</td>\n",
              "    </tr>\n",
              "    <tr>\n",
              "      <th>9</th>\n",
              "      <td>D237</td>\n",
              "      <td>0.527339</td>\n",
              "      <td>0.937462</td>\n",
              "    </tr>\n",
              "  </tbody>\n",
              "</table>\n",
              "</div>"
            ],
            "text/plain": [
              "   names    errors  importance\n",
              "0    D27  0.562518    1.000000\n",
              "1  D1036  0.528453    0.939443\n",
              "2  D1159  0.528207    0.939004\n",
              "3  D1271  0.527971    0.938585\n",
              "4  D1052  0.527684    0.938076\n",
              "5  D1100  0.527556    0.937847\n",
              "6   D998  0.527483    0.937718\n",
              "7   D211  0.527454    0.937666\n",
              "8   D961  0.527420    0.937605\n",
              "9   D237  0.527339    0.937462"
            ]
          },
          "metadata": {
            "tags": []
          }
        }
      ]
    },
    {
      "cell_type": "code",
      "metadata": {
        "id": "bcIMgbdXF42X"
      },
      "source": [
        ""
      ],
      "execution_count": null,
      "outputs": []
    }
  ]
}