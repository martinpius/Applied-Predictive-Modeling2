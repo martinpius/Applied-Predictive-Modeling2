{
  "nbformat": 4,
  "nbformat_minor": 0,
  "metadata": {
    "colab": {
      "name": "KERAS MODELS-BUILDING BLOCKS.ipynb",
      "provenance": [],
      "authorship_tag": "ABX9TyO4uk3F3oMqyURqHpjx8jhE",
      "include_colab_link": true
    },
    "kernelspec": {
      "name": "python3",
      "display_name": "Python 3"
    }
  },
  "cells": [
    {
      "cell_type": "markdown",
      "metadata": {
        "id": "view-in-github",
        "colab_type": "text"
      },
      "source": [
        "<a href=\"https://colab.research.google.com/github/martinpius/Applied-Predictive-Modeling2/blob/master/KERAS_MODELS_BUILDING_BLOCKS.ipynb\" target=\"_parent\"><img src=\"https://colab.research.google.com/assets/colab-badge.svg\" alt=\"Open In Colab\"/></a>"
      ]
    },
    {
      "cell_type": "code",
      "metadata": {
        "id": "3t2tIaf688hx"
      },
      "source": [
        "import tensorflow as tf\n",
        "import numpy as np\n",
        "from tensorflow import keras"
      ],
      "execution_count": 70,
      "outputs": []
    },
    {
      "cell_type": "code",
      "metadata": {
        "id": "jCO1EWVw9In-",
        "outputId": "5e8fb8a0-cff8-4792-95b1-9ed77cf4dc2b",
        "colab": {
          "base_uri": "https://localhost:8080/"
        }
      },
      "source": [
        "#Building keras layers from scratch\n",
        "class MyLayer(keras.layers.Layer):\n",
        "  def __init__(self, units = 64, input_shape=64):\n",
        "    super(MyLayer, self).__init__()\n",
        "    w_initial = tf.random_normal_initializer()\n",
        "    b_initial = tf.zeros_initializer()\n",
        "    self.w = tf.Variable(initial_value = w_initial(shape = (units, input_shape)), dtype = 'float32', trainable = True)\n",
        "    self.b = tf.Variable(initial_value = b_initial(shape = (units, )), dtype = 'float32', trainable = True)\n",
        "\n",
        "  def call(self, inputs):\n",
        "    return tf.matmul(inputs, self.w) + self.b\n",
        "\n",
        "x = tf.ones(shape = (3,3))\n",
        "layer1 = MyLayer(3,1)\n",
        "out = layer1(x)\n",
        "print(out)\n",
        "assert layer1.weights == [layer1.w, layer1.b]"
      ],
      "execution_count": 20,
      "outputs": [
        {
          "output_type": "stream",
          "text": [
            "tf.Tensor(\n",
            "[[-0.01079231 -0.01079231 -0.01079231]\n",
            " [-0.01079231 -0.01079231 -0.01079231]\n",
            " [-0.01079231 -0.01079231 -0.01079231]], shape=(3, 3), dtype=float32)\n"
          ],
          "name": "stdout"
        }
      ]
    },
    {
      "cell_type": "code",
      "metadata": {
        "id": "T911rUBL_82u",
        "outputId": "353d4a6a-de78-4220-f204-52d9e2f7df24",
        "colab": {
          "base_uri": "https://localhost:8080/"
        }
      },
      "source": [
        "#Altenative way to add parameters in a keras layer\n",
        "class AltLayer(keras.layers.Layer):\n",
        "  def __init__(self, input_shape = 64, units = 64):\n",
        "    super(AltLayer, self).__init__()\n",
        "    self.w = self.add_weight(shape = (input_shape, units), initializer = 'random_normal',trainable = True)\n",
        "    self.b = self.add_weight(shape = (units,), initializer = 'zeros', trainable = True)\n",
        "  def call(self, inputs):\n",
        "    return tf.matmul(inputs, self.w) + self.b\n",
        "\n",
        "x = tf.ones(shape = (3,3))\n",
        "layer2 = AltLayer(3,1)\n",
        "out = layer2(x)\n",
        "print(out)\n",
        "assert layer2.weights == [layer2.w, layer2.b]"
      ],
      "execution_count": 21,
      "outputs": [
        {
          "output_type": "stream",
          "text": [
            "tf.Tensor(\n",
            "[[-0.09851134]\n",
            " [-0.09851134]\n",
            " [-0.09851134]], shape=(3, 1), dtype=float32)\n"
          ],
          "name": "stdout"
        }
      ]
    },
    {
      "cell_type": "code",
      "metadata": {
        "id": "0zLPT7R9HpHw",
        "outputId": "b21f278a-cc4c-4bbf-c8a2-8aaab7912d8b",
        "colab": {
          "base_uri": "https://localhost:8080/"
        }
      },
      "source": [
        "#Adding the input shape in a separate block\n",
        "class AddInput(keras.layers.Layer):\n",
        "  def __init__(self, units):\n",
        "    super(AddInput, self).__init__()\n",
        "    self.units = units\n",
        "  \n",
        "  def build(self, input_shape):\n",
        "    self.w = self.add_weight(\n",
        "        shape = (input_shape[-1], self.units),\n",
        "        initializer = 'random_normal',\n",
        "        trainable = True\n",
        "    )\n",
        "    self.b = self.add_weight(\n",
        "        shape = (self.units,),\n",
        "        initializer = 'zeros',\n",
        "        trainable = True\n",
        "    )\n",
        "\n",
        "  def call(self, inputs):\n",
        "    return tf.matmul(inputs, self.w) + self.b\n",
        "\n",
        "layer3 = AddInput(32)\n",
        "out = layer3(x)\n",
        "print(out)\n",
        "assert layer3.weights == [layer3.w, layer3.b]"
      ],
      "execution_count": 33,
      "outputs": [
        {
          "output_type": "stream",
          "text": [
            "tf.Tensor(\n",
            "[[-0.0553377   0.04070884 -0.0115709  -0.00817596 -0.02025527 -0.01317053\n",
            "  -0.00115759  0.06118619  0.01554302  0.1798982   0.09257257  0.0174687\n",
            "  -0.04247794  0.03030066 -0.02307886 -0.00474579  0.02217307  0.00970889\n",
            "   0.15911117 -0.03221453 -0.02186662  0.19686139  0.01931957  0.01819673\n",
            "  -0.01008678 -0.0936542  -0.1558387  -0.03757554  0.11727723 -0.04991619\n",
            "   0.07638891 -0.02369768]\n",
            " [-0.0553377   0.04070884 -0.0115709  -0.00817596 -0.02025527 -0.01317053\n",
            "  -0.00115759  0.06118619  0.01554302  0.1798982   0.09257257  0.0174687\n",
            "  -0.04247794  0.03030066 -0.02307886 -0.00474579  0.02217307  0.00970889\n",
            "   0.15911117 -0.03221453 -0.02186662  0.19686139  0.01931957  0.01819673\n",
            "  -0.01008678 -0.0936542  -0.1558387  -0.03757554  0.11727723 -0.04991619\n",
            "   0.07638891 -0.02369768]\n",
            " [-0.0553377   0.04070884 -0.0115709  -0.00817596 -0.02025527 -0.01317053\n",
            "  -0.00115759  0.06118619  0.01554302  0.1798982   0.09257257  0.0174687\n",
            "  -0.04247794  0.03030066 -0.02307886 -0.00474579  0.02217307  0.00970889\n",
            "   0.15911117 -0.03221453 -0.02186662  0.19686139  0.01931957  0.01819673\n",
            "  -0.01008678 -0.0936542  -0.1558387  -0.03757554  0.11727723 -0.04991619\n",
            "   0.07638891 -0.02369768]], shape=(3, 32), dtype=float32)\n"
          ],
          "name": "stdout"
        }
      ]
    },
    {
      "cell_type": "code",
      "metadata": {
        "id": "splum4XlLSOw",
        "outputId": "86a374c9-7eff-4635-c4da-e205bae7f9ce",
        "colab": {
          "base_uri": "https://localhost:8080/"
        }
      },
      "source": [
        "#Stacking keras layers together\n",
        "class StackLayer(keras.layers.Layer):\n",
        "  def __init__(self):\n",
        "    super(StackLayer, self).__init__()\n",
        "    self.ln1 = AddInput(32)\n",
        "    self.ln2 = AddInput(16)\n",
        "    self.ln3 = AddInput(1)\n",
        "\n",
        "  def call(self,inputs):\n",
        "    x = self.ln1(inputs)\n",
        "    x = tf.nn.relu(x)\n",
        "    x = self.ln2(x)\n",
        "    x = tf.nn.relu(x)\n",
        "    return self.ln3(x)\n",
        "  \n",
        "model= StackLayer()\n",
        "model(tf.ones(shape = (3,32)))\n",
        "print(f\"trainable pars: {len(model.weights)}\\nNon-trainable pars: {len(model.trainable_weights)}\")\n",
        "\n",
        "    \n"
      ],
      "execution_count": 37,
      "outputs": [
        {
          "output_type": "stream",
          "text": [
            "trainable pars: 6\n",
            "Non-trainable pars: 6\n"
          ],
          "name": "stdout"
        }
      ]
    },
    {
      "cell_type": "code",
      "metadata": {
        "id": "Wr_sjrS1VoD6"
      },
      "source": [
        ""
      ],
      "execution_count": null,
      "outputs": []
    },
    {
      "cell_type": "code",
      "metadata": {
        "id": "cZH7VCZXQSpj"
      },
      "source": [
        "#Add Loss as a regularizer to the keras layer( This can be added as additional loss to the main loss)\n",
        "class AddLoss(keras.layers.Layer):\n",
        "  def __init__(self,rate = 1e-3):\n",
        "    super(AddLoss, self).__init__()\n",
        "    self.rate = rate\n",
        "  \n",
        "  def call(self, inputs):\n",
        "    self.add_loss(self.rate * tf.reduce_sum(inputs))\n",
        "    return inputs\n",
        "\n"
      ],
      "execution_count": 51,
      "outputs": []
    },
    {
      "cell_type": "code",
      "metadata": {
        "id": "NWd6t1W2WJ1u"
      },
      "source": [
        "#retrieve the loss at any stage using layer.losses\n",
        "class LossRetrieve(keras.layers.Layer):\n",
        "  def __init__(self):\n",
        "    super(LossRetrieve, self).__init__()\n",
        "    self.myregulator = AddLoss(1e-3)\n",
        "  \n",
        "  def call(self, inputs):\n",
        "    return self.myregulator(inputs)\n",
        "\n",
        "\n",
        "los1 = LossRetrieve()\n",
        "_=los1(tf.zeros((1,1)))\n",
        "assert len(los1.losses) == 1"
      ],
      "execution_count": 54,
      "outputs": []
    },
    {
      "cell_type": "code",
      "metadata": {
        "id": "akbFY0MaWaDn",
        "outputId": "2ba218e0-d048-4604-e8e0-e0010479e536",
        "colab": {
          "base_uri": "https://localhost:8080/"
        }
      },
      "source": [
        "#Adding kernel regularizer to the layer\n",
        "class WithKernel(keras.layers.Layer):\n",
        "  def __init__(self):\n",
        "    super(WithKernel, self).__init__()\n",
        "    self.mydense = keras.layers.Dense(units = 32,\n",
        "                                      kernel_regularizer = tf.keras.regularizers.l2(1e-3))\n",
        "  \n",
        "  def call(self, inputs):\n",
        "    return self.mydense(inputs)\n",
        "\n",
        "ken = WithKernel()\n",
        "_= ken(tf.zeros((1,1)))\n",
        "print(ken.losses)"
      ],
      "execution_count": 56,
      "outputs": [
        {
          "output_type": "stream",
          "text": [
            "[<tf.Tensor: shape=(), dtype=float32, numpy=0.0013316458>]\n"
          ],
          "name": "stdout"
        }
      ]
    },
    {
      "cell_type": "code",
      "metadata": {
        "id": "xfw57wbGgc0l",
        "outputId": "d84fbf7b-30da-46ae-f24b-1f2d7078b48e",
        "colab": {
          "base_uri": "https://localhost:8080/"
        }
      },
      "source": [
        "#Using the above defined losses (loss, regularizer to train keras model)\n",
        "inputs = keras.Input(shape = (3,))\n",
        "outputs = AddLoss()(inputs)\n",
        "model = keras.Model(inputs = inputs, outputs = outputs)\n",
        "model.compile(loss = 'mse', optimizer = 'adam')#with the main loss also user defined losses are added\n",
        "model.summary()\n",
        "model.fit(np.random.random((64,3)), np.random.random((64,3)))\n"
      ],
      "execution_count": 59,
      "outputs": [
        {
          "output_type": "stream",
          "text": [
            "Model: \"functional_3\"\n",
            "_________________________________________________________________\n",
            "Layer (type)                 Output Shape              Param #   \n",
            "=================================================================\n",
            "input_2 (InputLayer)         [(None, 3)]               0         \n",
            "_________________________________________________________________\n",
            "add_loss_3 (AddLoss)         (None, 3)                 0         \n",
            "=================================================================\n",
            "Total params: 0\n",
            "Trainable params: 0\n",
            "Non-trainable params: 0\n",
            "_________________________________________________________________\n",
            "2/2 [==============================] - 0s 1ms/step - loss: 0.2341\n"
          ],
          "name": "stdout"
        },
        {
          "output_type": "execute_result",
          "data": {
            "text/plain": [
              "<tensorflow.python.keras.callbacks.History at 0x7fb74f986be0>"
            ]
          },
          "metadata": {
            "tags": []
          },
          "execution_count": 59
        }
      ]
    },
    {
      "cell_type": "code",
      "metadata": {
        "id": "p_6_UUlri-Nx",
        "outputId": "5ba33f7e-c7c9-459a-baf3-404ec6f29c6c",
        "colab": {
          "base_uri": "https://localhost:8080/"
        }
      },
      "source": [
        "#Training using only the user defined loss\n",
        "inputs = keras.Input(shape = (32,))\n",
        "outputs = AddLoss()(inputs)\n",
        "model1 = keras.Model(inputs = inputs, outputs = outputs)\n",
        "model1.compile(optimizer = 'adam')\n",
        "model1.fit(np.random.random(size = (64,32)), np.random.random(size = (64,32)))"
      ],
      "execution_count": 61,
      "outputs": [
        {
          "output_type": "stream",
          "text": [
            "2/2 [==============================] - 0s 2ms/step - loss: 0.5045\n"
          ],
          "name": "stdout"
        },
        {
          "output_type": "execute_result",
          "data": {
            "text/plain": [
              "<tensorflow.python.keras.callbacks.History at 0x7fb74d05d7f0>"
            ]
          },
          "metadata": {
            "tags": []
          },
          "execution_count": 61
        }
      ]
    },
    {
      "cell_type": "code",
      "metadata": {
        "id": "QfExFuAikMS8"
      },
      "source": [
        "#Adding a metric to the keras model to track moving average of a quantity during training\n",
        "#This compute the accuracy of the model\n",
        "class LogisticLoss(keras.layers.Layer):\n",
        "  def __init__(self, name = None):\n",
        "    super(LogisticLoss, self).__init__(name = name)\n",
        "    self.logloss = keras.losses.BinaryCrossentropy(from_logits=True)\n",
        "    self.accuracy1 = keras.metrics.BinaryAccuracy()\n",
        "  \n",
        "  def call(self, y_hat, y_orig, sample_inputs = None):\n",
        "    loss1 = self.logloss(y_hat, y_orig, sample_inputs)\n",
        "    self.add_loss(loss1)\n",
        "    accuracy2 = self.accuracy1(y_hat, y_orig, sample_inputs)\n",
        "    self.add_metric(accuracy2, name = 'accuracy')\n",
        "    return tf.nn.softmax(logits=y_hat)\n",
        "\n",
        "\n"
      ],
      "execution_count": 82,
      "outputs": []
    },
    {
      "cell_type": "code",
      "metadata": {
        "id": "039O9wGt23Cx",
        "outputId": "48ef8bd0-3748-4327-93e6-dfc78674a241",
        "colab": {
          "base_uri": "https://localhost:8080/"
        }
      },
      "source": [
        "mymetrics = LogisticLoss()\n",
        "y_hat = tf.ones(shape = (3,3))\n",
        "y_orig = tf.ones(shape = (3,3))\n",
        "out_loss = mymetrics(y_hat, y_orig)\n",
        "print(f\"Layer_metric: {mymetrics.metrics}\\ncurrent accuracy: {float(mymetrics.metrics[0].result())}\")\n"
      ],
      "execution_count": 83,
      "outputs": [
        {
          "output_type": "stream",
          "text": [
            "Layer_metric: [<tensorflow.python.keras.metrics.BinaryAccuracy object at 0x7fb74fc692e8>]\n",
            "current accuracy: 1.0\n"
          ],
          "name": "stdout"
        }
      ]
    },
    {
      "cell_type": "code",
      "metadata": {
        "id": "3Z4svhfw32Je"
      },
      "source": [
        ""
      ],
      "execution_count": null,
      "outputs": []
    }
  ]
}