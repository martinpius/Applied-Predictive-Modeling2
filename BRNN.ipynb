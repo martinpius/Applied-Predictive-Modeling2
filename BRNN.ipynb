{
  "nbformat": 4,
  "nbformat_minor": 0,
  "metadata": {
    "colab": {
      "name": "BRNN.ipynb",
      "provenance": [],
      "authorship_tag": "ABX9TyNo08SVZKHSq8s7sDU9zrdE",
      "include_colab_link": true
    },
    "kernelspec": {
      "name": "python3",
      "display_name": "Python 3"
    },
    "accelerator": "GPU"
  },
  "cells": [
    {
      "cell_type": "markdown",
      "metadata": {
        "id": "view-in-github",
        "colab_type": "text"
      },
      "source": [
        "<a href=\"https://colab.research.google.com/github/martinpius/Applied-Predictive-Modeling2/blob/master/BRNN.ipynb\" target=\"_parent\"><img src=\"https://colab.research.google.com/assets/colab-badge.svg\" alt=\"Open In Colab\"/></a>"
      ]
    },
    {
      "cell_type": "code",
      "metadata": {
        "id": "1zeQMu_oOoeX",
        "outputId": "08f8056b-bc03-4b0f-99f5-09b2d3175dd1",
        "colab": {
          "base_uri": "https://localhost:8080/"
        }
      },
      "source": [
        "from google.colab import drive\n",
        "try:\n",
        "  drive.mount(\"/content/drive\", force_remount = True)\n",
        "  COLAB = True\n",
        "  import tensorflow\n",
        "  print(f\"You are using google colab with tensorflow version: {tensorflow.__version__}\")\n",
        "except:\n",
        "  COLAB = False\n",
        "  print('Not using Google Colab')\n",
        "  "
      ],
      "execution_count": 101,
      "outputs": [
        {
          "output_type": "stream",
          "text": [
            "Mounted at /content/drive\n",
            "You are using google colab with tensorflow version: 2.3.0\n"
          ],
          "name": "stdout"
        }
      ]
    },
    {
      "cell_type": "code",
      "metadata": {
        "id": "qqLUTAHWPpTS"
      },
      "source": [
        "def time_setting(x):\n",
        "  hours = int(x/(60 * 60))\n",
        "  minutes = int(x % (60 * 60)/60)\n",
        "  seconds = int(x % 60)\n",
        "  return f\"{hours}: {minutes:>02}: {seconds:>05.2f}\""
      ],
      "execution_count": 102,
      "outputs": []
    },
    {
      "cell_type": "code",
      "metadata": {
        "id": "tfCCM6ZOQV0E"
      },
      "source": [
        "#Loading the necessary packages\n",
        "import numpy as np\n",
        "import pandas as pd\n",
        "import matplotlib.pyplot as plt\n",
        "plt.style.use('fivethirtyeight')\n",
        "from sklearn import metrics\n",
        "from sklearn.model_selection import train_test_split\n",
        "import tensorflow.keras\n",
        "from tensorflow.keras.layers import Bidirectional, BatchNormalization, Dense, LSTM\n",
        "from tensorflow.keras.models import Sequential\n",
        "from tensorflow.keras.preprocessing.text import one_hot\n",
        "from tensorflow.keras.callbacks import EarlyStopping\n",
        "from tensorflow.keras.preprocessing.sequence import pad_sequences\n",
        "from tensorflow.keras.layers import Embedding, Activation, Dropout\n",
        "\n"
      ],
      "execution_count": 134,
      "outputs": []
    },
    {
      "cell_type": "code",
      "metadata": {
        "id": "TrDc6qISSRLC"
      },
      "source": [
        "#Loading data \n",
        "if COLAB:\n",
        "  path = \"/content/drive/My Drive/fake-news\"\n",
        "else:\n",
        "  pass\n",
        "train_path = \"/content/drive/My Drive/fake-news/train.csv\"\n",
        "test_path = \"/content/drive/My Drive/fake-news/test.csv\"\n",
        "submit_path = \"/content/drive/My Drive/fake-news/submit.csv\"\n",
        "train_data = pd.read_csv(train_path, na_values = ['NA', '?'])\n",
        "test_data = pd.read_csv(test_path, na_values = ['NA','?'])\n",
        "submit = pd.read_csv(submit_path, na_values = ['NA', '?'])"
      ],
      "execution_count": 104,
      "outputs": []
    },
    {
      "cell_type": "code",
      "metadata": {
        "id": "YenCapN_0hfg",
        "outputId": "3dfc760f-f419-4ce8-f6b2-9abc8e1811d3",
        "colab": {
          "base_uri": "https://localhost:8080/",
          "height": 427
        }
      },
      "source": [
        "display(train_data.head(10))"
      ],
      "execution_count": 105,
      "outputs": [
        {
          "output_type": "display_data",
          "data": {
            "text/html": [
              "<div>\n",
              "<style scoped>\n",
              "    .dataframe tbody tr th:only-of-type {\n",
              "        vertical-align: middle;\n",
              "    }\n",
              "\n",
              "    .dataframe tbody tr th {\n",
              "        vertical-align: top;\n",
              "    }\n",
              "\n",
              "    .dataframe thead th {\n",
              "        text-align: right;\n",
              "    }\n",
              "</style>\n",
              "<table border=\"1\" class=\"dataframe\">\n",
              "  <thead>\n",
              "    <tr style=\"text-align: right;\">\n",
              "      <th></th>\n",
              "      <th>id</th>\n",
              "      <th>title</th>\n",
              "      <th>author</th>\n",
              "      <th>text</th>\n",
              "      <th>label</th>\n",
              "    </tr>\n",
              "  </thead>\n",
              "  <tbody>\n",
              "    <tr>\n",
              "      <th>0</th>\n",
              "      <td>0</td>\n",
              "      <td>House Dem Aide: We Didn’t Even See Comey’s Let...</td>\n",
              "      <td>Darrell Lucus</td>\n",
              "      <td>House Dem Aide: We Didn’t Even See Comey’s Let...</td>\n",
              "      <td>1</td>\n",
              "    </tr>\n",
              "    <tr>\n",
              "      <th>1</th>\n",
              "      <td>1</td>\n",
              "      <td>FLYNN: Hillary Clinton, Big Woman on Campus - ...</td>\n",
              "      <td>Daniel J. Flynn</td>\n",
              "      <td>Ever get the feeling your life circles the rou...</td>\n",
              "      <td>0</td>\n",
              "    </tr>\n",
              "    <tr>\n",
              "      <th>2</th>\n",
              "      <td>2</td>\n",
              "      <td>Why the Truth Might Get You Fired</td>\n",
              "      <td>Consortiumnews.com</td>\n",
              "      <td>Why the Truth Might Get You Fired October 29, ...</td>\n",
              "      <td>1</td>\n",
              "    </tr>\n",
              "    <tr>\n",
              "      <th>3</th>\n",
              "      <td>3</td>\n",
              "      <td>15 Civilians Killed In Single US Airstrike Hav...</td>\n",
              "      <td>Jessica Purkiss</td>\n",
              "      <td>Videos 15 Civilians Killed In Single US Airstr...</td>\n",
              "      <td>1</td>\n",
              "    </tr>\n",
              "    <tr>\n",
              "      <th>4</th>\n",
              "      <td>4</td>\n",
              "      <td>Iranian woman jailed for fictional unpublished...</td>\n",
              "      <td>Howard Portnoy</td>\n",
              "      <td>Print \\nAn Iranian woman has been sentenced to...</td>\n",
              "      <td>1</td>\n",
              "    </tr>\n",
              "    <tr>\n",
              "      <th>5</th>\n",
              "      <td>5</td>\n",
              "      <td>Jackie Mason: Hollywood Would Love Trump if He...</td>\n",
              "      <td>Daniel Nussbaum</td>\n",
              "      <td>In these trying times, Jackie Mason is the Voi...</td>\n",
              "      <td>0</td>\n",
              "    </tr>\n",
              "    <tr>\n",
              "      <th>6</th>\n",
              "      <td>6</td>\n",
              "      <td>Life: Life Of Luxury: Elton John’s 6 Favorite ...</td>\n",
              "      <td>NaN</td>\n",
              "      <td>Ever wonder how Britain’s most iconic pop pian...</td>\n",
              "      <td>1</td>\n",
              "    </tr>\n",
              "    <tr>\n",
              "      <th>7</th>\n",
              "      <td>7</td>\n",
              "      <td>Benoît Hamon Wins French Socialist Party’s Pre...</td>\n",
              "      <td>Alissa J. Rubin</td>\n",
              "      <td>PARIS  —   France chose an idealistic, traditi...</td>\n",
              "      <td>0</td>\n",
              "    </tr>\n",
              "    <tr>\n",
              "      <th>8</th>\n",
              "      <td>8</td>\n",
              "      <td>Excerpts From a Draft Script for Donald Trump’...</td>\n",
              "      <td>NaN</td>\n",
              "      <td>Donald J. Trump is scheduled to make a highly ...</td>\n",
              "      <td>0</td>\n",
              "    </tr>\n",
              "    <tr>\n",
              "      <th>9</th>\n",
              "      <td>9</td>\n",
              "      <td>A Back-Channel Plan for Ukraine and Russia, Co...</td>\n",
              "      <td>Megan Twohey and Scott Shane</td>\n",
              "      <td>A week before Michael T. Flynn resigned as nat...</td>\n",
              "      <td>0</td>\n",
              "    </tr>\n",
              "  </tbody>\n",
              "</table>\n",
              "</div>"
            ],
            "text/plain": [
              "   id  ... label\n",
              "0   0  ...     1\n",
              "1   1  ...     0\n",
              "2   2  ...     1\n",
              "3   3  ...     1\n",
              "4   4  ...     1\n",
              "5   5  ...     0\n",
              "6   6  ...     1\n",
              "7   7  ...     0\n",
              "8   8  ...     0\n",
              "9   9  ...     0\n",
              "\n",
              "[10 rows x 5 columns]"
            ]
          },
          "metadata": {
            "tags": []
          }
        }
      ]
    },
    {
      "cell_type": "code",
      "metadata": {
        "id": "VVkNF3qW0ojl",
        "outputId": "dacb685d-9688-4955-d974-d5a5a4c9a4de",
        "colab": {
          "base_uri": "https://localhost:8080/",
          "height": 359
        }
      },
      "source": [
        "display(submit.head(10))"
      ],
      "execution_count": 106,
      "outputs": [
        {
          "output_type": "display_data",
          "data": {
            "text/html": [
              "<div>\n",
              "<style scoped>\n",
              "    .dataframe tbody tr th:only-of-type {\n",
              "        vertical-align: middle;\n",
              "    }\n",
              "\n",
              "    .dataframe tbody tr th {\n",
              "        vertical-align: top;\n",
              "    }\n",
              "\n",
              "    .dataframe thead th {\n",
              "        text-align: right;\n",
              "    }\n",
              "</style>\n",
              "<table border=\"1\" class=\"dataframe\">\n",
              "  <thead>\n",
              "    <tr style=\"text-align: right;\">\n",
              "      <th></th>\n",
              "      <th>id</th>\n",
              "      <th>label</th>\n",
              "    </tr>\n",
              "  </thead>\n",
              "  <tbody>\n",
              "    <tr>\n",
              "      <th>0</th>\n",
              "      <td>20800</td>\n",
              "      <td>0</td>\n",
              "    </tr>\n",
              "    <tr>\n",
              "      <th>1</th>\n",
              "      <td>20801</td>\n",
              "      <td>1</td>\n",
              "    </tr>\n",
              "    <tr>\n",
              "      <th>2</th>\n",
              "      <td>20802</td>\n",
              "      <td>0</td>\n",
              "    </tr>\n",
              "    <tr>\n",
              "      <th>3</th>\n",
              "      <td>20803</td>\n",
              "      <td>1</td>\n",
              "    </tr>\n",
              "    <tr>\n",
              "      <th>4</th>\n",
              "      <td>20804</td>\n",
              "      <td>1</td>\n",
              "    </tr>\n",
              "    <tr>\n",
              "      <th>5</th>\n",
              "      <td>20805</td>\n",
              "      <td>1</td>\n",
              "    </tr>\n",
              "    <tr>\n",
              "      <th>6</th>\n",
              "      <td>20806</td>\n",
              "      <td>1</td>\n",
              "    </tr>\n",
              "    <tr>\n",
              "      <th>7</th>\n",
              "      <td>20807</td>\n",
              "      <td>1</td>\n",
              "    </tr>\n",
              "    <tr>\n",
              "      <th>8</th>\n",
              "      <td>20808</td>\n",
              "      <td>0</td>\n",
              "    </tr>\n",
              "    <tr>\n",
              "      <th>9</th>\n",
              "      <td>20809</td>\n",
              "      <td>1</td>\n",
              "    </tr>\n",
              "  </tbody>\n",
              "</table>\n",
              "</div>"
            ],
            "text/plain": [
              "      id  label\n",
              "0  20800      0\n",
              "1  20801      1\n",
              "2  20802      0\n",
              "3  20803      1\n",
              "4  20804      1\n",
              "5  20805      1\n",
              "6  20806      1\n",
              "7  20807      1\n",
              "8  20808      0\n",
              "9  20809      1"
            ]
          },
          "metadata": {
            "tags": []
          }
        }
      ]
    },
    {
      "cell_type": "code",
      "metadata": {
        "id": "Qa_ao8-L0xE3",
        "outputId": "405b4916-33d5-4e04-f3ef-4ab6acb4f615",
        "colab": {
          "base_uri": "https://localhost:8080/",
          "height": 359
        }
      },
      "source": [
        "display(test_data.head(10))"
      ],
      "execution_count": 107,
      "outputs": [
        {
          "output_type": "display_data",
          "data": {
            "text/html": [
              "<div>\n",
              "<style scoped>\n",
              "    .dataframe tbody tr th:only-of-type {\n",
              "        vertical-align: middle;\n",
              "    }\n",
              "\n",
              "    .dataframe tbody tr th {\n",
              "        vertical-align: top;\n",
              "    }\n",
              "\n",
              "    .dataframe thead th {\n",
              "        text-align: right;\n",
              "    }\n",
              "</style>\n",
              "<table border=\"1\" class=\"dataframe\">\n",
              "  <thead>\n",
              "    <tr style=\"text-align: right;\">\n",
              "      <th></th>\n",
              "      <th>id</th>\n",
              "      <th>title</th>\n",
              "      <th>author</th>\n",
              "      <th>text</th>\n",
              "    </tr>\n",
              "  </thead>\n",
              "  <tbody>\n",
              "    <tr>\n",
              "      <th>0</th>\n",
              "      <td>20800</td>\n",
              "      <td>Specter of Trump Loosens Tongues, if Not Purse...</td>\n",
              "      <td>David Streitfeld</td>\n",
              "      <td>PALO ALTO, Calif.  —   After years of scorning...</td>\n",
              "    </tr>\n",
              "    <tr>\n",
              "      <th>1</th>\n",
              "      <td>20801</td>\n",
              "      <td>Russian warships ready to strike terrorists ne...</td>\n",
              "      <td>NaN</td>\n",
              "      <td>Russian warships ready to strike terrorists ne...</td>\n",
              "    </tr>\n",
              "    <tr>\n",
              "      <th>2</th>\n",
              "      <td>20802</td>\n",
              "      <td>#NoDAPL: Native American Leaders Vow to Stay A...</td>\n",
              "      <td>Common Dreams</td>\n",
              "      <td>Videos #NoDAPL: Native American Leaders Vow to...</td>\n",
              "    </tr>\n",
              "    <tr>\n",
              "      <th>3</th>\n",
              "      <td>20803</td>\n",
              "      <td>Tim Tebow Will Attempt Another Comeback, This ...</td>\n",
              "      <td>Daniel Victor</td>\n",
              "      <td>If at first you don’t succeed, try a different...</td>\n",
              "    </tr>\n",
              "    <tr>\n",
              "      <th>4</th>\n",
              "      <td>20804</td>\n",
              "      <td>Keiser Report: Meme Wars (E995)</td>\n",
              "      <td>Truth Broadcast Network</td>\n",
              "      <td>42 mins ago 1 Views 0 Comments 0 Likes 'For th...</td>\n",
              "    </tr>\n",
              "    <tr>\n",
              "      <th>5</th>\n",
              "      <td>20805</td>\n",
              "      <td>Trump is USA's antique hero. Clinton will be n...</td>\n",
              "      <td>NaN</td>\n",
              "      <td>Trump is USA's antique hero. Clinton will be n...</td>\n",
              "    </tr>\n",
              "    <tr>\n",
              "      <th>6</th>\n",
              "      <td>20806</td>\n",
              "      <td>Pelosi Calls for FBI Investigation to Find Out...</td>\n",
              "      <td>Pam Key</td>\n",
              "      <td>Sunday on NBC’s “Meet the Press,” House Minori...</td>\n",
              "    </tr>\n",
              "    <tr>\n",
              "      <th>7</th>\n",
              "      <td>20807</td>\n",
              "      <td>Weekly Featured Profile – Randy Shannon</td>\n",
              "      <td>Trevor Loudon</td>\n",
              "      <td>You are here: Home / *Articles of the Bound* /...</td>\n",
              "    </tr>\n",
              "    <tr>\n",
              "      <th>8</th>\n",
              "      <td>20808</td>\n",
              "      <td>Urban Population Booms Will Make Climate Chang...</td>\n",
              "      <td>NaN</td>\n",
              "      <td>Urban Population Booms Will Make Climate Chang...</td>\n",
              "    </tr>\n",
              "    <tr>\n",
              "      <th>9</th>\n",
              "      <td>20809</td>\n",
              "      <td>NaN</td>\n",
              "      <td>cognitive dissident</td>\n",
              "      <td>don't we have the receipt?</td>\n",
              "    </tr>\n",
              "  </tbody>\n",
              "</table>\n",
              "</div>"
            ],
            "text/plain": [
              "      id  ...                                               text\n",
              "0  20800  ...  PALO ALTO, Calif.  —   After years of scorning...\n",
              "1  20801  ...  Russian warships ready to strike terrorists ne...\n",
              "2  20802  ...  Videos #NoDAPL: Native American Leaders Vow to...\n",
              "3  20803  ...  If at first you don’t succeed, try a different...\n",
              "4  20804  ...  42 mins ago 1 Views 0 Comments 0 Likes 'For th...\n",
              "5  20805  ...  Trump is USA's antique hero. Clinton will be n...\n",
              "6  20806  ...  Sunday on NBC’s “Meet the Press,” House Minori...\n",
              "7  20807  ...  You are here: Home / *Articles of the Bound* /...\n",
              "8  20808  ...  Urban Population Booms Will Make Climate Chang...\n",
              "9  20809  ...                         don't we have the receipt?\n",
              "\n",
              "[10 rows x 4 columns]"
            ]
          },
          "metadata": {
            "tags": []
          }
        }
      ]
    },
    {
      "cell_type": "code",
      "metadata": {
        "id": "v2EyUelz02Gg",
        "outputId": "c1e1e371-cb6c-46d2-ee2d-ca6ed00b2af3",
        "colab": {
          "base_uri": "https://localhost:8080/"
        }
      },
      "source": [
        "train_data.isna().value_counts()"
      ],
      "execution_count": 108,
      "outputs": [
        {
          "output_type": "execute_result",
          "data": {
            "text/plain": [
              "id     title  author  text   label\n",
              "False  False  False   False  False    18285\n",
              "              True    False  False     1918\n",
              "       True   False   False  False      558\n",
              "       False  True    True   False       39\n",
              "dtype: int64"
            ]
          },
          "metadata": {
            "tags": []
          },
          "execution_count": 108
        }
      ]
    },
    {
      "cell_type": "code",
      "metadata": {
        "id": "ZWyBZz4i1BwY",
        "outputId": "7661f411-a3c5-40b8-e436-c4541f0c40a5",
        "colab": {
          "base_uri": "https://localhost:8080/"
        }
      },
      "source": [
        "train_data.isna().sum()"
      ],
      "execution_count": 109,
      "outputs": [
        {
          "output_type": "execute_result",
          "data": {
            "text/plain": [
              "id           0\n",
              "title      558\n",
              "author    1957\n",
              "text        39\n",
              "label        0\n",
              "dtype: int64"
            ]
          },
          "metadata": {
            "tags": []
          },
          "execution_count": 109
        }
      ]
    },
    {
      "cell_type": "code",
      "metadata": {
        "id": "dbVlbms11GxJ"
      },
      "source": [
        "#Clear the missing values...Drop the rows (since we are dealing with the textual doc)\n",
        "train_data.dropna(axis = 0, inplace = True)"
      ],
      "execution_count": 110,
      "outputs": []
    },
    {
      "cell_type": "code",
      "metadata": {
        "id": "h4VOvvLZ1aSj",
        "outputId": "30950c3a-14a7-4105-bfb6-d8d765363e4b",
        "colab": {
          "base_uri": "https://localhost:8080/"
        }
      },
      "source": [
        "train_data.isna().sum()"
      ],
      "execution_count": 111,
      "outputs": [
        {
          "output_type": "execute_result",
          "data": {
            "text/plain": [
              "id        0\n",
              "title     0\n",
              "author    0\n",
              "text      0\n",
              "label     0\n",
              "dtype: int64"
            ]
          },
          "metadata": {
            "tags": []
          },
          "execution_count": 111
        }
      ]
    },
    {
      "cell_type": "code",
      "metadata": {
        "id": "sGurcqbh1eeR",
        "outputId": "7612b744-fd67-4de4-8a4d-229d3cc49079",
        "colab": {
          "base_uri": "https://localhost:8080/"
        }
      },
      "source": [
        "train_data.shape"
      ],
      "execution_count": 112,
      "outputs": [
        {
          "output_type": "execute_result",
          "data": {
            "text/plain": [
              "(18285, 5)"
            ]
          },
          "metadata": {
            "tags": []
          },
          "execution_count": 112
        }
      ]
    },
    {
      "cell_type": "code",
      "metadata": {
        "id": "Db3Vsf1c1hgN"
      },
      "source": [
        "#Get the predictors and the labels and the pre-process the textual data\n",
        "label = train_data['label']"
      ],
      "execution_count": 113,
      "outputs": []
    },
    {
      "cell_type": "code",
      "metadata": {
        "id": "ygdqtyaR1uQ-"
      },
      "source": [
        "x = train_data.drop(columns = ['label'], axis = 1)"
      ],
      "execution_count": 114,
      "outputs": []
    },
    {
      "cell_type": "code",
      "metadata": {
        "id": "jnuclOkZ16vN",
        "outputId": "af5f9585-d66b-46c8-b01d-6a3ca3ff69e8",
        "colab": {
          "base_uri": "https://localhost:8080/"
        }
      },
      "source": [
        "x.columns"
      ],
      "execution_count": 115,
      "outputs": [
        {
          "output_type": "execute_result",
          "data": {
            "text/plain": [
              "Index(['id', 'title', 'author', 'text'], dtype='object')"
            ]
          },
          "metadata": {
            "tags": []
          },
          "execution_count": 115
        }
      ]
    },
    {
      "cell_type": "code",
      "metadata": {
        "id": "Jq6SE9kw2g17"
      },
      "source": [
        "news = x.copy()"
      ],
      "execution_count": 116,
      "outputs": []
    },
    {
      "cell_type": "code",
      "metadata": {
        "id": "8dr8ukn93BJV"
      },
      "source": [
        "news.reset_index(inplace=True)"
      ],
      "execution_count": 117,
      "outputs": []
    },
    {
      "cell_type": "code",
      "metadata": {
        "id": "yDn39WeK3Yq7"
      },
      "source": [
        "cov = news['title']"
      ],
      "execution_count": 118,
      "outputs": []
    },
    {
      "cell_type": "code",
      "metadata": {
        "id": "DZzODVxF3fTK",
        "outputId": "d996c55b-2dbe-4c29-c2f6-7709e388edfa",
        "colab": {
          "base_uri": "https://localhost:8080/",
          "height": 35
        }
      },
      "source": [
        "cov[0]"
      ],
      "execution_count": 119,
      "outputs": [
        {
          "output_type": "execute_result",
          "data": {
            "application/vnd.google.colaboratory.intrinsic+json": {
              "type": "string"
            },
            "text/plain": [
              "'House Dem Aide: We Didn’t Even See Comey’s Letter Until Jason Chaffetz Tweeted It'"
            ]
          },
          "metadata": {
            "tags": []
          },
          "execution_count": 119
        }
      ]
    },
    {
      "cell_type": "code",
      "metadata": {
        "id": "C0Ccrfhs4BRM"
      },
      "source": [
        "import nltk\n",
        "import re\n",
        "from nltk.corpus import stopwords\n",
        "from nltk.stem.porter import PorterStemmer "
      ],
      "execution_count": 120,
      "outputs": []
    },
    {
      "cell_type": "code",
      "metadata": {
        "id": "7hopZT8N4_M_",
        "outputId": "9193a25e-63b7-4f59-d6aa-dcd89c07b702",
        "colab": {
          "base_uri": "https://localhost:8080/"
        }
      },
      "source": [
        "nltk.download('stopwords')"
      ],
      "execution_count": 121,
      "outputs": [
        {
          "output_type": "stream",
          "text": [
            "[nltk_data] Downloading package stopwords to /root/nltk_data...\n",
            "[nltk_data]   Package stopwords is already up-to-date!\n"
          ],
          "name": "stdout"
        },
        {
          "output_type": "execute_result",
          "data": {
            "text/plain": [
              "True"
            ]
          },
          "metadata": {
            "tags": []
          },
          "execution_count": 121
        }
      ]
    },
    {
      "cell_type": "code",
      "metadata": {
        "id": "i_0jUwer5Dg3"
      },
      "source": [
        "pts = PorterStemmer()\n",
        "bag = []\n",
        "for i in range(0,len(news)):\n",
        "  mesage = re.sub('[^a-zA-Z]', ' ', news['title'][i])#Get rid-off all characters apart from common alphabets\n",
        "  mesage = mesage.lower()#Change the document into lower case\n",
        "  mesage = mesage.split()#Get the list of words for each title.\n",
        "  mesage = [pts.stem(word) for word in mesage if not word in stopwords.words('english')]#stem the document\n",
        "  mesage = ' '.join(mesage)\n",
        "  bag.append(mesage)"
      ],
      "execution_count": 122,
      "outputs": []
    },
    {
      "cell_type": "code",
      "metadata": {
        "id": "iJlm0SfL8A4N",
        "outputId": "53531e16-7dd3-456c-bd64-12e012f14239",
        "colab": {
          "base_uri": "https://localhost:8080/",
          "height": 187
        }
      },
      "source": [
        "display(bag[0:10])"
      ],
      "execution_count": 123,
      "outputs": [
        {
          "output_type": "display_data",
          "data": {
            "text/plain": [
              "['hous dem aid even see comey letter jason chaffetz tweet',\n",
              " 'flynn hillari clinton big woman campu breitbart',\n",
              " 'truth might get fire',\n",
              " 'civilian kill singl us airstrik identifi',\n",
              " 'iranian woman jail fiction unpublish stori woman stone death adulteri',\n",
              " 'jacki mason hollywood would love trump bomb north korea lack tran bathroom exclus video breitbart',\n",
              " 'beno hamon win french socialist parti presidenti nomin new york time',\n",
              " 'back channel plan ukrain russia courtesi trump associ new york time',\n",
              " 'obama organ action partner soro link indivis disrupt trump agenda',\n",
              " 'bbc comedi sketch real housew isi caus outrag']"
            ]
          },
          "metadata": {
            "tags": []
          }
        }
      ]
    },
    {
      "cell_type": "code",
      "metadata": {
        "id": "wsUFI_bi8UJ3"
      },
      "source": [
        "size_voc = 10000 #Assume a dictionary of 10000 words\n",
        "sent_len = 20 #Assume no sentence will have more then 20 words\n",
        "#get the one-hot representantion for each title:\n",
        "indexes = [one_hot(words, size_voc) for words in bag]"
      ],
      "execution_count": 124,
      "outputs": []
    },
    {
      "cell_type": "code",
      "metadata": {
        "id": "zOdC-ZYS90iN",
        "outputId": "bd693f29-5d11-47db-ca81-97f0f967aa14",
        "colab": {
          "base_uri": "https://localhost:8080/"
        }
      },
      "source": [
        "indexes[0:50]"
      ],
      "execution_count": 125,
      "outputs": [
        {
          "output_type": "execute_result",
          "data": {
            "text/plain": [
              "[[1051, 370, 8318, 464, 3922, 9433, 8228, 7304, 9074, 1169],\n",
              " [2530, 2879, 7849, 9171, 3092, 8282, 874],\n",
              " [8352, 3632, 4363, 5236],\n",
              " [6175, 3592, 4505, 3752, 1767, 812],\n",
              " [2497, 3092, 5935, 9435, 8501, 8681, 3092, 9380, 1685, 5880],\n",
              " [2682,\n",
              "  6931,\n",
              "  6558,\n",
              "  1613,\n",
              "  2381,\n",
              "  8967,\n",
              "  1988,\n",
              "  195,\n",
              "  5343,\n",
              "  987,\n",
              "  7649,\n",
              "  7025,\n",
              "  4546,\n",
              "  7677,\n",
              "  874],\n",
              " [7284, 74, 7202, 7502, 2255, 3904, 7663, 5999, 7313, 4044, 7639],\n",
              " [4748, 482, 6563, 7773, 8270, 6332, 8967, 1009, 7313, 4044, 7639],\n",
              " [1812, 6691, 1257, 2510, 9393, 1787, 6979, 2608, 8967, 1548],\n",
              " [7023, 8641, 4654, 4933, 1542, 5664, 9976, 9545],\n",
              " [5064, 7712, 771, 1888, 2689, 9558, 9120, 5577, 1418, 1084, 4588],\n",
              " [3752, 4338, 3922, 1787, 8967, 8270],\n",
              " [9893, 9427, 1767, 5075, 693, 4593, 2264, 6360, 7263],\n",
              " [8315, 2338, 6122, 599, 294, 3035, 5019, 7313, 4044, 7639],\n",
              " [6422, 3690, 7614, 7411, 6810, 7313, 4044, 7639],\n",
              " [2367, 3470, 3624, 8590, 1442, 9394, 7916, 4279, 950, 1654],\n",
              " [7901, 3380, 2879],\n",
              " [2388, 485, 8461, 1966, 8967, 4174, 9894, 874],\n",
              " [8870, 799, 7849, 5303, 3938, 4743, 6136, 5441, 8681],\n",
              " [6749, 5542, 8967, 9903, 9968, 874],\n",
              " [3189, 9146, 4123, 6218, 1707, 6136, 1106, 1489, 3990, 7313, 4044, 7639],\n",
              " [9696, 7963, 3852, 7859, 7539, 9543, 1454],\n",
              " [4546, 1559, 9208, 7281, 1357, 9364, 6000, 5929, 139, 4045, 3880, 874],\n",
              " [6179, 2879, 1118, 9249, 920, 1026, 4473, 2615],\n",
              " [1423, 9185, 4406, 1426, 5059, 423, 5303, 6302, 3809, 7313, 4044, 7639],\n",
              " [2879, 7849, 8592, 381, 7313, 4044, 7639],\n",
              " [2388, 485, 8461, 5779, 500, 7312, 1426, 874],\n",
              " [2243, 5462, 6697, 6452, 3322, 7313, 4044, 7639],\n",
              " [8491, 2096, 7700, 3003, 5531, 6153, 8922, 6236, 3761, 7313, 4044, 7639],\n",
              " [6277, 3390, 424, 5929, 7477, 4878, 4231, 2582, 9337, 7313, 4044, 7639],\n",
              " [8270, 3921, 7539, 553, 1867, 2938, 7313, 4044, 7639],\n",
              " [2835, 1120, 6600, 3855, 7583],\n",
              " [1545, 2662, 3135, 3943],\n",
              " [2335, 541, 8765, 7340, 3710, 4660, 6362, 874],\n",
              " [6825, 3227, 6825, 1437, 1807, 6722, 7313, 4044, 7639],\n",
              " [9831, 7818, 7756, 9526, 1254, 4158, 2689, 874],\n",
              " [403, 891, 6614, 4901],\n",
              " [2189, 1529, 1287, 4910, 3583, 398, 7313, 4044, 7639],\n",
              " [8252, 5333, 3530, 7095, 1812, 3097, 2592, 1637, 874],\n",
              " [6583, 3062, 8839, 1658, 9296, 408, 4406, 7313, 4044, 7639],\n",
              " [126, 7276, 2633, 6505, 6037, 7416, 3437, 9936, 7677],\n",
              " [9615, 3, 9258, 7499, 1249, 7313, 7670, 7313, 4044, 7639],\n",
              " [9243, 1357, 2564, 2362, 6427, 6576, 7389, 449, 7265, 5843, 7591, 874],\n",
              " [6757, 5641, 3083],\n",
              " [5979, 807, 2967, 6891, 4201, 5299, 2602, 1537, 9370, 874],\n",
              " [8967, 3943, 6757, 904, 8861, 9931],\n",
              " [8686, 16, 9984, 8374, 7377, 8437, 2930, 4197, 4925, 3444, 7677],\n",
              " [2996, 4981, 1559, 5784, 3050],\n",
              " [1966, 8967, 7202, 3943, 5916, 7977, 3752, 4174, 1988],\n",
              " [350, 4652, 9430, 5173, 9746, 7313, 4044, 7639]]"
            ]
          },
          "metadata": {
            "tags": []
          },
          "execution_count": 125
        }
      ]
    },
    {
      "cell_type": "code",
      "metadata": {
        "id": "T5hX67FL96Gv"
      },
      "source": [
        "#Padd the one_hot vectors to have common dimension\n",
        "indexes_padded = pad_sequences(indexes, maxlen = sent_len, padding = 'pre')"
      ],
      "execution_count": 126,
      "outputs": []
    },
    {
      "cell_type": "code",
      "metadata": {
        "id": "EoQ4lBBlBwAt",
        "outputId": "ea58e14e-d749-43bd-c48b-c616ec452ae5",
        "colab": {
          "base_uri": "https://localhost:8080/"
        }
      },
      "source": [
        "indexes_padded[0:20]"
      ],
      "execution_count": 127,
      "outputs": [
        {
          "output_type": "execute_result",
          "data": {
            "text/plain": [
              "array([[   0,    0,    0,    0,    0,    0,    0,    0,    0,    0, 1051,\n",
              "         370, 8318,  464, 3922, 9433, 8228, 7304, 9074, 1169],\n",
              "       [   0,    0,    0,    0,    0,    0,    0,    0,    0,    0,    0,\n",
              "           0,    0, 2530, 2879, 7849, 9171, 3092, 8282,  874],\n",
              "       [   0,    0,    0,    0,    0,    0,    0,    0,    0,    0,    0,\n",
              "           0,    0,    0,    0,    0, 8352, 3632, 4363, 5236],\n",
              "       [   0,    0,    0,    0,    0,    0,    0,    0,    0,    0,    0,\n",
              "           0,    0,    0, 6175, 3592, 4505, 3752, 1767,  812],\n",
              "       [   0,    0,    0,    0,    0,    0,    0,    0,    0,    0, 2497,\n",
              "        3092, 5935, 9435, 8501, 8681, 3092, 9380, 1685, 5880],\n",
              "       [   0,    0,    0,    0,    0, 2682, 6931, 6558, 1613, 2381, 8967,\n",
              "        1988,  195, 5343,  987, 7649, 7025, 4546, 7677,  874],\n",
              "       [   0,    0,    0,    0,    0,    0,    0,    0,    0, 7284,   74,\n",
              "        7202, 7502, 2255, 3904, 7663, 5999, 7313, 4044, 7639],\n",
              "       [   0,    0,    0,    0,    0,    0,    0,    0,    0, 4748,  482,\n",
              "        6563, 7773, 8270, 6332, 8967, 1009, 7313, 4044, 7639],\n",
              "       [   0,    0,    0,    0,    0,    0,    0,    0,    0,    0, 1812,\n",
              "        6691, 1257, 2510, 9393, 1787, 6979, 2608, 8967, 1548],\n",
              "       [   0,    0,    0,    0,    0,    0,    0,    0,    0,    0,    0,\n",
              "           0, 7023, 8641, 4654, 4933, 1542, 5664, 9976, 9545],\n",
              "       [   0,    0,    0,    0,    0,    0,    0,    0,    0, 5064, 7712,\n",
              "         771, 1888, 2689, 9558, 9120, 5577, 1418, 1084, 4588],\n",
              "       [   0,    0,    0,    0,    0,    0,    0,    0,    0,    0,    0,\n",
              "           0,    0,    0, 3752, 4338, 3922, 1787, 8967, 8270],\n",
              "       [   0,    0,    0,    0,    0,    0,    0,    0,    0,    0,    0,\n",
              "        9893, 9427, 1767, 5075,  693, 4593, 2264, 6360, 7263],\n",
              "       [   0,    0,    0,    0,    0,    0,    0,    0,    0,    0, 8315,\n",
              "        2338, 6122,  599,  294, 3035, 5019, 7313, 4044, 7639],\n",
              "       [   0,    0,    0,    0,    0,    0,    0,    0,    0,    0,    0,\n",
              "           0, 6422, 3690, 7614, 7411, 6810, 7313, 4044, 7639],\n",
              "       [   0,    0,    0,    0,    0,    0,    0,    0,    0,    0, 2367,\n",
              "        3470, 3624, 8590, 1442, 9394, 7916, 4279,  950, 1654],\n",
              "       [   0,    0,    0,    0,    0,    0,    0,    0,    0,    0,    0,\n",
              "           0,    0,    0,    0,    0,    0, 7901, 3380, 2879],\n",
              "       [   0,    0,    0,    0,    0,    0,    0,    0,    0,    0,    0,\n",
              "           0, 2388,  485, 8461, 1966, 8967, 4174, 9894,  874],\n",
              "       [   0,    0,    0,    0,    0,    0,    0,    0,    0,    0,    0,\n",
              "        8870,  799, 7849, 5303, 3938, 4743, 6136, 5441, 8681],\n",
              "       [   0,    0,    0,    0,    0,    0,    0,    0,    0,    0,    0,\n",
              "           0,    0,    0, 6749, 5542, 8967, 9903, 9968,  874]],\n",
              "      dtype=int32)"
            ]
          },
          "metadata": {
            "tags": []
          },
          "execution_count": 127
        }
      ]
    },
    {
      "cell_type": "code",
      "metadata": {
        "id": "fWwno5hVBzQ3",
        "outputId": "c8398c0e-9de5-4397-c641-e2b37af20800",
        "colab": {
          "base_uri": "https://localhost:8080/"
        }
      },
      "source": [
        "#Build RNN with words Embedding\n",
        "features = 50\n",
        "model1 = Sequential()\n",
        "model1.add(Embedding(input_dim= size_voc, output_dim = features, input_length= sent_len))\n",
        "model1.add(LSTM(units = 256, kernel_initializer = 'random_normal',dropout = 0.2, recurrent_dropout=0.2,\n",
        "                return_sequences = True))\n",
        "model1.add(BatchNormalization())\n",
        "model1.add(Dropout(0.25))\n",
        "model1.add(LSTM(128, kernel_initializer = 'random_normal', dropout = 0.1, recurrent_dropout=0.20,\n",
        "                return_sequences = True))\n",
        "model1.add(Dropout(0.2))\n",
        "model1.add(Dense(1, activation = 'sigmoid'))\n",
        "model1.compile(loss = 'binary_crossentropy', metrics = ['accuracy'], optimizer = 'Adam')\n",
        "model1.summary()"
      ],
      "execution_count": 128,
      "outputs": [
        {
          "output_type": "stream",
          "text": [
            "WARNING:tensorflow:Layer lstm_12 will not use cuDNN kernel since it doesn't meet the cuDNN kernel criteria. It will use generic GPU kernel as fallback when running on GPU\n",
            "WARNING:tensorflow:Layer lstm_13 will not use cuDNN kernel since it doesn't meet the cuDNN kernel criteria. It will use generic GPU kernel as fallback when running on GPU\n",
            "Model: \"sequential_7\"\n",
            "_________________________________________________________________\n",
            "Layer (type)                 Output Shape              Param #   \n",
            "=================================================================\n",
            "embedding_7 (Embedding)      (None, 20, 50)            500000    \n",
            "_________________________________________________________________\n",
            "lstm_12 (LSTM)               (None, 20, 256)           314368    \n",
            "_________________________________________________________________\n",
            "batch_normalization_7 (Batch (None, 20, 256)           1024      \n",
            "_________________________________________________________________\n",
            "dropout_7 (Dropout)          (None, 20, 256)           0         \n",
            "_________________________________________________________________\n",
            "lstm_13 (LSTM)               (None, 20, 128)           197120    \n",
            "_________________________________________________________________\n",
            "dropout_8 (Dropout)          (None, 20, 128)           0         \n",
            "_________________________________________________________________\n",
            "dense_5 (Dense)              (None, 20, 1)             129       \n",
            "=================================================================\n",
            "Total params: 1,012,641\n",
            "Trainable params: 1,012,129\n",
            "Non-trainable params: 512\n",
            "_________________________________________________________________\n"
          ],
          "name": "stdout"
        }
      ]
    },
    {
      "cell_type": "code",
      "metadata": {
        "id": "he783wR0FZrN",
        "outputId": "0cc1ebc8-fad5-4dd1-dcff-2be3aeba0ea3",
        "colab": {
          "base_uri": "https://localhost:8080/"
        }
      },
      "source": [
        "#Building BRNN with word Embedding\n",
        "model2 = Sequential()\n",
        "model2.add(Embedding(input_dim = size_voc, output_dim = features, input_length=sent_len))\n",
        "model2.add(Bidirectional(LSTM(units = 256, dropout= 0.2, recurrent_dropout=0.2,return_sequences=True)))\n",
        "model2.add(BatchNormalization())\n",
        "model2.add(Dropout(0.2))\n",
        "model2.add(LSTM(128))\n",
        "model2.add(Dense(1, activation= 'sigmoid'))\n",
        "model2.compile(loss = 'binary_crossentropy', metrics = ['accuracy'], optimizer = 'Adam')\n",
        "model2.summary()"
      ],
      "execution_count": 129,
      "outputs": [
        {
          "output_type": "stream",
          "text": [
            "WARNING:tensorflow:Layer lstm_14 will not use cuDNN kernel since it doesn't meet the cuDNN kernel criteria. It will use generic GPU kernel as fallback when running on GPU\n",
            "WARNING:tensorflow:Layer lstm_14 will not use cuDNN kernel since it doesn't meet the cuDNN kernel criteria. It will use generic GPU kernel as fallback when running on GPU\n",
            "WARNING:tensorflow:Layer lstm_14 will not use cuDNN kernel since it doesn't meet the cuDNN kernel criteria. It will use generic GPU kernel as fallback when running on GPU\n",
            "Model: \"sequential_8\"\n",
            "_________________________________________________________________\n",
            "Layer (type)                 Output Shape              Param #   \n",
            "=================================================================\n",
            "embedding_8 (Embedding)      (None, 20, 50)            500000    \n",
            "_________________________________________________________________\n",
            "bidirectional_5 (Bidirection (None, 20, 512)           628736    \n",
            "_________________________________________________________________\n",
            "batch_normalization_8 (Batch (None, 20, 512)           2048      \n",
            "_________________________________________________________________\n",
            "dropout_9 (Dropout)          (None, 20, 512)           0         \n",
            "_________________________________________________________________\n",
            "lstm_15 (LSTM)               (None, 128)               328192    \n",
            "_________________________________________________________________\n",
            "dense_6 (Dense)              (None, 1)                 129       \n",
            "=================================================================\n",
            "Total params: 1,459,105\n",
            "Trainable params: 1,458,081\n",
            "Non-trainable params: 1,024\n",
            "_________________________________________________________________\n"
          ],
          "name": "stdout"
        }
      ]
    },
    {
      "cell_type": "code",
      "metadata": {
        "id": "568gT03yNYXK"
      },
      "source": [
        "x = np.array(indexes_padded)\n",
        "y = np.array(label)"
      ],
      "execution_count": 130,
      "outputs": []
    },
    {
      "cell_type": "code",
      "metadata": {
        "id": "88-PAfi0RX_I"
      },
      "source": [
        "x_train, x_test,y_train, y_test = train_test_split(x, y, test_size = 0.2, random_state = 123)"
      ],
      "execution_count": 132,
      "outputs": []
    },
    {
      "cell_type": "code",
      "metadata": {
        "id": "CFmYvnCvR1Yq"
      },
      "source": [
        "info = EarlyStopping(monitor = 'val_loss', patience = 20, restore_best_weights=True, verbose=1,min_delta=1e-3,\n",
        "                     mode = 'auto')"
      ],
      "execution_count": 133,
      "outputs": []
    },
    {
      "cell_type": "code",
      "metadata": {
        "id": "2A-3muqlSLJ-",
        "outputId": "09fc0dd2-8f3b-45d2-f36d-9d9980006b0c",
        "colab": {
          "base_uri": "https://localhost:8080/"
        }
      },
      "source": [
        "model1.fit(x_train, y_train, validation_data=(x_test, y_test), \n",
        "           batch_size= 64,epochs = 1000, callbacks = [info], verbose= 2)\n",
        "model2.fit(x_train, y_train, validation_data=(x_test, y_test), \n",
        "           verbose= 2, epochs = 1000, batch_size= 64, callbacks = [info])\n"
      ],
      "execution_count": 135,
      "outputs": [
        {
          "output_type": "stream",
          "text": [
            "Epoch 1/1000\n",
            "229/229 - 40s - loss: 0.5876 - accuracy: 0.6545 - val_loss: 0.6593 - val_accuracy: 0.5766\n",
            "Epoch 2/1000\n",
            "229/229 - 40s - loss: 0.5302 - accuracy: 0.6926 - val_loss: 0.5915 - val_accuracy: 0.6567\n",
            "Epoch 3/1000\n",
            "229/229 - 42s - loss: 0.5032 - accuracy: 0.7075 - val_loss: 0.5939 - val_accuracy: 0.6647\n",
            "Epoch 4/1000\n",
            "229/229 - 40s - loss: 0.4848 - accuracy: 0.7153 - val_loss: 0.6183 - val_accuracy: 0.6284\n",
            "Epoch 5/1000\n",
            "229/229 - 39s - loss: 0.4730 - accuracy: 0.7212 - val_loss: 0.6214 - val_accuracy: 0.6717\n",
            "Epoch 6/1000\n",
            "229/229 - 39s - loss: 0.4624 - accuracy: 0.7263 - val_loss: 0.6457 - val_accuracy: 0.6639\n",
            "Epoch 7/1000\n",
            "229/229 - 40s - loss: 0.4527 - accuracy: 0.7297 - val_loss: 0.6505 - val_accuracy: 0.6697\n",
            "Epoch 8/1000\n",
            "229/229 - 40s - loss: 0.4456 - accuracy: 0.7335 - val_loss: 0.7086 - val_accuracy: 0.6539\n",
            "Epoch 9/1000\n",
            "229/229 - 40s - loss: 0.4416 - accuracy: 0.7354 - val_loss: 0.7143 - val_accuracy: 0.6645\n",
            "Epoch 10/1000\n",
            "229/229 - 39s - loss: 0.4381 - accuracy: 0.7370 - val_loss: 0.6353 - val_accuracy: 0.6682\n",
            "Epoch 11/1000\n",
            "229/229 - 38s - loss: 0.4339 - accuracy: 0.7385 - val_loss: 0.6807 - val_accuracy: 0.6637\n",
            "Epoch 12/1000\n",
            "229/229 - 37s - loss: 0.4317 - accuracy: 0.7390 - val_loss: 0.7551 - val_accuracy: 0.6577\n",
            "Epoch 13/1000\n",
            "229/229 - 37s - loss: 0.4279 - accuracy: 0.7419 - val_loss: 0.7625 - val_accuracy: 0.6376\n",
            "Epoch 14/1000\n",
            "229/229 - 36s - loss: 0.4273 - accuracy: 0.7421 - val_loss: 0.7262 - val_accuracy: 0.6678\n",
            "Epoch 15/1000\n",
            "229/229 - 35s - loss: 0.4242 - accuracy: 0.7429 - val_loss: 0.8580 - val_accuracy: 0.6493\n",
            "Epoch 16/1000\n",
            "229/229 - 35s - loss: 0.4234 - accuracy: 0.7437 - val_loss: 0.7665 - val_accuracy: 0.6693\n",
            "Epoch 17/1000\n",
            "229/229 - 35s - loss: 0.4208 - accuracy: 0.7451 - val_loss: 0.8533 - val_accuracy: 0.6645\n",
            "Epoch 18/1000\n",
            "229/229 - 34s - loss: 0.4221 - accuracy: 0.7446 - val_loss: 0.7815 - val_accuracy: 0.6665\n",
            "Epoch 19/1000\n",
            "229/229 - 35s - loss: 0.4209 - accuracy: 0.7444 - val_loss: 0.8237 - val_accuracy: 0.6682\n",
            "Epoch 20/1000\n",
            "229/229 - 35s - loss: 0.4174 - accuracy: 0.7465 - val_loss: 0.8660 - val_accuracy: 0.6667\n",
            "Epoch 21/1000\n",
            "229/229 - 35s - loss: 0.4153 - accuracy: 0.7472 - val_loss: 0.8362 - val_accuracy: 0.6662\n",
            "Epoch 22/1000\n",
            "Restoring model weights from the end of the best epoch.\n",
            "229/229 - 35s - loss: 0.4161 - accuracy: 0.7471 - val_loss: 0.8583 - val_accuracy: 0.6630\n",
            "Epoch 00022: early stopping\n",
            "Epoch 1/1000\n",
            "229/229 - 36s - loss: 0.2192 - accuracy: 0.9059 - val_loss: 0.4215 - val_accuracy: 0.9284\n",
            "Epoch 2/1000\n",
            "229/229 - 35s - loss: 0.1111 - accuracy: 0.9579 - val_loss: 0.4929 - val_accuracy: 0.7755\n",
            "Epoch 3/1000\n",
            "229/229 - 36s - loss: 0.0642 - accuracy: 0.9766 - val_loss: 0.2794 - val_accuracy: 0.9270\n",
            "Epoch 4/1000\n",
            "229/229 - 36s - loss: 0.0411 - accuracy: 0.9850 - val_loss: 0.3493 - val_accuracy: 0.9163\n",
            "Epoch 5/1000\n",
            "229/229 - 36s - loss: 0.0271 - accuracy: 0.9893 - val_loss: 0.3012 - val_accuracy: 0.9349\n",
            "Epoch 6/1000\n",
            "229/229 - 37s - loss: 0.0190 - accuracy: 0.9930 - val_loss: 0.3206 - val_accuracy: 0.9243\n",
            "Epoch 7/1000\n",
            "229/229 - 38s - loss: 0.0137 - accuracy: 0.9950 - val_loss: 0.3625 - val_accuracy: 0.9253\n",
            "Epoch 8/1000\n",
            "229/229 - 38s - loss: 0.0154 - accuracy: 0.9947 - val_loss: 0.3692 - val_accuracy: 0.9185\n",
            "Epoch 9/1000\n",
            "229/229 - 38s - loss: 0.0092 - accuracy: 0.9973 - val_loss: 0.3945 - val_accuracy: 0.9267\n",
            "Epoch 10/1000\n",
            "229/229 - 39s - loss: 0.0063 - accuracy: 0.9979 - val_loss: 0.4735 - val_accuracy: 0.9051\n",
            "Epoch 11/1000\n",
            "229/229 - 39s - loss: 0.0074 - accuracy: 0.9973 - val_loss: 0.3959 - val_accuracy: 0.9278\n",
            "Epoch 12/1000\n",
            "229/229 - 38s - loss: 0.0077 - accuracy: 0.9971 - val_loss: 0.4032 - val_accuracy: 0.9218\n",
            "Epoch 13/1000\n",
            "229/229 - 37s - loss: 0.0104 - accuracy: 0.9965 - val_loss: 0.4102 - val_accuracy: 0.9171\n",
            "Epoch 14/1000\n",
            "229/229 - 37s - loss: 0.0047 - accuracy: 0.9984 - val_loss: 0.4425 - val_accuracy: 0.9264\n",
            "Epoch 15/1000\n",
            "229/229 - 35s - loss: 0.0039 - accuracy: 0.9984 - val_loss: 0.4773 - val_accuracy: 0.9210\n",
            "Epoch 16/1000\n",
            "229/229 - 37s - loss: 0.0047 - accuracy: 0.9988 - val_loss: 0.4384 - val_accuracy: 0.9303\n",
            "Epoch 17/1000\n",
            "229/229 - 36s - loss: 0.0016 - accuracy: 0.9994 - val_loss: 0.4906 - val_accuracy: 0.9292\n",
            "Epoch 18/1000\n",
            "229/229 - 36s - loss: 0.0021 - accuracy: 0.9992 - val_loss: 0.5067 - val_accuracy: 0.9152\n",
            "Epoch 19/1000\n",
            "229/229 - 36s - loss: 0.0036 - accuracy: 0.9986 - val_loss: 0.4836 - val_accuracy: 0.9297\n",
            "Epoch 20/1000\n",
            "229/229 - 36s - loss: 0.0048 - accuracy: 0.9985 - val_loss: 0.4723 - val_accuracy: 0.9256\n",
            "Epoch 21/1000\n",
            "229/229 - 37s - loss: 0.0020 - accuracy: 0.9992 - val_loss: 0.4852 - val_accuracy: 0.9251\n",
            "Epoch 22/1000\n",
            "229/229 - 37s - loss: 0.0025 - accuracy: 0.9993 - val_loss: 0.5277 - val_accuracy: 0.9232\n",
            "Epoch 23/1000\n",
            "Restoring model weights from the end of the best epoch.\n",
            "229/229 - 36s - loss: 0.0058 - accuracy: 0.9983 - val_loss: 0.4485 - val_accuracy: 0.9185\n",
            "Epoch 00023: early stopping\n"
          ],
          "name": "stdout"
        },
        {
          "output_type": "execute_result",
          "data": {
            "text/plain": [
              "<tensorflow.python.keras.callbacks.History at 0x7fa0a9fdb6d8>"
            ]
          },
          "metadata": {
            "tags": []
          },
          "execution_count": 135
        }
      ]
    },
    {
      "cell_type": "code",
      "metadata": {
        "id": "Mu0n5mznTdzn"
      },
      "source": [
        ""
      ],
      "execution_count": null,
      "outputs": []
    }
  ]
}