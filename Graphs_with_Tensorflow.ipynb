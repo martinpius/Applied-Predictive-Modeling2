{
  "nbformat": 4,
  "nbformat_minor": 0,
  "metadata": {
    "colab": {
      "name": "Graphs with Tensorflow.ipynb",
      "provenance": [],
      "authorship_tag": "ABX9TyOZUWTKav945CmWC36/yeUs",
      "include_colab_link": true
    },
    "kernelspec": {
      "name": "python3",
      "display_name": "Python 3"
    },
    "accelerator": "GPU"
  },
  "cells": [
    {
      "cell_type": "markdown",
      "metadata": {
        "id": "view-in-github",
        "colab_type": "text"
      },
      "source": [
        "<a href=\"https://colab.research.google.com/github/martinpius/Applied-Predictive-Modeling2/blob/master/Graphs_with_Tensorflow.ipynb\" target=\"_parent\"><img src=\"https://colab.research.google.com/assets/colab-badge.svg\" alt=\"Open In Colab\"/></a>"
      ]
    },
    {
      "cell_type": "code",
      "metadata": {
        "id": "PVo1yqHPm_te"
      },
      "source": [
        "#Go inside tensorflow and keras functionality to understand how things fits together throgh graphics computing"
      ],
      "execution_count": 2,
      "outputs": []
    },
    {
      "cell_type": "code",
      "metadata": {
        "colab": {
          "base_uri": "https://localhost:8080/"
        },
        "id": "bzV0DDJNoZVg",
        "outputId": "14d756a6-e052-4df7-8757-a17d199e8fc6"
      },
      "source": [
        "from google.colab import drive\n",
        "try: \n",
        "  drive.mount(\"/content/drive/\", force_remount = True)\n",
        "  COLAB = True\n",
        "  import tensorflow as tf\n",
        "  print(f\"You are using Colab with tensorflow version-->{tf.__version__}\")\n",
        "except:\n",
        "  pass\n",
        "\n",
        "def timeseteup(x):\n",
        "  hours = int(x/60*60)\n",
        "  minutes = int(x % (60 * 60)/60)\n",
        "  seconds = int(x % 60)\n",
        "  return f\"{hours}:{minutes:>03}: {seconds:>05.2f}\""
      ],
      "execution_count": 3,
      "outputs": [
        {
          "output_type": "stream",
          "text": [
            "Mounted at /content/drive/\n",
            "You are using Colab with tensorflow version-->2.3.0\n"
          ],
          "name": "stdout"
        }
      ]
    },
    {
      "cell_type": "code",
      "metadata": {
        "id": "E6m5ckdtpfY5"
      },
      "source": [
        "import timeit\n",
        "from datetime import datetime\n",
        "import numpy as np\n",
        "import matplotlib.pyplot as plt\n",
        "import tensorflow as tf\n",
        "plt.style.use(\"fivethirtyeight\")"
      ],
      "execution_count": 4,
      "outputs": []
    },
    {
      "cell_type": "code",
      "metadata": {
        "id": "1_OntJiDp4Z2"
      },
      "source": [
        "#Graphs are very useful because they allows tensorflow to run fast and in parallel on multiple devices independently \n",
        "#of python interpreter.\n"
      ],
      "execution_count": 5,
      "outputs": []
    },
    {
      "cell_type": "code",
      "metadata": {
        "id": "hCzwxkL3tEx9"
      },
      "source": [
        "#To create graph, we can apply tf.function() either as decorator or directly.\n",
        "def fn_take_tensors(x,y,k): #Define any function which manipulate tensors\n",
        "  x = tf.matmul(x,y)\n",
        "  x = x + k\n",
        "  return x\n",
        "myfn = tf.function(fn_take_tensors) #Instatiate the graph \n",
        "a = tf.Variable(tf.constant([[2,1],[4,2]], dtype = tf.float32))\n",
        "b = tf.Variable(tf.constant([[1,2],[3,1]], dtype = tf.float32))\n",
        "c = tf.Variable(3.)\n",
        "graph1 = myfn(a, b, c).numpy()#carries out computation\n"
      ],
      "execution_count": 6,
      "outputs": []
    },
    {
      "cell_type": "code",
      "metadata": {
        "colab": {
          "base_uri": "https://localhost:8080/"
        },
        "id": "soefDkK0vuQI",
        "outputId": "625b4754-8776-41f0-aee4-5ce8064ee9dc"
      },
      "source": [
        "graph1"
      ],
      "execution_count": 7,
      "outputs": [
        {
          "output_type": "execute_result",
          "data": {
            "text/plain": [
              "array([[ 8.,  8.],\n",
              "       [13., 13.]], dtype=float32)"
            ]
          },
          "metadata": {
            "tags": []
          },
          "execution_count": 7
        }
      ]
    },
    {
      "cell_type": "code",
      "metadata": {
        "id": "ywyqXZ5-wP-W"
      },
      "source": [
        "#tf.function as  decorator\n",
        "def inner_fn(x, y, b):\n",
        "  x = tf.matmul(x, y)\n",
        "  x = x + b\n",
        "  return x\n",
        "@tf.function()\n",
        "def outer_fn(x):\n",
        "  y = tf.constant([[2,1],[3,5]], dtype=tf.float32)\n",
        "  b = tf.constant(4, dtype = tf.float32)\n",
        "  return inner_fn(x, y, b)\n",
        "\n",
        "myfn = outer_fn(tf.constant([[2,2],[1,3]], dtype = tf.float32))"
      ],
      "execution_count": 8,
      "outputs": []
    },
    {
      "cell_type": "code",
      "metadata": {
        "colab": {
          "base_uri": "https://localhost:8080/"
        },
        "id": "GbcNrsn28fal",
        "outputId": "9d9626a3-51a2-434f-e1e5-fa43454ae6af"
      },
      "source": [
        "myfn"
      ],
      "execution_count": 9,
      "outputs": [
        {
          "output_type": "execute_result",
          "data": {
            "text/plain": [
              "<tf.Tensor: shape=(2, 2), dtype=float32, numpy=\n",
              "array([[14., 16.],\n",
              "       [15., 20.]], dtype=float32)>"
            ]
          },
          "metadata": {
            "tags": []
          },
          "execution_count": 9
        }
      ]
    },
    {
      "cell_type": "code",
      "metadata": {
        "colab": {
          "base_uri": "https://localhost:8080/"
        },
        "id": "E6cfrlim8oJZ",
        "outputId": "f750c548-a253-4bd9-c2cd-99270dddf366"
      },
      "source": [
        "#Flow charts using loops and conditions\n",
        "def flowchart(x):\n",
        "  if tf.reduce_sum(x) <=1:\n",
        "    return x*x\n",
        "  else:\n",
        "    return x - 1\n",
        "\n",
        "myflow = tf.function(flowchart)\n",
        "print(f\"out: {myflow(tf.constant([[0.003,0.002],[-9,0.1]], dtype = tf.float32))}\")"
      ],
      "execution_count": 10,
      "outputs": [
        {
          "output_type": "stream",
          "text": [
            "out: [[9.0000003e-06 4.0000004e-06]\n",
            " [8.1000000e+01 1.0000001e-02]]\n"
          ],
          "name": "stdout"
        }
      ]
    },
    {
      "cell_type": "code",
      "metadata": {
        "colab": {
          "base_uri": "https://localhost:8080/"
        },
        "id": "ARgERdFYBMx6",
        "outputId": "cfa539ad-09d3-484f-9a1a-e14c76445ca4"
      },
      "source": [
        "print(tf.autograph.to_code(flowchart)) #Check out how the flowchart  function (Python) is converted into Tensorflow ops"
      ],
      "execution_count": 11,
      "outputs": [
        {
          "output_type": "stream",
          "text": [
            "def tf__flowchart(x):\n",
            "    with ag__.FunctionScope('flowchart', 'fscope', ag__.ConversionOptions(recursive=True, user_requested=True, optional_features=(), internal_convert_user_code=True)) as fscope:\n",
            "        do_return = False\n",
            "        retval_ = ag__.UndefinedReturnValue()\n",
            "\n",
            "        def get_state():\n",
            "            return (do_return, retval_)\n",
            "\n",
            "        def set_state(vars_):\n",
            "            nonlocal do_return, retval_\n",
            "            (do_return, retval_) = vars_\n",
            "\n",
            "        def if_body():\n",
            "            nonlocal do_return, retval_\n",
            "            try:\n",
            "                do_return = True\n",
            "                retval_ = (ag__.ld(x) * ag__.ld(x))\n",
            "            except:\n",
            "                do_return = False\n",
            "                raise\n",
            "\n",
            "        def else_body():\n",
            "            nonlocal do_return, retval_\n",
            "            try:\n",
            "                do_return = True\n",
            "                retval_ = (ag__.ld(x) - 1)\n",
            "            except:\n",
            "                do_return = False\n",
            "                raise\n",
            "        ag__.if_stmt((ag__.converted_call(ag__.ld(tf).reduce_sum, (ag__.ld(x),), None, fscope) <= 1), if_body, else_body, get_state, set_state, ('do_return', 'retval_'), 2)\n",
            "        return fscope.ret(retval_, do_return)\n",
            "\n"
          ],
          "name": "stdout"
        }
      ]
    },
    {
      "cell_type": "code",
      "metadata": {
        "colab": {
          "base_uri": "https://localhost:8080/"
        },
        "id": "76XwAPplCjG6",
        "outputId": "f9f3de50-5a6f-4166-a0df-86f7fcd0fd82"
      },
      "source": [
        "#Observe how the graph speedup excecution time for complicated computations\n",
        "class MySpeed(tf.keras.Model):\n",
        "  def __init__(self, **kwargs):\n",
        "    super(MySpeed, self).__init__(**kwargs)\n",
        "    self.flatten = tf.keras.layers.Flatten(input_shape = (128,128))\n",
        "    self.dense_1 = tf.keras.layers.Dense(units = 128, activation = 'relu')\n",
        "    self.dense_2 = tf.keras.layers.Dense(units = 64, activation = 'relu')\n",
        "    self.dropout = tf.keras.layers.Dropout(rate = 0.2)\n",
        "    self.out = tf.keras.layers.Dense(units = 10, activation = 'softmax')\n",
        "  \n",
        "  def call(self, inputs):\n",
        "    inputs = self.flatten(inputs)\n",
        "    inputs = self.dense_1(inputs)\n",
        "    inputs = self.dense_2(inputs)\n",
        "    return self.out(inputs)\n",
        "\n",
        "myinput = tf.random.uniform([256,128,128])\n",
        "fn1 = MySpeed()#Normal\n",
        "graph2 = tf.function(fn1)#graph\n",
        "\n",
        "print('time1', timeseteup(timeit.timeit(lambda: fn1(myinput), number = 10000)))\n",
        "print('time2',timeseteup(timeit.timeit(lambda: graph2(myinput), number = 10000)))"
      ],
      "execution_count": 12,
      "outputs": [
        {
          "output_type": "stream",
          "text": [
            "time1 237:003: 57.00\n",
            "time2 233:003: 53.00\n"
          ],
          "name": "stdout"
        }
      ]
    },
    {
      "cell_type": "code",
      "metadata": {
        "id": "WLt1UqkhJbeZ"
      },
      "source": [
        ""
      ],
      "execution_count": 12,
      "outputs": []
    }
  ]
}