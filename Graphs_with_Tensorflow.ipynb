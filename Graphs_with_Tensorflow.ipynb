{
  "nbformat": 4,
  "nbformat_minor": 0,
  "metadata": {
    "colab": {
      "name": "Graphs with Tensorflow.ipynb",
      "provenance": [],
      "authorship_tag": "ABX9TyNGbs1SnJCv8IffM7QYJs9W",
      "include_colab_link": true
    },
    "kernelspec": {
      "name": "python3",
      "display_name": "Python 3"
    },
    "accelerator": "GPU"
  },
  "cells": [
    {
      "cell_type": "markdown",
      "metadata": {
        "id": "view-in-github",
        "colab_type": "text"
      },
      "source": [
        "<a href=\"https://colab.research.google.com/github/martinpius/Applied-Predictive-Modeling2/blob/master/Graphs_with_Tensorflow.ipynb\" target=\"_parent\"><img src=\"https://colab.research.google.com/assets/colab-badge.svg\" alt=\"Open In Colab\"/></a>"
      ]
    },
    {
      "cell_type": "code",
      "metadata": {
        "id": "PVo1yqHPm_te"
      },
      "source": [
        "#Go inside tensorflow and keras functionality to understand how things fits together throgh graphics computing"
      ],
      "execution_count": 5,
      "outputs": []
    },
    {
      "cell_type": "code",
      "metadata": {
        "colab": {
          "base_uri": "https://localhost:8080/"
        },
        "id": "bzV0DDJNoZVg",
        "outputId": "19425e6a-f299-48c3-eef3-e20235d78e2d"
      },
      "source": [
        "from google.colab import drive\n",
        "try: \n",
        "  drive.mount(\"/content/drive/\", force_remount = True)\n",
        "  COLAB = True\n",
        "  import tensorflow as tf\n",
        "  print(f\"You are using Colab with tensorflow version-->{tf.__version__}\")\n",
        "except:\n",
        "  pass\n",
        "\n",
        "def timeseteup(x):\n",
        "  hours = int(x/60*60)\n",
        "  minutes = int(x % (60 * 60)/60)\n",
        "  seconds = int(x % 60)\n",
        "  return f\"{hours}:{minutes:>03}: {seconds:>05.2f}\""
      ],
      "execution_count": 6,
      "outputs": [
        {
          "output_type": "stream",
          "text": [
            "Mounted at /content/drive/\n",
            "You are using Colab with tensorflow version-->2.3.0\n"
          ],
          "name": "stdout"
        }
      ]
    },
    {
      "cell_type": "code",
      "metadata": {
        "id": "E6m5ckdtpfY5"
      },
      "source": [
        "import timeit\n",
        "from datetime import datetime\n",
        "import numpy as np\n",
        "import matplotlib.pyplot as plt\n",
        "import tensorflow as tf\n",
        "plt.style.use(\"fivethirtyeight\")"
      ],
      "execution_count": 7,
      "outputs": []
    },
    {
      "cell_type": "code",
      "metadata": {
        "id": "1_OntJiDp4Z2"
      },
      "source": [
        "#Graphs are very useful because they allows tensorflow to run fast and in parallel on multiple devices independently \n",
        "#of python interpreter.\n"
      ],
      "execution_count": 8,
      "outputs": []
    },
    {
      "cell_type": "code",
      "metadata": {
        "id": "hCzwxkL3tEx9"
      },
      "source": [
        "#To create graph, we can apply tf.function() either as decorator or directly.\n",
        "def fn_take_tensors(x,y,k): #Define any function which manipulate tensors\n",
        "  x = tf.matmul(x,y)\n",
        "  x = x + k\n",
        "  return x\n",
        "myfn = tf.function(fn_take_tensors) #Instatiate the graph \n",
        "a = tf.Variable(tf.constant([[2,1],[4,2]], dtype = tf.float32))\n",
        "b = tf.Variable(tf.constant([[1,2],[3,1]], dtype = tf.float32))\n",
        "c = tf.Variable(3.)\n",
        "graph1 = myfn(a, b, c).numpy()#carries out computation\n"
      ],
      "execution_count": 9,
      "outputs": []
    },
    {
      "cell_type": "code",
      "metadata": {
        "colab": {
          "base_uri": "https://localhost:8080/"
        },
        "id": "soefDkK0vuQI",
        "outputId": "76a6d323-f7f7-4c93-cd0d-932dc5003300"
      },
      "source": [
        "graph1"
      ],
      "execution_count": 10,
      "outputs": [
        {
          "output_type": "execute_result",
          "data": {
            "text/plain": [
              "array([[ 8.,  8.],\n",
              "       [13., 13.]], dtype=float32)"
            ]
          },
          "metadata": {
            "tags": []
          },
          "execution_count": 10
        }
      ]
    },
    {
      "cell_type": "code",
      "metadata": {
        "id": "ywyqXZ5-wP-W"
      },
      "source": [
        "#tf.function as  decorator\n",
        "def inner_fn(x, y, b):\n",
        "  x = tf.matmul(x, y)\n",
        "  x = x + b\n",
        "  return x\n",
        "@tf.function()\n",
        "def outer_fn(x):\n",
        "  y = tf.constant([[2,1],[3,5]], dtype=tf.float32)\n",
        "  b = tf.constant(4, dtype = tf.float32)\n",
        "  return inner_fn(x, y, b)\n",
        "\n",
        "myfn = outer_fn(tf.constant([[2,2],[1,3]], dtype = tf.float32))"
      ],
      "execution_count": 11,
      "outputs": []
    },
    {
      "cell_type": "code",
      "metadata": {
        "colab": {
          "base_uri": "https://localhost:8080/"
        },
        "id": "GbcNrsn28fal",
        "outputId": "78cdfb65-92b2-4ab2-ff30-8b4f7f14559f"
      },
      "source": [
        "myfn"
      ],
      "execution_count": 12,
      "outputs": [
        {
          "output_type": "execute_result",
          "data": {
            "text/plain": [
              "<tf.Tensor: shape=(2, 2), dtype=float32, numpy=\n",
              "array([[14., 16.],\n",
              "       [15., 20.]], dtype=float32)>"
            ]
          },
          "metadata": {
            "tags": []
          },
          "execution_count": 12
        }
      ]
    },
    {
      "cell_type": "code",
      "metadata": {
        "colab": {
          "base_uri": "https://localhost:8080/"
        },
        "id": "E6cfrlim8oJZ",
        "outputId": "3fed8469-325b-45d7-dccf-20e19713d26f"
      },
      "source": [
        "#Flow charts using loops and conditions\n",
        "def flowchart(x):\n",
        "  if tf.reduce_sum(x) <=1:\n",
        "    return x*x\n",
        "  else:\n",
        "    return x - 1\n",
        "\n",
        "myflow = tf.function(flowchart)\n",
        "print(f\"out: {myflow(tf.constant([[0.003,0.002],[-9,0.1]], dtype = tf.float32))}\")"
      ],
      "execution_count": 13,
      "outputs": [
        {
          "output_type": "stream",
          "text": [
            "out: [[9.0000003e-06 4.0000004e-06]\n",
            " [8.1000000e+01 1.0000001e-02]]\n"
          ],
          "name": "stdout"
        }
      ]
    },
    {
      "cell_type": "code",
      "metadata": {
        "colab": {
          "base_uri": "https://localhost:8080/"
        },
        "id": "ARgERdFYBMx6",
        "outputId": "b1e9ba3f-d0b4-4a29-f751-d8033baa8dca"
      },
      "source": [
        "print(tf.autograph.to_code(flowchart)) #Check out how the flowchart  function (Python) is converted into Tensorflow ops"
      ],
      "execution_count": 14,
      "outputs": [
        {
          "output_type": "stream",
          "text": [
            "def tf__flowchart(x):\n",
            "    with ag__.FunctionScope('flowchart', 'fscope', ag__.ConversionOptions(recursive=True, user_requested=True, optional_features=(), internal_convert_user_code=True)) as fscope:\n",
            "        do_return = False\n",
            "        retval_ = ag__.UndefinedReturnValue()\n",
            "\n",
            "        def get_state():\n",
            "            return (do_return, retval_)\n",
            "\n",
            "        def set_state(vars_):\n",
            "            nonlocal do_return, retval_\n",
            "            (do_return, retval_) = vars_\n",
            "\n",
            "        def if_body():\n",
            "            nonlocal do_return, retval_\n",
            "            try:\n",
            "                do_return = True\n",
            "                retval_ = (ag__.ld(x) * ag__.ld(x))\n",
            "            except:\n",
            "                do_return = False\n",
            "                raise\n",
            "\n",
            "        def else_body():\n",
            "            nonlocal do_return, retval_\n",
            "            try:\n",
            "                do_return = True\n",
            "                retval_ = (ag__.ld(x) - 1)\n",
            "            except:\n",
            "                do_return = False\n",
            "                raise\n",
            "        ag__.if_stmt((ag__.converted_call(ag__.ld(tf).reduce_sum, (ag__.ld(x),), None, fscope) <= 1), if_body, else_body, get_state, set_state, ('do_return', 'retval_'), 2)\n",
            "        return fscope.ret(retval_, do_return)\n",
            "\n"
          ],
          "name": "stdout"
        }
      ]
    },
    {
      "cell_type": "code",
      "metadata": {
        "colab": {
          "base_uri": "https://localhost:8080/"
        },
        "id": "76XwAPplCjG6",
        "outputId": "30270068-8066-4509-cde1-7d5c19395481"
      },
      "source": [
        "import tensorflow as tf\n",
        "\n",
        "#Observe how the graph speedup excecution time for complicated computations\n",
        "class MySpeed(tf.keras.Model):\n",
        "  def __init__(self, **kwargs):\n",
        "    super(MySpeed, self).__init__(**kwargs)\n",
        "    self.flatten = tf.keras.layers.Flatten(input_shape = (128,128))\n",
        "    self.dense_1 = tf.keras.layers.Dense(units = 128, activation = 'relu')\n",
        "    self.dense_2 = tf.keras.layers.Dense(units = 64, activation = 'relu')\n",
        "    self.dropout = tf.keras.layers.Dropout(rate = 0.2)\n",
        "    self.out = tf.keras.layers.Dense(units = 10, activation = 'softmax')\n",
        "  \n",
        "  def call(self, inputs):\n",
        "    inputs = self.flatten(inputs)\n",
        "    inputs = self.dense_1(inputs)\n",
        "    inputs = self.dense_2(inputs)\n",
        "    return self.out(inputs)\n",
        "\n",
        "myinput = tf.random.uniform([256,128,128])\n",
        "fn1 = MySpeed()#Normal\n",
        "graph2 = tf.function(fn1)#graph\n",
        "\n",
        "print('time1', timeseteup(timeit.timeit(lambda: fn1(myinput), number = 10000)))\n",
        "print('time2',timeseteup(timeit.timeit(lambda: graph2(myinput), number = 10000)))"
      ],
      "execution_count": 15,
      "outputs": [
        {
          "output_type": "stream",
          "text": [
            "time1 6:000: 06.00\n",
            "time2 4:000: 04.00\n"
          ],
          "name": "stdout"
        }
      ]
    },
    {
      "cell_type": "code",
      "metadata": {
        "id": "WLt1UqkhJbeZ"
      },
      "source": [
        "#Shifting to eager excecution by adding a customized eagerly layer in a keras sequential model\n",
        "class MyEager(tf.keras.layers.Layer):\n",
        "  def __init__(self,**kwargs):\n",
        "    super(MyEager, self).__init__(**kwargs)\n",
        "  \n",
        "  def call(self, inputs):\n",
        "    print(\"\\nWe are running Eagerly:\", str(datetime.now()))\n",
        "    return inputs\n",
        "\n"
      ],
      "execution_count": 45,
      "outputs": []
    },
    {
      "cell_type": "code",
      "metadata": {
        "colab": {
          "base_uri": "https://localhost:8080/"
        },
        "id": "vwcQ0UqUgO41",
        "outputId": "4e8754d8-e9bb-409b-8c6d-e7ff60ef50ea"
      },
      "source": [
        "#Using the above keras layer for eager execution\n",
        "class NewSequential(tf.keras.Model):\n",
        "  def __init__(self):\n",
        "    super(NewSequential, self).__init__()\n",
        "    self.flatten = tf.keras.layers.Flatten(input_shape = (28,28))\n",
        "    self.layer1 = tf.keras.layers.Dense(units = 128, activation = 'relu')\n",
        "    self.dropout = tf.keras.layers.Dropout(rate = 0.2)\n",
        "    self.layer2 = tf.keras.layers.Dense(units = 64, activation = 'relu')\n",
        "    self.myeager = MyEager()\n",
        "    self.out = tf.keras.layers.Dense(units = 10)\n",
        "  \n",
        "  def call(self, inputs):\n",
        "    inputs = self.flatten(inputs)\n",
        "    inputs = self.layer1(inputs)\n",
        "    inputs = self.dropout(inputs)\n",
        "    inputs = self.layer2(inputs)\n",
        "    inputs = self.out(inputs)\n",
        "    return self.myeager(inputs)\n",
        "\n",
        "x = tf.random.uniform([60, 28,28])\n",
        "eager1 = NewSequential()\n",
        "y = tf.random.uniform([60])\n",
        "mylos = tf.keras.losses.SparseCategoricalCrossentropy(from_logits = True)\n",
        "eager1.compile(run_eagerly = False,loss = mylos)\n",
        "eager1.fit(x, y, epochs = 10)\n"
      ],
      "execution_count": 46,
      "outputs": [
        {
          "output_type": "stream",
          "text": [
            "Epoch 1/10\n",
            "\n",
            "We are running Eagerly: 2020-11-18 10:15:59.800193\n",
            "\n",
            "We are running Eagerly: 2020-11-18 10:15:59.934074\n",
            "2/2 [==============================] - 0s 3ms/step - loss: 1.5939\n",
            "Epoch 2/10\n",
            "2/2 [==============================] - 0s 2ms/step - loss: 0.0095\n",
            "Epoch 3/10\n",
            "2/2 [==============================] - 0s 2ms/step - loss: 0.0059\n",
            "Epoch 4/10\n",
            "2/2 [==============================] - 0s 2ms/step - loss: 0.0038\n",
            "Epoch 5/10\n",
            "2/2 [==============================] - 0s 2ms/step - loss: 0.0023\n",
            "Epoch 6/10\n",
            "2/2 [==============================] - 0s 3ms/step - loss: 0.0014\n",
            "Epoch 7/10\n",
            "2/2 [==============================] - 0s 2ms/step - loss: 0.0012\n",
            "Epoch 8/10\n",
            "2/2 [==============================] - 0s 2ms/step - loss: 0.0011\n",
            "Epoch 9/10\n",
            "2/2 [==============================] - 0s 2ms/step - loss: 6.6668e-04\n",
            "Epoch 10/10\n",
            "2/2 [==============================] - 0s 2ms/step - loss: 6.1425e-04\n"
          ],
          "name": "stdout"
        },
        {
          "output_type": "execute_result",
          "data": {
            "text/plain": [
              "<tensorflow.python.keras.callbacks.History at 0x7fe8c2606fd0>"
            ]
          },
          "metadata": {
            "tags": []
          },
          "execution_count": 46
        }
      ]
    },
    {
      "cell_type": "code",
      "metadata": {
        "colab": {
          "base_uri": "https://localhost:8080/"
        },
        "id": "HmkomExjmu_k",
        "outputId": "a1ed0f69-5002-4e2b-ecdb-bd68dd6c892c"
      },
      "source": [
        "eager1.compile(run_eagerly= True, loss = mylos)\n",
        "eager1.fit(x, y, epochs = 10)"
      ],
      "execution_count": 47,
      "outputs": [
        {
          "output_type": "stream",
          "text": [
            "Epoch 1/10\n",
            "\n",
            "We are running Eagerly: 2020-11-18 10:16:08.779854\n",
            "1/2 [==============>...............] - ETA: 0s - loss: 5.7432e-04\n",
            "We are running Eagerly: 2020-11-18 10:16:08.804546\n",
            "2/2 [==============================] - 0s 8ms/step - loss: 3.0640e-04\n",
            "Epoch 2/10\n",
            "\n",
            "We are running Eagerly: 2020-11-18 10:16:08.820789\n",
            "1/2 [==============>...............] - ETA: 0s - loss: 1.7881e-07\n",
            "We are running Eagerly: 2020-11-18 10:16:08.835541\n",
            "2/2 [==============================] - 0s 8ms/step - loss: 1.0292e-06\n",
            "Epoch 3/10\n",
            "\n",
            "We are running Eagerly: 2020-11-18 10:16:08.851414\n",
            "1/2 [==============>...............] - ETA: 0s - loss: 1.6019e-07\n",
            "We are running Eagerly: 2020-11-18 10:16:08.865885\n",
            "2/2 [==============================] - 0s 8ms/step - loss: 1.0729e-07\n",
            "Epoch 4/10\n",
            "\n",
            "We are running Eagerly: 2020-11-18 10:16:08.881819\n",
            "1/2 [==============>...............] - ETA: 0s - loss: 5.0664e-07\n",
            "We are running Eagerly: 2020-11-18 10:16:08.896130\n",
            "2/2 [==============================] - 0s 8ms/step - loss: 4.2319e-07\n",
            "Epoch 5/10\n",
            "\n",
            "We are running Eagerly: 2020-11-18 10:16:08.911291\n",
            "1/2 [==============>...............] - ETA: 0s - loss: 1.9372e-07\n",
            "We are running Eagerly: 2020-11-18 10:16:08.927334\n",
            "2/2 [==============================] - 0s 8ms/step - loss: 2.5630e-07\n",
            "Epoch 6/10\n",
            "\n",
            "We are running Eagerly: 2020-11-18 10:16:08.944991\n",
            "1/2 [==============>...............] - ETA: 0s - loss: 6.3330e-08\n",
            "We are running Eagerly: 2020-11-18 10:16:08.961377\n",
            "2/2 [==============================] - 0s 8ms/step - loss: 5.3644e-08\n",
            "Epoch 7/10\n",
            "\n",
            "We are running Eagerly: 2020-11-18 10:16:08.981029\n",
            "1/2 [==============>...............] - ETA: 0s - loss: 1.2666e-07\n",
            "We are running Eagerly: 2020-11-18 10:16:08.996456\n",
            "2/2 [==============================] - 0s 9ms/step - loss: 2.9206e-07\n",
            "Epoch 8/10\n",
            "\n",
            "We are running Eagerly: 2020-11-18 10:16:09.015982\n",
            "1/2 [==============>...............] - ETA: 0s - loss: 1.1921e-07\n",
            "We are running Eagerly: 2020-11-18 10:16:09.032822\n",
            "2/2 [==============================] - 0s 9ms/step - loss: 2.0862e-07\n",
            "Epoch 9/10\n",
            "\n",
            "We are running Eagerly: 2020-11-18 10:16:09.051923\n",
            "1/2 [==============>...............] - ETA: 0s - loss: 1.4901e-07\n",
            "We are running Eagerly: 2020-11-18 10:16:09.067994\n",
            "2/2 [==============================] - 0s 8ms/step - loss: 1.3709e-07\n",
            "Epoch 10/10\n",
            "\n",
            "We are running Eagerly: 2020-11-18 10:16:09.084467\n",
            "1/2 [==============>...............] - ETA: 0s - loss: 1.4156e-07\n",
            "We are running Eagerly: 2020-11-18 10:16:09.098953\n",
            "2/2 [==============================] - 0s 9ms/step - loss: 1.7881e-07\n"
          ],
          "name": "stdout"
        },
        {
          "output_type": "execute_result",
          "data": {
            "text/plain": [
              "<tensorflow.python.keras.callbacks.History at 0x7fe8bbfdb2e8>"
            ]
          },
          "metadata": {
            "tags": []
          },
          "execution_count": 47
        }
      ]
    },
    {
      "cell_type": "code",
      "metadata": {
        "id": "gPLv7doK0-ro"
      },
      "source": [
        ""
      ],
      "execution_count": null,
      "outputs": []
    }
  ]
}