{
  "nbformat": 4,
  "nbformat_minor": 0,
  "metadata": {
    "colab": {
      "name": "Regression model.ipynb",
      "provenance": [],
      "authorship_tag": "ABX9TyPzAT6eESypirG0XFJpQDf8",
      "include_colab_link": true
    },
    "kernelspec": {
      "name": "python3",
      "display_name": "Python 3"
    }
  },
  "cells": [
    {
      "cell_type": "markdown",
      "metadata": {
        "id": "view-in-github",
        "colab_type": "text"
      },
      "source": [
        "<a href=\"https://colab.research.google.com/github/martinpius/Applied-Predictive-Modeling2/blob/master/Regression_model.ipynb\" target=\"_parent\"><img src=\"https://colab.research.google.com/assets/colab-badge.svg\" alt=\"Open In Colab\"/></a>"
      ]
    },
    {
      "cell_type": "code",
      "metadata": {
        "colab": {
          "base_uri": "https://localhost:8080/"
        },
        "id": "HozhXyYUGpdi",
        "outputId": "392b8b1f-d1cc-42ce-b23e-71d50b514e0f"
      },
      "source": [
        "from google.colab import drive\n",
        "drive.mount(\"/content/drive\", force_remount = True)\n",
        "try: \n",
        "  COLAB = True\n",
        "  import tensorflow as tf\n",
        "  print(f\"You are on colab with tensorflow version: {tf.__version__}\")\n",
        "except Exception as e:\n",
        "  COLAB = False\n",
        "  print(f\"{type(e)}: {e}\\n....please load your drive....\")\n",
        "def time_fmt(x:float)->float:\n",
        "  h = int(x / (60 * 60))\n",
        "  m = int(x % (60 * 60) / 60)\n",
        "  s = int(x % 60)\n",
        "  return f\"{h}: {m:>03}: {s:>05.2f}\"\n",
        "\n",
        "print(f\"...testing...: {time_fmt(123.87756)}\")"
      ],
      "execution_count": null,
      "outputs": [
        {
          "output_type": "stream",
          "text": [
            "Mounted at /content/drive\n",
            "You are on colab with tensorflow version: 2.4.1\n",
            "...testing...: 0: 002: 03.00\n"
          ],
          "name": "stdout"
        }
      ]
    },
    {
      "cell_type": "code",
      "metadata": {
        "id": "AxSMRzTKIQvd"
      },
      "source": [
        "import tensorflow as tf\n",
        "import numpy as np\n",
        "import pandas as pd\n",
        "import time\n",
        "import matplotlib.pyplot as plt\n",
        "pd.set_option('max_rows', 6)\n",
        "pd.set_option('max_columns', 0)\n",
        "plt.style.use('fivethirtyeight')\n",
        "%matplotlib inline"
      ],
      "execution_count": null,
      "outputs": []
    },
    {
      "cell_type": "code",
      "metadata": {
        "id": "lC0FqWBsJYsl"
      },
      "source": [
        "#Consider the following data recorded on individuals of a particular area. If we want to predict let say (income) based on \n",
        "#various factors as given in the data we can train a simple mlp. We first investigate some patterns in this data"
      ],
      "execution_count": null,
      "outputs": []
    },
    {
      "cell_type": "code",
      "metadata": {
        "id": "Me3jOT3YI5TT"
      },
      "source": [
        "data = pd.read_csv(\"https://data.heatonresearch.com/data/t81-558/jh-simple-dataset.csv\", na_values = ['NA', '?'])"
      ],
      "execution_count": null,
      "outputs": []
    },
    {
      "cell_type": "code",
      "metadata": {
        "colab": {
          "base_uri": "https://localhost:8080/"
        },
        "id": "1jppf96rJNVs",
        "outputId": "9ae3c605-6d3d-4b31-a95e-d3880f4c3a4c"
      },
      "source": [
        "data.isna().value_counts() #income has some missing values:"
      ],
      "execution_count": null,
      "outputs": [
        {
          "output_type": "execute_result",
          "data": {
            "text/plain": [
              "id     job    area   income  aspect  subscriptions  dist_healthy  save_rate  dist_unhealthy  age    pop_dense  retail_dense  crime  product\n",
              "False  False  False  False   False   False          False         False      False           False  False      False         False  False      1941\n",
              "                     True    False   False          False         False      False           False  False      False         False  False        59\n",
              "dtype: int64"
            ]
          },
          "metadata": {
            "tags": []
          },
          "execution_count": 9
        }
      ]
    },
    {
      "cell_type": "code",
      "metadata": {
        "id": "DXC4wvDmJR1B"
      },
      "source": [
        "#we compute the missing value for the income using the median income:(mean is not suitable due to sensitivity to extremities)\n",
        "data['income'] = data['income'].fillna(data['income'].median())"
      ],
      "execution_count": null,
      "outputs": []
    },
    {
      "cell_type": "code",
      "metadata": {
        "colab": {
          "base_uri": "https://localhost:8080/",
          "height": 51
        },
        "id": "HeSqbNK9Kxac",
        "outputId": "d1c8c0a8-f158-4e0d-a1f5-769c255c1334"
      },
      "source": [
        "display(data['income'].isna().value_counts()) #check if the work is done"
      ],
      "execution_count": null,
      "outputs": [
        {
          "output_type": "display_data",
          "data": {
            "text/plain": [
              "False    2000\n",
              "Name: income, dtype: int64"
            ]
          },
          "metadata": {
            "tags": []
          }
        }
      ]
    },
    {
      "cell_type": "code",
      "metadata": {
        "colab": {
          "base_uri": "https://localhost:8080/",
          "height": 295
        },
        "id": "j9zm-RY4MuE5",
        "outputId": "e8e2866c-67d7-4cd8-e6ff-2cfbec45f187"
      },
      "source": [
        "display(data)"
      ],
      "execution_count": null,
      "outputs": [
        {
          "output_type": "display_data",
          "data": {
            "text/html": [
              "<div>\n",
              "<style scoped>\n",
              "    .dataframe tbody tr th:only-of-type {\n",
              "        vertical-align: middle;\n",
              "    }\n",
              "\n",
              "    .dataframe tbody tr th {\n",
              "        vertical-align: top;\n",
              "    }\n",
              "\n",
              "    .dataframe thead th {\n",
              "        text-align: right;\n",
              "    }\n",
              "</style>\n",
              "<table border=\"1\" class=\"dataframe\">\n",
              "  <thead>\n",
              "    <tr style=\"text-align: right;\">\n",
              "      <th></th>\n",
              "      <th>id</th>\n",
              "      <th>job</th>\n",
              "      <th>area</th>\n",
              "      <th>income</th>\n",
              "      <th>aspect</th>\n",
              "      <th>subscriptions</th>\n",
              "      <th>dist_healthy</th>\n",
              "      <th>save_rate</th>\n",
              "      <th>dist_unhealthy</th>\n",
              "      <th>age</th>\n",
              "      <th>pop_dense</th>\n",
              "      <th>retail_dense</th>\n",
              "      <th>crime</th>\n",
              "      <th>product</th>\n",
              "    </tr>\n",
              "  </thead>\n",
              "  <tbody>\n",
              "    <tr>\n",
              "      <th>0</th>\n",
              "      <td>1</td>\n",
              "      <td>vv</td>\n",
              "      <td>c</td>\n",
              "      <td>50876.0</td>\n",
              "      <td>13.100000</td>\n",
              "      <td>1</td>\n",
              "      <td>9.017895</td>\n",
              "      <td>35</td>\n",
              "      <td>11.738935</td>\n",
              "      <td>49</td>\n",
              "      <td>0.885827</td>\n",
              "      <td>0.492126</td>\n",
              "      <td>0.071100</td>\n",
              "      <td>b</td>\n",
              "    </tr>\n",
              "    <tr>\n",
              "      <th>1</th>\n",
              "      <td>2</td>\n",
              "      <td>kd</td>\n",
              "      <td>c</td>\n",
              "      <td>60369.0</td>\n",
              "      <td>18.625000</td>\n",
              "      <td>2</td>\n",
              "      <td>7.766643</td>\n",
              "      <td>59</td>\n",
              "      <td>6.805396</td>\n",
              "      <td>51</td>\n",
              "      <td>0.874016</td>\n",
              "      <td>0.342520</td>\n",
              "      <td>0.400809</td>\n",
              "      <td>c</td>\n",
              "    </tr>\n",
              "    <tr>\n",
              "      <th>2</th>\n",
              "      <td>3</td>\n",
              "      <td>pe</td>\n",
              "      <td>c</td>\n",
              "      <td>55126.0</td>\n",
              "      <td>34.766667</td>\n",
              "      <td>1</td>\n",
              "      <td>3.632069</td>\n",
              "      <td>6</td>\n",
              "      <td>13.671772</td>\n",
              "      <td>44</td>\n",
              "      <td>0.944882</td>\n",
              "      <td>0.724409</td>\n",
              "      <td>0.207723</td>\n",
              "      <td>b</td>\n",
              "    </tr>\n",
              "    <tr>\n",
              "      <th>...</th>\n",
              "      <td>...</td>\n",
              "      <td>...</td>\n",
              "      <td>...</td>\n",
              "      <td>...</td>\n",
              "      <td>...</td>\n",
              "      <td>...</td>\n",
              "      <td>...</td>\n",
              "      <td>...</td>\n",
              "      <td>...</td>\n",
              "      <td>...</td>\n",
              "      <td>...</td>\n",
              "      <td>...</td>\n",
              "      <td>...</td>\n",
              "      <td>...</td>\n",
              "    </tr>\n",
              "    <tr>\n",
              "      <th>1997</th>\n",
              "      <td>1998</td>\n",
              "      <td>kl</td>\n",
              "      <td>d</td>\n",
              "      <td>28595.0</td>\n",
              "      <td>39.425000</td>\n",
              "      <td>3</td>\n",
              "      <td>7.168218</td>\n",
              "      <td>99</td>\n",
              "      <td>4.626950</td>\n",
              "      <td>36</td>\n",
              "      <td>0.759843</td>\n",
              "      <td>0.744094</td>\n",
              "      <td>0.098703</td>\n",
              "      <td>f</td>\n",
              "    </tr>\n",
              "    <tr>\n",
              "      <th>1998</th>\n",
              "      <td>1999</td>\n",
              "      <td>qp</td>\n",
              "      <td>c</td>\n",
              "      <td>67949.0</td>\n",
              "      <td>5.733333</td>\n",
              "      <td>0</td>\n",
              "      <td>8.936292</td>\n",
              "      <td>26</td>\n",
              "      <td>3.281439</td>\n",
              "      <td>46</td>\n",
              "      <td>0.909449</td>\n",
              "      <td>0.598425</td>\n",
              "      <td>0.117803</td>\n",
              "      <td>c</td>\n",
              "    </tr>\n",
              "    <tr>\n",
              "      <th>1999</th>\n",
              "      <td>2000</td>\n",
              "      <td>pe</td>\n",
              "      <td>c</td>\n",
              "      <td>61467.0</td>\n",
              "      <td>16.891667</td>\n",
              "      <td>0</td>\n",
              "      <td>4.312097</td>\n",
              "      <td>8</td>\n",
              "      <td>9.405648</td>\n",
              "      <td>48</td>\n",
              "      <td>0.925197</td>\n",
              "      <td>0.539370</td>\n",
              "      <td>0.451973</td>\n",
              "      <td>c</td>\n",
              "    </tr>\n",
              "  </tbody>\n",
              "</table>\n",
              "<p>2000 rows × 14 columns</p>\n",
              "</div>"
            ],
            "text/plain": [
              "        id job area   income  ...  pop_dense  retail_dense     crime  product\n",
              "0        1  vv    c  50876.0  ...   0.885827      0.492126  0.071100        b\n",
              "1        2  kd    c  60369.0  ...   0.874016      0.342520  0.400809        c\n",
              "2        3  pe    c  55126.0  ...   0.944882      0.724409  0.207723        b\n",
              "...    ...  ..  ...      ...  ...        ...           ...       ...      ...\n",
              "1997  1998  kl    d  28595.0  ...   0.759843      0.744094  0.098703        f\n",
              "1998  1999  qp    c  67949.0  ...   0.909449      0.598425  0.117803        c\n",
              "1999  2000  pe    c  61467.0  ...   0.925197      0.539370  0.451973        c\n",
              "\n",
              "[2000 rows x 14 columns]"
            ]
          },
          "metadata": {
            "tags": []
          }
        }
      ]
    },
    {
      "cell_type": "code",
      "metadata": {
        "colab": {
          "base_uri": "https://localhost:8080/",
          "height": 295
        },
        "id": "rBNNfF1MLFW7",
        "outputId": "db164400-5ddb-447b-d905-804ea8ad2b5d"
      },
      "source": [
        "#Check if the area has any impact on average income:\n",
        "data.groupby('area').income.mean().plot(kind = 'bar', color = 'red')"
      ],
      "execution_count": null,
      "outputs": [
        {
          "output_type": "execute_result",
          "data": {
            "text/plain": [
              "<matplotlib.axes._subplots.AxesSubplot at 0x7fbf1add3c90>"
            ]
          },
          "metadata": {
            "tags": []
          },
          "execution_count": 13
        },
        {
          "output_type": "display_data",
          "data": {
            "image/png": "[encoded data removed]",
            "text/plain": [
              "<Figure size 432x288 with 1 Axes>"
            ]
          },
          "metadata": {
            "tags": [],
            "needs_background": "light"
          }
        }
      ]
    },
    {
      "cell_type": "code",
      "metadata": {
        "id": "6CyqCKy-Mh9_"
      },
      "source": [
        "#We can also check if amount of encome earned on average has any thing to do with product purchased:"
      ],
      "execution_count": null,
      "outputs": []
    },
    {
      "cell_type": "code",
      "metadata": {
        "colab": {
          "base_uri": "https://localhost:8080/",
          "height": 292
        },
        "id": "JEO5LFl4M-eH",
        "outputId": "77a701a6-2151-458e-b253-6e0228ae2d5f"
      },
      "source": [
        "data.groupby('product').income.mean().plot(kind = 'bar', color = 'blue')"
      ],
      "execution_count": null,
      "outputs": [
        {
          "output_type": "execute_result",
          "data": {
            "text/plain": [
              "<matplotlib.axes._subplots.AxesSubplot at 0x7fbf1a7647d0>"
            ]
          },
          "metadata": {
            "tags": []
          },
          "execution_count": 16
        },
        {
          "output_type": "display_data",
          "data": {
            "image/png": "[encoded data removed]",
            "text/plain": [
              "<Figure size 432x288 with 1 Axes>"
            ]
          },
          "metadata": {
            "tags": [],
            "needs_background": "light"
          }
        }
      ]
    },
    {
      "cell_type": "code",
      "metadata": {
        "colab": {
          "base_uri": "https://localhost:8080/",
          "height": 292
        },
        "id": "d8Ls2dN4Ng-A",
        "outputId": "557814a0-34ad-48bc-8dd2-d60883c0c3da"
      },
      "source": [
        "#We can also see if subscription type depends on average income of a person:\n",
        "data.groupby('subscriptions').income.mean().plot(kind = 'bar', color = 'orange')"
      ],
      "execution_count": null,
      "outputs": [
        {
          "output_type": "execute_result",
          "data": {
            "text/plain": [
              "<matplotlib.axes._subplots.AxesSubplot at 0x7fbf1a6cca10>"
            ]
          },
          "metadata": {
            "tags": []
          },
          "execution_count": 18
        },
        {
          "output_type": "display_data",
          "data": {
            "image/png": "[encoded data removed]",
            "text/plain": [
              "<Figure size 432x288 with 1 Axes>"
            ]
          },
          "metadata": {
            "tags": [],
            "needs_background": "light"
          }
        }
      ]
    },
    {
      "cell_type": "code",
      "metadata": {
        "colab": {
          "base_uri": "https://localhost:8080/",
          "height": 305
        },
        "id": "5z8sLCmtPQG5",
        "outputId": "1348a439-9b69-4b04-dc5e-9213e3c4b5c7"
      },
      "source": [
        "#Check the connection between average income and job type:\n",
        "data.groupby('job').income.mean().plot(kind = 'bar', color = 'green')"
      ],
      "execution_count": null,
      "outputs": [
        {
          "output_type": "execute_result",
          "data": {
            "text/plain": [
              "<matplotlib.axes._subplots.AxesSubplot at 0x7fbf1a4f0950>"
            ]
          },
          "metadata": {
            "tags": []
          },
          "execution_count": 20
        },
        {
          "output_type": "display_data",
          "data": {
            "image/png": "[encoded data removed]",
            "text/plain": [
              "<Figure size 432x288 with 1 Axes>"
            ]
          },
          "metadata": {
            "tags": [],
            "needs_background": "light"
          }
        }
      ]
    },
    {
      "cell_type": "code",
      "metadata": {
        "id": "2hTINF1TNKJw"
      },
      "source": [
        "#We can draw some useful comments based on plotting like the above ones:"
      ],
      "execution_count": null,
      "outputs": []
    },
    {
      "cell_type": "code",
      "metadata": {
        "id": "c-Pry2cjNbKU"
      },
      "source": [
        "#Prepare the data for training:\n",
        "#We first convert all categorical variables to dummy variables:\n",
        "area_d = pd.get_dummies(data['area'], prefix = 'area')\n",
        "subscriptions_d = pd.get_dummies(data['subscriptions'], prefix = 'subscription')\n",
        "product_d = pd.get_dummies(data['product'], prefix = 'product')\n",
        "job_cat = pd.get_dummies(data['job'], prefix = 'job')"
      ],
      "execution_count": null,
      "outputs": []
    },
    {
      "cell_type": "code",
      "metadata": {
        "id": "Q_RzA3RIP3Fy"
      },
      "source": [
        "#We standardize all continous features to get uniform scale by computing their z-scores:"
      ],
      "execution_count": null,
      "outputs": []
    },
    {
      "cell_type": "code",
      "metadata": {
        "id": "HcZTx2O1QJFt"
      },
      "source": [
        "data = data.drop(['job', 'id','area', 'subscriptions','product'], axis = 1)"
      ],
      "execution_count": null,
      "outputs": []
    },
    {
      "cell_type": "code",
      "metadata": {
        "colab": {
          "base_uri": "https://localhost:8080/",
          "height": 295
        },
        "id": "ul5VxQkuVf0c",
        "outputId": "129fef4e-a8a4-4059-91b4-aadee683b31a"
      },
      "source": [
        "display(data)"
      ],
      "execution_count": null,
      "outputs": [
        {
          "output_type": "display_data",
          "data": {
            "text/html": [
              "<div>\n",
              "<style scoped>\n",
              "    .dataframe tbody tr th:only-of-type {\n",
              "        vertical-align: middle;\n",
              "    }\n",
              "\n",
              "    .dataframe tbody tr th {\n",
              "        vertical-align: top;\n",
              "    }\n",
              "\n",
              "    .dataframe thead th {\n",
              "        text-align: right;\n",
              "    }\n",
              "</style>\n",
              "<table border=\"1\" class=\"dataframe\">\n",
              "  <thead>\n",
              "    <tr style=\"text-align: right;\">\n",
              "      <th></th>\n",
              "      <th>income</th>\n",
              "      <th>aspect</th>\n",
              "      <th>dist_healthy</th>\n",
              "      <th>save_rate</th>\n",
              "      <th>dist_unhealthy</th>\n",
              "      <th>age</th>\n",
              "      <th>pop_dense</th>\n",
              "      <th>retail_dense</th>\n",
              "      <th>crime</th>\n",
              "    </tr>\n",
              "  </thead>\n",
              "  <tbody>\n",
              "    <tr>\n",
              "      <th>0</th>\n",
              "      <td>50876.0</td>\n",
              "      <td>13.100000</td>\n",
              "      <td>9.017895</td>\n",
              "      <td>35</td>\n",
              "      <td>11.738935</td>\n",
              "      <td>49</td>\n",
              "      <td>0.885827</td>\n",
              "      <td>0.492126</td>\n",
              "      <td>0.071100</td>\n",
              "    </tr>\n",
              "    <tr>\n",
              "      <th>1</th>\n",
              "      <td>60369.0</td>\n",
              "      <td>18.625000</td>\n",
              "      <td>7.766643</td>\n",
              "      <td>59</td>\n",
              "      <td>6.805396</td>\n",
              "      <td>51</td>\n",
              "      <td>0.874016</td>\n",
              "      <td>0.342520</td>\n",
              "      <td>0.400809</td>\n",
              "    </tr>\n",
              "    <tr>\n",
              "      <th>2</th>\n",
              "      <td>55126.0</td>\n",
              "      <td>34.766667</td>\n",
              "      <td>3.632069</td>\n",
              "      <td>6</td>\n",
              "      <td>13.671772</td>\n",
              "      <td>44</td>\n",
              "      <td>0.944882</td>\n",
              "      <td>0.724409</td>\n",
              "      <td>0.207723</td>\n",
              "    </tr>\n",
              "    <tr>\n",
              "      <th>...</th>\n",
              "      <td>...</td>\n",
              "      <td>...</td>\n",
              "      <td>...</td>\n",
              "      <td>...</td>\n",
              "      <td>...</td>\n",
              "      <td>...</td>\n",
              "      <td>...</td>\n",
              "      <td>...</td>\n",
              "      <td>...</td>\n",
              "    </tr>\n",
              "    <tr>\n",
              "      <th>1997</th>\n",
              "      <td>28595.0</td>\n",
              "      <td>39.425000</td>\n",
              "      <td>7.168218</td>\n",
              "      <td>99</td>\n",
              "      <td>4.626950</td>\n",
              "      <td>36</td>\n",
              "      <td>0.759843</td>\n",
              "      <td>0.744094</td>\n",
              "      <td>0.098703</td>\n",
              "    </tr>\n",
              "    <tr>\n",
              "      <th>1998</th>\n",
              "      <td>67949.0</td>\n",
              "      <td>5.733333</td>\n",
              "      <td>8.936292</td>\n",
              "      <td>26</td>\n",
              "      <td>3.281439</td>\n",
              "      <td>46</td>\n",
              "      <td>0.909449</td>\n",
              "      <td>0.598425</td>\n",
              "      <td>0.117803</td>\n",
              "    </tr>\n",
              "    <tr>\n",
              "      <th>1999</th>\n",
              "      <td>61467.0</td>\n",
              "      <td>16.891667</td>\n",
              "      <td>4.312097</td>\n",
              "      <td>8</td>\n",
              "      <td>9.405648</td>\n",
              "      <td>48</td>\n",
              "      <td>0.925197</td>\n",
              "      <td>0.539370</td>\n",
              "      <td>0.451973</td>\n",
              "    </tr>\n",
              "  </tbody>\n",
              "</table>\n",
              "<p>2000 rows × 9 columns</p>\n",
              "</div>"
            ],
            "text/plain": [
              "       income     aspect  dist_healthy  ...  pop_dense  retail_dense     crime\n",
              "0     50876.0  13.100000      9.017895  ...   0.885827      0.492126  0.071100\n",
              "1     60369.0  18.625000      7.766643  ...   0.874016      0.342520  0.400809\n",
              "2     55126.0  34.766667      3.632069  ...   0.944882      0.724409  0.207723\n",
              "...       ...        ...           ...  ...        ...           ...       ...\n",
              "1997  28595.0  39.425000      7.168218  ...   0.759843      0.744094  0.098703\n",
              "1998  67949.0   5.733333      8.936292  ...   0.909449      0.598425  0.117803\n",
              "1999  61467.0  16.891667      4.312097  ...   0.925197      0.539370  0.451973\n",
              "\n",
              "[2000 rows x 9 columns]"
            ]
          },
          "metadata": {
            "tags": []
          }
        }
      ]
    },
    {
      "cell_type": "code",
      "metadata": {
        "id": "IsN3lc1EVlzj"
      },
      "source": [
        "cols = data.columns"
      ],
      "execution_count": null,
      "outputs": []
    },
    {
      "cell_type": "code",
      "metadata": {
        "id": "36Ixm-AeVtDU"
      },
      "source": [
        "from scipy.stats import zscore"
      ],
      "execution_count": null,
      "outputs": []
    },
    {
      "cell_type": "code",
      "metadata": {
        "id": "xGUI5IxBVxyb"
      },
      "source": [
        "for col in cols:\n",
        "  data[col] = zscore(data[col])"
      ],
      "execution_count": null,
      "outputs": []
    },
    {
      "cell_type": "code",
      "metadata": {
        "colab": {
          "base_uri": "https://localhost:8080/",
          "height": 295
        },
        "id": "mmVvACvmV7zJ",
        "outputId": "37dce073-5000-4230-df85-4d86c8799e64"
      },
      "source": [
        "display(data)"
      ],
      "execution_count": null,
      "outputs": [
        {
          "output_type": "display_data",
          "data": {
            "text/html": [
              "<div>\n",
              "<style scoped>\n",
              "    .dataframe tbody tr th:only-of-type {\n",
              "        vertical-align: middle;\n",
              "    }\n",
              "\n",
              "    .dataframe tbody tr th {\n",
              "        vertical-align: top;\n",
              "    }\n",
              "\n",
              "    .dataframe thead th {\n",
              "        text-align: right;\n",
              "    }\n",
              "</style>\n",
              "<table border=\"1\" class=\"dataframe\">\n",
              "  <thead>\n",
              "    <tr style=\"text-align: right;\">\n",
              "      <th></th>\n",
              "      <th>income</th>\n",
              "      <th>aspect</th>\n",
              "      <th>dist_healthy</th>\n",
              "      <th>save_rate</th>\n",
              "      <th>dist_unhealthy</th>\n",
              "      <th>age</th>\n",
              "      <th>pop_dense</th>\n",
              "      <th>retail_dense</th>\n",
              "      <th>crime</th>\n",
              "    </tr>\n",
              "  </thead>\n",
              "  <tbody>\n",
              "    <tr>\n",
              "      <th>0</th>\n",
              "      <td>-0.607550</td>\n",
              "      <td>-0.664918</td>\n",
              "      <td>-0.048411</td>\n",
              "      <td>-0.215764</td>\n",
              "      <td>-0.314089</td>\n",
              "      <td>0.854321</td>\n",
              "      <td>0.079279</td>\n",
              "      <td>-0.465765</td>\n",
              "      <td>-1.120315</td>\n",
              "    </tr>\n",
              "    <tr>\n",
              "      <th>1</th>\n",
              "      <td>0.338053</td>\n",
              "      <td>-0.207748</td>\n",
              "      <td>-0.266765</td>\n",
              "      <td>0.196869</td>\n",
              "      <td>-0.915161</td>\n",
              "      <td>1.394432</td>\n",
              "      <td>-0.075010</td>\n",
              "      <td>-1.445372</td>\n",
              "      <td>0.682945</td>\n",
              "    </tr>\n",
              "    <tr>\n",
              "      <th>2</th>\n",
              "      <td>-0.184205</td>\n",
              "      <td>1.127906</td>\n",
              "      <td>-0.988286</td>\n",
              "      <td>-0.714362</td>\n",
              "      <td>-0.078604</td>\n",
              "      <td>-0.495957</td>\n",
              "      <td>0.850727</td>\n",
              "      <td>1.055205</td>\n",
              "      <td>-0.373087</td>\n",
              "    </tr>\n",
              "    <tr>\n",
              "      <th>...</th>\n",
              "      <td>...</td>\n",
              "      <td>...</td>\n",
              "      <td>...</td>\n",
              "      <td>...</td>\n",
              "      <td>...</td>\n",
              "      <td>...</td>\n",
              "      <td>...</td>\n",
              "      <td>...</td>\n",
              "      <td>...</td>\n",
              "    </tr>\n",
              "    <tr>\n",
              "      <th>1997</th>\n",
              "      <td>-2.826971</td>\n",
              "      <td>1.513363</td>\n",
              "      <td>-0.371196</td>\n",
              "      <td>0.884591</td>\n",
              "      <td>-1.180569</td>\n",
              "      <td>-2.656402</td>\n",
              "      <td>-1.566477</td>\n",
              "      <td>1.184101</td>\n",
              "      <td>-0.969344</td>\n",
              "    </tr>\n",
              "    <tr>\n",
              "      <th>1998</th>\n",
              "      <td>1.093101</td>\n",
              "      <td>-1.274478</td>\n",
              "      <td>-0.062651</td>\n",
              "      <td>-0.370502</td>\n",
              "      <td>-1.344498</td>\n",
              "      <td>0.044154</td>\n",
              "      <td>0.387858</td>\n",
              "      <td>0.230272</td>\n",
              "      <td>-0.864885</td>\n",
              "    </tr>\n",
              "    <tr>\n",
              "      <th>1999</th>\n",
              "      <td>0.447425</td>\n",
              "      <td>-0.351174</td>\n",
              "      <td>-0.869615</td>\n",
              "      <td>-0.679976</td>\n",
              "      <td>-0.598362</td>\n",
              "      <td>0.584265</td>\n",
              "      <td>0.593578</td>\n",
              "      <td>-0.156415</td>\n",
              "      <td>0.962774</td>\n",
              "    </tr>\n",
              "  </tbody>\n",
              "</table>\n",
              "<p>2000 rows × 9 columns</p>\n",
              "</div>"
            ],
            "text/plain": [
              "        income    aspect  dist_healthy  ...  pop_dense  retail_dense     crime\n",
              "0    -0.607550 -0.664918     -0.048411  ...   0.079279     -0.465765 -1.120315\n",
              "1     0.338053 -0.207748     -0.266765  ...  -0.075010     -1.445372  0.682945\n",
              "2    -0.184205  1.127906     -0.988286  ...   0.850727      1.055205 -0.373087\n",
              "...        ...       ...           ...  ...        ...           ...       ...\n",
              "1997 -2.826971  1.513363     -0.371196  ...  -1.566477      1.184101 -0.969344\n",
              "1998  1.093101 -1.274478     -0.062651  ...   0.387858      0.230272 -0.864885\n",
              "1999  0.447425 -0.351174     -0.869615  ...   0.593578     -0.156415  0.962774\n",
              "\n",
              "[2000 rows x 9 columns]"
            ]
          },
          "metadata": {
            "tags": []
          }
        }
      ]
    },
    {
      "cell_type": "code",
      "metadata": {
        "id": "gbEyNJ_EV9wD"
      },
      "source": [
        "target = data['income'].values"
      ],
      "execution_count": null,
      "outputs": []
    },
    {
      "cell_type": "code",
      "metadata": {
        "id": "u_7KPZhiWEmP"
      },
      "source": [
        "data.drop('income', axis = 1, inplace = True)"
      ],
      "execution_count": null,
      "outputs": []
    },
    {
      "cell_type": "code",
      "metadata": {
        "id": "72xZDWGvWOAv"
      },
      "source": [
        "data = pd.concat([data, area_d, job_cat,product_d, subscriptions_d], axis = 1)"
      ],
      "execution_count": null,
      "outputs": []
    },
    {
      "cell_type": "code",
      "metadata": {
        "colab": {
          "base_uri": "https://localhost:8080/",
          "height": 315
        },
        "id": "jTZGLaKAWavq",
        "outputId": "e8893fa5-0164-443b-ba4f-f1453fe6a02f"
      },
      "source": [
        "display(data)"
      ],
      "execution_count": null,
      "outputs": [
        {
          "output_type": "display_data",
          "data": {
            "text/html": [
              "<div>\n",
              "<style scoped>\n",
              "    .dataframe tbody tr th:only-of-type {\n",
              "        vertical-align: middle;\n",
              "    }\n",
              "\n",
              "    .dataframe tbody tr th {\n",
              "        vertical-align: top;\n",
              "    }\n",
              "\n",
              "    .dataframe thead th {\n",
              "        text-align: right;\n",
              "    }\n",
              "</style>\n",
              "<table border=\"1\" class=\"dataframe\">\n",
              "  <thead>\n",
              "    <tr style=\"text-align: right;\">\n",
              "      <th></th>\n",
              "      <th>aspect</th>\n",
              "      <th>dist_healthy</th>\n",
              "      <th>save_rate</th>\n",
              "      <th>dist_unhealthy</th>\n",
              "      <th>age</th>\n",
              "      <th>pop_dense</th>\n",
              "      <th>retail_dense</th>\n",
              "      <th>crime</th>\n",
              "      <th>area_a</th>\n",
              "      <th>area_b</th>\n",
              "      <th>area_c</th>\n",
              "      <th>area_d</th>\n",
              "      <th>job_11</th>\n",
              "      <th>job_al</th>\n",
              "      <th>job_am</th>\n",
              "      <th>job_ax</th>\n",
              "      <th>job_bf</th>\n",
              "      <th>job_by</th>\n",
              "      <th>job_cv</th>\n",
              "      <th>job_de</th>\n",
              "      <th>job_dz</th>\n",
              "      <th>job_e2</th>\n",
              "      <th>job_f8</th>\n",
              "      <th>job_gj</th>\n",
              "      <th>job_gv</th>\n",
              "      <th>job_kd</th>\n",
              "      <th>job_ke</th>\n",
              "      <th>job_kl</th>\n",
              "      <th>job_kp</th>\n",
              "      <th>job_ks</th>\n",
              "      <th>job_kw</th>\n",
              "      <th>job_mm</th>\n",
              "      <th>job_nb</th>\n",
              "      <th>job_nn</th>\n",
              "      <th>job_ob</th>\n",
              "      <th>job_pe</th>\n",
              "      <th>job_po</th>\n",
              "      <th>job_pq</th>\n",
              "      <th>job_pz</th>\n",
              "      <th>job_qp</th>\n",
              "      <th>job_qw</th>\n",
              "      <th>job_rn</th>\n",
              "      <th>job_sa</th>\n",
              "      <th>job_vv</th>\n",
              "      <th>job_zz</th>\n",
              "      <th>product_a</th>\n",
              "      <th>product_b</th>\n",
              "      <th>product_c</th>\n",
              "      <th>product_d</th>\n",
              "      <th>product_e</th>\n",
              "      <th>product_f</th>\n",
              "      <th>product_g</th>\n",
              "      <th>subscription_0</th>\n",
              "      <th>subscription_1</th>\n",
              "      <th>subscription_2</th>\n",
              "      <th>subscription_3</th>\n",
              "      <th>subscription_4</th>\n",
              "      <th>subscription_5</th>\n",
              "    </tr>\n",
              "  </thead>\n",
              "  <tbody>\n",
              "    <tr>\n",
              "      <th>0</th>\n",
              "      <td>-0.664918</td>\n",
              "      <td>-0.048411</td>\n",
              "      <td>-0.215764</td>\n",
              "      <td>-0.314089</td>\n",
              "      <td>0.854321</td>\n",
              "      <td>0.079279</td>\n",
              "      <td>-0.465765</td>\n",
              "      <td>-1.120315</td>\n",
              "      <td>0</td>\n",
              "      <td>0</td>\n",
              "      <td>1</td>\n",
              "      <td>0</td>\n",
              "      <td>0</td>\n",
              "      <td>0</td>\n",
              "      <td>0</td>\n",
              "      <td>0</td>\n",
              "      <td>0</td>\n",
              "      <td>0</td>\n",
              "      <td>0</td>\n",
              "      <td>0</td>\n",
              "      <td>0</td>\n",
              "      <td>0</td>\n",
              "      <td>0</td>\n",
              "      <td>0</td>\n",
              "      <td>0</td>\n",
              "      <td>0</td>\n",
              "      <td>0</td>\n",
              "      <td>0</td>\n",
              "      <td>0</td>\n",
              "      <td>0</td>\n",
              "      <td>0</td>\n",
              "      <td>0</td>\n",
              "      <td>0</td>\n",
              "      <td>0</td>\n",
              "      <td>0</td>\n",
              "      <td>0</td>\n",
              "      <td>0</td>\n",
              "      <td>0</td>\n",
              "      <td>0</td>\n",
              "      <td>0</td>\n",
              "      <td>0</td>\n",
              "      <td>0</td>\n",
              "      <td>0</td>\n",
              "      <td>1</td>\n",
              "      <td>0</td>\n",
              "      <td>0</td>\n",
              "      <td>1</td>\n",
              "      <td>0</td>\n",
              "      <td>0</td>\n",
              "      <td>0</td>\n",
              "      <td>0</td>\n",
              "      <td>0</td>\n",
              "      <td>0</td>\n",
              "      <td>1</td>\n",
              "      <td>0</td>\n",
              "      <td>0</td>\n",
              "      <td>0</td>\n",
              "      <td>0</td>\n",
              "    </tr>\n",
              "    <tr>\n",
              "      <th>1</th>\n",
              "      <td>-0.207748</td>\n",
              "      <td>-0.266765</td>\n",
              "      <td>0.196869</td>\n",
              "      <td>-0.915161</td>\n",
              "      <td>1.394432</td>\n",
              "      <td>-0.075010</td>\n",
              "      <td>-1.445372</td>\n",
              "      <td>0.682945</td>\n",
              "      <td>0</td>\n",
              "      <td>0</td>\n",
              "      <td>1</td>\n",
              "      <td>0</td>\n",
              "      <td>0</td>\n",
              "      <td>0</td>\n",
              "      <td>0</td>\n",
              "      <td>0</td>\n",
              "      <td>0</td>\n",
              "      <td>0</td>\n",
              "      <td>0</td>\n",
              "      <td>0</td>\n",
              "      <td>0</td>\n",
              "      <td>0</td>\n",
              "      <td>0</td>\n",
              "      <td>0</td>\n",
              "      <td>0</td>\n",
              "      <td>1</td>\n",
              "      <td>0</td>\n",
              "      <td>0</td>\n",
              "      <td>0</td>\n",
              "      <td>0</td>\n",
              "      <td>0</td>\n",
              "      <td>0</td>\n",
              "      <td>0</td>\n",
              "      <td>0</td>\n",
              "      <td>0</td>\n",
              "      <td>0</td>\n",
              "      <td>0</td>\n",
              "      <td>0</td>\n",
              "      <td>0</td>\n",
              "      <td>0</td>\n",
              "      <td>0</td>\n",
              "      <td>0</td>\n",
              "      <td>0</td>\n",
              "      <td>0</td>\n",
              "      <td>0</td>\n",
              "      <td>0</td>\n",
              "      <td>0</td>\n",
              "      <td>1</td>\n",
              "      <td>0</td>\n",
              "      <td>0</td>\n",
              "      <td>0</td>\n",
              "      <td>0</td>\n",
              "      <td>0</td>\n",
              "      <td>0</td>\n",
              "      <td>1</td>\n",
              "      <td>0</td>\n",
              "      <td>0</td>\n",
              "      <td>0</td>\n",
              "    </tr>\n",
              "    <tr>\n",
              "      <th>2</th>\n",
              "      <td>1.127906</td>\n",
              "      <td>-0.988286</td>\n",
              "      <td>-0.714362</td>\n",
              "      <td>-0.078604</td>\n",
              "      <td>-0.495957</td>\n",
              "      <td>0.850727</td>\n",
              "      <td>1.055205</td>\n",
              "      <td>-0.373087</td>\n",
              "      <td>0</td>\n",
              "      <td>0</td>\n",
              "      <td>1</td>\n",
              "      <td>0</td>\n",
              "      <td>0</td>\n",
              "      <td>0</td>\n",
              "      <td>0</td>\n",
              "      <td>0</td>\n",
              "      <td>0</td>\n",
              "      <td>0</td>\n",
              "      <td>0</td>\n",
              "      <td>0</td>\n",
              "      <td>0</td>\n",
              "      <td>0</td>\n",
              "      <td>0</td>\n",
              "      <td>0</td>\n",
              "      <td>0</td>\n",
              "      <td>0</td>\n",
              "      <td>0</td>\n",
              "      <td>0</td>\n",
              "      <td>0</td>\n",
              "      <td>0</td>\n",
              "      <td>0</td>\n",
              "      <td>0</td>\n",
              "      <td>0</td>\n",
              "      <td>0</td>\n",
              "      <td>0</td>\n",
              "      <td>1</td>\n",
              "      <td>0</td>\n",
              "      <td>0</td>\n",
              "      <td>0</td>\n",
              "      <td>0</td>\n",
              "      <td>0</td>\n",
              "      <td>0</td>\n",
              "      <td>0</td>\n",
              "      <td>0</td>\n",
              "      <td>0</td>\n",
              "      <td>0</td>\n",
              "      <td>1</td>\n",
              "      <td>0</td>\n",
              "      <td>0</td>\n",
              "      <td>0</td>\n",
              "      <td>0</td>\n",
              "      <td>0</td>\n",
              "      <td>0</td>\n",
              "      <td>1</td>\n",
              "      <td>0</td>\n",
              "      <td>0</td>\n",
              "      <td>0</td>\n",
              "      <td>0</td>\n",
              "    </tr>\n",
              "    <tr>\n",
              "      <th>...</th>\n",
              "      <td>...</td>\n",
              "      <td>...</td>\n",
              "      <td>...</td>\n",
              "      <td>...</td>\n",
              "      <td>...</td>\n",
              "      <td>...</td>\n",
              "      <td>...</td>\n",
              "      <td>...</td>\n",
              "      <td>...</td>\n",
              "      <td>...</td>\n",
              "      <td>...</td>\n",
              "      <td>...</td>\n",
              "      <td>...</td>\n",
              "      <td>...</td>\n",
              "      <td>...</td>\n",
              "      <td>...</td>\n",
              "      <td>...</td>\n",
              "      <td>...</td>\n",
              "      <td>...</td>\n",
              "      <td>...</td>\n",
              "      <td>...</td>\n",
              "      <td>...</td>\n",
              "      <td>...</td>\n",
              "      <td>...</td>\n",
              "      <td>...</td>\n",
              "      <td>...</td>\n",
              "      <td>...</td>\n",
              "      <td>...</td>\n",
              "      <td>...</td>\n",
              "      <td>...</td>\n",
              "      <td>...</td>\n",
              "      <td>...</td>\n",
              "      <td>...</td>\n",
              "      <td>...</td>\n",
              "      <td>...</td>\n",
              "      <td>...</td>\n",
              "      <td>...</td>\n",
              "      <td>...</td>\n",
              "      <td>...</td>\n",
              "      <td>...</td>\n",
              "      <td>...</td>\n",
              "      <td>...</td>\n",
              "      <td>...</td>\n",
              "      <td>...</td>\n",
              "      <td>...</td>\n",
              "      <td>...</td>\n",
              "      <td>...</td>\n",
              "      <td>...</td>\n",
              "      <td>...</td>\n",
              "      <td>...</td>\n",
              "      <td>...</td>\n",
              "      <td>...</td>\n",
              "      <td>...</td>\n",
              "      <td>...</td>\n",
              "      <td>...</td>\n",
              "      <td>...</td>\n",
              "      <td>...</td>\n",
              "      <td>...</td>\n",
              "    </tr>\n",
              "    <tr>\n",
              "      <th>1997</th>\n",
              "      <td>1.513363</td>\n",
              "      <td>-0.371196</td>\n",
              "      <td>0.884591</td>\n",
              "      <td>-1.180569</td>\n",
              "      <td>-2.656402</td>\n",
              "      <td>-1.566477</td>\n",
              "      <td>1.184101</td>\n",
              "      <td>-0.969344</td>\n",
              "      <td>0</td>\n",
              "      <td>0</td>\n",
              "      <td>0</td>\n",
              "      <td>1</td>\n",
              "      <td>0</td>\n",
              "      <td>0</td>\n",
              "      <td>0</td>\n",
              "      <td>0</td>\n",
              "      <td>0</td>\n",
              "      <td>0</td>\n",
              "      <td>0</td>\n",
              "      <td>0</td>\n",
              "      <td>0</td>\n",
              "      <td>0</td>\n",
              "      <td>0</td>\n",
              "      <td>0</td>\n",
              "      <td>0</td>\n",
              "      <td>0</td>\n",
              "      <td>0</td>\n",
              "      <td>1</td>\n",
              "      <td>0</td>\n",
              "      <td>0</td>\n",
              "      <td>0</td>\n",
              "      <td>0</td>\n",
              "      <td>0</td>\n",
              "      <td>0</td>\n",
              "      <td>0</td>\n",
              "      <td>0</td>\n",
              "      <td>0</td>\n",
              "      <td>0</td>\n",
              "      <td>0</td>\n",
              "      <td>0</td>\n",
              "      <td>0</td>\n",
              "      <td>0</td>\n",
              "      <td>0</td>\n",
              "      <td>0</td>\n",
              "      <td>0</td>\n",
              "      <td>0</td>\n",
              "      <td>0</td>\n",
              "      <td>0</td>\n",
              "      <td>0</td>\n",
              "      <td>0</td>\n",
              "      <td>1</td>\n",
              "      <td>0</td>\n",
              "      <td>0</td>\n",
              "      <td>0</td>\n",
              "      <td>0</td>\n",
              "      <td>1</td>\n",
              "      <td>0</td>\n",
              "      <td>0</td>\n",
              "    </tr>\n",
              "    <tr>\n",
              "      <th>1998</th>\n",
              "      <td>-1.274478</td>\n",
              "      <td>-0.062651</td>\n",
              "      <td>-0.370502</td>\n",
              "      <td>-1.344498</td>\n",
              "      <td>0.044154</td>\n",
              "      <td>0.387858</td>\n",
              "      <td>0.230272</td>\n",
              "      <td>-0.864885</td>\n",
              "      <td>0</td>\n",
              "      <td>0</td>\n",
              "      <td>1</td>\n",
              "      <td>0</td>\n",
              "      <td>0</td>\n",
              "      <td>0</td>\n",
              "      <td>0</td>\n",
              "      <td>0</td>\n",
              "      <td>0</td>\n",
              "      <td>0</td>\n",
              "      <td>0</td>\n",
              "      <td>0</td>\n",
              "      <td>0</td>\n",
              "      <td>0</td>\n",
              "      <td>0</td>\n",
              "      <td>0</td>\n",
              "      <td>0</td>\n",
              "      <td>0</td>\n",
              "      <td>0</td>\n",
              "      <td>0</td>\n",
              "      <td>0</td>\n",
              "      <td>0</td>\n",
              "      <td>0</td>\n",
              "      <td>0</td>\n",
              "      <td>0</td>\n",
              "      <td>0</td>\n",
              "      <td>0</td>\n",
              "      <td>0</td>\n",
              "      <td>0</td>\n",
              "      <td>0</td>\n",
              "      <td>0</td>\n",
              "      <td>1</td>\n",
              "      <td>0</td>\n",
              "      <td>0</td>\n",
              "      <td>0</td>\n",
              "      <td>0</td>\n",
              "      <td>0</td>\n",
              "      <td>0</td>\n",
              "      <td>0</td>\n",
              "      <td>1</td>\n",
              "      <td>0</td>\n",
              "      <td>0</td>\n",
              "      <td>0</td>\n",
              "      <td>0</td>\n",
              "      <td>1</td>\n",
              "      <td>0</td>\n",
              "      <td>0</td>\n",
              "      <td>0</td>\n",
              "      <td>0</td>\n",
              "      <td>0</td>\n",
              "    </tr>\n",
              "    <tr>\n",
              "      <th>1999</th>\n",
              "      <td>-0.351174</td>\n",
              "      <td>-0.869615</td>\n",
              "      <td>-0.679976</td>\n",
              "      <td>-0.598362</td>\n",
              "      <td>0.584265</td>\n",
              "      <td>0.593578</td>\n",
              "      <td>-0.156415</td>\n",
              "      <td>0.962774</td>\n",
              "      <td>0</td>\n",
              "      <td>0</td>\n",
              "      <td>1</td>\n",
              "      <td>0</td>\n",
              "      <td>0</td>\n",
              "      <td>0</td>\n",
              "      <td>0</td>\n",
              "      <td>0</td>\n",
              "      <td>0</td>\n",
              "      <td>0</td>\n",
              "      <td>0</td>\n",
              "      <td>0</td>\n",
              "      <td>0</td>\n",
              "      <td>0</td>\n",
              "      <td>0</td>\n",
              "      <td>0</td>\n",
              "      <td>0</td>\n",
              "      <td>0</td>\n",
              "      <td>0</td>\n",
              "      <td>0</td>\n",
              "      <td>0</td>\n",
              "      <td>0</td>\n",
              "      <td>0</td>\n",
              "      <td>0</td>\n",
              "      <td>0</td>\n",
              "      <td>0</td>\n",
              "      <td>0</td>\n",
              "      <td>1</td>\n",
              "      <td>0</td>\n",
              "      <td>0</td>\n",
              "      <td>0</td>\n",
              "      <td>0</td>\n",
              "      <td>0</td>\n",
              "      <td>0</td>\n",
              "      <td>0</td>\n",
              "      <td>0</td>\n",
              "      <td>0</td>\n",
              "      <td>0</td>\n",
              "      <td>0</td>\n",
              "      <td>1</td>\n",
              "      <td>0</td>\n",
              "      <td>0</td>\n",
              "      <td>0</td>\n",
              "      <td>0</td>\n",
              "      <td>1</td>\n",
              "      <td>0</td>\n",
              "      <td>0</td>\n",
              "      <td>0</td>\n",
              "      <td>0</td>\n",
              "      <td>0</td>\n",
              "    </tr>\n",
              "  </tbody>\n",
              "</table>\n",
              "<p>2000 rows × 58 columns</p>\n",
              "</div>"
            ],
            "text/plain": [
              "        aspect  dist_healthy  ...  subscription_4  subscription_5\n",
              "0    -0.664918     -0.048411  ...               0               0\n",
              "1    -0.207748     -0.266765  ...               0               0\n",
              "2     1.127906     -0.988286  ...               0               0\n",
              "...        ...           ...  ...             ...             ...\n",
              "1997  1.513363     -0.371196  ...               0               0\n",
              "1998 -1.274478     -0.062651  ...               0               0\n",
              "1999 -0.351174     -0.869615  ...               0               0\n",
              "\n",
              "[2000 rows x 58 columns]"
            ]
          },
          "metadata": {
            "tags": []
          }
        }
      ]
    },
    {
      "cell_type": "code",
      "metadata": {
        "id": "PUOyGX4OWg_6"
      },
      "source": [
        "x = data.values"
      ],
      "execution_count": null,
      "outputs": []
    },
    {
      "cell_type": "code",
      "metadata": {
        "colab": {
          "base_uri": "https://localhost:8080/"
        },
        "id": "K9qko5sFWofh",
        "outputId": "94e8299f-9f73-4b78-b790-13de03b16621"
      },
      "source": [
        "print(f\"x_shape: {x.shape}, target_shape: {target.shape}\")"
      ],
      "execution_count": null,
      "outputs": [
        {
          "output_type": "stream",
          "text": [
            "x_shape: (2000, 58), target_shape: (2000,)\n"
          ],
          "name": "stdout"
        }
      ]
    },
    {
      "cell_type": "code",
      "metadata": {
        "id": "l8jYz2ihWzsL"
      },
      "source": [
        "#Split the data into training-validation sets:\n",
        "from sklearn.model_selection import train_test_split"
      ],
      "execution_count": null,
      "outputs": []
    },
    {
      "cell_type": "code",
      "metadata": {
        "id": "XXa0EaDiXFKy"
      },
      "source": [
        "x_train, x_test, y_train, y_test = train_test_split(x, target, test_size = 0.2)"
      ],
      "execution_count": null,
      "outputs": []
    },
    {
      "cell_type": "code",
      "metadata": {
        "colab": {
          "base_uri": "https://localhost:8080/"
        },
        "id": "jenVsbLbXWAp",
        "outputId": "57a9ea34-9863-4b48-e219-14e8223c888c"
      },
      "source": [
        "print(f\"x_train_shape: {x_train.shape}, y_train_shape: {y_train.shape}\\nx_test_shape: {x_test.shape}, y_test_shape: {y_test.shape}\")"
      ],
      "execution_count": null,
      "outputs": [
        {
          "output_type": "stream",
          "text": [
            "x_train_shape: (1600, 58), y_train_shape: (1600,)\n",
            "x_test_shape: (400, 58), y_test_shape: (400,)\n"
          ],
          "name": "stdout"
        }
      ]
    },
    {
      "cell_type": "code",
      "metadata": {
        "colab": {
          "base_uri": "https://localhost:8080/"
        },
        "id": "hmkGFkpLXs_x",
        "outputId": "e76a42d4-e997-4c13-d84d-46c4fe8b6a90"
      },
      "source": [
        "#Convert into tensorflow datatype:\n",
        "BUFFER = 1024\n",
        "BATCH_SIZE = 16\n",
        "EPOCHS = 30\n",
        "train_data = tf.data.Dataset.from_tensor_slices((x_train, y_train))\n",
        "train_data = train_data.shuffle(BUFFER).batch(batch_size = BATCH_SIZE, drop_remainder = True)\n",
        "validation_data = tf.data.Dataset.from_tensor_slices((x_test, y_test))\n",
        "validation_data = validation_data.shuffle(BUFFER).batch(batch_size = BATCH_SIZE, drop_remainder = True)\n",
        "x_train_batch_sample, y_train_batch_sample = next(iter(train_data))\n",
        "print(f\"x_batch_sample_shape: {x_train_batch_sample.shape}\\ny_batch_sample_shape: {y_train_batch_sample.shape}\")"
      ],
      "execution_count": null,
      "outputs": [
        {
          "output_type": "stream",
          "text": [
            "x_batch_sample_shape: (16, 58)\n",
            "y_batch_sample_shape: (16,)\n"
          ],
          "name": "stdout"
        }
      ]
    },
    {
      "cell_type": "code",
      "metadata": {
        "id": "5WWnZS8gZjpH"
      },
      "source": [
        "#We now build our MLP with few layers to train a model that predict income of an individual\n",
        "#based on the derived features above:"
      ],
      "execution_count": null,
      "outputs": []
    },
    {
      "cell_type": "code",
      "metadata": {
        "colab": {
          "base_uri": "https://localhost:8080/",
          "height": 694
        },
        "id": "eRbpqKLEZ0lE",
        "outputId": "24534016-636d-4fba-a1b4-e9d6a2b886ec"
      },
      "source": [
        "inputs = tf.keras.Input(shape = (58,), name = 'input_dim')\n",
        "x = tf.keras.layers.Dense(units = 128, kernel_initializer = 'random_normal', activation = 'relu',name = 'dense1')(inputs)\n",
        "x = tf.keras.layers.Dense(units = 64, kernel_initializer = 'random_normal', activation = 'relu', name = 'dense2')(x)\n",
        "outputs = tf.keras.layers.Dense(units = 1)(x)\n",
        "model = tf.keras.Model(inputs = inputs, outputs = outputs, name = 'mlp_income')\n",
        "model.summary()\n",
        "tf.keras.utils.plot_model(model = model, to_file = 'mlp_income.png', show_shapes = True)"
      ],
      "execution_count": null,
      "outputs": [
        {
          "output_type": "stream",
          "text": [
            "Model: \"mlp_income\"\n",
            "_________________________________________________________________\n",
            "Layer (type)                 Output Shape              Param #   \n",
            "=================================================================\n",
            "input_dim (InputLayer)       [(None, 58)]              0         \n",
            "_________________________________________________________________\n",
            "dense1 (Dense)               (None, 128)               7552      \n",
            "_________________________________________________________________\n",
            "dense2 (Dense)               (None, 64)                8256      \n",
            "_________________________________________________________________\n",
            "dense (Dense)                (None, 1)                 65        \n",
            "=================================================================\n",
            "Total params: 15,873\n",
            "Trainable params: 15,873\n",
            "Non-trainable params: 0\n",
            "_________________________________________________________________\n"
          ],
          "name": "stdout"
        },
        {
          "output_type": "execute_result",
          "data": {
            "image/png": "[encoded data removed]",
            "text/plain": [
              "<IPython.core.display.Image object>"
            ]
          },
          "metadata": {
            "tags": []
          },
          "execution_count": 43
        }
      ]
    },
    {
      "cell_type": "code",
      "metadata": {
        "id": "j9Y0z9hHdnFT"
      },
      "source": [
        "#We can now compile and training our model as follows:\n",
        "model.compile(optimizer = tf.keras.optimizers.RMSprop(learning_rate = 1e-3),\n",
        "              loss = tf.keras.losses.MeanSquaredError())"
      ],
      "execution_count": null,
      "outputs": []
    },
    {
      "cell_type": "code",
      "metadata": {
        "colab": {
          "base_uri": "https://localhost:8080/"
        },
        "id": "-mCeud3ufdL_",
        "outputId": "6a38302b-1434-4b01-acb6-4b809d129594"
      },
      "source": [
        "model.fit(x_train, y_train, validation_data = (x_test, y_test), verbose = 2, epochs = EPOCHS, batch_size=BATCH_SIZE)"
      ],
      "execution_count": null,
      "outputs": [
        {
          "output_type": "stream",
          "text": [
            "Epoch 1/30\n",
            "100/100 - 1s - loss: 0.3873 - val_loss: 0.2319\n",
            "Epoch 2/30\n",
            "100/100 - 0s - loss: 0.1931 - val_loss: 0.2125\n",
            "Epoch 3/30\n",
            "100/100 - 0s - loss: 0.1672 - val_loss: 0.2029\n",
            "Epoch 4/30\n",
            "100/100 - 0s - loss: 0.1571 - val_loss: 0.2031\n",
            "Epoch 5/30\n",
            "100/100 - 0s - loss: 0.1498 - val_loss: 0.1951\n",
            "Epoch 6/30\n",
            "100/100 - 0s - loss: 0.1399 - val_loss: 0.2261\n",
            "Epoch 7/30\n",
            "100/100 - 0s - loss: 0.1377 - val_loss: 0.2026\n",
            "Epoch 8/30\n",
            "100/100 - 0s - loss: 0.1304 - val_loss: 0.1934\n",
            "Epoch 9/30\n",
            "100/100 - 0s - loss: 0.1268 - val_loss: 0.1909\n",
            "Epoch 10/30\n",
            "100/100 - 0s - loss: 0.1197 - val_loss: 0.2061\n",
            "Epoch 11/30\n",
            "100/100 - 0s - loss: 0.1194 - val_loss: 0.2015\n",
            "Epoch 12/30\n",
            "100/100 - 0s - loss: 0.1139 - val_loss: 0.2132\n",
            "Epoch 13/30\n",
            "100/100 - 0s - loss: 0.1121 - val_loss: 0.1918\n",
            "Epoch 14/30\n",
            "100/100 - 0s - loss: 0.1061 - val_loss: 0.2046\n",
            "Epoch 15/30\n",
            "100/100 - 0s - loss: 0.1077 - val_loss: 0.1945\n",
            "Epoch 16/30\n",
            "100/100 - 0s - loss: 0.1044 - val_loss: 0.2019\n",
            "Epoch 17/30\n",
            "100/100 - 0s - loss: 0.1004 - val_loss: 0.1941\n",
            "Epoch 18/30\n",
            "100/100 - 0s - loss: 0.0961 - val_loss: 0.2080\n",
            "Epoch 19/30\n",
            "100/100 - 0s - loss: 0.0941 - val_loss: 0.2055\n",
            "Epoch 20/30\n",
            "100/100 - 0s - loss: 0.0906 - val_loss: 0.2110\n",
            "Epoch 21/30\n",
            "100/100 - 0s - loss: 0.0901 - val_loss: 0.1963\n",
            "Epoch 22/30\n",
            "100/100 - 0s - loss: 0.0874 - val_loss: 0.2286\n",
            "Epoch 23/30\n",
            "100/100 - 0s - loss: 0.0850 - val_loss: 0.2223\n",
            "Epoch 24/30\n",
            "100/100 - 0s - loss: 0.0812 - val_loss: 0.2044\n",
            "Epoch 25/30\n",
            "100/100 - 0s - loss: 0.0824 - val_loss: 0.2114\n",
            "Epoch 26/30\n",
            "100/100 - 0s - loss: 0.0756 - val_loss: 0.2311\n",
            "Epoch 27/30\n",
            "100/100 - 0s - loss: 0.0757 - val_loss: 0.2290\n",
            "Epoch 28/30\n",
            "100/100 - 0s - loss: 0.0716 - val_loss: 0.2238\n",
            "Epoch 29/30\n",
            "100/100 - 0s - loss: 0.0719 - val_loss: 0.2166\n",
            "Epoch 30/30\n",
            "100/100 - 0s - loss: 0.0702 - val_loss: 0.2175\n"
          ],
          "name": "stdout"
        },
        {
          "output_type": "execute_result",
          "data": {
            "text/plain": [
              "<tensorflow.python.keras.callbacks.History at 0x7fbf0cea3ad0>"
            ]
          },
          "metadata": {
            "tags": []
          },
          "execution_count": 45
        }
      ]
    },
    {
      "cell_type": "code",
      "metadata": {
        "id": "IcuNJGHAfv4u"
      },
      "source": [
        "preds = model.predict(x_test)"
      ],
      "execution_count": null,
      "outputs": []
    },
    {
      "cell_type": "code",
      "metadata": {
        "id": "wguIfXH9f7Do"
      },
      "source": [
        "from sklearn.metrics import mean_squared_error"
      ],
      "execution_count": null,
      "outputs": []
    },
    {
      "cell_type": "code",
      "metadata": {
        "id": "H4e6X615gQzH"
      },
      "source": [
        "se = np.sqrt(mean_squared_error(preds, y_test))"
      ],
      "execution_count": null,
      "outputs": []
    },
    {
      "cell_type": "code",
      "metadata": {
        "colab": {
          "base_uri": "https://localhost:8080/"
        },
        "id": "Lj-oa-K8gbMs",
        "outputId": "3a9d1140-31ab-4173-cd8c-26bd442df939"
      },
      "source": [
        "print(f\"The standard error for the prediction is : {se:.4f}\")"
      ],
      "execution_count": null,
      "outputs": [
        {
          "output_type": "stream",
          "text": [
            "The standard error for the prediction is : 0.4664\n"
          ],
          "name": "stdout"
        }
      ]
    },
    {
      "cell_type": "code",
      "metadata": {
        "id": "_lOZ_HuuglUX"
      },
      "source": [
        "#We can plot the lift chart to see how well our predictions are close to reality:"
      ],
      "execution_count": null,
      "outputs": []
    },
    {
      "cell_type": "code",
      "metadata": {
        "id": "L9d2GwMUhWTc"
      },
      "source": [
        "def lift_plot(pred, y, sort = True):\n",
        "  data = pd.DataFrame({'y': y.flatten(), 'pred': pred})\n",
        "  if sort:\n",
        "    data.sort_values(by = ['y'], inplace = True)\n",
        "  plt.plot(data['y'].to_list(), label = 'true value')\n",
        "  plt.plot(data['pred'].to_list(), label = 'predictions')\n",
        "  plt.ylabel('output')\n",
        "  plt.title('The lift chart')\n",
        "  plt.legend()\n",
        "  plt.show()\n"
      ],
      "execution_count": null,
      "outputs": []
    },
    {
      "cell_type": "code",
      "metadata": {
        "colab": {
          "base_uri": "https://localhost:8080/",
          "height": 279
        },
        "id": "Aw_pUDf5jABD",
        "outputId": "66d0ec4b-df5b-4f3b-de65-ecba915d5432"
      },
      "source": [
        "lift_plot(preds.flatten(), y_test)"
      ],
      "execution_count": null,
      "outputs": [
        {
          "output_type": "display_data",
          "data": {
            "image/png": "[encoded data removed]",
            "text/plain": [
              "<Figure size 432x288 with 1 Axes>"
            ]
          },
          "metadata": {
            "tags": [],
            "needs_background": "light"
          }
        }
      ]
    },
    {
      "cell_type": "code",
      "metadata": {
        "id": "Vr84p7FhjLoc"
      },
      "source": [
        "#We can see from the plot that our prediction and true values for income \n",
        "#fits well arround midd-range and slight variations at the starting and ending"
      ],
      "execution_count": null,
      "outputs": []
    }
  ]
}