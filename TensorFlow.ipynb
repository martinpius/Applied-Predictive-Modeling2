{
  "nbformat": 4,
  "nbformat_minor": 0,
  "metadata": {
    "colab": {
      "name": "TensorFlow.ipynb",
      "provenance": [],
      "authorship_tag": "ABX9TyNenZFo6KX7ru085SP5vxdD",
      "include_colab_link": true
    },
    "kernelspec": {
      "name": "python3",
      "display_name": "Python 3"
    }
  },
  "cells": [
    {
      "cell_type": "markdown",
      "metadata": {
        "id": "view-in-github",
        "colab_type": "text"
      },
      "source": [
        "<a href=\"https://colab.research.google.com/github/martinpius/Applied-Predictive-Modeling2/blob/master/TensorFlow.ipynb\" target=\"_parent\"><img src=\"https://colab.research.google.com/assets/colab-badge.svg\" alt=\"Open In Colab\"/></a>"
      ]
    },
    {
      "cell_type": "code",
      "metadata": {
        "id": "AmZkx8YQ3jl6",
        "outputId": "f8b3b7a4-689f-48e9-8046-a522c2dc7212",
        "colab": {
          "base_uri": "https://localhost:8080/"
        }
      },
      "source": [
        "from google.colab import drive\n",
        "try:\n",
        "  drive.mount(\"/content/drive\", force_remount = True)\n",
        "  import tensorflow as tf\n",
        "  COLAB = True\n",
        "  print(f\"You are using google colab with tensorflow version: {tf.__version__}\")\n",
        "except:\n",
        "  COLAB = False\n",
        "  print(\"You are not using Colab:-->Import drive to set\")"
      ],
      "execution_count": 1,
      "outputs": [
        {
          "output_type": "stream",
          "text": [
            "Mounted at /content/drive\n",
            "You are using google colab with tensorflow version: 2.3.0\n"
          ],
          "name": "stdout"
        }
      ]
    },
    {
      "cell_type": "code",
      "metadata": {
        "id": "QZmkjnuZ4cZQ"
      },
      "source": [
        "def time_set(x):\n",
        "  h = int(x/(60 * 60))\n",
        "  m = int(x % (60 * 60)/60)\n",
        "  s = int(x%60)\n",
        "  return f\"h: {h}: m: {m:>03}: s: {s:>05.2f}\""
      ],
      "execution_count": 2,
      "outputs": []
    },
    {
      "cell_type": "code",
      "metadata": {
        "id": "P3Tisctg5St4",
        "outputId": "1dd73ef4-f8d2-4dbc-eff4-ece872123c8e",
        "colab": {
          "base_uri": "https://localhost:8080/"
        }
      },
      "source": [
        "import tensorflow as tf\n",
        "print(tf.dtypes.DType)"
      ],
      "execution_count": 3,
      "outputs": [
        {
          "output_type": "stream",
          "text": [
            "<class 'tensorflow.python.framework.dtypes.DType'>\n"
          ],
          "name": "stdout"
        }
      ]
    },
    {
      "cell_type": "code",
      "metadata": {
        "id": "VHwkCU2z5zsV",
        "outputId": "e8ee1336-9d75-4efb-c45d-ea616f95bcd1",
        "colab": {
          "base_uri": "https://localhost:8080/"
        }
      },
      "source": [
        "s = tf.constant(10)\n",
        "print(s)"
      ],
      "execution_count": 4,
      "outputs": [
        {
          "output_type": "stream",
          "text": [
            "tf.Tensor(10, shape=(), dtype=int32)\n"
          ],
          "name": "stdout"
        }
      ]
    },
    {
      "cell_type": "code",
      "metadata": {
        "id": "fQu6lAsM6VWF"
      },
      "source": [
        "s = tf.constant([[1,2,3],[3,4,5],[5,6,7]], dtype = 'float32',name ='sample1' )"
      ],
      "execution_count": 5,
      "outputs": []
    },
    {
      "cell_type": "code",
      "metadata": {
        "id": "dn1NvWYM6uBT",
        "outputId": "0898f493-26c3-48af-82e2-853b772666b4",
        "colab": {
          "base_uri": "https://localhost:8080/"
        }
      },
      "source": [
        "s"
      ],
      "execution_count": 6,
      "outputs": [
        {
          "output_type": "execute_result",
          "data": {
            "text/plain": [
              "<tf.Tensor: shape=(3, 3), dtype=float32, numpy=\n",
              "array([[1., 2., 3.],\n",
              "       [3., 4., 5.],\n",
              "       [5., 6., 7.]], dtype=float32)>"
            ]
          },
          "metadata": {
            "tags": []
          },
          "execution_count": 6
        }
      ]
    },
    {
      "cell_type": "code",
      "metadata": {
        "id": "90kQv3DI6u2E"
      },
      "source": [
        "rank1 = tf.constant([1,2,3,4], dtype = 'float32', name = 'rank1 tensor')"
      ],
      "execution_count": 7,
      "outputs": []
    },
    {
      "cell_type": "code",
      "metadata": {
        "id": "c-o3I5Ky7Hi6",
        "outputId": "fb44e238-69d7-4779-8c15-0eebfb925c6e",
        "colab": {
          "base_uri": "https://localhost:8080/"
        }
      },
      "source": [
        "rank1"
      ],
      "execution_count": 8,
      "outputs": [
        {
          "output_type": "execute_result",
          "data": {
            "text/plain": [
              "<tf.Tensor: shape=(4,), dtype=float32, numpy=array([1., 2., 3., 4.], dtype=float32)>"
            ]
          },
          "metadata": {
            "tags": []
          },
          "execution_count": 8
        }
      ]
    },
    {
      "cell_type": "code",
      "metadata": {
        "id": "O_8CwfeR7I9i"
      },
      "source": [
        "rank2 = tf.constant([[1,2],[3,4],[5,6],[7,8]], dtype = 'int32', name = 'matrix')"
      ],
      "execution_count": 9,
      "outputs": []
    },
    {
      "cell_type": "code",
      "metadata": {
        "id": "aRgkpL-n7dSF",
        "outputId": "f1534308-af6c-4e2a-f3a0-e949a950fbe8",
        "colab": {
          "base_uri": "https://localhost:8080/"
        }
      },
      "source": [
        "rank2"
      ],
      "execution_count": 10,
      "outputs": [
        {
          "output_type": "execute_result",
          "data": {
            "text/plain": [
              "<tf.Tensor: shape=(4, 2), dtype=int32, numpy=\n",
              "array([[1, 2],\n",
              "       [3, 4],\n",
              "       [5, 6],\n",
              "       [7, 8]], dtype=int32)>"
            ]
          },
          "metadata": {
            "tags": []
          },
          "execution_count": 10
        }
      ]
    },
    {
      "cell_type": "code",
      "metadata": {
        "id": "LkKaZ9Z078b2"
      },
      "source": [
        "rank3 = tf.constant([\n",
        "                     [[1,2,3,4],[5,6,7,8],\n",
        "                      [9,1,2,3],[10,11,12,14],\n",
        "                      [3,4,2,5],[14,5,12,3],]\n",
        "], dtype = tf.int16)"
      ],
      "execution_count": 11,
      "outputs": []
    },
    {
      "cell_type": "code",
      "metadata": {
        "id": "6cv_Hbrx7eWt",
        "outputId": "ad356205-82a9-4ac0-9a9c-ab7ef12d0266",
        "colab": {
          "base_uri": "https://localhost:8080/"
        }
      },
      "source": [
        "rank3"
      ],
      "execution_count": 12,
      "outputs": [
        {
          "output_type": "execute_result",
          "data": {
            "text/plain": [
              "<tf.Tensor: shape=(1, 6, 4), dtype=int16, numpy=\n",
              "array([[[ 1,  2,  3,  4],\n",
              "        [ 5,  6,  7,  8],\n",
              "        [ 9,  1,  2,  3],\n",
              "        [10, 11, 12, 14],\n",
              "        [ 3,  4,  2,  5],\n",
              "        [14,  5, 12,  3]]], dtype=int16)>"
            ]
          },
          "metadata": {
            "tags": []
          },
          "execution_count": 12
        }
      ]
    },
    {
      "cell_type": "code",
      "metadata": {
        "id": "SNKwas2W8dkA"
      },
      "source": [
        "rank3 = tf.reshape(rank3, shape = (3,2,4))"
      ],
      "execution_count": 13,
      "outputs": []
    },
    {
      "cell_type": "code",
      "metadata": {
        "id": "s_t3GWH4-djX",
        "outputId": "5c09a60e-b2f0-44a6-c208-7145c05a85d9",
        "colab": {
          "base_uri": "https://localhost:8080/"
        }
      },
      "source": [
        "rank3"
      ],
      "execution_count": 14,
      "outputs": [
        {
          "output_type": "execute_result",
          "data": {
            "text/plain": [
              "<tf.Tensor: shape=(3, 2, 4), dtype=int16, numpy=\n",
              "array([[[ 1,  2,  3,  4],\n",
              "        [ 5,  6,  7,  8]],\n",
              "\n",
              "       [[ 9,  1,  2,  3],\n",
              "        [10, 11, 12, 14]],\n",
              "\n",
              "       [[ 3,  4,  2,  5],\n",
              "        [14,  5, 12,  3]]], dtype=int16)>"
            ]
          },
          "metadata": {
            "tags": []
          },
          "execution_count": 14
        }
      ]
    },
    {
      "cell_type": "code",
      "metadata": {
        "id": "1qzUAZNv-gKy",
        "outputId": "8375d06d-a606-4c35-ecbb-cb8406ed2530",
        "colab": {
          "base_uri": "https://localhost:8080/"
        }
      },
      "source": [
        "rank3.shape[-1]"
      ],
      "execution_count": 15,
      "outputs": [
        {
          "output_type": "execute_result",
          "data": {
            "text/plain": [
              "4"
            ]
          },
          "metadata": {
            "tags": []
          },
          "execution_count": 15
        }
      ]
    },
    {
      "cell_type": "code",
      "metadata": {
        "id": "iph6ag6Q_lgO"
      },
      "source": [
        "data = rank3[0:rank3.shape[-1]]"
      ],
      "execution_count": 16,
      "outputs": []
    },
    {
      "cell_type": "code",
      "metadata": {
        "id": "ZFNXteqp_5N_",
        "outputId": "92ad6d17-2878-4e1e-fd0c-ef9d6043e70f",
        "colab": {
          "base_uri": "https://localhost:8080/"
        }
      },
      "source": [
        "data"
      ],
      "execution_count": 17,
      "outputs": [
        {
          "output_type": "execute_result",
          "data": {
            "text/plain": [
              "<tf.Tensor: shape=(3, 2, 4), dtype=int16, numpy=\n",
              "array([[[ 1,  2,  3,  4],\n",
              "        [ 5,  6,  7,  8]],\n",
              "\n",
              "       [[ 9,  1,  2,  3],\n",
              "        [10, 11, 12, 14]],\n",
              "\n",
              "       [[ 3,  4,  2,  5],\n",
              "        [14,  5, 12,  3]]], dtype=int16)>"
            ]
          },
          "metadata": {
            "tags": []
          },
          "execution_count": 17
        }
      ]
    },
    {
      "cell_type": "code",
      "metadata": {
        "id": "9oqg-GAiAj8P"
      },
      "source": [
        "rank3 = tf.reshape(rank3, shape = (3,2,4))"
      ],
      "execution_count": 18,
      "outputs": []
    },
    {
      "cell_type": "code",
      "metadata": {
        "id": "SWMkQtQ8CU1d",
        "outputId": "8ae3d8f2-5632-4fa5-fea4-9dea3cae3a31",
        "colab": {
          "base_uri": "https://localhost:8080/"
        }
      },
      "source": [
        "rank3"
      ],
      "execution_count": 19,
      "outputs": [
        {
          "output_type": "execute_result",
          "data": {
            "text/plain": [
              "<tf.Tensor: shape=(3, 2, 4), dtype=int16, numpy=\n",
              "array([[[ 1,  2,  3,  4],\n",
              "        [ 5,  6,  7,  8]],\n",
              "\n",
              "       [[ 9,  1,  2,  3],\n",
              "        [10, 11, 12, 14]],\n",
              "\n",
              "       [[ 3,  4,  2,  5],\n",
              "        [14,  5, 12,  3]]], dtype=int16)>"
            ]
          },
          "metadata": {
            "tags": []
          },
          "execution_count": 19
        }
      ]
    },
    {
      "cell_type": "code",
      "metadata": {
        "id": "4yWJuGhICWQx"
      },
      "source": [
        "tf1 = tf.constant([[1,2],[2,4]], dtype = tf.float32)"
      ],
      "execution_count": 20,
      "outputs": []
    },
    {
      "cell_type": "code",
      "metadata": {
        "id": "bTMfoiwMFdZj",
        "outputId": "edf5eb3d-97c4-443e-a5ff-132e5fabc877",
        "colab": {
          "base_uri": "https://localhost:8080/"
        }
      },
      "source": [
        "tf1"
      ],
      "execution_count": 21,
      "outputs": [
        {
          "output_type": "execute_result",
          "data": {
            "text/plain": [
              "<tf.Tensor: shape=(2, 2), dtype=float32, numpy=\n",
              "array([[1., 2.],\n",
              "       [2., 4.]], dtype=float32)>"
            ]
          },
          "metadata": {
            "tags": []
          },
          "execution_count": 21
        }
      ]
    },
    {
      "cell_type": "code",
      "metadata": {
        "id": "fpN250joFeVT"
      },
      "source": [
        "tf2 = tf.ones((2,2), dtype=tf.float32)"
      ],
      "execution_count": 22,
      "outputs": []
    },
    {
      "cell_type": "code",
      "metadata": {
        "id": "_0LyGvg7FsnG",
        "outputId": "aba93a12-0340-436b-a58b-614990d7ae56",
        "colab": {
          "base_uri": "https://localhost:8080/"
        }
      },
      "source": [
        "tf2"
      ],
      "execution_count": 23,
      "outputs": [
        {
          "output_type": "execute_result",
          "data": {
            "text/plain": [
              "<tf.Tensor: shape=(2, 2), dtype=float32, numpy=\n",
              "array([[1., 1.],\n",
              "       [1., 1.]], dtype=float32)>"
            ]
          },
          "metadata": {
            "tags": []
          },
          "execution_count": 23
        }
      ]
    },
    {
      "cell_type": "code",
      "metadata": {
        "id": "QgXtPPGFFtji",
        "outputId": "bb3f36b1-b7e5-4add-b3d8-eade7d15ffce",
        "colab": {
          "base_uri": "https://localhost:8080/"
        }
      },
      "source": [
        "tf.matmul(tf1, tf2)"
      ],
      "execution_count": 24,
      "outputs": [
        {
          "output_type": "execute_result",
          "data": {
            "text/plain": [
              "<tf.Tensor: shape=(2, 2), dtype=float32, numpy=\n",
              "array([[3., 3.],\n",
              "       [6., 6.]], dtype=float32)>"
            ]
          },
          "metadata": {
            "tags": []
          },
          "execution_count": 24
        }
      ]
    },
    {
      "cell_type": "code",
      "metadata": {
        "id": "DaAFbNcYF0o3",
        "outputId": "3d7d68c1-b25b-472a-ad32-6f816268dbf6",
        "colab": {
          "base_uri": "https://localhost:8080/"
        }
      },
      "source": [
        "tf.add(tf1, tf2\n",
        "       )"
      ],
      "execution_count": 25,
      "outputs": [
        {
          "output_type": "execute_result",
          "data": {
            "text/plain": [
              "<tf.Tensor: shape=(2, 2), dtype=float32, numpy=\n",
              "array([[2., 3.],\n",
              "       [3., 5.]], dtype=float32)>"
            ]
          },
          "metadata": {
            "tags": []
          },
          "execution_count": 25
        }
      ]
    },
    {
      "cell_type": "code",
      "metadata": {
        "id": "5ZU61lDKGDv3",
        "outputId": "89752615-0770-402f-d6b5-59ee43aef354",
        "colab": {
          "base_uri": "https://localhost:8080/"
        }
      },
      "source": [
        "tf1@tf2"
      ],
      "execution_count": 26,
      "outputs": [
        {
          "output_type": "execute_result",
          "data": {
            "text/plain": [
              "<tf.Tensor: shape=(2, 2), dtype=float32, numpy=\n",
              "array([[3., 3.],\n",
              "       [6., 6.]], dtype=float32)>"
            ]
          },
          "metadata": {
            "tags": []
          },
          "execution_count": 26
        }
      ]
    },
    {
      "cell_type": "code",
      "metadata": {
        "id": "QeBCi5UsGSIP"
      },
      "source": [
        "tf3 = tf.constant([[1,2,3],[3,5,6],[10,4,6]], dtype=tf.float32)"
      ],
      "execution_count": 27,
      "outputs": []
    },
    {
      "cell_type": "code",
      "metadata": {
        "id": "273q8DdSIA1j",
        "outputId": "9f7e0ef4-7a42-41d6-9b8a-81a484ae6c2f",
        "colab": {
          "base_uri": "https://localhost:8080/"
        }
      },
      "source": [
        "tf.argmax(tf3)"
      ],
      "execution_count": 28,
      "outputs": [
        {
          "output_type": "execute_result",
          "data": {
            "text/plain": [
              "<tf.Tensor: shape=(3,), dtype=int64, numpy=array([2, 1, 1])>"
            ]
          },
          "metadata": {
            "tags": []
          },
          "execution_count": 28
        }
      ]
    },
    {
      "cell_type": "code",
      "metadata": {
        "id": "bHAIhzkEIF0s",
        "outputId": "fbcec0b1-4249-4e8d-9569-d36bd90e9358",
        "colab": {
          "base_uri": "https://localhost:8080/"
        }
      },
      "source": [
        "print(tf.reduce_max(tf3))"
      ],
      "execution_count": 29,
      "outputs": [
        {
          "output_type": "stream",
          "text": [
            "tf.Tensor(10.0, shape=(), dtype=float32)\n"
          ],
          "name": "stdout"
        }
      ]
    },
    {
      "cell_type": "code",
      "metadata": {
        "id": "whulLDY8IRCA",
        "outputId": "33cca40d-7b87-44ed-ca23-04e173b888f7",
        "colab": {
          "base_uri": "https://localhost:8080/"
        }
      },
      "source": [
        "tf3"
      ],
      "execution_count": 30,
      "outputs": [
        {
          "output_type": "execute_result",
          "data": {
            "text/plain": [
              "<tf.Tensor: shape=(3, 3), dtype=float32, numpy=\n",
              "array([[ 1.,  2.,  3.],\n",
              "       [ 3.,  5.,  6.],\n",
              "       [10.,  4.,  6.]], dtype=float32)>"
            ]
          },
          "metadata": {
            "tags": []
          },
          "execution_count": 30
        }
      ]
    },
    {
      "cell_type": "code",
      "metadata": {
        "id": "jJSNGAuNIWDg",
        "outputId": "a3c191b6-a202-4433-9e14-a74c4065caee",
        "colab": {
          "base_uri": "https://localhost:8080/"
        }
      },
      "source": [
        "tf.nn.softmax(tf3)"
      ],
      "execution_count": 31,
      "outputs": [
        {
          "output_type": "execute_result",
          "data": {
            "text/plain": [
              "<tf.Tensor: shape=(3, 3), dtype=float32, numpy=\n",
              "array([[0.09003057, 0.24472848, 0.66524094],\n",
              "       [0.03511902, 0.25949645, 0.7053845 ],\n",
              "       [0.9796292 , 0.00242826, 0.01794253]], dtype=float32)>"
            ]
          },
          "metadata": {
            "tags": []
          },
          "execution_count": 31
        }
      ]
    },
    {
      "cell_type": "code",
      "metadata": {
        "id": "RUEJxynhIjiv"
      },
      "source": [
        "mytf = tf.zeros((3,2,4,5),dtype = tf.float32)"
      ],
      "execution_count": 32,
      "outputs": []
    },
    {
      "cell_type": "code",
      "metadata": {
        "id": "4viAYyt1RC9G",
        "outputId": "1e2178e3-7f73-4e8e-a553-ce0bf9ac0670",
        "colab": {
          "base_uri": "https://localhost:8080/"
        }
      },
      "source": [
        "print(f\"data type: {mytf.dtype}\\ndimension number: {mytf.ndim}\\nshape:{mytf.shape}\\nsize: {tf.size(mytf).numpy()}\")"
      ],
      "execution_count": 33,
      "outputs": [
        {
          "output_type": "stream",
          "text": [
            "data type: <dtype: 'float32'>\n",
            "dimension number: 4\n",
            "shape:(3, 2, 4, 5)\n",
            "size: 120\n"
          ],
          "name": "stdout"
        }
      ]
    },
    {
      "cell_type": "code",
      "metadata": {
        "id": "UBB5boRDR3wQ",
        "outputId": "f51c229c-4640-499b-d2fc-0740372e1c15",
        "colab": {
          "base_uri": "https://localhost:8080/"
        }
      },
      "source": [
        "print(mytf.shape[-1])"
      ],
      "execution_count": 34,
      "outputs": [
        {
          "output_type": "stream",
          "text": [
            "5\n"
          ],
          "name": "stdout"
        }
      ]
    },
    {
      "cell_type": "code",
      "metadata": {
        "id": "FQhfVUVnSHaq",
        "outputId": "c732fd8e-0683-42d4-8456-05a1b215735b",
        "colab": {
          "base_uri": "https://localhost:8080/"
        }
      },
      "source": [
        "mytf.shape[0]"
      ],
      "execution_count": 35,
      "outputs": [
        {
          "output_type": "execute_result",
          "data": {
            "text/plain": [
              "3"
            ]
          },
          "metadata": {
            "tags": []
          },
          "execution_count": 35
        }
      ]
    },
    {
      "cell_type": "code",
      "metadata": {
        "id": "Dp7tp8AFSLN5"
      },
      "source": [
        "#Indexing a tensor just like a list or numpy array\n",
        "import tensorflow as tf\n",
        "tf = tf.constant([1,2,3,4,5,6,6,7,8], dtype = tf.float32)"
      ],
      "execution_count": 36,
      "outputs": []
    },
    {
      "cell_type": "code",
      "metadata": {
        "id": "sjEmyI_yUbZV",
        "outputId": "01178506-db7d-41f6-80f7-8c49e295b1c7",
        "colab": {
          "base_uri": "https://localhost:8080/"
        }
      },
      "source": [
        "tf[0:5:2]"
      ],
      "execution_count": 37,
      "outputs": [
        {
          "output_type": "execute_result",
          "data": {
            "text/plain": [
              "<tf.Tensor: shape=(3,), dtype=float32, numpy=array([1., 3., 5.], dtype=float32)>"
            ]
          },
          "metadata": {
            "tags": []
          },
          "execution_count": 37
        }
      ]
    },
    {
      "cell_type": "code",
      "metadata": {
        "id": "XqY1SUBYUqXU",
        "outputId": "e061c7ed-e922-4cef-d529-1e52642b0dc5",
        "colab": {
          "base_uri": "https://localhost:8080/"
        }
      },
      "source": [
        "print(tf[::-1])#Reverse the tensor"
      ],
      "execution_count": 38,
      "outputs": [
        {
          "output_type": "stream",
          "text": [
            "tf.Tensor([8. 7. 6. 6. 5. 4. 3. 2. 1.], shape=(9,), dtype=float32)\n"
          ],
          "name": "stdout"
        }
      ]
    },
    {
      "cell_type": "code",
      "metadata": {
        "id": "Vze059cHXgKp",
        "outputId": "e9a8230c-3a60-4cca-e57c-06590481120f",
        "colab": {
          "base_uri": "https://localhost:8080/"
        }
      },
      "source": [
        "print(tf[:4:])"
      ],
      "execution_count": 39,
      "outputs": [
        {
          "output_type": "stream",
          "text": [
            "tf.Tensor([1. 2. 3. 4.], shape=(4,), dtype=float32)\n"
          ],
          "name": "stdout"
        }
      ]
    },
    {
      "cell_type": "code",
      "metadata": {
        "id": "CjlxGMdEXuh1",
        "outputId": "9603a578-e399-4988-f0ed-fce7fddc7c5b",
        "colab": {
          "base_uri": "https://localhost:8080/"
        }
      },
      "source": [
        "print(tf[4::])"
      ],
      "execution_count": 40,
      "outputs": [
        {
          "output_type": "stream",
          "text": [
            "tf.Tensor([5. 6. 6. 7. 8.], shape=(5,), dtype=float32)\n"
          ],
          "name": "stdout"
        }
      ]
    },
    {
      "cell_type": "code",
      "metadata": {
        "id": "1xU7MXO4X5Kr",
        "outputId": "2f685230-d8f4-4ddb-ff2b-c180f2a3406b",
        "colab": {
          "base_uri": "https://localhost:8080/"
        }
      },
      "source": [
        "print(tf[4:])"
      ],
      "execution_count": 41,
      "outputs": [
        {
          "output_type": "stream",
          "text": [
            "tf.Tensor([5. 6. 6. 7. 8.], shape=(5,), dtype=float32)\n"
          ],
          "name": "stdout"
        }
      ]
    },
    {
      "cell_type": "code",
      "metadata": {
        "id": "MtjK1v9xX-lC",
        "outputId": "d58b5435-82f0-4317-b232-c31ff85c7901",
        "colab": {
          "base_uri": "https://localhost:8080/"
        }
      },
      "source": [
        "print(tf[3:7])"
      ],
      "execution_count": 42,
      "outputs": [
        {
          "output_type": "stream",
          "text": [
            "tf.Tensor([4. 5. 6. 6.], shape=(4,), dtype=float32)\n"
          ],
          "name": "stdout"
        }
      ]
    },
    {
      "cell_type": "code",
      "metadata": {
        "id": "JB6RuQvXYGLI",
        "outputId": "eea4cafa-bd84-4c87-b0d0-c2500bf3422c",
        "colab": {
          "base_uri": "https://localhost:8080/"
        }
      },
      "source": [
        "rank3"
      ],
      "execution_count": 43,
      "outputs": [
        {
          "output_type": "execute_result",
          "data": {
            "text/plain": [
              "<tf.Tensor: shape=(3, 2, 4), dtype=int16, numpy=\n",
              "array([[[ 1,  2,  3,  4],\n",
              "        [ 5,  6,  7,  8]],\n",
              "\n",
              "       [[ 9,  1,  2,  3],\n",
              "        [10, 11, 12, 14]],\n",
              "\n",
              "       [[ 3,  4,  2,  5],\n",
              "        [14,  5, 12,  3]]], dtype=int16)>"
            ]
          },
          "metadata": {
            "tags": []
          },
          "execution_count": 43
        }
      ]
    },
    {
      "cell_type": "code",
      "metadata": {
        "id": "ZiqEA7A1aoKu"
      },
      "source": [
        "import tensorflow as tf"
      ],
      "execution_count": 44,
      "outputs": []
    },
    {
      "cell_type": "code",
      "metadata": {
        "id": "mQ3wNnB5axL9"
      },
      "source": [
        "rank3 = tf.reshape(rank3, shape = (1,6,4))"
      ],
      "execution_count": 45,
      "outputs": []
    },
    {
      "cell_type": "code",
      "metadata": {
        "id": "1JCVB6c3beWb",
        "outputId": "07727959-a686-4748-92da-3c854c6133ea",
        "colab": {
          "base_uri": "https://localhost:8080/"
        }
      },
      "source": [
        "rank3"
      ],
      "execution_count": 46,
      "outputs": [
        {
          "output_type": "execute_result",
          "data": {
            "text/plain": [
              "<tf.Tensor: shape=(1, 6, 4), dtype=int16, numpy=\n",
              "array([[[ 1,  2,  3,  4],\n",
              "        [ 5,  6,  7,  8],\n",
              "        [ 9,  1,  2,  3],\n",
              "        [10, 11, 12, 14],\n",
              "        [ 3,  4,  2,  5],\n",
              "        [14,  5, 12,  3]]], dtype=int16)>"
            ]
          },
          "metadata": {
            "tags": []
          },
          "execution_count": 46
        }
      ]
    },
    {
      "cell_type": "code",
      "metadata": {
        "id": "cxBXmWF2bfkf",
        "outputId": "04ba62dd-e863-4833-a365-e53d20e7e52c",
        "colab": {
          "base_uri": "https://localhost:8080/"
        }
      },
      "source": [
        "rank3[:2:-1]"
      ],
      "execution_count": 47,
      "outputs": [
        {
          "output_type": "execute_result",
          "data": {
            "text/plain": [
              "<tf.Tensor: shape=(0, 6, 4), dtype=int16, numpy=array([], shape=(0, 6, 4), dtype=int16)>"
            ]
          },
          "metadata": {
            "tags": []
          },
          "execution_count": 47
        }
      ]
    },
    {
      "cell_type": "code",
      "metadata": {
        "id": "-F_U73aablnk",
        "outputId": "6e82ce84-4022-4a8d-9ce2-9b86f092ad42",
        "colab": {
          "base_uri": "https://localhost:8080/"
        }
      },
      "source": [
        "print(rank3[0,0].numpy())#Accsses single list of members inside a tensor"
      ],
      "execution_count": 48,
      "outputs": [
        {
          "output_type": "stream",
          "text": [
            "[1 2 3 4]\n"
          ],
          "name": "stdout"
        }
      ]
    },
    {
      "cell_type": "code",
      "metadata": {
        "id": "GfQZ2zi_b8zl",
        "outputId": "d71b86c9-ffab-4c5d-b1ff-6ae782d92ca3",
        "colab": {
          "base_uri": "https://localhost:8080/"
        }
      },
      "source": [
        "print(rank3[:,:,-1].numpy())#elements of the last column"
      ],
      "execution_count": 49,
      "outputs": [
        {
          "output_type": "stream",
          "text": [
            "[[ 4  8  3 14  5  3]]\n"
          ],
          "name": "stdout"
        }
      ]
    },
    {
      "cell_type": "code",
      "metadata": {
        "id": "V7wqngyNc311",
        "outputId": "cd51f8d5-d162-4793-ee62-f2f539f44502",
        "colab": {
          "base_uri": "https://localhost:8080/"
        }
      },
      "source": [
        "print(rank3[0,0,-1])#First item of the last column"
      ],
      "execution_count": 50,
      "outputs": [
        {
          "output_type": "stream",
          "text": [
            "tf.Tensor(4, shape=(), dtype=int16)\n"
          ],
          "name": "stdout"
        }
      ]
    },
    {
      "cell_type": "code",
      "metadata": {
        "id": "_qNbPvUxgZxw",
        "outputId": "e7ccb25c-1135-4bfc-ac5f-12a8e08c9943",
        "colab": {
          "base_uri": "https://localhost:8080/"
        }
      },
      "source": [
        "print(rank3[:,:,3])"
      ],
      "execution_count": 51,
      "outputs": [
        {
          "output_type": "stream",
          "text": [
            "tf.Tensor([[ 4  8  3 14  5  3]], shape=(1, 6), dtype=int16)\n"
          ],
          "name": "stdout"
        }
      ]
    },
    {
      "cell_type": "code",
      "metadata": {
        "id": "36TEutrBiMC6",
        "outputId": "e49c6698-be01-4ef8-f2d9-6efc4f4db518",
        "colab": {
          "base_uri": "https://localhost:8080/"
        }
      },
      "source": [
        "print(tf.reshape(rank3,[-1]))#See how the elements are aligned in memory"
      ],
      "execution_count": 52,
      "outputs": [
        {
          "output_type": "stream",
          "text": [
            "tf.Tensor([ 1  2  3  4  5  6  7  8  9  1  2  3 10 11 12 14  3  4  2  5 14  5 12  3], shape=(24,), dtype=int16)\n"
          ],
          "name": "stdout"
        }
      ]
    },
    {
      "cell_type": "code",
      "metadata": {
        "id": "sjT1IG1PwoR2",
        "outputId": "c4990f95-2714-43ae-cdf7-3034194b7255",
        "colab": {
          "base_uri": "https://localhost:8080/"
        }
      },
      "source": [
        "print(tf.reshape(rank3,[2*3,4]))#merge the first two axes"
      ],
      "execution_count": 53,
      "outputs": [
        {
          "output_type": "stream",
          "text": [
            "tf.Tensor(\n",
            "[[ 1  2  3  4]\n",
            " [ 5  6  7  8]\n",
            " [ 9  1  2  3]\n",
            " [10 11 12 14]\n",
            " [ 3  4  2  5]\n",
            " [14  5 12  3]], shape=(6, 4), dtype=int16)\n"
          ],
          "name": "stdout"
        }
      ]
    },
    {
      "cell_type": "code",
      "metadata": {
        "id": "cODU2UBS_GcX",
        "outputId": "cd21aa31-19b5-4116-e70c-a53025f9fe3d",
        "colab": {
          "base_uri": "https://localhost:8080/"
        }
      },
      "source": [
        "print(tf.reshape(rank3, [3,-1]))"
      ],
      "execution_count": 54,
      "outputs": [
        {
          "output_type": "stream",
          "text": [
            "tf.Tensor(\n",
            "[[ 1  2  3  4  5  6  7  8]\n",
            " [ 9  1  2  3 10 11 12 14]\n",
            " [ 3  4  2  5 14  5 12  3]], shape=(3, 8), dtype=int16)\n"
          ],
          "name": "stdout"
        }
      ]
    },
    {
      "cell_type": "code",
      "metadata": {
        "id": "I1zpRp2x_trY",
        "outputId": "c3944944-8370-49a8-adfb-8808bfb8b632",
        "colab": {
          "base_uri": "https://localhost:8080/"
        }
      },
      "source": [
        "print(tf.reshape(rank3,[3,2*4]))"
      ],
      "execution_count": 55,
      "outputs": [
        {
          "output_type": "stream",
          "text": [
            "tf.Tensor(\n",
            "[[ 1  2  3  4  5  6  7  8]\n",
            " [ 9  1  2  3 10 11 12 14]\n",
            " [ 3  4  2  5 14  5 12  3]], shape=(3, 8), dtype=int16)\n"
          ],
          "name": "stdout"
        }
      ]
    },
    {
      "cell_type": "code",
      "metadata": {
        "id": "9GmyDEVmA58M"
      },
      "source": [
        "#Broadcasting in Tensorflow\n"
      ],
      "execution_count": 56,
      "outputs": []
    },
    {
      "cell_type": "code",
      "metadata": {
        "id": "Dx57smS-C85S"
      },
      "source": [
        "import tensorflow as tf"
      ],
      "execution_count": 57,
      "outputs": []
    },
    {
      "cell_type": "code",
      "metadata": {
        "id": "POCSovXnDCkL"
      },
      "source": [
        "tf1 = tf.constant(2, dtype = tf.float32)\n",
        "tf2 = tf.constant([1,2,3], dtype = tf.float32)\n",
        "tf3 = tf.constant([[1,2,3],[4,5,6]], dtype = tf.float32)\n",
        "mytf = tf.add(tf1,tf2)"
      ],
      "execution_count": 58,
      "outputs": []
    },
    {
      "cell_type": "code",
      "metadata": {
        "id": "YtRq7IPGDifz",
        "outputId": "c1a84b63-2471-4321-c762-5f8798feb231",
        "colab": {
          "base_uri": "https://localhost:8080/"
        }
      },
      "source": [
        "mytf"
      ],
      "execution_count": 59,
      "outputs": [
        {
          "output_type": "execute_result",
          "data": {
            "text/plain": [
              "<tf.Tensor: shape=(3,), dtype=float32, numpy=array([3., 4., 5.], dtype=float32)>"
            ]
          },
          "metadata": {
            "tags": []
          },
          "execution_count": 59
        }
      ]
    },
    {
      "cell_type": "code",
      "metadata": {
        "id": "_m067qUzED4v",
        "outputId": "64086b12-f391-4fb3-bcc5-4957ac06b715",
        "colab": {
          "base_uri": "https://localhost:8080/"
        }
      },
      "source": [
        "tf.add(tf2,tf3)"
      ],
      "execution_count": 60,
      "outputs": [
        {
          "output_type": "execute_result",
          "data": {
            "text/plain": [
              "<tf.Tensor: shape=(2, 3), dtype=float32, numpy=\n",
              "array([[2., 4., 6.],\n",
              "       [5., 7., 9.]], dtype=float32)>"
            ]
          },
          "metadata": {
            "tags": []
          },
          "execution_count": 60
        }
      ]
    },
    {
      "cell_type": "code",
      "metadata": {
        "id": "bXKZbevZENcE",
        "outputId": "81a751d2-638e-4ebf-e2fd-63c65b014bbf",
        "colab": {
          "base_uri": "https://localhost:8080/"
        }
      },
      "source": [
        "tf.multiply(tf1,tf2)"
      ],
      "execution_count": 61,
      "outputs": [
        {
          "output_type": "execute_result",
          "data": {
            "text/plain": [
              "<tf.Tensor: shape=(3,), dtype=float32, numpy=array([2., 4., 6.], dtype=float32)>"
            ]
          },
          "metadata": {
            "tags": []
          },
          "execution_count": 61
        }
      ]
    },
    {
      "cell_type": "code",
      "metadata": {
        "id": "m1frerzpEcR8",
        "outputId": "9b2f283e-f2da-456a-9e81-48614a4ef1d2",
        "colab": {
          "base_uri": "https://localhost:8080/"
        }
      },
      "source": [
        "tf1 * tf2"
      ],
      "execution_count": 62,
      "outputs": [
        {
          "output_type": "execute_result",
          "data": {
            "text/plain": [
              "<tf.Tensor: shape=(3,), dtype=float32, numpy=array([2., 4., 6.], dtype=float32)>"
            ]
          },
          "metadata": {
            "tags": []
          },
          "execution_count": 62
        }
      ]
    },
    {
      "cell_type": "code",
      "metadata": {
        "id": "aeT1Eo-nEpKm",
        "outputId": "5e58f032-9125-47a4-8a90-17ea3f4af09d",
        "colab": {
          "base_uri": "https://localhost:8080/"
        }
      },
      "source": [
        "tf2 * tf3"
      ],
      "execution_count": 63,
      "outputs": [
        {
          "output_type": "execute_result",
          "data": {
            "text/plain": [
              "<tf.Tensor: shape=(2, 3), dtype=float32, numpy=\n",
              "array([[ 1.,  4.,  9.],\n",
              "       [ 4., 10., 18.]], dtype=float32)>"
            ]
          },
          "metadata": {
            "tags": []
          },
          "execution_count": 63
        }
      ]
    },
    {
      "cell_type": "code",
      "metadata": {
        "id": "SuQ7XTLIEsnE",
        "outputId": "106aefb8-fa80-4d6d-f443-774c4c7dd73b",
        "colab": {
          "base_uri": "https://localhost:8080/"
        }
      },
      "source": [
        "tf.reduce_sum(tf2 * tf3)"
      ],
      "execution_count": 64,
      "outputs": [
        {
          "output_type": "execute_result",
          "data": {
            "text/plain": [
              "<tf.Tensor: shape=(), dtype=float32, numpy=46.0>"
            ]
          },
          "metadata": {
            "tags": []
          },
          "execution_count": 64
        }
      ]
    },
    {
      "cell_type": "code",
      "metadata": {
        "id": "_rUUahSBE3dc",
        "outputId": "e404312a-2559-4d83-8ee9-6f8717e78ea2",
        "colab": {
          "base_uri": "https://localhost:8080/"
        }
      },
      "source": [
        "tf.argmax(tf2 * tf3)"
      ],
      "execution_count": 65,
      "outputs": [
        {
          "output_type": "execute_result",
          "data": {
            "text/plain": [
              "<tf.Tensor: shape=(3,), dtype=int64, numpy=array([1, 1, 1])>"
            ]
          },
          "metadata": {
            "tags": []
          },
          "execution_count": 65
        }
      ]
    },
    {
      "cell_type": "code",
      "metadata": {
        "id": "YvhIM90jFAXq",
        "outputId": "7e8a8254-2b2f-4aa9-cf22-42dc620fd46a",
        "colab": {
          "base_uri": "https://localhost:8080/"
        }
      },
      "source": [
        "tf.nn.softmax(tf2 *tf3)"
      ],
      "execution_count": 66,
      "outputs": [
        {
          "output_type": "execute_result",
          "data": {
            "text/plain": [
              "<tf.Tensor: shape=(2, 3), dtype=float32, numpy=\n",
              "array([[3.3310644e-04, 6.6906218e-03, 9.9297631e-01],\n",
              "       [8.3124917e-07, 3.3534985e-04, 9.9966383e-01]], dtype=float32)>"
            ]
          },
          "metadata": {
            "tags": []
          },
          "execution_count": 66
        }
      ]
    },
    {
      "cell_type": "code",
      "metadata": {
        "id": "Ug8-jivrFRQr",
        "outputId": "248cb62a-196c-438a-996c-a134ee2579f6",
        "colab": {
          "base_uri": "https://localhost:8080/"
        }
      },
      "source": [
        "tf.range(1, 5)"
      ],
      "execution_count": 67,
      "outputs": [
        {
          "output_type": "execute_result",
          "data": {
            "text/plain": [
              "<tf.Tensor: shape=(4,), dtype=int32, numpy=array([1, 2, 3, 4], dtype=int32)>"
            ]
          },
          "metadata": {
            "tags": []
          },
          "execution_count": 67
        }
      ]
    },
    {
      "cell_type": "code",
      "metadata": {
        "id": "VyY7nWBoFs0r",
        "outputId": "5896985c-a2ac-4906-85b7-67e38cd64bb8",
        "colab": {
          "base_uri": "https://localhost:8080/"
        }
      },
      "source": [
        "tf.reshape(tf2, [3,1])"
      ],
      "execution_count": 68,
      "outputs": [
        {
          "output_type": "execute_result",
          "data": {
            "text/plain": [
              "<tf.Tensor: shape=(3, 1), dtype=float32, numpy=\n",
              "array([[1.],\n",
              "       [2.],\n",
              "       [3.]], dtype=float32)>"
            ]
          },
          "metadata": {
            "tags": []
          },
          "execution_count": 68
        }
      ]
    },
    {
      "cell_type": "code",
      "metadata": {
        "id": "rUJlEZZAFyJb",
        "outputId": "4ebe4ceb-760e-43c0-84f3-a69c8f857b6d",
        "colab": {
          "base_uri": "https://localhost:8080/"
        }
      },
      "source": [
        "tf2"
      ],
      "execution_count": 69,
      "outputs": [
        {
          "output_type": "execute_result",
          "data": {
            "text/plain": [
              "<tf.Tensor: shape=(3,), dtype=float32, numpy=array([1., 2., 3.], dtype=float32)>"
            ]
          },
          "metadata": {
            "tags": []
          },
          "execution_count": 69
        }
      ]
    },
    {
      "cell_type": "code",
      "metadata": {
        "id": "SU4WoTHEF2v7",
        "outputId": "9da45bf1-4f56-410f-ea00-15b8e246954b",
        "colab": {
          "base_uri": "https://localhost:8080/"
        }
      },
      "source": [
        "tf.reshape(tf2, [-1])"
      ],
      "execution_count": 70,
      "outputs": [
        {
          "output_type": "execute_result",
          "data": {
            "text/plain": [
              "<tf.Tensor: shape=(3,), dtype=float32, numpy=array([1., 2., 3.], dtype=float32)>"
            ]
          },
          "metadata": {
            "tags": []
          },
          "execution_count": 70
        }
      ]
    },
    {
      "cell_type": "code",
      "metadata": {
        "id": "c165RNiqGD1y",
        "outputId": "b86bcd02-1f7b-4f9f-9a25-730a720ce140",
        "colab": {
          "base_uri": "https://localhost:8080/"
        }
      },
      "source": [
        "tf.reshape(tf3, [-1])"
      ],
      "execution_count": 71,
      "outputs": [
        {
          "output_type": "execute_result",
          "data": {
            "text/plain": [
              "<tf.Tensor: shape=(6,), dtype=float32, numpy=array([1., 2., 3., 4., 5., 6.], dtype=float32)>"
            ]
          },
          "metadata": {
            "tags": []
          },
          "execution_count": 71
        }
      ]
    },
    {
      "cell_type": "code",
      "metadata": {
        "id": "bV-n-53jGHhT"
      },
      "source": [
        "tf1 = tf.constant([[1,2,3],\n",
        "                   [1,2,3],\n",
        "                   [1,2,3]])\n",
        "\n",
        "tf2 = tf.constant([[1,1,1],\n",
        "                   [2,2,2],\n",
        "                  [3,3,3]])"
      ],
      "execution_count": 72,
      "outputs": []
    },
    {
      "cell_type": "code",
      "metadata": {
        "id": "qAD3JzbgM9-s",
        "outputId": "578d77be-0d10-4dc7-999a-7463a47ab5ab",
        "colab": {
          "base_uri": "https://localhost:8080/"
        }
      },
      "source": [
        "tf1*tf2"
      ],
      "execution_count": 73,
      "outputs": [
        {
          "output_type": "execute_result",
          "data": {
            "text/plain": [
              "<tf.Tensor: shape=(3, 3), dtype=int32, numpy=\n",
              "array([[1, 2, 3],\n",
              "       [2, 4, 6],\n",
              "       [3, 6, 9]], dtype=int32)>"
            ]
          },
          "metadata": {
            "tags": []
          },
          "execution_count": 73
        }
      ]
    },
    {
      "cell_type": "code",
      "metadata": {
        "id": "fQrBOin0NKhC",
        "outputId": "54d061df-12b7-4c5f-9866-dc98218761a9",
        "colab": {
          "base_uri": "https://localhost:8080/"
        }
      },
      "source": [
        "print(tf.broadcast_to(tf.constant([1,2,3,3,4,6]),[10,6]))"
      ],
      "execution_count": 74,
      "outputs": [
        {
          "output_type": "stream",
          "text": [
            "tf.Tensor(\n",
            "[[1 2 3 3 4 6]\n",
            " [1 2 3 3 4 6]\n",
            " [1 2 3 3 4 6]\n",
            " [1 2 3 3 4 6]\n",
            " [1 2 3 3 4 6]\n",
            " [1 2 3 3 4 6]\n",
            " [1 2 3 3 4 6]\n",
            " [1 2 3 3 4 6]\n",
            " [1 2 3 3 4 6]\n",
            " [1 2 3 3 4 6]], shape=(10, 6), dtype=int32)\n"
          ],
          "name": "stdout"
        }
      ]
    },
    {
      "cell_type": "code",
      "metadata": {
        "id": "5eU2FgTMNhVz"
      },
      "source": [
        "#Ragged tensor\n",
        "mylist = [\n",
        "          [1,2,3,4,5],\n",
        "          [1,2],\n",
        "          [4,5,6,7,8,9,0,1],\n",
        "          [1,2,3]]"
      ],
      "execution_count": 75,
      "outputs": []
    },
    {
      "cell_type": "code",
      "metadata": {
        "id": "vNCrhBY6S2_u",
        "outputId": "882a847d-ac73-49fa-8cd3-e329e92bf893",
        "colab": {
          "base_uri": "https://localhost:8080/"
        }
      },
      "source": [
        "try:\n",
        "  print(tf.constant(mylist, dtype = tf.float32))\n",
        "except Exception as e:\n",
        "  print(f'{type(e).__name__}: {e}')"
      ],
      "execution_count": 76,
      "outputs": [
        {
          "output_type": "stream",
          "text": [
            "ValueError: Can't convert non-rectangular Python sequence to Tensor.\n"
          ],
          "name": "stdout"
        }
      ]
    },
    {
      "cell_type": "code",
      "metadata": {
        "id": "nKbok90ATnOF",
        "outputId": "cf3a3e18-7dea-4d70-84ec-61fdb4349757",
        "colab": {
          "base_uri": "https://localhost:8080/"
        }
      },
      "source": [
        "try:\n",
        "  print(tf.ragged.constant(mylist, dtype = 'float32'))\n",
        "except Exception as e:\n",
        "  print(f'{type(e).__name__} : {e}')"
      ],
      "execution_count": 77,
      "outputs": [
        {
          "output_type": "stream",
          "text": [
            "<tf.RaggedTensor [[1.0, 2.0, 3.0, 4.0, 5.0], [1.0, 2.0], [4.0, 5.0, 6.0, 7.0, 8.0, 9.0, 0.0, 1.0], [1.0, 2.0, 3.0]]>\n"
          ],
          "name": "stdout"
        }
      ]
    },
    {
      "cell_type": "code",
      "metadata": {
        "id": "AN4k_7AUUK6M"
      },
      "source": [
        "#String tensor\n",
        "state = tf.constant('Alabama the duck')"
      ],
      "execution_count": 78,
      "outputs": []
    },
    {
      "cell_type": "code",
      "metadata": {
        "id": "GFbHUM4MVup-",
        "outputId": "97a343a7-020e-483f-8517-9ceb46987fb6",
        "colab": {
          "base_uri": "https://localhost:8080/"
        }
      },
      "source": [
        "print(state)"
      ],
      "execution_count": 79,
      "outputs": [
        {
          "output_type": "stream",
          "text": [
            "tf.Tensor(b'Alabama the duck', shape=(), dtype=string)\n"
          ],
          "name": "stdout"
        }
      ]
    },
    {
      "cell_type": "code",
      "metadata": {
        "id": "0JLmdaKfV6ND",
        "outputId": "a9060c40-9808-4403-9f67-b53f45479640",
        "colab": {
          "base_uri": "https://localhost:8080/"
        }
      },
      "source": [
        "print(tf.constant(['The bronze duck',\n",
        "                   'The duck from Alabama',\n",
        "                   'The hit by the bullet']))"
      ],
      "execution_count": 80,
      "outputs": [
        {
          "output_type": "stream",
          "text": [
            "tf.Tensor([b'The bronze duck' b'The duck from Alabama' b'The hit by the bullet'], shape=(3,), dtype=string)\n"
          ],
          "name": "stdout"
        }
      ]
    },
    {
      "cell_type": "code",
      "metadata": {
        "id": "NqChnqd4WYtQ",
        "outputId": "78aa9bcf-d824-408e-877b-85e9d7f9447d",
        "colab": {
          "base_uri": "https://localhost:8080/"
        }
      },
      "source": [
        "print(tf.constant('😡😏✌️👌❤️🤥'))"
      ],
      "execution_count": 81,
      "outputs": [
        {
          "output_type": "stream",
          "text": [
            "tf.Tensor(b'\\xf0\\x9f\\x98\\xa1\\xf0\\x9f\\x98\\x8f\\xe2\\x9c\\x8c\\xef\\xb8\\x8f\\xf0\\x9f\\x91\\x8c\\xe2\\x9d\\xa4\\xef\\xb8\\x8f\\xf0\\x9f\\xa4\\xa5', shape=(), dtype=string)\n"
          ],
          "name": "stdout"
        }
      ]
    },
    {
      "cell_type": "code",
      "metadata": {
        "id": "Q-4cvj_aW04v",
        "outputId": "3b9a256c-612b-44a1-8ddb-664d9fde9dbb",
        "colab": {
          "base_uri": "https://localhost:8080/"
        }
      },
      "source": [
        "tf.strings.split(tf.constant(\"The duck from Alabama\"), ' ')"
      ],
      "execution_count": 82,
      "outputs": [
        {
          "output_type": "execute_result",
          "data": {
            "text/plain": [
              "<tf.Tensor: shape=(4,), dtype=string, numpy=array([b'The', b'duck', b'from', b'Alabama'], dtype=object)>"
            ]
          },
          "metadata": {
            "tags": []
          },
          "execution_count": 82
        }
      ]
    },
    {
      "cell_type": "code",
      "metadata": {
        "id": "whDhW-wpXUwg",
        "outputId": "8b09074d-8f1e-4166-bc64-ee45da9ada7c",
        "colab": {
          "base_uri": "https://localhost:8080/"
        }
      },
      "source": [
        "weird = '10 30 101'\n",
        "print(tf.strings.to_number(tf.strings.split(tf.constant(weird))))"
      ],
      "execution_count": 83,
      "outputs": [
        {
          "output_type": "stream",
          "text": [
            "tf.Tensor([ 10.  30. 101.], shape=(3,), dtype=float32)\n"
          ],
          "name": "stdout"
        }
      ]
    },
    {
      "cell_type": "code",
      "metadata": {
        "id": "kdGcHc5cYFQA",
        "outputId": "b1af96fa-60a0-4667-a5a2-21a1357e01c7",
        "colab": {
          "base_uri": "https://localhost:8080/"
        }
      },
      "source": [
        "print(tf.strings.bytes_split(tf.constant('The Bronxlyn')))#Casting the string into bytes"
      ],
      "execution_count": 84,
      "outputs": [
        {
          "output_type": "stream",
          "text": [
            "tf.Tensor([b'T' b'h' b'e' b' ' b'B' b'r' b'o' b'n' b'x' b'l' b'y' b'n'], shape=(12,), dtype=string)\n"
          ],
          "name": "stdout"
        }
      ]
    },
    {
      "cell_type": "code",
      "metadata": {
        "id": "IOEqMM7RZ0KB",
        "outputId": "940c3d08-32e5-4a14-dfd3-a088b5bbf092",
        "colab": {
          "base_uri": "https://localhost:8080/"
        }
      },
      "source": [
        "print(tf.io.decode_raw(tf.constant('The Duclyn bum'), tf.uint8))#Convert to numbers"
      ],
      "execution_count": 85,
      "outputs": [
        {
          "output_type": "stream",
          "text": [
            "tf.Tensor([ 84 104 101  32  68 117  99 108 121 110  32  98 117 109], shape=(14,), dtype=uint8)\n"
          ],
          "name": "stdout"
        }
      ]
    },
    {
      "cell_type": "code",
      "metadata": {
        "id": "8ww8K-ANaXVe"
      },
      "source": [
        "##Sparse tensor: This happens a lot in text analytics\n",
        "mysparse = tf.sparse.SparseTensor(indices =[[0,0],[3,3],[1,4]],\n",
        "                                  values = [0,1,3],\n",
        "                                  dense_shape = [5,5])"
      ],
      "execution_count": 86,
      "outputs": []
    },
    {
      "cell_type": "code",
      "metadata": {
        "id": "-nIcyxMpcoVN",
        "outputId": "72cf4fc4-d91c-40b9-e123-1d810adbb604",
        "colab": {
          "base_uri": "https://localhost:8080/"
        }
      },
      "source": [
        "print(mysparse, '\\n')"
      ],
      "execution_count": 87,
      "outputs": [
        {
          "output_type": "stream",
          "text": [
            "SparseTensor(indices=tf.Tensor(\n",
            "[[0 0]\n",
            " [3 3]\n",
            " [1 4]], shape=(3, 2), dtype=int64), values=tf.Tensor([0 1 3], shape=(3,), dtype=int32), dense_shape=tf.Tensor([5 5], shape=(2,), dtype=int64)) \n",
            "\n"
          ],
          "name": "stdout"
        }
      ]
    },
    {
      "cell_type": "code",
      "metadata": {
        "id": "hxdRowz6cplW"
      },
      "source": [
        "tf.debugging.set_log_device_placement(True)"
      ],
      "execution_count": 88,
      "outputs": []
    },
    {
      "cell_type": "code",
      "metadata": {
        "id": "xYkiwhjKhz_X"
      },
      "source": [
        "tfv = tf.constant([1,2,3,4], dtype = tf.float32)"
      ],
      "execution_count": 89,
      "outputs": []
    },
    {
      "cell_type": "code",
      "metadata": {
        "id": "aGv6krK_iGcX"
      },
      "source": [
        "tfv = tf.Variable(tfv)"
      ],
      "execution_count": 90,
      "outputs": []
    },
    {
      "cell_type": "code",
      "metadata": {
        "id": "2_i9AJBtiKa0",
        "outputId": "9c3967b5-eac8-447f-abc2-ce8d4d852810",
        "colab": {
          "base_uri": "https://localhost:8080/"
        }
      },
      "source": [
        "tfv"
      ],
      "execution_count": 91,
      "outputs": [
        {
          "output_type": "execute_result",
          "data": {
            "text/plain": [
              "<tf.Variable 'Variable:0' shape=(4,) dtype=float32, numpy=array([1., 2., 3., 4.], dtype=float32)>"
            ]
          },
          "metadata": {
            "tags": []
          },
          "execution_count": 91
        }
      ]
    },
    {
      "cell_type": "code",
      "metadata": {
        "id": "ldflWPpGiLnI",
        "outputId": "849b4b60-f24b-4ec8-c509-a1c5b630e3ad",
        "colab": {
          "base_uri": "https://localhost:8080/"
        }
      },
      "source": [
        "tf.reshape(tfv, [2,2])"
      ],
      "execution_count": 92,
      "outputs": [
        {
          "output_type": "execute_result",
          "data": {
            "text/plain": [
              "<tf.Tensor: shape=(2, 2), dtype=float32, numpy=\n",
              "array([[1., 2.],\n",
              "       [3., 4.]], dtype=float32)>"
            ]
          },
          "metadata": {
            "tags": []
          },
          "execution_count": 92
        }
      ]
    },
    {
      "cell_type": "code",
      "metadata": {
        "id": "KvinXqALnFZG",
        "outputId": "29dfa58b-98ff-48a4-f8f6-0047772fdc6c",
        "colab": {
          "base_uri": "https://localhost:8080/"
        }
      },
      "source": [
        "tf.convert_to_tensor(tfv)"
      ],
      "execution_count": 93,
      "outputs": [
        {
          "output_type": "execute_result",
          "data": {
            "text/plain": [
              "<tf.Tensor: shape=(4,), dtype=float32, numpy=array([1., 2., 3., 4.], dtype=float32)>"
            ]
          },
          "metadata": {
            "tags": []
          },
          "execution_count": 93
        }
      ]
    },
    {
      "cell_type": "code",
      "metadata": {
        "id": "5wDHKz0ZnUkg",
        "outputId": "d4ed98d0-72a0-42de-d903-b41f3af2cfcb",
        "colab": {
          "base_uri": "https://localhost:8080/"
        }
      },
      "source": [
        "try:\n",
        "  tfv.assign([2.,6.,7.,9.,20.])\n",
        "except Exception as e:\n",
        "  print(f\"{type(e).__name__}: {e}\")"
      ],
      "execution_count": 94,
      "outputs": [
        {
          "output_type": "stream",
          "text": [
            "ValueError: Shapes (4,) and (5,) are incompatible\n"
          ],
          "name": "stdout"
        }
      ]
    },
    {
      "cell_type": "code",
      "metadata": {
        "id": "LXFIrjkpnqyV",
        "outputId": "3bbebe97-4b6c-4827-e793-c02fe9cf5b4a",
        "colab": {
          "base_uri": "https://localhost:8080/"
        }
      },
      "source": [
        "tfv"
      ],
      "execution_count": 95,
      "outputs": [
        {
          "output_type": "execute_result",
          "data": {
            "text/plain": [
              "<tf.Variable 'Variable:0' shape=(4,) dtype=float32, numpy=array([1., 2., 3., 4.], dtype=float32)>"
            ]
          },
          "metadata": {
            "tags": []
          },
          "execution_count": 95
        }
      ]
    },
    {
      "cell_type": "code",
      "metadata": {
        "id": "v23qYovhoLwN"
      },
      "source": [
        "a = tfv.assign_add([5.,6.,9.,8.])"
      ],
      "execution_count": 96,
      "outputs": []
    },
    {
      "cell_type": "code",
      "metadata": {
        "id": "LH55g6LFvKVJ"
      },
      "source": [
        "b = tfv.assign_sub([3.,4.,5.,7.])"
      ],
      "execution_count": 97,
      "outputs": []
    },
    {
      "cell_type": "code",
      "metadata": {
        "id": "HLIpasoqvUQC",
        "outputId": "9ddc9a36-cc66-40ef-ae50-6d90c0819abb",
        "colab": {
          "base_uri": "https://localhost:8080/"
        }
      },
      "source": [
        "a"
      ],
      "execution_count": 98,
      "outputs": [
        {
          "output_type": "execute_result",
          "data": {
            "text/plain": [
              "<tf.Variable 'UnreadVariable' shape=(4,) dtype=float32, numpy=array([3., 4., 7., 5.], dtype=float32)>"
            ]
          },
          "metadata": {
            "tags": []
          },
          "execution_count": 98
        }
      ]
    },
    {
      "cell_type": "code",
      "metadata": {
        "id": "mfak4KSgvr90",
        "outputId": "a6b0e63a-63c6-4407-ef8a-c0dcbf537ee2",
        "colab": {
          "base_uri": "https://localhost:8080/"
        }
      },
      "source": [
        "b"
      ],
      "execution_count": 99,
      "outputs": [
        {
          "output_type": "execute_result",
          "data": {
            "text/plain": [
              "<tf.Variable 'UnreadVariable' shape=(4,) dtype=float32, numpy=array([3., 4., 7., 5.], dtype=float32)>"
            ]
          },
          "metadata": {
            "tags": []
          },
          "execution_count": 99
        }
      ]
    },
    {
      "cell_type": "code",
      "metadata": {
        "id": "gw2jOifKvtH8"
      },
      "source": [
        "tfv\n",
        "import tensorflow as tf"
      ],
      "execution_count": 100,
      "outputs": []
    },
    {
      "cell_type": "code",
      "metadata": {
        "id": "zUoXEOZevuQq"
      },
      "source": [
        "tf1 = tf.Variable(tf.constant([[1,2],[3,4]],dtype = tf.float32))"
      ],
      "execution_count": 101,
      "outputs": []
    },
    {
      "cell_type": "code",
      "metadata": {
        "id": "qc8nwtvAwNhh",
        "outputId": "f5cfbaca-0c43-4d59-beb8-5df67213448b",
        "colab": {
          "base_uri": "https://localhost:8080/"
        }
      },
      "source": [
        "tf1"
      ],
      "execution_count": 102,
      "outputs": [
        {
          "output_type": "execute_result",
          "data": {
            "text/plain": [
              "<tf.Variable 'Variable:0' shape=(2, 2) dtype=float32, numpy=\n",
              "array([[1., 2.],\n",
              "       [3., 4.]], dtype=float32)>"
            ]
          },
          "metadata": {
            "tags": []
          },
          "execution_count": 102
        }
      ]
    },
    {
      "cell_type": "code",
      "metadata": {
        "id": "UYziZo7iwXV-"
      },
      "source": [
        "a = tf1.assign([[1.1,2.3],[3.,2.2]])"
      ],
      "execution_count": 103,
      "outputs": []
    },
    {
      "cell_type": "code",
      "metadata": {
        "id": "AzOy5xiiwmey",
        "outputId": "c42cc2b7-e5d5-4b5b-e250-19e344bf31de",
        "colab": {
          "base_uri": "https://localhost:8080/"
        }
      },
      "source": [
        "a"
      ],
      "execution_count": 104,
      "outputs": [
        {
          "output_type": "execute_result",
          "data": {
            "text/plain": [
              "<tf.Variable 'UnreadVariable' shape=(2, 2) dtype=float32, numpy=\n",
              "array([[1.1, 2.3],\n",
              "       [3. , 2.2]], dtype=float32)>"
            ]
          },
          "metadata": {
            "tags": []
          },
          "execution_count": 104
        }
      ]
    },
    {
      "cell_type": "code",
      "metadata": {
        "id": "OlUemTq-wuNW"
      },
      "source": [
        "b = tf1.assign_add([[2.5,9.3],[3.8,3.9]])"
      ],
      "execution_count": 105,
      "outputs": []
    },
    {
      "cell_type": "code",
      "metadata": {
        "id": "3iBWUSlzw6qP",
        "outputId": "8c759fa8-66e9-4e59-ab58-71efcef2c708",
        "colab": {
          "base_uri": "https://localhost:8080/"
        }
      },
      "source": [
        "b"
      ],
      "execution_count": 106,
      "outputs": [
        {
          "output_type": "execute_result",
          "data": {
            "text/plain": [
              "<tf.Variable 'UnreadVariable' shape=(2, 2) dtype=float32, numpy=\n",
              "array([[ 3.6      , 11.6      ],\n",
              "       [ 6.8      ,  6.1000004]], dtype=float32)>"
            ]
          },
          "metadata": {
            "tags": []
          },
          "execution_count": 106
        }
      ]
    },
    {
      "cell_type": "code",
      "metadata": {
        "id": "WPgooSg0w76O"
      },
      "source": [
        "c = tf1.assign_sub([[10.2,22.1],[3.1,3.3]])"
      ],
      "execution_count": 107,
      "outputs": []
    },
    {
      "cell_type": "code",
      "metadata": {
        "id": "cjNaduEQxWj9",
        "outputId": "819bec1d-5181-4e9b-80a8-d38e39c31bdf",
        "colab": {
          "base_uri": "https://localhost:8080/"
        }
      },
      "source": [
        "c"
      ],
      "execution_count": 108,
      "outputs": [
        {
          "output_type": "execute_result",
          "data": {
            "text/plain": [
              "<tf.Variable 'UnreadVariable' shape=(2, 2) dtype=float32, numpy=\n",
              "array([[ -6.6      , -10.5      ],\n",
              "       [  3.7000003,   2.8000004]], dtype=float32)>"
            ]
          },
          "metadata": {
            "tags": []
          },
          "execution_count": 108
        }
      ]
    },
    {
      "cell_type": "code",
      "metadata": {
        "id": "eSV-PQnIxXMN"
      },
      "source": [
        "a = tf.Variable(tf.constant([[1,2,3],[3,4,5],[5,6,7]], dtype = tf.float32))\n",
        "b = tf.constant([[2,3,4],[2,2,2],[3,2,3]], dtype = tf.float32)"
      ],
      "execution_count": 109,
      "outputs": []
    },
    {
      "cell_type": "code",
      "metadata": {
        "id": "pOTi-DuO4bo_",
        "outputId": "1bb7c322-a9fa-4921-ff6e-e599d3b42c5b",
        "colab": {
          "base_uri": "https://localhost:8080/"
        }
      },
      "source": [
        "with tf.device('CPU:0'):\n",
        "  print(a*b)"
      ],
      "execution_count": 110,
      "outputs": [
        {
          "output_type": "stream",
          "text": [
            "tf.Tensor(\n",
            "[[ 2.  6. 12.]\n",
            " [ 6.  8. 10.]\n",
            " [15. 12. 21.]], shape=(3, 3), dtype=float32)\n"
          ],
          "name": "stdout"
        }
      ]
    },
    {
      "cell_type": "code",
      "metadata": {
        "id": "UgyzU2mF4mTX",
        "outputId": "3e8188c8-1777-4692-9673-fc7be844aba3",
        "colab": {
          "base_uri": "https://localhost:8080/"
        }
      },
      "source": [
        "with tf.device('GPU:0'):\n",
        "  print(a*b)"
      ],
      "execution_count": 111,
      "outputs": [
        {
          "output_type": "stream",
          "text": [
            "tf.Tensor(\n",
            "[[ 2.  6. 12.]\n",
            " [ 6.  8. 10.]\n",
            " [15. 12. 21.]], shape=(3, 3), dtype=float32)\n"
          ],
          "name": "stdout"
        }
      ]
    },
    {
      "cell_type": "code",
      "metadata": {
        "id": "G4C4qmb84vqb"
      },
      "source": [
        "#Automatic Differentiation (Computing gradients for back-propagation using tensorflow)"
      ],
      "execution_count": 112,
      "outputs": []
    },
    {
      "cell_type": "code",
      "metadata": {
        "id": "y9aAr-StGz1s"
      },
      "source": [
        "import matplotlib.pyplot as plt\n",
        "import matplotlib.pyplot as mlp\n",
        "import numpy as np\n",
        "\n"
      ],
      "execution_count": 113,
      "outputs": []
    },
    {
      "cell_type": "code",
      "metadata": {
        "id": "v0vP7C4rHFdq"
      },
      "source": [
        "x = tf.Variable([2], dtype = tf.float32)"
      ],
      "execution_count": 114,
      "outputs": []
    },
    {
      "cell_type": "code",
      "metadata": {
        "id": "2rPmvV6AInD5"
      },
      "source": [
        "with tf.GradientTape() as tape:\n",
        "  y = x**3\n",
        "  slope = tape.gradient(y, x)\n",
        "  slope.numpy()\n",
        "\n"
      ],
      "execution_count": 115,
      "outputs": []
    },
    {
      "cell_type": "code",
      "metadata": {
        "id": "h4B-FGhGJCzF",
        "outputId": "fc83856c-82e0-4ad7-aa6e-0d421c8aaf57",
        "colab": {
          "base_uri": "https://localhost:8080/"
        }
      },
      "source": [
        "slope"
      ],
      "execution_count": 116,
      "outputs": [
        {
          "output_type": "execute_result",
          "data": {
            "text/plain": [
              "<tf.Tensor: shape=(1,), dtype=float32, numpy=array([12.], dtype=float32)>"
            ]
          },
          "metadata": {
            "tags": []
          },
          "execution_count": 116
        }
      ]
    },
    {
      "cell_type": "code",
      "metadata": {
        "id": "UXnQTpBNJEM-"
      },
      "source": [
        "#We can compute gradient for any tensor (pay attention to the shape in matrices multiplication)\n",
        "x = tf.Variable([[1,2,3],[4,5,6],[1,4,5]], dtype = tf.float32)"
      ],
      "execution_count": 117,
      "outputs": []
    },
    {
      "cell_type": "code",
      "metadata": {
        "id": "ajW2V2p-JhEI"
      },
      "source": [
        "with tf.GradientTape() as tape:\n",
        "  loss = x*tf.constant([2,2,2],dtype = tf.float32)\n",
        "  slope = tape.gradient(loss,x)\n",
        "  slope.numpy()"
      ],
      "execution_count": 118,
      "outputs": []
    },
    {
      "cell_type": "code",
      "metadata": {
        "id": "XToFUBHeKAvs",
        "outputId": "52015467-a7a6-4501-b82e-165d86fe2d7e",
        "colab": {
          "base_uri": "https://localhost:8080/"
        }
      },
      "source": [
        "slope"
      ],
      "execution_count": 119,
      "outputs": [
        {
          "output_type": "execute_result",
          "data": {
            "text/plain": [
              "<tf.Tensor: shape=(3, 3), dtype=float32, numpy=\n",
              "array([[2., 2., 2.],\n",
              "       [2., 2., 2.],\n",
              "       [2., 2., 2.]], dtype=float32)>"
            ]
          },
          "metadata": {
            "tags": []
          },
          "execution_count": 119
        }
      ]
    },
    {
      "cell_type": "code",
      "metadata": {
        "id": "Hn3kXXppKFs4"
      },
      "source": [
        "w = tf.Variable(tf.random.normal((3,2)),name = 'w')\n",
        "b = tf.Variable(tf.zeros(2,dtype=tf.float32), name = 'b')\n",
        "x = [[2.1,3.4,5.1]]\n",
        "with tf.GradientTape() as tape:\n",
        "  y = tf.matmul(x,w)+b\n",
        "  loss = tf.reduce_mean(y**3)\n",
        "  [dw,db] = tape.gradient(loss,[w,b])\n"
      ],
      "execution_count": 120,
      "outputs": []
    },
    {
      "cell_type": "code",
      "metadata": {
        "id": "tul7vemGNAVJ",
        "outputId": "449a2eb4-aabe-414f-d4c8-1acccc83919e",
        "colab": {
          "base_uri": "https://localhost:8080/"
        }
      },
      "source": [
        "dw.shape"
      ],
      "execution_count": 121,
      "outputs": [
        {
          "output_type": "execute_result",
          "data": {
            "text/plain": [
              "TensorShape([3, 2])"
            ]
          },
          "metadata": {
            "tags": []
          },
          "execution_count": 121
        }
      ]
    },
    {
      "cell_type": "code",
      "metadata": {
        "id": "kZmNpazjN00q",
        "outputId": "6e302bfa-3526-47d9-e63b-ab318cdb72dd",
        "colab": {
          "base_uri": "https://localhost:8080/"
        }
      },
      "source": [
        "db.shape"
      ],
      "execution_count": 122,
      "outputs": [
        {
          "output_type": "execute_result",
          "data": {
            "text/plain": [
              "TensorShape([2])"
            ]
          },
          "metadata": {
            "tags": []
          },
          "execution_count": 122
        }
      ]
    },
    {
      "cell_type": "code",
      "metadata": {
        "id": "cWz1WWVAN2nE",
        "outputId": "3c007123-d294-477a-d9b1-7d1f746289a3",
        "colab": {
          "base_uri": "https://localhost:8080/"
        }
      },
      "source": [
        "loss"
      ],
      "execution_count": 123,
      "outputs": [
        {
          "output_type": "execute_result",
          "data": {
            "text/plain": [
              "<tf.Tensor: shape=(), dtype=float32, numpy=-391.07544>"
            ]
          },
          "metadata": {
            "tags": []
          },
          "execution_count": 123
        }
      ]
    },
    {
      "cell_type": "code",
      "metadata": {
        "id": "cMyB0G8RN45f"
      },
      "source": [
        "w = tf.Variable(tf.random.normal((4,3)),name = 'w')\n",
        "b = tf.Variable(tf.zeros(3,dtype = tf.float32),name = 'b')\n",
        "x = [[2.,3.,5.,1.]]\n",
        "with tf.GradientTape() as tape:\n",
        "  y = tf.matmul(x,w)+b\n",
        "  loss = tf.reduce_sum(y)\n",
        "  [dw,db] = tape.gradient(loss, [w,b])"
      ],
      "execution_count": 124,
      "outputs": []
    },
    {
      "cell_type": "code",
      "metadata": {
        "id": "9suxzpG4TMp-",
        "outputId": "9c3e72e3-2bf4-4ce3-de28-be64f1fd6910",
        "colab": {
          "base_uri": "https://localhost:8080/"
        }
      },
      "source": [
        "dw, db"
      ],
      "execution_count": 125,
      "outputs": [
        {
          "output_type": "execute_result",
          "data": {
            "text/plain": [
              "(<tf.Tensor: shape=(4, 3), dtype=float32, numpy=\n",
              " array([[2., 2., 2.],\n",
              "        [3., 3., 3.],\n",
              "        [5., 5., 5.],\n",
              "        [1., 1., 1.]], dtype=float32)>,\n",
              " <tf.Tensor: shape=(3,), dtype=float32, numpy=array([1., 1., 1.], dtype=float32)>)"
            ]
          },
          "metadata": {
            "tags": []
          },
          "execution_count": 125
        }
      ]
    },
    {
      "cell_type": "code",
      "metadata": {
        "id": "8i_97tO-TPVf",
        "outputId": "a6e7b829-4b38-434e-8aa1-703c7550427f",
        "colab": {
          "base_uri": "https://localhost:8080/"
        }
      },
      "source": [
        "loss"
      ],
      "execution_count": 126,
      "outputs": [
        {
          "output_type": "execute_result",
          "data": {
            "text/plain": [
              "<tf.Tensor: shape=(), dtype=float32, numpy=-1.0889285>"
            ]
          },
          "metadata": {
            "tags": []
          },
          "execution_count": 126
        }
      ]
    },
    {
      "cell_type": "code",
      "metadata": {
        "id": "S571VXsNTR5d",
        "outputId": "b55354fd-d94f-48b7-8f3c-70c457c042c1",
        "colab": {
          "base_uri": "https://localhost:8080/"
        }
      },
      "source": [
        "print(f\"w_shape: {w.shape}\\nb_shape: {b.shape}\\ndw_shape: {dw.shape}\\ndb_shape: {db.shape}\\nloss: {loss}\")"
      ],
      "execution_count": 127,
      "outputs": [
        {
          "output_type": "stream",
          "text": [
            "w_shape: (4, 3)\n",
            "b_shape: (3,)\n",
            "dw_shape: (4, 3)\n",
            "db_shape: (3,)\n",
            "loss: -1.088928461074829\n"
          ],
          "name": "stdout"
        }
      ]
    },
    {
      "cell_type": "code",
      "metadata": {
        "id": "KRjn53EyUvrr"
      },
      "source": [
        "#We can also pass values as a dictionary to compute the gradients for the loss fun\n",
        "dict1 = {'w':tf.Variable(tf.random.normal((4,3)), name = 'w'),\n",
        "         'b':tf.Variable(tf.zeros(3,dtype=tf.float32), name = 'b')}"
      ],
      "execution_count": 128,
      "outputs": []
    },
    {
      "cell_type": "code",
      "metadata": {
        "id": "rjh-ehtjXW0_"
      },
      "source": [
        "loss = tf.reduce_sum(tf.matmul([[2.,4.,1.3,5.]],w)+b)\n"
      ],
      "execution_count": 129,
      "outputs": []
    },
    {
      "cell_type": "code",
      "metadata": {
        "id": "zsQAWwbjX0cr",
        "outputId": "b67ee1b4-5db4-412d-e6f3-1683ee456ad9",
        "colab": {
          "base_uri": "https://localhost:8080/"
        }
      },
      "source": [
        "with tf.GradientTape() as tape:\n",
        "  [dw,db] = tape.gradient(loss, dict1)\n",
        "\n",
        "print(f'{dw}\\n{db}\\n{loss}\\n{dict1}')"
      ],
      "execution_count": 130,
      "outputs": [
        {
          "output_type": "stream",
          "text": [
            "w\n",
            "b\n",
            "7.945706367492676\n",
            "{'w': <tf.Variable 'w:0' shape=(4, 3) dtype=float32, numpy=\n",
            "array([[-1.2133108 , -0.3933475 ,  0.3566028 ],\n",
            "       [ 1.7039193 , -1.1198623 , -0.16688044],\n",
            "       [-0.9117761 ,  1.5826316 ,  1.7099086 ],\n",
            "       [-1.8343539 ,  0.99370813,  0.38048035]], dtype=float32)>, 'b': <tf.Variable 'b:0' shape=(3,) dtype=float32, numpy=array([0., 0., 0.], dtype=float32)>}\n"
          ],
          "name": "stdout"
        }
      ]
    },
    {
      "cell_type": "code",
      "metadata": {
        "id": "ANo5eGcseUlF",
        "outputId": "ba7e71fc-8610-479c-d1a2-57ad1e0f530f",
        "colab": {
          "base_uri": "https://localhost:8080/"
        }
      },
      "source": [
        "d_layer = tf.keras.layers.Dense(units = 64,kernel_initializer='random_normal', activation = 'relu')\n",
        "x = tf.constant([[1.3,3.,2.3,2.3,3.3,1.1,4.,5.,2.4]])\n",
        "with tf.GradientTape() as tape:\n",
        "  #Foward prop\n",
        "  y = d_layer(x)\n",
        "  loss = tf.reduce_mean(y**3)\n",
        "  #Back prop\n",
        "  grads = tape.gradient(loss, d_layer.trainable_variables)\n",
        "for var, g in zip(d_layer.trainable_variables, grads):\n",
        "  print(f\"{var.name}\\n{g.shape}\")"
      ],
      "execution_count": 131,
      "outputs": [
        {
          "output_type": "stream",
          "text": [
            "dense/kernel:0\n",
            "(9, 64)\n",
            "dense/bias:0\n",
            "(64,)\n"
          ],
          "name": "stdout"
        }
      ]
    },
    {
      "cell_type": "code",
      "metadata": {
        "id": "sB-OK_-lhD3T",
        "outputId": "ae237188-ffdb-44a5-f359-451c8fc725a4",
        "colab": {
          "base_uri": "https://localhost:8080/"
        }
      },
      "source": [
        "loss"
      ],
      "execution_count": 132,
      "outputs": [
        {
          "output_type": "execute_result",
          "data": {
            "text/plain": [
              "<tf.Tensor: shape=(), dtype=float32, numpy=0.09602351>"
            ]
          },
          "metadata": {
            "tags": []
          },
          "execution_count": 132
        }
      ]
    },
    {
      "cell_type": "code",
      "metadata": {
        "id": "DyfsWnOZhc_G"
      },
      "source": [
        "#Manual control for gradients with respect to the selected features\n",
        "#we use GradientTape.watch\n",
        "x1 = tf.Variable(tf.constant([[1,2,3],[3,2,3]], dtype = tf.float32),name = 'x1')\n",
        "x2 = tf.Variable(tf.constant([[4,3]], dtype= tf.float32), name = 'x2')"
      ],
      "execution_count": 133,
      "outputs": []
    },
    {
      "cell_type": "code",
      "metadata": {
        "id": "1A354PMEsgdd",
        "outputId": "b268ec9e-7e25-4c06-c8bf-9b8311d083d5",
        "colab": {
          "base_uri": "https://localhost:8080/"
        }
      },
      "source": [
        "import numpy\n",
        "with tf.GradientTape(watch_accessed_variables=False) as tape:\n",
        "  tape.watch(x1)#gradient will be computed with respect to x1 only\n",
        "  x1 = tf.nn.softmax(x1)\n",
        "  x2 = tf.nn.softmax(x2)\n",
        "  y = tf.matmul(x2,x1)\n",
        "  loss = tf.reduce_mean(y)\n",
        "  grad = tape.gradient(loss, {'x1':x1,'x2':x2})\n",
        "\n",
        "print(f\"dx1: {grad['x1']}\\ndx2: {grad['x2']}\")\n"
      ],
      "execution_count": 134,
      "outputs": [
        {
          "output_type": "stream",
          "text": [
            "dx1: [[0.2436862  0.2436862  0.2436862 ]\n",
            " [0.08964714 0.08964714 0.08964714]]\n",
            "dx2: None\n"
          ],
          "name": "stdout"
        }
      ]
    },
    {
      "cell_type": "code",
      "metadata": {
        "id": "IAxCZtTOuX2n",
        "outputId": "a19d9965-b09a-4f4c-b763-c71f201a81c8",
        "colab": {
          "base_uri": "https://localhost:8080/"
        }
      },
      "source": [
        "x1"
      ],
      "execution_count": 135,
      "outputs": [
        {
          "output_type": "execute_result",
          "data": {
            "text/plain": [
              "<tf.Tensor: shape=(2, 3), dtype=float32, numpy=\n",
              "array([[0.09003057, 0.24472848, 0.66524094],\n",
              "       [0.42231882, 0.15536241, 0.42231882]], dtype=float32)>"
            ]
          },
          "metadata": {
            "tags": []
          },
          "execution_count": 135
        }
      ]
    },
    {
      "cell_type": "code",
      "metadata": {
        "id": "PZFr-D6KuzIe",
        "outputId": "5948502b-9589-42c9-839f-fde4aa96799e",
        "colab": {
          "base_uri": "https://localhost:8080/"
        }
      },
      "source": [
        "x2"
      ],
      "execution_count": 136,
      "outputs": [
        {
          "output_type": "execute_result",
          "data": {
            "text/plain": [
              "<tf.Tensor: shape=(1, 2), dtype=float32, numpy=array([[0.7310586 , 0.26894143]], dtype=float32)>"
            ]
          },
          "metadata": {
            "tags": []
          },
          "execution_count": 136
        }
      ]
    },
    {
      "cell_type": "code",
      "metadata": {
        "id": "LmtqnDQou0p-",
        "outputId": "a670872a-d14d-4873-9112-d5c338a35204",
        "colab": {
          "base_uri": "https://localhost:8080/"
        }
      },
      "source": [
        "with tf.GradientTape(watch_accessed_variables = True) as tape:\n",
        "  tape.watch(x1)\n",
        "  y = x1 + x1\n",
        "  z = (y**2)\n",
        "  slope = tape.gradient(z,y)\n",
        "\n",
        "print(f\"slope wrt intermediate variable y: {slope}\")\n"
      ],
      "execution_count": 137,
      "outputs": [
        {
          "output_type": "stream",
          "text": [
            "slope wrt intermediate variable y: [[0.3601223  0.9789139  2.6609638 ]\n",
            " [1.6892753  0.62144965 1.6892753 ]]\n"
          ],
          "name": "stdout"
        }
      ]
    },
    {
      "cell_type": "code",
      "metadata": {
        "id": "vGyxqy1hxzMP",
        "outputId": "ab87f459-bbe1-4c9f-97e7-5477954f992b",
        "colab": {
          "base_uri": "https://localhost:8080/"
        }
      },
      "source": [
        "#Compute multiple gradients over the same computation \n",
        "#add persistent as True in the optional argument\n",
        "\n",
        "with tf.GradientTape(watch_accessed_variables = True, persistent = True) as tape:\n",
        "  tape.watch(x1)\n",
        "  y = 3*x1\n",
        "  z = 2*y\n",
        "  grad1 = tape.gradient(y,x1)\n",
        "  grad2 = tape.gradient(z,x1)\n",
        "\n",
        "print(f\"grad1: {grad1}\\ngrad2: {grad2}\")"
      ],
      "execution_count": 138,
      "outputs": [
        {
          "output_type": "stream",
          "text": [
            "WARNING:tensorflow:Calling GradientTape.gradient on a persistent tape inside its context is significantly less efficient than calling it outside the context (it causes the gradient ops to be recorded on the tape, leading to increased CPU and memory usage). Only call GradientTape.gradient inside the context if you actually want to trace the gradient in order to compute higher order derivatives.\n",
            "WARNING:tensorflow:Calling GradientTape.gradient on a persistent tape inside its context is significantly less efficient than calling it outside the context (it causes the gradient ops to be recorded on the tape, leading to increased CPU and memory usage). Only call GradientTape.gradient inside the context if you actually want to trace the gradient in order to compute higher order derivatives.\n",
            "grad1: [[3. 3. 3.]\n",
            " [3. 3. 3.]]\n",
            "grad2: [[6. 6. 6.]\n",
            " [6. 6. 6.]]\n"
          ],
          "name": "stdout"
        }
      ]
    },
    {
      "cell_type": "code",
      "metadata": {
        "id": "6fsovN-hzeHH",
        "outputId": "19160b92-6c3a-47a6-e0e5-b62f1bcd0181",
        "colab": {
          "base_uri": "https://localhost:8080/"
        }
      },
      "source": [
        "#Gradient of the sums can be computed in two ways\n",
        "#First way we can agregate the inputs (Suitable for element-wise loss calculation)\n",
        "x = tf.constant(2, dtype = tf.float32)\n",
        "with tf.GradientTape(persistent = True, watch_accessed_variables = True) as tape:\n",
        "  tape.watch(x)\n",
        "  y = x *[2.,3.2]\n",
        "  grad = tape.gradient(y, x)\n",
        "print(f\"grad: {grad.numpy()}\")"
      ],
      "execution_count": 139,
      "outputs": [
        {
          "output_type": "stream",
          "text": [
            "WARNING:tensorflow:Calling GradientTape.gradient on a persistent tape inside its context is significantly less efficient than calling it outside the context (it causes the gradient ops to be recorded on the tape, leading to increased CPU and memory usage). Only call GradientTape.gradient inside the context if you actually want to trace the gradient in order to compute higher order derivatives.\n",
            "grad: 5.199999809265137\n"
          ],
          "name": "stdout"
        }
      ]
    },
    {
      "cell_type": "code",
      "metadata": {
        "id": "PIQvKU-05IEL"
      },
      "source": [
        "del tape"
      ],
      "execution_count": 140,
      "outputs": []
    },
    {
      "cell_type": "code",
      "metadata": {
        "id": "ebpoV1KO5QH3",
        "outputId": "42d8eac8-67e2-4566-fa50-65e8cc2f354c",
        "colab": {
          "base_uri": "https://localhost:8080/"
        }
      },
      "source": [
        "# second procedure we can add the targets (suitable for the collection of losses)\n",
        "with tf.GradientTape(persistent = True, watch_accessed_variables = True) as tape:\n",
        "  tape.watch(x)\n",
        "  y1 = 2*x\n",
        "  y2 = 3.2*x\n",
        "  grad = tape.gradient({'y1':y1,'y2':y2}, x)\n",
        "print(f\"grad: {grad.numpy()}\")"
      ],
      "execution_count": 141,
      "outputs": [
        {
          "output_type": "stream",
          "text": [
            "WARNING:tensorflow:Calling GradientTape.gradient on a persistent tape inside its context is significantly less efficient than calling it outside the context (it causes the gradient ops to be recorded on the tape, leading to increased CPU and memory usage). Only call GradientTape.gradient inside the context if you actually want to trace the gradient in order to compute higher order derivatives.\n",
            "grad: 5.199999809265137\n"
          ],
          "name": "stdout"
        }
      ]
    },
    {
      "cell_type": "code",
      "metadata": {
        "id": "PAe6cHN-6NYh"
      },
      "source": [
        "del tape"
      ],
      "execution_count": 142,
      "outputs": []
    },
    {
      "cell_type": "code",
      "metadata": {
        "id": "zhlzKAGR7OZH"
      },
      "source": [
        "#Observe the shape of tanh activation and its derivative within a range of values\n",
        "x = tf.linspace(-15,15,300+1)"
      ],
      "execution_count": 143,
      "outputs": []
    },
    {
      "cell_type": "code",
      "metadata": {
        "id": "7NrlkZtT8zY0",
        "outputId": "6240f583-10b5-4991-c45a-fb5fe0c0fb7f",
        "colab": {
          "base_uri": "https://localhost:8080/",
          "height": 442
        }
      },
      "source": [
        "with tf.GradientTape(persistent = True, watch_accessed_variables = True) as tape:\n",
        "  tape.watch(x)\n",
        "  y = tf.nn.tanh(x)\n",
        "  grad = tape.gradient(y, x)\n",
        "#plotting the data\n",
        "plt.style.use('seaborn')\n",
        "plt.plot(x,y, label = 'tanh_original')\n",
        "plt.plot(x,grad, label = 'tanh_slope')\n",
        "plt.legend()\n",
        "_=plt.xlabel('x_values')\n",
        "plt.tight_layout()\n",
        "\n",
        "\n"
      ],
      "execution_count": 144,
      "outputs": [
        {
          "output_type": "stream",
          "text": [
            "WARNING:tensorflow:Calling GradientTape.gradient on a persistent tape inside its context is significantly less efficient than calling it outside the context (it causes the gradient ops to be recorded on the tape, leading to increased CPU and memory usage). Only call GradientTape.gradient inside the context if you actually want to trace the gradient in order to compute higher order derivatives.\n"
          ],
          "name": "stdout"
        },
        {
          "output_type": "display_data",
          "data": {
            "image/png": "[encoded data removed]",
            "text/plain": [
              "<Figure size 576x396 with 1 Axes>"
            ]
          },
          "metadata": {
            "tags": []
          }
        }
      ]
    },
    {
      "cell_type": "code",
      "metadata": {
        "id": "akcQtSu5-Yw1"
      },
      "source": [
        "#None gradient output is caused by several reasons including:\n",
        "#Replacing a variable with tf.Tensor\n",
        "x = tf.Variable(3.)"
      ],
      "execution_count": 145,
      "outputs": []
    },
    {
      "cell_type": "code",
      "metadata": {
        "id": "oTW9EbwDQXAw",
        "outputId": "b8fc0a77-c0cc-4eda-9d12-e107c9183074",
        "colab": {
          "base_uri": "https://localhost:8080/"
        }
      },
      "source": [
        "for k in range(5):\n",
        "  with tf.GradientTape() as tape:\n",
        "    y = x + 1\n",
        "    print(type(x).__name__, \":\", tape.gradient(y, x))\n",
        "    x = x + 1 #This should've been considered as x.assign_add(1)\n"
      ],
      "execution_count": 166,
      "outputs": [
        {
          "output_type": "stream",
          "text": [
            "EagerTensor : None\n",
            "EagerTensor : None\n",
            "EagerTensor : None\n",
            "EagerTensor : None\n",
            "EagerTensor : None\n"
          ],
          "name": "stdout"
        }
      ]
    },
    {
      "cell_type": "code",
      "metadata": {
        "id": "jSh_1LFORXdg",
        "outputId": "39c0aed5-2c88-42aa-d443-9d7b925377e6",
        "colab": {
          "base_uri": "https://localhost:8080/"
        }
      },
      "source": [
        "#Rewrite the above using var.assign_add() for the increment:/You may control by tape.watch(x)\n",
        "x = tf.Variable(2.)\n",
        "for k in range(5):\n",
        "  with tf.GradientTape() as tape:\n",
        "    y = x.assign_add(1)\n",
        "    print(type(x).__name__, \":\", tape.gradient(y, x))\n",
        "    x = x.assign_add(1)\n"
      ],
      "execution_count": 168,
      "outputs": [
        {
          "output_type": "stream",
          "text": [
            "ResourceVariable : tf.Tensor(1.0, shape=(), dtype=float32)\n",
            "_UnreadVariable : tf.Tensor(1.0, shape=(), dtype=float32)\n",
            "_UnreadVariable : tf.Tensor(1.0, shape=(), dtype=float32)\n",
            "_UnreadVariable : tf.Tensor(1.0, shape=(), dtype=float32)\n",
            "_UnreadVariable : tf.Tensor(1.0, shape=(), dtype=float32)\n"
          ],
          "name": "stdout"
        }
      ]
    },
    {
      "cell_type": "code",
      "metadata": {
        "id": "RxfbwnKMSbGv"
      },
      "source": [
        "#None gradient as a result of calculation out of tensorflow\n",
        "x = tf.Variable(tf.constant([[1,2,3],[4,5,6]], dtype = tf.float32))\n",
        "with tf.GradientTape(watch_accessed_variables = True) as tape:\n",
        "  tape.watch(x)\n",
        "  x1 = x**2\n",
        "  y = np.mean(x1, axis = 0) #None gradient because we used np.mean inplace of tf.reduce_mean\n",
        "  out = tf.reduce_sum(y, axis = 0)\n",
        "  slope = tape.gradient(out, x)"
      ],
      "execution_count": 175,
      "outputs": []
    },
    {
      "cell_type": "code",
      "metadata": {
        "id": "dRL7AzuRZs7Q",
        "outputId": "4804b7c5-ec02-46ea-d9e9-100764014c8c",
        "colab": {
          "base_uri": "https://localhost:8080/"
        }
      },
      "source": [
        "print(slope)"
      ],
      "execution_count": 176,
      "outputs": [
        {
          "output_type": "stream",
          "text": [
            "None\n"
          ],
          "name": "stdout"
        }
      ]
    },
    {
      "cell_type": "code",
      "metadata": {
        "id": "PsgBD15radC4",
        "outputId": "69e87dd0-c784-4ca3-8e95-178e5e7a6a8d",
        "colab": {
          "base_uri": "https://localhost:8080/"
        }
      },
      "source": [
        "##If we use int/ strings insteady of float variables we will not have slope\n",
        "#Derivative is defined by continuity assumption of the function.\n",
        "#If we define our variable without specify datatype we may have this problem\n",
        "x = tf.Variable(tf.constant([[1,2],[3,4]]))#No data type specified == 'int'\n",
        "with tf.GradientTape() as tape:\n",
        "  y = tf.reduce_sum(tf.cast(x, tf.float32), axis = 0) #get the y..(conversion to float is only for y)\n",
        "  slope = tape.gradient(y, x)\n",
        "print(f\"slope is : {slope}\")\n",
        "\n"
      ],
      "execution_count": 179,
      "outputs": [
        {
          "output_type": "stream",
          "text": [
            "WARNING:tensorflow:The dtype of the source tensor must be floating (e.g. tf.float32) when calling GradientTape.gradient, got tf.int32\n",
            "slope is : None\n"
          ],
          "name": "stdout"
        }
      ]
    },
    {
      "cell_type": "code",
      "metadata": {
        "id": "IOSjHHsuccWK"
      },
      "source": [
        ""
      ],
      "execution_count": null,
      "outputs": []
    }
  ]
}